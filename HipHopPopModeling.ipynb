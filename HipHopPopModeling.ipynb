{
  "nbformat": 4,
  "nbformat_minor": 0,
  "metadata": {
    "colab": {
      "name": "HipHopPopModeling.ipynb",
      "provenance": [],
      "collapsed_sections": [],
      "machine_shape": "hm"
    },
    "kernelspec": {
      "name": "python3",
      "display_name": "Python 3"
    },
    "language_info": {
      "name": "python"
    },
    "accelerator": "TPU"
  },
  "cells": [
    {
      "cell_type": "code",
      "metadata": {
        "id": "nqlQYZpw8kp6"
      },
      "source": [
        "from tensorflow import keras\n",
        "from tensorflow.keras import layers\n",
        "from tensorflow.random import set_seed\n",
        "\n",
        "import numpy as np\n",
        "import matplotlib.pyplot as plt"
      ],
      "execution_count": 2,
      "outputs": []
    },
    {
      "cell_type": "code",
      "metadata": {
        "id": "BPJ-qaBcpZO0"
      },
      "source": [
        "import pickle"
      ],
      "execution_count": 3,
      "outputs": []
    },
    {
      "cell_type": "code",
      "metadata": {
        "id": "7qlZgAcC6T6c"
      },
      "source": [
        "# Defining a results visualization function\n",
        "def visualize_training_results(history):\n",
        "    '''\n",
        "    From https://machinelearningmastery.com/display-deep-learning-model-training-history-in-keras/\n",
        "    \n",
        "    Input: keras history object (output from trained model)\n",
        "    '''\n",
        "    fig, (ax1, ax2) = plt.subplots(2, figsize=(8,8), sharex=True)\n",
        "    fig.suptitle('Model Results')\n",
        "\n",
        "    # summarize history for accuracy\n",
        "    ax1.plot(history.history['accuracy'])\n",
        "    ax1.plot(history.history['val_accuracy'])\n",
        "    ax1.set_ylabel('Accuracy')\n",
        "    ax1.legend(['train', 'test'], loc='upper left')\n",
        "    # summarize history for loss\n",
        "    ax2.plot(history.history['loss'])\n",
        "    ax2.plot(history.history['val_loss'])\n",
        "    ax2.set_ylabel('Loss')\n",
        "    ax2.legend(['train', 'test'], loc='upper left')\n",
        "    \n",
        "    plt.xlabel('Epoch')\n",
        "    plt.show()"
      ],
      "execution_count": 4,
      "outputs": []
    },
    {
      "cell_type": "code",
      "metadata": {
        "id": "7LaiIjQbdV1w"
      },
      "source": [
        "with open('/content/drive/MyDrive/Colab Notebooks/mel_spec_sc.pkl', 'rb') as up:\n",
        "    mel_spec_sc = pickle.load(up)\n",
        "X_train, y_train = mel_spec_sc['X_train'][0], mel_spec_sc['X_train'][1]\n",
        "X_test, y_test = mel_spec_sc['X_test'][0], mel_spec_sc['X_test'][1]\n",
        "X_holdout, y_holdout = mel_spec_sc['X_holdout'][0], mel_spec_sc['X_holdout'][1]"
      ],
      "execution_count": 5,
      "outputs": []
    },
    {
      "cell_type": "markdown",
      "metadata": {
        "id": "fjMwbGnRe2gZ"
      },
      "source": [
        "### First Model - Multilayer Perceptron"
      ]
    },
    {
      "cell_type": "code",
      "metadata": {
        "id": "BpMQ8X4UfKnC"
      },
      "source": [
        "input_shape = X_train.shape[1:]\n",
        "batch_size = X_train.shape[0]/100"
      ],
      "execution_count": 6,
      "outputs": []
    },
    {
      "cell_type": "code",
      "metadata": {
        "colab": {
          "base_uri": "https://localhost:8080/",
          "height": 0
        },
        "id": "UbwyFyLiezii",
        "outputId": "ab6acd07-f8e5-4498-bcb2-297debd3d910"
      },
      "source": [
        "input_shape"
      ],
      "execution_count": 11,
      "outputs": [
        {
          "output_type": "execute_result",
          "data": {
            "text/plain": [
              "(128, 1292, 1)"
            ]
          },
          "metadata": {},
          "execution_count": 11
        }
      ]
    },
    {
      "cell_type": "code",
      "metadata": {
        "colab": {
          "base_uri": "https://localhost:8080/"
        },
        "id": "RiHLig1qezeE",
        "outputId": "ad44984e-d38a-4907-dc78-f3197aa01d3c"
      },
      "source": [
        "# set random seed for reproducibility\n",
        "np.random.seed(42)\n",
        "set_seed(42)\n",
        "\n",
        "# build sequentially\n",
        "mlp = keras.Sequential(name='mlp')\n",
        "\n",
        "# flatten input 3D tensor to 1D\n",
        "mlp.add(layers.Flatten(input_shape=input_shape))\n",
        "\n",
        "# two hidden layers\n",
        "mlp.add(layers.Dense(128, activation='relu'))\n",
        "mlp.add(layers.Dense(64, activation='relu'))\n",
        "\n",
        "# output layer\n",
        "mlp.add(layers.Dense(1, activation='sigmoid'))\n",
        "\n",
        "# compile cnn\n",
        "mlp.compile(loss='binary_crossentropy',\n",
        "            optimizer=\"adam\",\n",
        "            metrics=['accuracy', 'Recall'])\n",
        "\n",
        "# take a look at model architecture\n",
        "mlp.summary()"
      ],
      "execution_count": null,
      "outputs": [
        {
          "output_type": "stream",
          "name": "stdout",
          "text": [
            "Model: \"mlp\"\n",
            "_________________________________________________________________\n",
            " Layer (type)                Output Shape              Param #   \n",
            "=================================================================\n",
            " flatten_2 (Flatten)         (None, 165376)            0         \n",
            "                                                                 \n",
            " dense_6 (Dense)             (None, 128)               21168256  \n",
            "                                                                 \n",
            " dense_7 (Dense)             (None, 64)                8256      \n",
            "                                                                 \n",
            " dense_8 (Dense)             (None, 1)                 65        \n",
            "                                                                 \n",
            "=================================================================\n",
            "Total params: 21,176,577\n",
            "Trainable params: 21,176,577\n",
            "Non-trainable params: 0\n",
            "_________________________________________________________________\n"
          ]
        }
      ]
    },
    {
      "cell_type": "code",
      "metadata": {
        "id": "PUT7EX3efADQ",
        "colab": {
          "base_uri": "https://localhost:8080/"
        },
        "outputId": "21d6056f-b553-488f-ecfd-0f2e439e6590"
      },
      "source": [
        "fsm_history = mlp.fit(X_train, y_train, epochs=60, batch_size=30,\n",
        "                  validation_data=(X_test, y_test))"
      ],
      "execution_count": null,
      "outputs": [
        {
          "output_type": "stream",
          "name": "stdout",
          "text": [
            "Epoch 1/60\n",
            "346/346 [==============================] - 15s 39ms/step - loss: 2.5842 - accuracy: 0.4952 - recall: 0.4904 - val_loss: 1.5612 - val_accuracy: 0.5161 - val_recall: 0.0000e+00\n",
            "Epoch 2/60\n",
            "346/346 [==============================] - 14s 41ms/step - loss: 0.8632 - accuracy: 0.4939 - recall: 0.4727 - val_loss: 0.7065 - val_accuracy: 0.4885 - val_recall: 0.9991\n",
            "Epoch 3/60\n",
            "346/346 [==============================] - 14s 41ms/step - loss: 0.7371 - accuracy: 0.5040 - recall: 0.4894 - val_loss: 0.7026 - val_accuracy: 0.5161 - val_recall: 0.0000e+00\n",
            "Epoch 4/60\n",
            "346/346 [==============================] - 14s 41ms/step - loss: 0.7106 - accuracy: 0.5095 - recall: 0.4975 - val_loss: 0.6937 - val_accuracy: 0.4893 - val_recall: 0.9991\n",
            "Epoch 5/60\n",
            "346/346 [==============================] - 14s 41ms/step - loss: 0.7029 - accuracy: 0.4978 - recall: 0.4389 - val_loss: 0.6921 - val_accuracy: 0.5227 - val_recall: 0.9157\n",
            "Epoch 6/60\n",
            "346/346 [==============================] - 14s 41ms/step - loss: 0.7130 - accuracy: 0.5184 - recall: 0.1660 - val_loss: 0.6926 - val_accuracy: 0.5161 - val_recall: 0.0000e+00\n",
            "Epoch 7/60\n",
            "346/346 [==============================] - 14s 41ms/step - loss: 0.6929 - accuracy: 0.5112 - recall: 0.0000e+00 - val_loss: 0.6927 - val_accuracy: 0.5161 - val_recall: 0.0000e+00\n",
            "Epoch 8/60\n",
            "346/346 [==============================] - 14s 41ms/step - loss: 0.6930 - accuracy: 0.5112 - recall: 0.0000e+00 - val_loss: 0.6927 - val_accuracy: 0.5161 - val_recall: 0.0000e+00\n",
            "Epoch 9/60\n",
            "346/346 [==============================] - 14s 41ms/step - loss: 0.6930 - accuracy: 0.5112 - recall: 0.0000e+00 - val_loss: 0.6927 - val_accuracy: 0.5161 - val_recall: 0.0000e+00\n",
            "Epoch 10/60\n",
            "346/346 [==============================] - 14s 41ms/step - loss: 0.6930 - accuracy: 0.5112 - recall: 0.0000e+00 - val_loss: 0.6927 - val_accuracy: 0.5161 - val_recall: 0.0000e+00\n",
            "Epoch 11/60\n",
            "346/346 [==============================] - 14s 41ms/step - loss: 0.6930 - accuracy: 0.5112 - recall: 0.0000e+00 - val_loss: 0.6927 - val_accuracy: 0.5161 - val_recall: 0.0000e+00\n",
            "Epoch 12/60\n",
            "346/346 [==============================] - 14s 41ms/step - loss: 0.6929 - accuracy: 0.5112 - recall: 0.0000e+00 - val_loss: 0.6927 - val_accuracy: 0.5161 - val_recall: 0.0000e+00\n",
            "Epoch 13/60\n",
            "346/346 [==============================] - 14s 41ms/step - loss: 0.6930 - accuracy: 0.5112 - recall: 0.0000e+00 - val_loss: 0.6927 - val_accuracy: 0.5161 - val_recall: 0.0000e+00\n",
            "Epoch 14/60\n",
            "346/346 [==============================] - 14s 41ms/step - loss: 0.6930 - accuracy: 0.5112 - recall: 0.0000e+00 - val_loss: 0.6928 - val_accuracy: 0.5161 - val_recall: 0.0000e+00\n",
            "Epoch 15/60\n",
            "346/346 [==============================] - 14s 41ms/step - loss: 0.6929 - accuracy: 0.5112 - recall: 0.0000e+00 - val_loss: 0.6927 - val_accuracy: 0.5161 - val_recall: 0.0000e+00\n",
            "Epoch 16/60\n",
            "346/346 [==============================] - 14s 41ms/step - loss: 0.6930 - accuracy: 0.5112 - recall: 0.0000e+00 - val_loss: 0.6927 - val_accuracy: 0.5161 - val_recall: 0.0000e+00\n",
            "Epoch 17/60\n",
            "346/346 [==============================] - 14s 41ms/step - loss: 0.6930 - accuracy: 0.5112 - recall: 0.0000e+00 - val_loss: 0.6927 - val_accuracy: 0.5161 - val_recall: 0.0000e+00\n",
            "Epoch 18/60\n",
            "346/346 [==============================] - 14s 41ms/step - loss: 0.6930 - accuracy: 0.5112 - recall: 0.0000e+00 - val_loss: 0.6926 - val_accuracy: 0.5161 - val_recall: 0.0000e+00\n",
            "Epoch 19/60\n",
            "346/346 [==============================] - 14s 41ms/step - loss: 0.6930 - accuracy: 0.5112 - recall: 0.0000e+00 - val_loss: 0.6929 - val_accuracy: 0.5161 - val_recall: 0.0000e+00\n",
            "Epoch 20/60\n",
            "346/346 [==============================] - 14s 40ms/step - loss: 0.6930 - accuracy: 0.5112 - recall: 0.0000e+00 - val_loss: 0.6928 - val_accuracy: 0.5161 - val_recall: 0.0000e+00\n",
            "Epoch 21/60\n",
            "346/346 [==============================] - 14s 41ms/step - loss: 0.6930 - accuracy: 0.5112 - recall: 0.0000e+00 - val_loss: 0.6926 - val_accuracy: 0.5161 - val_recall: 0.0000e+00\n",
            "Epoch 22/60\n",
            "346/346 [==============================] - 14s 41ms/step - loss: 0.6930 - accuracy: 0.5112 - recall: 0.0000e+00 - val_loss: 0.6927 - val_accuracy: 0.5161 - val_recall: 0.0000e+00\n",
            "Epoch 23/60\n",
            "346/346 [==============================] - 14s 41ms/step - loss: 0.6930 - accuracy: 0.5112 - recall: 0.0000e+00 - val_loss: 0.6927 - val_accuracy: 0.5161 - val_recall: 0.0000e+00\n",
            "Epoch 24/60\n",
            "346/346 [==============================] - 14s 41ms/step - loss: 0.6930 - accuracy: 0.5112 - recall: 0.0000e+00 - val_loss: 0.6928 - val_accuracy: 0.5161 - val_recall: 0.0000e+00\n",
            "Epoch 25/60\n",
            "346/346 [==============================] - 14s 41ms/step - loss: 0.6930 - accuracy: 0.5112 - recall: 0.0000e+00 - val_loss: 0.6927 - val_accuracy: 0.5161 - val_recall: 0.0000e+00\n",
            "Epoch 26/60\n",
            "346/346 [==============================] - 14s 41ms/step - loss: 0.6930 - accuracy: 0.5112 - recall: 0.0000e+00 - val_loss: 0.6928 - val_accuracy: 0.5161 - val_recall: 0.0000e+00\n",
            "Epoch 27/60\n",
            "346/346 [==============================] - 14s 41ms/step - loss: 0.6930 - accuracy: 0.5112 - recall: 0.0000e+00 - val_loss: 0.6926 - val_accuracy: 0.5161 - val_recall: 0.0000e+00\n",
            "Epoch 28/60\n",
            "346/346 [==============================] - 14s 41ms/step - loss: 0.6930 - accuracy: 0.5112 - recall: 0.0000e+00 - val_loss: 0.6927 - val_accuracy: 0.5161 - val_recall: 0.0000e+00\n",
            "Epoch 29/60\n",
            "346/346 [==============================] - 14s 41ms/step - loss: 0.6930 - accuracy: 0.5078 - recall: 0.0349 - val_loss: 0.6926 - val_accuracy: 0.5161 - val_recall: 0.0000e+00\n",
            "Epoch 30/60\n",
            "346/346 [==============================] - 14s 41ms/step - loss: 0.6930 - accuracy: 0.5112 - recall: 0.0000e+00 - val_loss: 0.6927 - val_accuracy: 0.5161 - val_recall: 0.0000e+00\n",
            "Epoch 31/60\n",
            "346/346 [==============================] - 14s 41ms/step - loss: 0.6930 - accuracy: 0.5112 - recall: 0.0000e+00 - val_loss: 0.6927 - val_accuracy: 0.5161 - val_recall: 0.0000e+00\n",
            "Epoch 32/60\n",
            "346/346 [==============================] - 14s 41ms/step - loss: 0.6930 - accuracy: 0.5112 - recall: 0.0000e+00 - val_loss: 0.6928 - val_accuracy: 0.5161 - val_recall: 0.0000e+00\n",
            "Epoch 33/60\n",
            "346/346 [==============================] - 14s 41ms/step - loss: 0.6930 - accuracy: 0.5112 - recall: 0.0000e+00 - val_loss: 0.6927 - val_accuracy: 0.5161 - val_recall: 0.0000e+00\n",
            "Epoch 34/60\n",
            "346/346 [==============================] - 14s 41ms/step - loss: 0.6930 - accuracy: 0.5112 - recall: 0.0000e+00 - val_loss: 0.6927 - val_accuracy: 0.5161 - val_recall: 0.0000e+00\n",
            "Epoch 35/60\n",
            "346/346 [==============================] - 14s 41ms/step - loss: 0.6929 - accuracy: 0.5112 - recall: 0.0000e+00 - val_loss: 0.6927 - val_accuracy: 0.5161 - val_recall: 0.0000e+00\n",
            "Epoch 36/60\n",
            "346/346 [==============================] - 14s 41ms/step - loss: 0.6930 - accuracy: 0.5112 - recall: 0.0000e+00 - val_loss: 0.6927 - val_accuracy: 0.5161 - val_recall: 0.0000e+00\n",
            "Epoch 37/60\n",
            "346/346 [==============================] - 14s 41ms/step - loss: 0.6929 - accuracy: 0.5112 - recall: 0.0000e+00 - val_loss: 0.6930 - val_accuracy: 0.5161 - val_recall: 0.0000e+00\n",
            "Epoch 38/60\n",
            "346/346 [==============================] - 14s 41ms/step - loss: 0.6930 - accuracy: 0.5112 - recall: 0.0000e+00 - val_loss: 0.6927 - val_accuracy: 0.5161 - val_recall: 0.0000e+00\n",
            "Epoch 39/60\n",
            "346/346 [==============================] - 14s 41ms/step - loss: 0.6930 - accuracy: 0.5112 - recall: 0.0000e+00 - val_loss: 0.6927 - val_accuracy: 0.5161 - val_recall: 0.0000e+00\n",
            "Epoch 40/60\n",
            "346/346 [==============================] - 14s 41ms/step - loss: 0.6930 - accuracy: 0.5112 - recall: 0.0000e+00 - val_loss: 0.6927 - val_accuracy: 0.5161 - val_recall: 0.0000e+00\n",
            "Epoch 41/60\n",
            "346/346 [==============================] - 14s 40ms/step - loss: 0.6930 - accuracy: 0.5112 - recall: 0.0000e+00 - val_loss: 0.6927 - val_accuracy: 0.5161 - val_recall: 0.0000e+00\n",
            "Epoch 42/60\n",
            "346/346 [==============================] - 14s 41ms/step - loss: 0.6930 - accuracy: 0.5112 - recall: 0.0000e+00 - val_loss: 0.6927 - val_accuracy: 0.5161 - val_recall: 0.0000e+00\n",
            "Epoch 43/60\n",
            "346/346 [==============================] - 14s 41ms/step - loss: 0.6930 - accuracy: 0.5112 - recall: 0.0000e+00 - val_loss: 0.6927 - val_accuracy: 0.5161 - val_recall: 0.0000e+00\n",
            "Epoch 44/60\n",
            "346/346 [==============================] - 14s 41ms/step - loss: 0.6930 - accuracy: 0.5112 - recall: 0.0000e+00 - val_loss: 0.6926 - val_accuracy: 0.5161 - val_recall: 0.0000e+00\n",
            "Epoch 45/60\n",
            "346/346 [==============================] - 14s 40ms/step - loss: 0.6930 - accuracy: 0.5112 - recall: 0.0000e+00 - val_loss: 0.6927 - val_accuracy: 0.5161 - val_recall: 0.0000e+00\n",
            "Epoch 46/60\n",
            "346/346 [==============================] - 14s 41ms/step - loss: 0.6930 - accuracy: 0.5112 - recall: 0.0000e+00 - val_loss: 0.6926 - val_accuracy: 0.5161 - val_recall: 0.0000e+00\n",
            "Epoch 47/60\n",
            "346/346 [==============================] - 14s 41ms/step - loss: 0.6930 - accuracy: 0.5112 - recall: 0.0000e+00 - val_loss: 0.6926 - val_accuracy: 0.5161 - val_recall: 0.0000e+00\n",
            "Epoch 48/60\n",
            "346/346 [==============================] - 14s 41ms/step - loss: 0.6930 - accuracy: 0.5112 - recall: 0.0000e+00 - val_loss: 0.6927 - val_accuracy: 0.5161 - val_recall: 0.0000e+00\n",
            "Epoch 49/60\n",
            "346/346 [==============================] - 14s 41ms/step - loss: 0.6930 - accuracy: 0.5112 - recall: 0.0000e+00 - val_loss: 0.6927 - val_accuracy: 0.5161 - val_recall: 0.0000e+00\n",
            "Epoch 50/60\n",
            "346/346 [==============================] - 14s 41ms/step - loss: 0.6930 - accuracy: 0.5112 - recall: 0.0000e+00 - val_loss: 0.6927 - val_accuracy: 0.5161 - val_recall: 0.0000e+00\n",
            "Epoch 51/60\n",
            "346/346 [==============================] - 18s 53ms/step - loss: 0.6929 - accuracy: 0.5112 - recall: 0.0000e+00 - val_loss: 0.6926 - val_accuracy: 0.5161 - val_recall: 0.0000e+00\n",
            "Epoch 52/60\n",
            "346/346 [==============================] - 14s 41ms/step - loss: 0.6929 - accuracy: 0.5112 - recall: 0.0000e+00 - val_loss: 0.6927 - val_accuracy: 0.5161 - val_recall: 0.0000e+00\n",
            "Epoch 53/60\n",
            "346/346 [==============================] - 14s 41ms/step - loss: 0.6930 - accuracy: 0.5112 - recall: 0.0000e+00 - val_loss: 0.6928 - val_accuracy: 0.5161 - val_recall: 0.0000e+00\n",
            "Epoch 54/60\n",
            "346/346 [==============================] - 14s 41ms/step - loss: 0.6930 - accuracy: 0.5112 - recall: 0.0000e+00 - val_loss: 0.6927 - val_accuracy: 0.5161 - val_recall: 0.0000e+00\n",
            "Epoch 55/60\n",
            "346/346 [==============================] - 14s 41ms/step - loss: 0.6929 - accuracy: 0.5112 - recall: 0.0000e+00 - val_loss: 0.6927 - val_accuracy: 0.5161 - val_recall: 0.0000e+00\n",
            "Epoch 56/60\n",
            "346/346 [==============================] - 14s 41ms/step - loss: 0.6930 - accuracy: 0.5112 - recall: 0.0000e+00 - val_loss: 0.6927 - val_accuracy: 0.5161 - val_recall: 0.0000e+00\n",
            "Epoch 57/60\n",
            "346/346 [==============================] - 14s 41ms/step - loss: 0.6930 - accuracy: 0.5112 - recall: 0.0000e+00 - val_loss: 0.6927 - val_accuracy: 0.5161 - val_recall: 0.0000e+00\n",
            "Epoch 58/60\n",
            "346/346 [==============================] - 14s 41ms/step - loss: 0.6930 - accuracy: 0.5112 - recall: 0.0000e+00 - val_loss: 0.6927 - val_accuracy: 0.5161 - val_recall: 0.0000e+00\n",
            "Epoch 59/60\n",
            "346/346 [==============================] - 14s 41ms/step - loss: 0.6930 - accuracy: 0.5112 - recall: 0.0000e+00 - val_loss: 0.6927 - val_accuracy: 0.5161 - val_recall: 0.0000e+00\n",
            "Epoch 60/60\n",
            "346/346 [==============================] - 14s 40ms/step - loss: 0.6930 - accuracy: 0.5112 - recall: 0.0000e+00 - val_loss: 0.6926 - val_accuracy: 0.5161 - val_recall: 0.0000e+00\n"
          ]
        }
      ]
    },
    {
      "cell_type": "code",
      "metadata": {
        "colab": {
          "base_uri": "https://localhost:8080/",
          "height": 554
        },
        "id": "Gf8K_PeStClz",
        "outputId": "fe7c3898-6e0a-4b98-85ca-2fe752c9623a"
      },
      "source": [
        "visualize_training_results(fsm_history)"
      ],
      "execution_count": null,
      "outputs": [
        {
          "output_type": "display_data",
          "data": {
            "image/png": "[encoded data removed]",
            "text/plain": [
              "<Figure size 576x576 with 2 Axes>"
            ]
          },
          "metadata": {
            "needs_background": "light"
          }
        }
      ]
    },
    {
      "cell_type": "markdown",
      "metadata": {
        "id": "fnD7e_mVZ08D"
      },
      "source": [
        "## CNN"
      ]
    },
    {
      "cell_type": "code",
      "metadata": {
        "colab": {
          "base_uri": "https://localhost:8080/"
        },
        "id": "7g0_N4vb6Y0t",
        "outputId": "96e646b6-2398-473f-993b-9adeac230869"
      },
      "source": [
        "# set random seed for reproducibility\n",
        "np.random.seed(42)\n",
        "set_seed(42)\n",
        "\n",
        "# build sequentially\n",
        "cnn1 = keras.Sequential(name='cnn1')\n",
        "\n",
        "# convolutional and max pooling layers with successively more filters\n",
        "cnn1.add(layers.Conv2D(16, (3, 3), activation='relu', padding='same', input_shape=input_shape))\n",
        "cnn1.add(layers.MaxPooling2D((2, 4)))\n",
        "\n",
        "cnn1.add(layers.Conv2D(32, (3, 3), activation='relu', padding='same'))\n",
        "cnn1.add(layers.MaxPooling2D((2, 4)))\n",
        "\n",
        "cnn1.add(layers.Conv2D(64, (3, 3), activation='relu', padding='same'))\n",
        "cnn1.add(layers.MaxPooling2D((2, 2)))\n",
        "\n",
        "cnn1.add(layers.Conv2D(128, (3, 3), activation='relu', padding='same'))\n",
        "cnn1.add(layers.MaxPool2D((2, 2)))\n",
        "\n",
        "# fully-connected layers for output\n",
        "cnn1.add(layers.Flatten())\n",
        "cnn1.add(layers.Dense(128, activation='relu'))\n",
        "cnn1.add(layers.Dropout(0.3))\n",
        "cnn1.add(layers.Dense(64, activation='relu'))\n",
        "cnn1.add(layers.Dropout(0.3))\n",
        "\n",
        "# output layer\n",
        "cnn1.add(layers.Dense(1, activation='sigmoid'))\n",
        "\n",
        "# compile cnn\n",
        "cnn1.compile(loss='binary_crossentropy',\n",
        "            optimizer=\"adam\",\n",
        "            metrics=['accuracy', 'Recall'])\n",
        "\n",
        "# take a look at model architecture\n",
        "cnn1.summary()"
      ],
      "execution_count": null,
      "outputs": [
        {
          "output_type": "stream",
          "name": "stdout",
          "text": [
            "Model: \"cnn1\"\n",
            "_________________________________________________________________\n",
            " Layer (type)                Output Shape              Param #   \n",
            "=================================================================\n",
            " conv2d_8 (Conv2D)           (None, 128, 1292, 16)     160       \n",
            "                                                                 \n",
            " max_pooling2d_8 (MaxPooling  (None, 64, 323, 16)      0         \n",
            " 2D)                                                             \n",
            "                                                                 \n",
            " conv2d_9 (Conv2D)           (None, 64, 323, 32)       4640      \n",
            "                                                                 \n",
            " max_pooling2d_9 (MaxPooling  (None, 32, 80, 32)       0         \n",
            " 2D)                                                             \n",
            "                                                                 \n",
            " conv2d_10 (Conv2D)          (None, 32, 80, 64)        18496     \n",
            "                                                                 \n",
            " max_pooling2d_10 (MaxPoolin  (None, 16, 40, 64)       0         \n",
            " g2D)                                                            \n",
            "                                                                 \n",
            " conv2d_11 (Conv2D)          (None, 16, 40, 128)       73856     \n",
            "                                                                 \n",
            " max_pooling2d_11 (MaxPoolin  (None, 8, 20, 128)       0         \n",
            " g2D)                                                            \n",
            "                                                                 \n",
            " flatten_2 (Flatten)         (None, 20480)             0         \n",
            "                                                                 \n",
            " dense_6 (Dense)             (None, 128)               2621568   \n",
            "                                                                 \n",
            " dense_7 (Dense)             (None, 1)                 129       \n",
            "                                                                 \n",
            "=================================================================\n",
            "Total params: 2,718,849\n",
            "Trainable params: 2,718,849\n",
            "Non-trainable params: 0\n",
            "_________________________________________________________________\n"
          ]
        }
      ]
    },
    {
      "cell_type": "code",
      "metadata": {
        "colab": {
          "base_uri": "https://localhost:8080/",
          "height": 676
        },
        "id": "Dr1_bA12G1ws",
        "outputId": "175ca246-f195-4a15-dab0-97cf717efda0"
      },
      "source": [
        "cnn1_history = cnn1.fit(X_train, y_train, epochs=60, batch_size=100,\n",
        "                  validation_data=(X_test, y_test))"
      ],
      "execution_count": null,
      "outputs": [
        {
          "output_type": "stream",
          "name": "stdout",
          "text": [
            "Epoch 1/60\n",
            "104/104 [==============================] - 191s 2s/step - loss: 0.6937 - accuracy: 0.5081 - recall: 0.0949 - val_loss: 0.6926 - val_accuracy: 0.5161 - val_recall: 0.0000e+00\n",
            "Epoch 2/60\n",
            "104/104 [==============================] - 190s 2s/step - loss: 0.6930 - accuracy: 0.5074 - recall: 0.0497 - val_loss: 0.6929 - val_accuracy: 0.5161 - val_recall: 0.0000e+00\n",
            "Epoch 3/60\n",
            "104/104 [==============================] - 177s 2s/step - loss: 0.6932 - accuracy: 0.5114 - recall: 0.0026 - val_loss: 0.6928 - val_accuracy: 0.5161 - val_recall: 0.0000e+00\n",
            "Epoch 4/60\n",
            "104/104 [==============================] - 166s 2s/step - loss: 0.6929 - accuracy: 0.5112 - recall: 7.8942e-04 - val_loss: 0.6927 - val_accuracy: 0.5161 - val_recall: 0.0000e+00\n",
            "Epoch 5/60\n",
            "104/104 [==============================] - 162s 2s/step - loss: 0.6930 - accuracy: 0.5112 - recall: 0.0000e+00 - val_loss: 0.6927 - val_accuracy: 0.5161 - val_recall: 0.0000e+00\n",
            "Epoch 6/60\n",
            "104/104 [==============================] - 162s 2s/step - loss: 0.6929 - accuracy: 0.5112 - recall: 1.9736e-04 - val_loss: 0.6926 - val_accuracy: 0.5161 - val_recall: 0.0000e+00\n",
            "Epoch 7/60\n",
            "104/104 [==============================] - 162s 2s/step - loss: 0.6928 - accuracy: 0.5111 - recall: 0.0085 - val_loss: 0.6927 - val_accuracy: 0.5161 - val_recall: 0.0000e+00\n",
            "Epoch 8/60\n",
            "104/104 [==============================] - 162s 2s/step - loss: 0.6929 - accuracy: 0.5120 - recall: 0.0600 - val_loss: 0.6927 - val_accuracy: 0.5161 - val_recall: 0.0000e+00\n",
            "Epoch 9/60\n",
            "104/104 [==============================] - 163s 2s/step - loss: 0.6930 - accuracy: 0.5114 - recall: 0.0020 - val_loss: 0.6927 - val_accuracy: 0.5161 - val_recall: 0.0000e+00\n",
            "Epoch 10/60\n",
            " 99/104 [===========================>..] - ETA: 7s - loss: 0.6930 - accuracy: 0.5120 - recall: 0.0079"
          ]
        },
        {
          "output_type": "error",
          "ename": "KeyboardInterrupt",
          "evalue": "ignored",
          "traceback": [
            "\u001b[0;31m---------------------------------------------------------------------------\u001b[0m",
            "\u001b[0;31mKeyboardInterrupt\u001b[0m                         Traceback (most recent call last)",
            "\u001b[0;32m<ipython-input-10-8f1da1d9560f>\u001b[0m in \u001b[0;36m<module>\u001b[0;34m()\u001b[0m\n\u001b[1;32m      1\u001b[0m cnn1_history = cnn1.fit(X_train, y_train, epochs=60, batch_size=100,\n\u001b[0;32m----> 2\u001b[0;31m                   validation_data=(X_test, y_test))\n\u001b[0m",
            "\u001b[0;32m/usr/local/lib/python3.7/dist-packages/keras/utils/traceback_utils.py\u001b[0m in \u001b[0;36merror_handler\u001b[0;34m(*args, **kwargs)\u001b[0m\n\u001b[1;32m     62\u001b[0m     \u001b[0mfiltered_tb\u001b[0m \u001b[0;34m=\u001b[0m \u001b[0;32mNone\u001b[0m\u001b[0;34m\u001b[0m\u001b[0;34m\u001b[0m\u001b[0m\n\u001b[1;32m     63\u001b[0m     \u001b[0;32mtry\u001b[0m\u001b[0;34m:\u001b[0m\u001b[0;34m\u001b[0m\u001b[0;34m\u001b[0m\u001b[0m\n\u001b[0;32m---> 64\u001b[0;31m       \u001b[0;32mreturn\u001b[0m \u001b[0mfn\u001b[0m\u001b[0;34m(\u001b[0m\u001b[0;34m*\u001b[0m\u001b[0margs\u001b[0m\u001b[0;34m,\u001b[0m \u001b[0;34m**\u001b[0m\u001b[0mkwargs\u001b[0m\u001b[0;34m)\u001b[0m\u001b[0;34m\u001b[0m\u001b[0;34m\u001b[0m\u001b[0m\n\u001b[0m\u001b[1;32m     65\u001b[0m     \u001b[0;32mexcept\u001b[0m \u001b[0mException\u001b[0m \u001b[0;32mas\u001b[0m \u001b[0me\u001b[0m\u001b[0;34m:\u001b[0m  \u001b[0;31m# pylint: disable=broad-except\u001b[0m\u001b[0;34m\u001b[0m\u001b[0;34m\u001b[0m\u001b[0m\n\u001b[1;32m     66\u001b[0m       \u001b[0mfiltered_tb\u001b[0m \u001b[0;34m=\u001b[0m \u001b[0m_process_traceback_frames\u001b[0m\u001b[0;34m(\u001b[0m\u001b[0me\u001b[0m\u001b[0;34m.\u001b[0m\u001b[0m__traceback__\u001b[0m\u001b[0;34m)\u001b[0m\u001b[0;34m\u001b[0m\u001b[0;34m\u001b[0m\u001b[0m\n",
            "\u001b[0;32m/usr/local/lib/python3.7/dist-packages/keras/engine/training.py\u001b[0m in \u001b[0;36mfit\u001b[0;34m(self, x, y, batch_size, epochs, verbose, callbacks, validation_split, validation_data, shuffle, class_weight, sample_weight, initial_epoch, steps_per_epoch, validation_steps, validation_batch_size, validation_freq, max_queue_size, workers, use_multiprocessing)\u001b[0m\n\u001b[1;32m   1214\u001b[0m                 _r=1):\n\u001b[1;32m   1215\u001b[0m               \u001b[0mcallbacks\u001b[0m\u001b[0;34m.\u001b[0m\u001b[0mon_train_batch_begin\u001b[0m\u001b[0;34m(\u001b[0m\u001b[0mstep\u001b[0m\u001b[0;34m)\u001b[0m\u001b[0;34m\u001b[0m\u001b[0;34m\u001b[0m\u001b[0m\n\u001b[0;32m-> 1216\u001b[0;31m               \u001b[0mtmp_logs\u001b[0m \u001b[0;34m=\u001b[0m \u001b[0mself\u001b[0m\u001b[0;34m.\u001b[0m\u001b[0mtrain_function\u001b[0m\u001b[0;34m(\u001b[0m\u001b[0miterator\u001b[0m\u001b[0;34m)\u001b[0m\u001b[0;34m\u001b[0m\u001b[0;34m\u001b[0m\u001b[0m\n\u001b[0m\u001b[1;32m   1217\u001b[0m               \u001b[0;32mif\u001b[0m \u001b[0mdata_handler\u001b[0m\u001b[0;34m.\u001b[0m\u001b[0mshould_sync\u001b[0m\u001b[0;34m:\u001b[0m\u001b[0;34m\u001b[0m\u001b[0;34m\u001b[0m\u001b[0m\n\u001b[1;32m   1218\u001b[0m                 \u001b[0mcontext\u001b[0m\u001b[0;34m.\u001b[0m\u001b[0masync_wait\u001b[0m\u001b[0;34m(\u001b[0m\u001b[0;34m)\u001b[0m\u001b[0;34m\u001b[0m\u001b[0;34m\u001b[0m\u001b[0m\n",
            "\u001b[0;32m/usr/local/lib/python3.7/dist-packages/tensorflow/python/util/traceback_utils.py\u001b[0m in \u001b[0;36merror_handler\u001b[0;34m(*args, **kwargs)\u001b[0m\n\u001b[1;32m    148\u001b[0m     \u001b[0mfiltered_tb\u001b[0m \u001b[0;34m=\u001b[0m \u001b[0;32mNone\u001b[0m\u001b[0;34m\u001b[0m\u001b[0;34m\u001b[0m\u001b[0m\n\u001b[1;32m    149\u001b[0m     \u001b[0;32mtry\u001b[0m\u001b[0;34m:\u001b[0m\u001b[0;34m\u001b[0m\u001b[0;34m\u001b[0m\u001b[0m\n\u001b[0;32m--> 150\u001b[0;31m       \u001b[0;32mreturn\u001b[0m \u001b[0mfn\u001b[0m\u001b[0;34m(\u001b[0m\u001b[0;34m*\u001b[0m\u001b[0margs\u001b[0m\u001b[0;34m,\u001b[0m \u001b[0;34m**\u001b[0m\u001b[0mkwargs\u001b[0m\u001b[0;34m)\u001b[0m\u001b[0;34m\u001b[0m\u001b[0;34m\u001b[0m\u001b[0m\n\u001b[0m\u001b[1;32m    151\u001b[0m     \u001b[0;32mexcept\u001b[0m \u001b[0mException\u001b[0m \u001b[0;32mas\u001b[0m \u001b[0me\u001b[0m\u001b[0;34m:\u001b[0m\u001b[0;34m\u001b[0m\u001b[0;34m\u001b[0m\u001b[0m\n\u001b[1;32m    152\u001b[0m       \u001b[0mfiltered_tb\u001b[0m \u001b[0;34m=\u001b[0m \u001b[0m_process_traceback_frames\u001b[0m\u001b[0;34m(\u001b[0m\u001b[0me\u001b[0m\u001b[0;34m.\u001b[0m\u001b[0m__traceback__\u001b[0m\u001b[0;34m)\u001b[0m\u001b[0;34m\u001b[0m\u001b[0;34m\u001b[0m\u001b[0m\n",
            "\u001b[0;32m/usr/local/lib/python3.7/dist-packages/tensorflow/python/eager/def_function.py\u001b[0m in \u001b[0;36m__call__\u001b[0;34m(self, *args, **kwds)\u001b[0m\n\u001b[1;32m    908\u001b[0m \u001b[0;34m\u001b[0m\u001b[0m\n\u001b[1;32m    909\u001b[0m       \u001b[0;32mwith\u001b[0m \u001b[0mOptionalXlaContext\u001b[0m\u001b[0;34m(\u001b[0m\u001b[0mself\u001b[0m\u001b[0;34m.\u001b[0m\u001b[0m_jit_compile\u001b[0m\u001b[0;34m)\u001b[0m\u001b[0;34m:\u001b[0m\u001b[0;34m\u001b[0m\u001b[0;34m\u001b[0m\u001b[0m\n\u001b[0;32m--> 910\u001b[0;31m         \u001b[0mresult\u001b[0m \u001b[0;34m=\u001b[0m \u001b[0mself\u001b[0m\u001b[0;34m.\u001b[0m\u001b[0m_call\u001b[0m\u001b[0;34m(\u001b[0m\u001b[0;34m*\u001b[0m\u001b[0margs\u001b[0m\u001b[0;34m,\u001b[0m \u001b[0;34m**\u001b[0m\u001b[0mkwds\u001b[0m\u001b[0;34m)\u001b[0m\u001b[0;34m\u001b[0m\u001b[0;34m\u001b[0m\u001b[0m\n\u001b[0m\u001b[1;32m    911\u001b[0m \u001b[0;34m\u001b[0m\u001b[0m\n\u001b[1;32m    912\u001b[0m       \u001b[0mnew_tracing_count\u001b[0m \u001b[0;34m=\u001b[0m \u001b[0mself\u001b[0m\u001b[0;34m.\u001b[0m\u001b[0mexperimental_get_tracing_count\u001b[0m\u001b[0;34m(\u001b[0m\u001b[0;34m)\u001b[0m\u001b[0;34m\u001b[0m\u001b[0;34m\u001b[0m\u001b[0m\n",
            "\u001b[0;32m/usr/local/lib/python3.7/dist-packages/tensorflow/python/eager/def_function.py\u001b[0m in \u001b[0;36m_call\u001b[0;34m(self, *args, **kwds)\u001b[0m\n\u001b[1;32m    940\u001b[0m       \u001b[0;31m# In this case we have created variables on the first call, so we run the\u001b[0m\u001b[0;34m\u001b[0m\u001b[0;34m\u001b[0m\u001b[0;34m\u001b[0m\u001b[0m\n\u001b[1;32m    941\u001b[0m       \u001b[0;31m# defunned version which is guaranteed to never create variables.\u001b[0m\u001b[0;34m\u001b[0m\u001b[0;34m\u001b[0m\u001b[0;34m\u001b[0m\u001b[0m\n\u001b[0;32m--> 942\u001b[0;31m       \u001b[0;32mreturn\u001b[0m \u001b[0mself\u001b[0m\u001b[0;34m.\u001b[0m\u001b[0m_stateless_fn\u001b[0m\u001b[0;34m(\u001b[0m\u001b[0;34m*\u001b[0m\u001b[0margs\u001b[0m\u001b[0;34m,\u001b[0m \u001b[0;34m**\u001b[0m\u001b[0mkwds\u001b[0m\u001b[0;34m)\u001b[0m  \u001b[0;31m# pylint: disable=not-callable\u001b[0m\u001b[0;34m\u001b[0m\u001b[0;34m\u001b[0m\u001b[0m\n\u001b[0m\u001b[1;32m    943\u001b[0m     \u001b[0;32melif\u001b[0m \u001b[0mself\u001b[0m\u001b[0;34m.\u001b[0m\u001b[0m_stateful_fn\u001b[0m \u001b[0;32mis\u001b[0m \u001b[0;32mnot\u001b[0m \u001b[0;32mNone\u001b[0m\u001b[0;34m:\u001b[0m\u001b[0;34m\u001b[0m\u001b[0;34m\u001b[0m\u001b[0m\n\u001b[1;32m    944\u001b[0m       \u001b[0;31m# Release the lock early so that multiple threads can perform the call\u001b[0m\u001b[0;34m\u001b[0m\u001b[0;34m\u001b[0m\u001b[0;34m\u001b[0m\u001b[0m\n",
            "\u001b[0;32m/usr/local/lib/python3.7/dist-packages/tensorflow/python/eager/function.py\u001b[0m in \u001b[0;36m__call__\u001b[0;34m(self, *args, **kwargs)\u001b[0m\n\u001b[1;32m   3129\u001b[0m        filtered_flat_args) = self._maybe_define_function(args, kwargs)\n\u001b[1;32m   3130\u001b[0m     return graph_function._call_flat(\n\u001b[0;32m-> 3131\u001b[0;31m         filtered_flat_args, captured_inputs=graph_function.captured_inputs)  # pylint: disable=protected-access\n\u001b[0m\u001b[1;32m   3132\u001b[0m \u001b[0;34m\u001b[0m\u001b[0m\n\u001b[1;32m   3133\u001b[0m   \u001b[0;34m@\u001b[0m\u001b[0mproperty\u001b[0m\u001b[0;34m\u001b[0m\u001b[0;34m\u001b[0m\u001b[0m\n",
            "\u001b[0;32m/usr/local/lib/python3.7/dist-packages/tensorflow/python/eager/function.py\u001b[0m in \u001b[0;36m_call_flat\u001b[0;34m(self, args, captured_inputs, cancellation_manager)\u001b[0m\n\u001b[1;32m   1958\u001b[0m       \u001b[0;31m# No tape is watching; skip to running the function.\u001b[0m\u001b[0;34m\u001b[0m\u001b[0;34m\u001b[0m\u001b[0;34m\u001b[0m\u001b[0m\n\u001b[1;32m   1959\u001b[0m       return self._build_call_outputs(self._inference_function.call(\n\u001b[0;32m-> 1960\u001b[0;31m           ctx, args, cancellation_manager=cancellation_manager))\n\u001b[0m\u001b[1;32m   1961\u001b[0m     forward_backward = self._select_forward_and_backward_functions(\n\u001b[1;32m   1962\u001b[0m         \u001b[0margs\u001b[0m\u001b[0;34m,\u001b[0m\u001b[0;34m\u001b[0m\u001b[0;34m\u001b[0m\u001b[0m\n",
            "\u001b[0;32m/usr/local/lib/python3.7/dist-packages/tensorflow/python/eager/function.py\u001b[0m in \u001b[0;36mcall\u001b[0;34m(self, ctx, args, cancellation_manager)\u001b[0m\n\u001b[1;32m    601\u001b[0m               \u001b[0minputs\u001b[0m\u001b[0;34m=\u001b[0m\u001b[0margs\u001b[0m\u001b[0;34m,\u001b[0m\u001b[0;34m\u001b[0m\u001b[0;34m\u001b[0m\u001b[0m\n\u001b[1;32m    602\u001b[0m               \u001b[0mattrs\u001b[0m\u001b[0;34m=\u001b[0m\u001b[0mattrs\u001b[0m\u001b[0;34m,\u001b[0m\u001b[0;34m\u001b[0m\u001b[0;34m\u001b[0m\u001b[0m\n\u001b[0;32m--> 603\u001b[0;31m               ctx=ctx)\n\u001b[0m\u001b[1;32m    604\u001b[0m         \u001b[0;32melse\u001b[0m\u001b[0;34m:\u001b[0m\u001b[0;34m\u001b[0m\u001b[0;34m\u001b[0m\u001b[0m\n\u001b[1;32m    605\u001b[0m           outputs = execute.execute_with_cancellation(\n",
            "\u001b[0;32m/usr/local/lib/python3.7/dist-packages/tensorflow/python/eager/execute.py\u001b[0m in \u001b[0;36mquick_execute\u001b[0;34m(op_name, num_outputs, inputs, attrs, ctx, name)\u001b[0m\n\u001b[1;32m     57\u001b[0m     \u001b[0mctx\u001b[0m\u001b[0;34m.\u001b[0m\u001b[0mensure_initialized\u001b[0m\u001b[0;34m(\u001b[0m\u001b[0;34m)\u001b[0m\u001b[0;34m\u001b[0m\u001b[0;34m\u001b[0m\u001b[0m\n\u001b[1;32m     58\u001b[0m     tensors = pywrap_tfe.TFE_Py_Execute(ctx._handle, device_name, op_name,\n\u001b[0;32m---> 59\u001b[0;31m                                         inputs, attrs, num_outputs)\n\u001b[0m\u001b[1;32m     60\u001b[0m   \u001b[0;32mexcept\u001b[0m \u001b[0mcore\u001b[0m\u001b[0;34m.\u001b[0m\u001b[0m_NotOkStatusException\u001b[0m \u001b[0;32mas\u001b[0m \u001b[0me\u001b[0m\u001b[0;34m:\u001b[0m\u001b[0;34m\u001b[0m\u001b[0;34m\u001b[0m\u001b[0m\n\u001b[1;32m     61\u001b[0m     \u001b[0;32mif\u001b[0m \u001b[0mname\u001b[0m \u001b[0;32mis\u001b[0m \u001b[0;32mnot\u001b[0m \u001b[0;32mNone\u001b[0m\u001b[0;34m:\u001b[0m\u001b[0;34m\u001b[0m\u001b[0;34m\u001b[0m\u001b[0m\n",
            "\u001b[0;31mKeyboardInterrupt\u001b[0m: "
          ]
        }
      ]
    },
    {
      "cell_type": "code",
      "metadata": {
        "colab": {
          "base_uri": "https://localhost:8080/"
        },
        "id": "VWgWwi33Pkfe",
        "outputId": "bc9bd186-622c-4f62-986d-0d27630d54f3"
      },
      "source": [
        "# set random seed for reproducibility\n",
        "np.random.seed(42)\n",
        "set_seed(42)\n",
        "\n",
        "# build sequentially\n",
        "cnn2 = keras.Sequential(name='cnn2')\n",
        "\n",
        "# convolutional and max pooling layers with successively more filters\n",
        "cnn2.add(layers.Conv2D(32, (2, 3), activation='relu', padding='same', input_shape=input_shape))\n",
        "cnn2.add(layers.MaxPooling2D((2, 4)))\n",
        "\n",
        "cnn2.add(layers.Conv2D(64, (2, 3), activation='relu', padding='same'))\n",
        "cnn2.add(layers.MaxPooling2D((2, 4)))\n",
        "\n",
        "cnn2.add(layers.Conv2D(128, (2, 3), activation='relu', padding='same'))\n",
        "cnn2.add(layers.MaxPooling2D((2, 2)))\n",
        "\n",
        "cnn2.add(layers.Conv2D(128, (3, 3), activation='relu', padding='same'))\n",
        "cnn2.add(layers.MaxPool2D((2, 2)))\n",
        "\n",
        "# fully-connected layers for output\n",
        "cnn2.add(layers.Flatten())\n",
        "cnn2.add(layers.Dense(128, activation='relu'))\n",
        "# cnn2.add(layers.Dropout(0.3))\n",
        "# cnn2.add(layers.Dense(64, activation='relu'))\n",
        "# cnn2.add(layers.Dropout(0.3))\n",
        "\n",
        "# output layer\n",
        "cnn2.add(layers.Dense(1, activation='sigmoid'))\n",
        "\n",
        "# compile cnn\n",
        "cnn2.compile(loss='binary_crossentropy',\n",
        "            optimizer=\"adam\",\n",
        "            metrics=['accuracy', 'Recall'])\n",
        "\n",
        "# take a look at model architecture\n",
        "cnn2.summary()"
      ],
      "execution_count": null,
      "outputs": [
        {
          "output_type": "stream",
          "name": "stdout",
          "text": [
            "Model: \"cnn2\"\n",
            "_________________________________________________________________\n",
            " Layer (type)                Output Shape              Param #   \n",
            "=================================================================\n",
            " conv2d_20 (Conv2D)          (None, 128, 1292, 32)     224       \n",
            "                                                                 \n",
            " max_pooling2d_20 (MaxPoolin  (None, 64, 323, 32)      0         \n",
            " g2D)                                                            \n",
            "                                                                 \n",
            " conv2d_21 (Conv2D)          (None, 64, 323, 64)       12352     \n",
            "                                                                 \n",
            " max_pooling2d_21 (MaxPoolin  (None, 32, 80, 64)       0         \n",
            " g2D)                                                            \n",
            "                                                                 \n",
            " conv2d_22 (Conv2D)          (None, 32, 80, 128)       49280     \n",
            "                                                                 \n",
            " max_pooling2d_22 (MaxPoolin  (None, 16, 40, 128)      0         \n",
            " g2D)                                                            \n",
            "                                                                 \n",
            " conv2d_23 (Conv2D)          (None, 16, 40, 128)       147584    \n",
            "                                                                 \n",
            " max_pooling2d_23 (MaxPoolin  (None, 8, 20, 128)       0         \n",
            " g2D)                                                            \n",
            "                                                                 \n",
            " flatten_5 (Flatten)         (None, 20480)             0         \n",
            "                                                                 \n",
            " dense_12 (Dense)            (None, 128)               2621568   \n",
            "                                                                 \n",
            " dense_13 (Dense)            (None, 1)                 129       \n",
            "                                                                 \n",
            "=================================================================\n",
            "Total params: 2,831,137\n",
            "Trainable params: 2,831,137\n",
            "Non-trainable params: 0\n",
            "_________________________________________________________________\n"
          ]
        }
      ]
    },
    {
      "cell_type": "code",
      "metadata": {
        "colab": {
          "base_uri": "https://localhost:8080/",
          "height": 346
        },
        "id": "CrU4pAQjQyGY",
        "outputId": "eb0b4691-87da-41cc-b778-3203c64d1866"
      },
      "source": [
        "cnn2_history = cnn2.fit(X_train, y_train, epochs=60, batch_size=100,\n",
        "                  validation_data=(X_test, y_test))"
      ],
      "execution_count": null,
      "outputs": [
        {
          "output_type": "stream",
          "name": "stdout",
          "text": [
            " 51/104 [=============>................] - ETA: 1:52 - loss: 0.4188 - accuracy: 0.7971 - recall: 0.8107"
          ]
        },
        {
          "output_type": "error",
          "ename": "KeyboardInterrupt",
          "evalue": "ignored",
          "traceback": [
            "\u001b[0;31m---------------------------------------------------------------------------\u001b[0m",
            "\u001b[0;31mKeyboardInterrupt\u001b[0m                         Traceback (most recent call last)",
            "\u001b[0;32m<ipython-input-15-d879ba0f8fca>\u001b[0m in \u001b[0;36m<module>\u001b[0;34m()\u001b[0m\n\u001b[1;32m      1\u001b[0m cnn2_history = cnn2.fit(X_train, y_train, epochs=60, batch_size=100,\n\u001b[0;32m----> 2\u001b[0;31m                   validation_data=(X_test, y_test))\n\u001b[0m",
            "\u001b[0;32m/usr/local/lib/python3.7/dist-packages/keras/utils/traceback_utils.py\u001b[0m in \u001b[0;36merror_handler\u001b[0;34m(*args, **kwargs)\u001b[0m\n\u001b[1;32m     62\u001b[0m     \u001b[0mfiltered_tb\u001b[0m \u001b[0;34m=\u001b[0m \u001b[0;32mNone\u001b[0m\u001b[0;34m\u001b[0m\u001b[0;34m\u001b[0m\u001b[0m\n\u001b[1;32m     63\u001b[0m     \u001b[0;32mtry\u001b[0m\u001b[0;34m:\u001b[0m\u001b[0;34m\u001b[0m\u001b[0;34m\u001b[0m\u001b[0m\n\u001b[0;32m---> 64\u001b[0;31m       \u001b[0;32mreturn\u001b[0m \u001b[0mfn\u001b[0m\u001b[0;34m(\u001b[0m\u001b[0;34m*\u001b[0m\u001b[0margs\u001b[0m\u001b[0;34m,\u001b[0m \u001b[0;34m**\u001b[0m\u001b[0mkwargs\u001b[0m\u001b[0;34m)\u001b[0m\u001b[0;34m\u001b[0m\u001b[0;34m\u001b[0m\u001b[0m\n\u001b[0m\u001b[1;32m     65\u001b[0m     \u001b[0;32mexcept\u001b[0m \u001b[0mException\u001b[0m \u001b[0;32mas\u001b[0m \u001b[0me\u001b[0m\u001b[0;34m:\u001b[0m  \u001b[0;31m# pylint: disable=broad-except\u001b[0m\u001b[0;34m\u001b[0m\u001b[0;34m\u001b[0m\u001b[0m\n\u001b[1;32m     66\u001b[0m       \u001b[0mfiltered_tb\u001b[0m \u001b[0;34m=\u001b[0m \u001b[0m_process_traceback_frames\u001b[0m\u001b[0;34m(\u001b[0m\u001b[0me\u001b[0m\u001b[0;34m.\u001b[0m\u001b[0m__traceback__\u001b[0m\u001b[0;34m)\u001b[0m\u001b[0;34m\u001b[0m\u001b[0;34m\u001b[0m\u001b[0m\n",
            "\u001b[0;32m/usr/local/lib/python3.7/dist-packages/keras/engine/training.py\u001b[0m in \u001b[0;36mfit\u001b[0;34m(self, x, y, batch_size, epochs, verbose, callbacks, validation_split, validation_data, shuffle, class_weight, sample_weight, initial_epoch, steps_per_epoch, validation_steps, validation_batch_size, validation_freq, max_queue_size, workers, use_multiprocessing)\u001b[0m\n\u001b[1;32m   1214\u001b[0m                 _r=1):\n\u001b[1;32m   1215\u001b[0m               \u001b[0mcallbacks\u001b[0m\u001b[0;34m.\u001b[0m\u001b[0mon_train_batch_begin\u001b[0m\u001b[0;34m(\u001b[0m\u001b[0mstep\u001b[0m\u001b[0;34m)\u001b[0m\u001b[0;34m\u001b[0m\u001b[0;34m\u001b[0m\u001b[0m\n\u001b[0;32m-> 1216\u001b[0;31m               \u001b[0mtmp_logs\u001b[0m \u001b[0;34m=\u001b[0m \u001b[0mself\u001b[0m\u001b[0;34m.\u001b[0m\u001b[0mtrain_function\u001b[0m\u001b[0;34m(\u001b[0m\u001b[0miterator\u001b[0m\u001b[0;34m)\u001b[0m\u001b[0;34m\u001b[0m\u001b[0;34m\u001b[0m\u001b[0m\n\u001b[0m\u001b[1;32m   1217\u001b[0m               \u001b[0;32mif\u001b[0m \u001b[0mdata_handler\u001b[0m\u001b[0;34m.\u001b[0m\u001b[0mshould_sync\u001b[0m\u001b[0;34m:\u001b[0m\u001b[0;34m\u001b[0m\u001b[0;34m\u001b[0m\u001b[0m\n\u001b[1;32m   1218\u001b[0m                 \u001b[0mcontext\u001b[0m\u001b[0;34m.\u001b[0m\u001b[0masync_wait\u001b[0m\u001b[0;34m(\u001b[0m\u001b[0;34m)\u001b[0m\u001b[0;34m\u001b[0m\u001b[0;34m\u001b[0m\u001b[0m\n",
            "\u001b[0;32m/usr/local/lib/python3.7/dist-packages/tensorflow/python/util/traceback_utils.py\u001b[0m in \u001b[0;36merror_handler\u001b[0;34m(*args, **kwargs)\u001b[0m\n\u001b[1;32m    148\u001b[0m     \u001b[0mfiltered_tb\u001b[0m \u001b[0;34m=\u001b[0m \u001b[0;32mNone\u001b[0m\u001b[0;34m\u001b[0m\u001b[0;34m\u001b[0m\u001b[0m\n\u001b[1;32m    149\u001b[0m     \u001b[0;32mtry\u001b[0m\u001b[0;34m:\u001b[0m\u001b[0;34m\u001b[0m\u001b[0;34m\u001b[0m\u001b[0m\n\u001b[0;32m--> 150\u001b[0;31m       \u001b[0;32mreturn\u001b[0m \u001b[0mfn\u001b[0m\u001b[0;34m(\u001b[0m\u001b[0;34m*\u001b[0m\u001b[0margs\u001b[0m\u001b[0;34m,\u001b[0m \u001b[0;34m**\u001b[0m\u001b[0mkwargs\u001b[0m\u001b[0;34m)\u001b[0m\u001b[0;34m\u001b[0m\u001b[0;34m\u001b[0m\u001b[0m\n\u001b[0m\u001b[1;32m    151\u001b[0m     \u001b[0;32mexcept\u001b[0m \u001b[0mException\u001b[0m \u001b[0;32mas\u001b[0m \u001b[0me\u001b[0m\u001b[0;34m:\u001b[0m\u001b[0;34m\u001b[0m\u001b[0;34m\u001b[0m\u001b[0m\n\u001b[1;32m    152\u001b[0m       \u001b[0mfiltered_tb\u001b[0m \u001b[0;34m=\u001b[0m \u001b[0m_process_traceback_frames\u001b[0m\u001b[0;34m(\u001b[0m\u001b[0me\u001b[0m\u001b[0;34m.\u001b[0m\u001b[0m__traceback__\u001b[0m\u001b[0;34m)\u001b[0m\u001b[0;34m\u001b[0m\u001b[0;34m\u001b[0m\u001b[0m\n",
            "\u001b[0;32m/usr/local/lib/python3.7/dist-packages/tensorflow/python/eager/def_function.py\u001b[0m in \u001b[0;36m__call__\u001b[0;34m(self, *args, **kwds)\u001b[0m\n\u001b[1;32m    908\u001b[0m \u001b[0;34m\u001b[0m\u001b[0m\n\u001b[1;32m    909\u001b[0m       \u001b[0;32mwith\u001b[0m \u001b[0mOptionalXlaContext\u001b[0m\u001b[0;34m(\u001b[0m\u001b[0mself\u001b[0m\u001b[0;34m.\u001b[0m\u001b[0m_jit_compile\u001b[0m\u001b[0;34m)\u001b[0m\u001b[0;34m:\u001b[0m\u001b[0;34m\u001b[0m\u001b[0;34m\u001b[0m\u001b[0m\n\u001b[0;32m--> 910\u001b[0;31m         \u001b[0mresult\u001b[0m \u001b[0;34m=\u001b[0m \u001b[0mself\u001b[0m\u001b[0;34m.\u001b[0m\u001b[0m_call\u001b[0m\u001b[0;34m(\u001b[0m\u001b[0;34m*\u001b[0m\u001b[0margs\u001b[0m\u001b[0;34m,\u001b[0m \u001b[0;34m**\u001b[0m\u001b[0mkwds\u001b[0m\u001b[0;34m)\u001b[0m\u001b[0;34m\u001b[0m\u001b[0;34m\u001b[0m\u001b[0m\n\u001b[0m\u001b[1;32m    911\u001b[0m \u001b[0;34m\u001b[0m\u001b[0m\n\u001b[1;32m    912\u001b[0m       \u001b[0mnew_tracing_count\u001b[0m \u001b[0;34m=\u001b[0m \u001b[0mself\u001b[0m\u001b[0;34m.\u001b[0m\u001b[0mexperimental_get_tracing_count\u001b[0m\u001b[0;34m(\u001b[0m\u001b[0;34m)\u001b[0m\u001b[0;34m\u001b[0m\u001b[0;34m\u001b[0m\u001b[0m\n",
            "\u001b[0;32m/usr/local/lib/python3.7/dist-packages/tensorflow/python/eager/def_function.py\u001b[0m in \u001b[0;36m_call\u001b[0;34m(self, *args, **kwds)\u001b[0m\n\u001b[1;32m    940\u001b[0m       \u001b[0;31m# In this case we have created variables on the first call, so we run the\u001b[0m\u001b[0;34m\u001b[0m\u001b[0;34m\u001b[0m\u001b[0;34m\u001b[0m\u001b[0m\n\u001b[1;32m    941\u001b[0m       \u001b[0;31m# defunned version which is guaranteed to never create variables.\u001b[0m\u001b[0;34m\u001b[0m\u001b[0;34m\u001b[0m\u001b[0;34m\u001b[0m\u001b[0m\n\u001b[0;32m--> 942\u001b[0;31m       \u001b[0;32mreturn\u001b[0m \u001b[0mself\u001b[0m\u001b[0;34m.\u001b[0m\u001b[0m_stateless_fn\u001b[0m\u001b[0;34m(\u001b[0m\u001b[0;34m*\u001b[0m\u001b[0margs\u001b[0m\u001b[0;34m,\u001b[0m \u001b[0;34m**\u001b[0m\u001b[0mkwds\u001b[0m\u001b[0;34m)\u001b[0m  \u001b[0;31m# pylint: disable=not-callable\u001b[0m\u001b[0;34m\u001b[0m\u001b[0;34m\u001b[0m\u001b[0m\n\u001b[0m\u001b[1;32m    943\u001b[0m     \u001b[0;32melif\u001b[0m \u001b[0mself\u001b[0m\u001b[0;34m.\u001b[0m\u001b[0m_stateful_fn\u001b[0m \u001b[0;32mis\u001b[0m \u001b[0;32mnot\u001b[0m \u001b[0;32mNone\u001b[0m\u001b[0;34m:\u001b[0m\u001b[0;34m\u001b[0m\u001b[0;34m\u001b[0m\u001b[0m\n\u001b[1;32m    944\u001b[0m       \u001b[0;31m# Release the lock early so that multiple threads can perform the call\u001b[0m\u001b[0;34m\u001b[0m\u001b[0;34m\u001b[0m\u001b[0;34m\u001b[0m\u001b[0m\n",
            "\u001b[0;32m/usr/local/lib/python3.7/dist-packages/tensorflow/python/eager/function.py\u001b[0m in \u001b[0;36m__call__\u001b[0;34m(self, *args, **kwargs)\u001b[0m\n\u001b[1;32m   3129\u001b[0m        filtered_flat_args) = self._maybe_define_function(args, kwargs)\n\u001b[1;32m   3130\u001b[0m     return graph_function._call_flat(\n\u001b[0;32m-> 3131\u001b[0;31m         filtered_flat_args, captured_inputs=graph_function.captured_inputs)  # pylint: disable=protected-access\n\u001b[0m\u001b[1;32m   3132\u001b[0m \u001b[0;34m\u001b[0m\u001b[0m\n\u001b[1;32m   3133\u001b[0m   \u001b[0;34m@\u001b[0m\u001b[0mproperty\u001b[0m\u001b[0;34m\u001b[0m\u001b[0;34m\u001b[0m\u001b[0m\n",
            "\u001b[0;32m/usr/local/lib/python3.7/dist-packages/tensorflow/python/eager/function.py\u001b[0m in \u001b[0;36m_call_flat\u001b[0;34m(self, args, captured_inputs, cancellation_manager)\u001b[0m\n\u001b[1;32m   1958\u001b[0m       \u001b[0;31m# No tape is watching; skip to running the function.\u001b[0m\u001b[0;34m\u001b[0m\u001b[0;34m\u001b[0m\u001b[0;34m\u001b[0m\u001b[0m\n\u001b[1;32m   1959\u001b[0m       return self._build_call_outputs(self._inference_function.call(\n\u001b[0;32m-> 1960\u001b[0;31m           ctx, args, cancellation_manager=cancellation_manager))\n\u001b[0m\u001b[1;32m   1961\u001b[0m     forward_backward = self._select_forward_and_backward_functions(\n\u001b[1;32m   1962\u001b[0m         \u001b[0margs\u001b[0m\u001b[0;34m,\u001b[0m\u001b[0;34m\u001b[0m\u001b[0;34m\u001b[0m\u001b[0m\n",
            "\u001b[0;32m/usr/local/lib/python3.7/dist-packages/tensorflow/python/eager/function.py\u001b[0m in \u001b[0;36mcall\u001b[0;34m(self, ctx, args, cancellation_manager)\u001b[0m\n\u001b[1;32m    601\u001b[0m               \u001b[0minputs\u001b[0m\u001b[0;34m=\u001b[0m\u001b[0margs\u001b[0m\u001b[0;34m,\u001b[0m\u001b[0;34m\u001b[0m\u001b[0;34m\u001b[0m\u001b[0m\n\u001b[1;32m    602\u001b[0m               \u001b[0mattrs\u001b[0m\u001b[0;34m=\u001b[0m\u001b[0mattrs\u001b[0m\u001b[0;34m,\u001b[0m\u001b[0;34m\u001b[0m\u001b[0;34m\u001b[0m\u001b[0m\n\u001b[0;32m--> 603\u001b[0;31m               ctx=ctx)\n\u001b[0m\u001b[1;32m    604\u001b[0m         \u001b[0;32melse\u001b[0m\u001b[0;34m:\u001b[0m\u001b[0;34m\u001b[0m\u001b[0;34m\u001b[0m\u001b[0m\n\u001b[1;32m    605\u001b[0m           outputs = execute.execute_with_cancellation(\n",
            "\u001b[0;32m/usr/local/lib/python3.7/dist-packages/tensorflow/python/eager/execute.py\u001b[0m in \u001b[0;36mquick_execute\u001b[0;34m(op_name, num_outputs, inputs, attrs, ctx, name)\u001b[0m\n\u001b[1;32m     57\u001b[0m     \u001b[0mctx\u001b[0m\u001b[0;34m.\u001b[0m\u001b[0mensure_initialized\u001b[0m\u001b[0;34m(\u001b[0m\u001b[0;34m)\u001b[0m\u001b[0;34m\u001b[0m\u001b[0;34m\u001b[0m\u001b[0m\n\u001b[1;32m     58\u001b[0m     tensors = pywrap_tfe.TFE_Py_Execute(ctx._handle, device_name, op_name,\n\u001b[0;32m---> 59\u001b[0;31m                                         inputs, attrs, num_outputs)\n\u001b[0m\u001b[1;32m     60\u001b[0m   \u001b[0;32mexcept\u001b[0m \u001b[0mcore\u001b[0m\u001b[0;34m.\u001b[0m\u001b[0m_NotOkStatusException\u001b[0m \u001b[0;32mas\u001b[0m \u001b[0me\u001b[0m\u001b[0;34m:\u001b[0m\u001b[0;34m\u001b[0m\u001b[0;34m\u001b[0m\u001b[0m\n\u001b[1;32m     61\u001b[0m     \u001b[0;32mif\u001b[0m \u001b[0mname\u001b[0m \u001b[0;32mis\u001b[0m \u001b[0;32mnot\u001b[0m \u001b[0;32mNone\u001b[0m\u001b[0;34m:\u001b[0m\u001b[0;34m\u001b[0m\u001b[0;34m\u001b[0m\u001b[0m\n",
            "\u001b[0;31mKeyboardInterrupt\u001b[0m: "
          ]
        }
      ]
    },
    {
      "cell_type": "code",
      "metadata": {
        "colab": {
          "base_uri": "https://localhost:8080/",
          "height": 166
        },
        "id": "TEcuhL8A5lVM",
        "outputId": "218884c9-40f9-4587-b1fd-7e5ddf55ad8a"
      },
      "source": [
        "visualize_training_results(cnn2_history)"
      ],
      "execution_count": null,
      "outputs": [
        {
          "output_type": "error",
          "ename": "NameError",
          "evalue": "ignored",
          "traceback": [
            "\u001b[0;31m---------------------------------------------------------------------------\u001b[0m",
            "\u001b[0;31mNameError\u001b[0m                                 Traceback (most recent call last)",
            "\u001b[0;32m<ipython-input-6-432aea3ed17f>\u001b[0m in \u001b[0;36m<module>\u001b[0;34m()\u001b[0m\n\u001b[0;32m----> 1\u001b[0;31m \u001b[0mvisualize_training_results\u001b[0m\u001b[0;34m(\u001b[0m\u001b[0mcnn2_history\u001b[0m\u001b[0;34m)\u001b[0m\u001b[0;34m\u001b[0m\u001b[0;34m\u001b[0m\u001b[0m\n\u001b[0m",
            "\u001b[0;31mNameError\u001b[0m: name 'cnn2_history' is not defined"
          ]
        }
      ]
    },
    {
      "cell_type": "code",
      "metadata": {
        "colab": {
          "base_uri": "https://localhost:8080/",
          "height": 236
        },
        "id": "lvAUEzB5Raqe",
        "outputId": "9a0e912b-e1ca-4bc9-8569-5ae9acb61eeb"
      },
      "source": [
        "# set random seed for reproducibility\n",
        "np.random.seed(42)\n",
        "set_seed(42)\n",
        "\n",
        "# build sequentially\n",
        "cnn3 = keras.Sequential(name='cnn3')\n",
        "\n",
        "# convolutional and max pooling layers with successively more filters\n",
        "cnn3.add(layers.Conv2D(32, (2, 3), activation='relu', padding='same', input_shape=input_shape))\n",
        "cnn3.add(layers.MaxPooling2D((2, 4)))\n",
        "\n",
        "cnn3.add(layers.Conv2D(64, (2, 3), activation='relu', padding='same'))\n",
        "cnn3.add(layers.MaxPooling2D((2, 4)))\n",
        "\n",
        "cnn3.add(layers.Conv2D(128, (2, 3), activation='relu', padding='same'))\n",
        "cnn3.add(layers.MaxPooling2D((2, 2)))\n",
        "\n",
        "cnn3.add(layers.Conv2D(128, (3, 3), activation='relu', padding='same'))\n",
        "cnn3.add(layers.MaxPool2D((2, 2)))\n",
        "\n",
        "# fully-connected layers for output\n",
        "cnn3.add(layers.Flatten())\n",
        "cnn3.add(layers.Dense(128, activation='relu'))\n",
        "cnn3.add(layers.Dropout(0.3))\n",
        "cnn3.add(layers.Dense(64, activation='relu'))\n",
        "cnn3.add(layers.Dropout(0.3))\n",
        "\n",
        "# output layer\n",
        "cnn3.add(layers.Dense(1, activation='sigmoid'))\n",
        "\n",
        "# compile cnn\n",
        "cnn3.compile(loss='binary_crossentropy',\n",
        "            optimizer=\"adam\",\n",
        "            metrics=['accuracy', 'Recall'])\n",
        "\n",
        "# take a look at model architecture\n",
        "cnn3.summary()"
      ],
      "execution_count": 1,
      "outputs": [
        {
          "output_type": "error",
          "ename": "NameError",
          "evalue": "ignored",
          "traceback": [
            "\u001b[0;31m---------------------------------------------------------------------------\u001b[0m",
            "\u001b[0;31mNameError\u001b[0m                                 Traceback (most recent call last)",
            "\u001b[0;32m<ipython-input-1-077e7b87db1e>\u001b[0m in \u001b[0;36m<module>\u001b[0;34m()\u001b[0m\n\u001b[1;32m      1\u001b[0m \u001b[0;31m# set random seed for reproducibility\u001b[0m\u001b[0;34m\u001b[0m\u001b[0;34m\u001b[0m\u001b[0;34m\u001b[0m\u001b[0m\n\u001b[0;32m----> 2\u001b[0;31m \u001b[0mnp\u001b[0m\u001b[0;34m.\u001b[0m\u001b[0mrandom\u001b[0m\u001b[0;34m.\u001b[0m\u001b[0mseed\u001b[0m\u001b[0;34m(\u001b[0m\u001b[0;36m42\u001b[0m\u001b[0;34m)\u001b[0m\u001b[0;34m\u001b[0m\u001b[0;34m\u001b[0m\u001b[0m\n\u001b[0m\u001b[1;32m      3\u001b[0m \u001b[0mset_seed\u001b[0m\u001b[0;34m(\u001b[0m\u001b[0;36m42\u001b[0m\u001b[0;34m)\u001b[0m\u001b[0;34m\u001b[0m\u001b[0;34m\u001b[0m\u001b[0m\n\u001b[1;32m      4\u001b[0m \u001b[0;34m\u001b[0m\u001b[0m\n\u001b[1;32m      5\u001b[0m \u001b[0;31m# build sequentially\u001b[0m\u001b[0;34m\u001b[0m\u001b[0;34m\u001b[0m\u001b[0;34m\u001b[0m\u001b[0m\n",
            "\u001b[0;31mNameError\u001b[0m: name 'np' is not defined"
          ]
        }
      ]
    },
    {
      "cell_type": "code",
      "metadata": {
        "colab": {
          "base_uri": "https://localhost:8080/",
          "height": 0
        },
        "id": "eOUkqxSineJn",
        "outputId": "374c5f6d-e9fb-41b0-d0b1-4a53fa4f98e6"
      },
      "source": [
        "cnn3_history = cnn3.fit(X_train, y_train, epochs=120, batch_size=100,\n",
        "                  validation_data=(X_test, y_test))"
      ],
      "execution_count": null,
      "outputs": [
        {
          "output_type": "stream",
          "name": "stdout",
          "text": [
            "Epoch 1/120\n",
            "104/104 [==============================] - 235s 2s/step - loss: 0.6933 - accuracy: 0.5073 - recall: 0.2368 - val_loss: 0.6938 - val_accuracy: 0.5161 - val_recall: 0.0000e+00\n",
            "Epoch 2/120\n",
            "104/104 [==============================] - 239s 2s/step - loss: 0.6930 - accuracy: 0.5070 - recall: 0.0967 - val_loss: 0.6932 - val_accuracy: 0.4839 - val_recall: 1.0000\n",
            "Epoch 3/120\n",
            "104/104 [==============================] - 231s 2s/step - loss: 0.6933 - accuracy: 0.5126 - recall: 0.0857 - val_loss: 0.6928 - val_accuracy: 0.5161 - val_recall: 0.0000e+00\n",
            "Epoch 4/120\n",
            "104/104 [==============================] - 230s 2s/step - loss: 0.6931 - accuracy: 0.5116 - recall: 0.0020 - val_loss: 0.6927 - val_accuracy: 0.5161 - val_recall: 0.0000e+00\n",
            "Epoch 5/120\n",
            "104/104 [==============================] - 231s 2s/step - loss: 0.6929 - accuracy: 0.5115 - recall: 0.0022 - val_loss: 0.6927 - val_accuracy: 0.5161 - val_recall: 0.0000e+00\n",
            "Epoch 6/120\n",
            "104/104 [==============================] - 233s 2s/step - loss: 0.6930 - accuracy: 0.5116 - recall: 0.0154 - val_loss: 0.6926 - val_accuracy: 0.5161 - val_recall: 0.0000e+00\n",
            "Epoch 7/120\n",
            "104/104 [==============================] - 233s 2s/step - loss: 0.6930 - accuracy: 0.5111 - recall: 0.0000e+00 - val_loss: 0.6927 - val_accuracy: 0.5161 - val_recall: 0.0000e+00\n",
            "Epoch 8/120\n",
            "104/104 [==============================] - 232s 2s/step - loss: 0.6930 - accuracy: 0.5108 - recall: 0.0016 - val_loss: 0.6927 - val_accuracy: 0.5161 - val_recall: 0.0000e+00\n",
            "Epoch 9/120\n",
            "104/104 [==============================] - 231s 2s/step - loss: 0.6931 - accuracy: 0.5110 - recall: 0.0014 - val_loss: 0.6927 - val_accuracy: 0.5161 - val_recall: 0.0000e+00\n",
            "Epoch 10/120\n",
            "104/104 [==============================] - 238s 2s/step - loss: 0.6930 - accuracy: 0.5111 - recall: 0.0000e+00 - val_loss: 0.6927 - val_accuracy: 0.5161 - val_recall: 0.0000e+00\n",
            "Epoch 11/120\n",
            "104/104 [==============================] - 232s 2s/step - loss: 0.6929 - accuracy: 0.5113 - recall: 1.9736e-04 - val_loss: 0.6927 - val_accuracy: 0.5161 - val_recall: 0.0000e+00\n",
            "Epoch 12/120\n",
            "104/104 [==============================] - 231s 2s/step - loss: 0.6929 - accuracy: 0.5112 - recall: 0.0000e+00 - val_loss: 0.6927 - val_accuracy: 0.5161 - val_recall: 0.0000e+00\n",
            "Epoch 13/120\n",
            "104/104 [==============================] - 232s 2s/step - loss: 0.6930 - accuracy: 0.5112 - recall: 0.0000e+00 - val_loss: 0.6927 - val_accuracy: 0.5161 - val_recall: 0.0000e+00\n",
            "Epoch 14/120\n",
            "104/104 [==============================] - 232s 2s/step - loss: 0.6930 - accuracy: 0.5112 - recall: 0.0000e+00 - val_loss: 0.6927 - val_accuracy: 0.5161 - val_recall: 0.0000e+00\n",
            "Epoch 15/120\n",
            "104/104 [==============================] - 231s 2s/step - loss: 0.6930 - accuracy: 0.5112 - recall: 0.0000e+00 - val_loss: 0.6927 - val_accuracy: 0.5161 - val_recall: 0.0000e+00\n",
            "Epoch 16/120\n",
            "104/104 [==============================] - 231s 2s/step - loss: 0.6929 - accuracy: 0.5112 - recall: 0.0000e+00 - val_loss: 0.6927 - val_accuracy: 0.5161 - val_recall: 0.0000e+00\n",
            "Epoch 17/120\n",
            "104/104 [==============================] - 233s 2s/step - loss: 0.6929 - accuracy: 0.5112 - recall: 0.0000e+00 - val_loss: 0.6927 - val_accuracy: 0.5161 - val_recall: 0.0000e+00\n",
            "Epoch 18/120\n",
            "104/104 [==============================] - 235s 2s/step - loss: 0.6929 - accuracy: 0.5112 - recall: 0.0000e+00 - val_loss: 0.6927 - val_accuracy: 0.5161 - val_recall: 0.0000e+00\n",
            "Epoch 19/120\n",
            "104/104 [==============================] - 233s 2s/step - loss: 0.6930 - accuracy: 0.5112 - recall: 0.0000e+00 - val_loss: 0.6928 - val_accuracy: 0.5161 - val_recall: 0.0000e+00\n",
            "Epoch 20/120\n",
            "104/104 [==============================] - 232s 2s/step - loss: 0.6930 - accuracy: 0.5112 - recall: 0.0000e+00 - val_loss: 0.6927 - val_accuracy: 0.5161 - val_recall: 0.0000e+00\n",
            "Epoch 21/120\n",
            "104/104 [==============================] - 233s 2s/step - loss: 0.6930 - accuracy: 0.5112 - recall: 0.0000e+00 - val_loss: 0.6927 - val_accuracy: 0.5161 - val_recall: 0.0000e+00\n",
            "Epoch 22/120\n",
            "104/104 [==============================] - 233s 2s/step - loss: 0.6929 - accuracy: 0.5112 - recall: 0.0000e+00 - val_loss: 0.6927 - val_accuracy: 0.5161 - val_recall: 0.0000e+00\n",
            "Epoch 23/120\n",
            "104/104 [==============================] - 233s 2s/step - loss: 0.6930 - accuracy: 0.5112 - recall: 0.0000e+00 - val_loss: 0.6927 - val_accuracy: 0.5161 - val_recall: 0.0000e+00\n",
            "Epoch 24/120\n",
            "104/104 [==============================] - 238s 2s/step - loss: 0.6930 - accuracy: 0.5112 - recall: 0.0000e+00 - val_loss: 0.6927 - val_accuracy: 0.5161 - val_recall: 0.0000e+00\n",
            "Epoch 25/120\n",
            "104/104 [==============================] - 234s 2s/step - loss: 0.6929 - accuracy: 0.5112 - recall: 0.0000e+00 - val_loss: 0.6927 - val_accuracy: 0.5161 - val_recall: 0.0000e+00\n",
            "Epoch 26/120\n",
            "104/104 [==============================] - 232s 2s/step - loss: 0.6929 - accuracy: 0.5112 - recall: 0.0000e+00 - val_loss: 0.6927 - val_accuracy: 0.5161 - val_recall: 0.0000e+00\n",
            "Epoch 27/120\n",
            "104/104 [==============================] - 232s 2s/step - loss: 0.6929 - accuracy: 0.5112 - recall: 0.0000e+00 - val_loss: 0.6927 - val_accuracy: 0.5161 - val_recall: 0.0000e+00\n",
            "Epoch 28/120\n",
            "104/104 [==============================] - 231s 2s/step - loss: 0.6929 - accuracy: 0.5112 - recall: 0.0000e+00 - val_loss: 0.6927 - val_accuracy: 0.5161 - val_recall: 0.0000e+00\n",
            "Epoch 29/120\n",
            "104/104 [==============================] - 233s 2s/step - loss: 0.6929 - accuracy: 0.5112 - recall: 0.0000e+00 - val_loss: 0.6927 - val_accuracy: 0.5161 - val_recall: 0.0000e+00\n",
            "Epoch 30/120\n",
            "104/104 [==============================] - 231s 2s/step - loss: 0.6930 - accuracy: 0.5112 - recall: 0.0000e+00 - val_loss: 0.6927 - val_accuracy: 0.5161 - val_recall: 0.0000e+00\n",
            "Epoch 31/120\n",
            "104/104 [==============================] - 234s 2s/step - loss: 0.6929 - accuracy: 0.5112 - recall: 0.0000e+00 - val_loss: 0.6927 - val_accuracy: 0.5161 - val_recall: 0.0000e+00\n",
            "Epoch 32/120\n",
            "104/104 [==============================] - 233s 2s/step - loss: 0.6929 - accuracy: 0.5112 - recall: 0.0000e+00 - val_loss: 0.6927 - val_accuracy: 0.5161 - val_recall: 0.0000e+00\n",
            "Epoch 33/120\n",
            "104/104 [==============================] - 231s 2s/step - loss: 0.6930 - accuracy: 0.5112 - recall: 0.0000e+00 - val_loss: 0.6927 - val_accuracy: 0.5161 - val_recall: 0.0000e+00\n",
            "Epoch 34/120\n",
            "104/104 [==============================] - 230s 2s/step - loss: 0.6930 - accuracy: 0.5112 - recall: 0.0000e+00 - val_loss: 0.6927 - val_accuracy: 0.5161 - val_recall: 0.0000e+00\n",
            "Epoch 35/120\n",
            "104/104 [==============================] - 232s 2s/step - loss: 0.6929 - accuracy: 0.5112 - recall: 0.0000e+00 - val_loss: 0.6927 - val_accuracy: 0.5161 - val_recall: 0.0000e+00\n",
            "Epoch 36/120\n",
            "104/104 [==============================] - 232s 2s/step - loss: 0.6929 - accuracy: 0.5112 - recall: 0.0000e+00 - val_loss: 0.6927 - val_accuracy: 0.5161 - val_recall: 0.0000e+00\n",
            "Epoch 37/120\n",
            "104/104 [==============================] - 237s 2s/step - loss: 0.6930 - accuracy: 0.5112 - recall: 0.0000e+00 - val_loss: 0.6927 - val_accuracy: 0.5161 - val_recall: 0.0000e+00\n",
            "Epoch 38/120\n",
            "104/104 [==============================] - 231s 2s/step - loss: 0.6929 - accuracy: 0.5112 - recall: 0.0000e+00 - val_loss: 0.6927 - val_accuracy: 0.5161 - val_recall: 0.0000e+00\n",
            "Epoch 39/120\n",
            "104/104 [==============================] - 231s 2s/step - loss: 0.6929 - accuracy: 0.5112 - recall: 0.0000e+00 - val_loss: 0.6927 - val_accuracy: 0.5161 - val_recall: 0.0000e+00\n",
            "Epoch 40/120\n",
            "104/104 [==============================] - 232s 2s/step - loss: 0.6929 - accuracy: 0.5112 - recall: 0.0000e+00 - val_loss: 0.6927 - val_accuracy: 0.5161 - val_recall: 0.0000e+00\n",
            "Epoch 41/120\n",
            "104/104 [==============================] - 233s 2s/step - loss: 0.6930 - accuracy: 0.5112 - recall: 0.0000e+00 - val_loss: 0.6927 - val_accuracy: 0.5161 - val_recall: 0.0000e+00\n",
            "Epoch 42/120\n",
            "104/104 [==============================] - 231s 2s/step - loss: 0.6929 - accuracy: 0.5112 - recall: 0.0000e+00 - val_loss: 0.6927 - val_accuracy: 0.5161 - val_recall: 0.0000e+00\n",
            "Epoch 43/120\n",
            "104/104 [==============================] - 231s 2s/step - loss: 0.6929 - accuracy: 0.5112 - recall: 0.0000e+00 - val_loss: 0.6927 - val_accuracy: 0.5161 - val_recall: 0.0000e+00\n",
            "Epoch 44/120\n",
            "104/104 [==============================] - 232s 2s/step - loss: 0.6929 - accuracy: 0.5112 - recall: 0.0000e+00 - val_loss: 0.6927 - val_accuracy: 0.5161 - val_recall: 0.0000e+00\n",
            "Epoch 45/120\n",
            "104/104 [==============================] - 235s 2s/step - loss: 0.6929 - accuracy: 0.5112 - recall: 0.0000e+00 - val_loss: 0.6927 - val_accuracy: 0.5161 - val_recall: 0.0000e+00\n",
            "Epoch 46/120\n",
            "104/104 [==============================] - 231s 2s/step - loss: 0.6929 - accuracy: 0.5112 - recall: 0.0000e+00 - val_loss: 0.6927 - val_accuracy: 0.5161 - val_recall: 0.0000e+00\n",
            "Epoch 47/120\n",
            "104/104 [==============================] - 231s 2s/step - loss: 0.6929 - accuracy: 0.5112 - recall: 0.0000e+00 - val_loss: 0.6927 - val_accuracy: 0.5161 - val_recall: 0.0000e+00\n",
            "Epoch 48/120\n",
            "104/104 [==============================] - 233s 2s/step - loss: 0.6929 - accuracy: 0.5112 - recall: 0.0000e+00 - val_loss: 0.6927 - val_accuracy: 0.5161 - val_recall: 0.0000e+00\n",
            "Epoch 49/120\n",
            "104/104 [==============================] - 233s 2s/step - loss: 0.6929 - accuracy: 0.5112 - recall: 0.0000e+00 - val_loss: 0.6927 - val_accuracy: 0.5161 - val_recall: 0.0000e+00\n",
            "Epoch 50/120\n",
            "104/104 [==============================] - 233s 2s/step - loss: 0.6929 - accuracy: 0.5112 - recall: 0.0000e+00 - val_loss: 0.6927 - val_accuracy: 0.5161 - val_recall: 0.0000e+00\n",
            "Epoch 51/120\n",
            "104/104 [==============================] - 232s 2s/step - loss: 0.6929 - accuracy: 0.5112 - recall: 0.0000e+00 - val_loss: 0.6927 - val_accuracy: 0.5161 - val_recall: 0.0000e+00\n",
            "Epoch 52/120\n",
            "104/104 [==============================] - 237s 2s/step - loss: 0.6929 - accuracy: 0.5112 - recall: 0.0000e+00 - val_loss: 0.6927 - val_accuracy: 0.5161 - val_recall: 0.0000e+00\n",
            "Epoch 53/120\n",
            "104/104 [==============================] - 231s 2s/step - loss: 0.6929 - accuracy: 0.5112 - recall: 0.0000e+00 - val_loss: 0.6927 - val_accuracy: 0.5161 - val_recall: 0.0000e+00\n",
            "Epoch 54/120\n",
            "104/104 [==============================] - 231s 2s/step - loss: 0.6929 - accuracy: 0.5112 - recall: 0.0000e+00 - val_loss: 0.6927 - val_accuracy: 0.5161 - val_recall: 0.0000e+00\n",
            "Epoch 55/120\n",
            "104/104 [==============================] - 231s 2s/step - loss: 0.6929 - accuracy: 0.5112 - recall: 0.0000e+00 - val_loss: 0.6927 - val_accuracy: 0.5161 - val_recall: 0.0000e+00\n",
            "Epoch 56/120\n",
            "104/104 [==============================] - 232s 2s/step - loss: 0.6929 - accuracy: 0.5112 - recall: 0.0000e+00 - val_loss: 0.6927 - val_accuracy: 0.5161 - val_recall: 0.0000e+00\n",
            "Epoch 57/120\n",
            "104/104 [==============================] - 230s 2s/step - loss: 0.6929 - accuracy: 0.5112 - recall: 0.0000e+00 - val_loss: 0.6927 - val_accuracy: 0.5161 - val_recall: 0.0000e+00\n",
            "Epoch 58/120\n",
            "104/104 [==============================] - 230s 2s/step - loss: 0.6929 - accuracy: 0.5112 - recall: 0.0000e+00 - val_loss: 0.6927 - val_accuracy: 0.5161 - val_recall: 0.0000e+00\n",
            "Epoch 59/120\n",
            "104/104 [==============================] - 235s 2s/step - loss: 0.6929 - accuracy: 0.5112 - recall: 0.0000e+00 - val_loss: 0.6927 - val_accuracy: 0.5161 - val_recall: 0.0000e+00\n",
            "Epoch 60/120\n",
            "104/104 [==============================] - 234s 2s/step - loss: 0.6929 - accuracy: 0.5112 - recall: 0.0000e+00 - val_loss: 0.6927 - val_accuracy: 0.5161 - val_recall: 0.0000e+00\n",
            "Epoch 61/120\n",
            "104/104 [==============================] - 231s 2s/step - loss: 0.6929 - accuracy: 0.5112 - recall: 0.0000e+00 - val_loss: 0.6927 - val_accuracy: 0.5161 - val_recall: 0.0000e+00\n",
            "Epoch 62/120\n",
            "104/104 [==============================] - 231s 2s/step - loss: 0.6929 - accuracy: 0.5112 - recall: 0.0000e+00 - val_loss: 0.6927 - val_accuracy: 0.5161 - val_recall: 0.0000e+00\n",
            "Epoch 63/120\n",
            "104/104 [==============================] - 232s 2s/step - loss: 0.6929 - accuracy: 0.5112 - recall: 0.0000e+00 - val_loss: 0.6927 - val_accuracy: 0.5161 - val_recall: 0.0000e+00\n",
            "Epoch 64/120\n",
            "104/104 [==============================] - 233s 2s/step - loss: 0.6929 - accuracy: 0.5112 - recall: 0.0000e+00 - val_loss: 0.6927 - val_accuracy: 0.5161 - val_recall: 0.0000e+00\n",
            "Epoch 65/120\n",
            "104/104 [==============================] - 231s 2s/step - loss: 0.6929 - accuracy: 0.5112 - recall: 0.0000e+00 - val_loss: 0.6927 - val_accuracy: 0.5161 - val_recall: 0.0000e+00\n",
            "Epoch 66/120\n",
            "104/104 [==============================] - 233s 2s/step - loss: 0.6929 - accuracy: 0.5112 - recall: 0.0000e+00 - val_loss: 0.6927 - val_accuracy: 0.5161 - val_recall: 0.0000e+00\n",
            "Epoch 67/120\n",
            "104/104 [==============================] - 232s 2s/step - loss: 0.6929 - accuracy: 0.5112 - recall: 0.0000e+00 - val_loss: 0.6927 - val_accuracy: 0.5161 - val_recall: 0.0000e+00\n",
            "Epoch 68/120\n",
            "104/104 [==============================] - 232s 2s/step - loss: 0.6929 - accuracy: 0.5112 - recall: 0.0000e+00 - val_loss: 0.6927 - val_accuracy: 0.5161 - val_recall: 0.0000e+00\n",
            "Epoch 69/120\n",
            "104/104 [==============================] - 231s 2s/step - loss: 0.6929 - accuracy: 0.5112 - recall: 0.0000e+00 - val_loss: 0.6927 - val_accuracy: 0.5161 - val_recall: 0.0000e+00\n",
            "Epoch 70/120\n",
            "104/104 [==============================] - 231s 2s/step - loss: 0.6929 - accuracy: 0.5112 - recall: 0.0000e+00 - val_loss: 0.6927 - val_accuracy: 0.5161 - val_recall: 0.0000e+00\n",
            "Epoch 71/120\n",
            "104/104 [==============================] - 235s 2s/step - loss: 0.6929 - accuracy: 0.5112 - recall: 0.0000e+00 - val_loss: 0.6927 - val_accuracy: 0.5161 - val_recall: 0.0000e+00\n",
            "Epoch 72/120\n",
            "104/104 [==============================] - 232s 2s/step - loss: 0.6929 - accuracy: 0.5112 - recall: 0.0000e+00 - val_loss: 0.6927 - val_accuracy: 0.5161 - val_recall: 0.0000e+00\n",
            "Epoch 73/120\n",
            "104/104 [==============================] - 231s 2s/step - loss: 0.6929 - accuracy: 0.5112 - recall: 0.0000e+00 - val_loss: 0.6927 - val_accuracy: 0.5161 - val_recall: 0.0000e+00\n",
            "Epoch 74/120\n",
            "104/104 [==============================] - 231s 2s/step - loss: 0.6929 - accuracy: 0.5112 - recall: 0.0000e+00 - val_loss: 0.6927 - val_accuracy: 0.5161 - val_recall: 0.0000e+00\n",
            "Epoch 75/120\n",
            "104/104 [==============================] - 232s 2s/step - loss: 0.6929 - accuracy: 0.5112 - recall: 0.0000e+00 - val_loss: 0.6927 - val_accuracy: 0.5161 - val_recall: 0.0000e+00\n",
            "Epoch 76/120\n",
            "104/104 [==============================] - 235s 2s/step - loss: 0.6929 - accuracy: 0.5112 - recall: 0.0000e+00 - val_loss: 0.6927 - val_accuracy: 0.5161 - val_recall: 0.0000e+00\n",
            "Epoch 77/120\n",
            "104/104 [==============================] - 231s 2s/step - loss: 0.6929 - accuracy: 0.5112 - recall: 0.0000e+00 - val_loss: 0.6927 - val_accuracy: 0.5161 - val_recall: 0.0000e+00\n",
            "Epoch 78/120\n",
            "104/104 [==============================] - 231s 2s/step - loss: 0.6929 - accuracy: 0.5112 - recall: 0.0000e+00 - val_loss: 0.6927 - val_accuracy: 0.5161 - val_recall: 0.0000e+00\n",
            "Epoch 79/120\n",
            "104/104 [==============================] - 233s 2s/step - loss: 0.6929 - accuracy: 0.5112 - recall: 0.0000e+00 - val_loss: 0.6927 - val_accuracy: 0.5161 - val_recall: 0.0000e+00\n",
            "Epoch 80/120\n",
            "104/104 [==============================] - 234s 2s/step - loss: 0.6929 - accuracy: 0.5112 - recall: 0.0000e+00 - val_loss: 0.6927 - val_accuracy: 0.5161 - val_recall: 0.0000e+00\n",
            "Epoch 81/120\n",
            "104/104 [==============================] - 231s 2s/step - loss: 0.6929 - accuracy: 0.5112 - recall: 0.0000e+00 - val_loss: 0.6927 - val_accuracy: 0.5161 - val_recall: 0.0000e+00\n",
            "Epoch 82/120\n",
            "104/104 [==============================] - 231s 2s/step - loss: 0.6929 - accuracy: 0.5112 - recall: 0.0000e+00 - val_loss: 0.6927 - val_accuracy: 0.5161 - val_recall: 0.0000e+00\n",
            "Epoch 83/120\n",
            "104/104 [==============================] - 233s 2s/step - loss: 0.6929 - accuracy: 0.5112 - recall: 0.0000e+00 - val_loss: 0.6927 - val_accuracy: 0.5161 - val_recall: 0.0000e+00\n",
            "Epoch 84/120\n",
            "104/104 [==============================] - 235s 2s/step - loss: 0.6929 - accuracy: 0.5112 - recall: 0.0000e+00 - val_loss: 0.6927 - val_accuracy: 0.5161 - val_recall: 0.0000e+00\n",
            "Epoch 85/120\n",
            "104/104 [==============================] - 232s 2s/step - loss: 0.6929 - accuracy: 0.5112 - recall: 0.0000e+00 - val_loss: 0.6927 - val_accuracy: 0.5161 - val_recall: 0.0000e+00\n",
            "Epoch 86/120\n",
            "104/104 [==============================] - 241s 2s/step - loss: 0.6929 - accuracy: 0.5112 - recall: 0.0000e+00 - val_loss: 0.6927 - val_accuracy: 0.5161 - val_recall: 0.0000e+00\n",
            "Epoch 87/120\n",
            "104/104 [==============================] - 234s 2s/step - loss: 0.6929 - accuracy: 0.5112 - recall: 0.0000e+00 - val_loss: 0.6927 - val_accuracy: 0.5161 - val_recall: 0.0000e+00\n",
            "Epoch 88/120\n",
            "104/104 [==============================] - 232s 2s/step - loss: 0.6929 - accuracy: 0.5112 - recall: 0.0000e+00 - val_loss: 0.6927 - val_accuracy: 0.5161 - val_recall: 0.0000e+00\n",
            "Epoch 89/120\n",
            "104/104 [==============================] - 231s 2s/step - loss: 0.6929 - accuracy: 0.5112 - recall: 0.0000e+00 - val_loss: 0.6927 - val_accuracy: 0.5161 - val_recall: 0.0000e+00\n",
            "Epoch 90/120\n",
            "104/104 [==============================] - 231s 2s/step - loss: 0.6929 - accuracy: 0.5112 - recall: 0.0000e+00 - val_loss: 0.6927 - val_accuracy: 0.5161 - val_recall: 0.0000e+00\n",
            "Epoch 91/120\n",
            "104/104 [==============================] - 236s 2s/step - loss: 0.6929 - accuracy: 0.5112 - recall: 0.0000e+00 - val_loss: 0.6927 - val_accuracy: 0.5161 - val_recall: 0.0000e+00\n",
            "Epoch 92/120\n",
            "104/104 [==============================] - 231s 2s/step - loss: 0.6929 - accuracy: 0.5112 - recall: 0.0000e+00 - val_loss: 0.6927 - val_accuracy: 0.5161 - val_recall: 0.0000e+00\n",
            "Epoch 93/120\n",
            "104/104 [==============================] - 231s 2s/step - loss: 0.6929 - accuracy: 0.5112 - recall: 0.0000e+00 - val_loss: 0.6927 - val_accuracy: 0.5161 - val_recall: 0.0000e+00\n",
            "Epoch 94/120\n",
            " 81/104 [======================>.......] - ETA: 49s - loss: 0.6930 - accuracy: 0.5102 - recall: 0.0000e+00"
          ]
        }
      ]
    },
    {
      "cell_type": "code",
      "metadata": {
        "id": "p8PgU7VS6gYL",
        "colab": {
          "base_uri": "https://localhost:8080/",
          "height": 166
        },
        "outputId": "67d322cb-7861-4488-f38b-9000a9d4b6b7"
      },
      "source": [
        "visualize_training_results(cnn3_history)"
      ],
      "execution_count": 8,
      "outputs": [
        {
          "output_type": "error",
          "ename": "NameError",
          "evalue": "ignored",
          "traceback": [
            "\u001b[0;31m---------------------------------------------------------------------------\u001b[0m",
            "\u001b[0;31mNameError\u001b[0m                                 Traceback (most recent call last)",
            "\u001b[0;32m<ipython-input-8-1042fd1f3ddd>\u001b[0m in \u001b[0;36m<module>\u001b[0;34m()\u001b[0m\n\u001b[0;32m----> 1\u001b[0;31m \u001b[0mvisualize_training_results\u001b[0m\u001b[0;34m(\u001b[0m\u001b[0mcnn3_history\u001b[0m\u001b[0;34m)\u001b[0m\u001b[0;34m\u001b[0m\u001b[0;34m\u001b[0m\u001b[0m\n\u001b[0m",
            "\u001b[0;31mNameError\u001b[0m: name 'cnn3_history' is not defined"
          ]
        }
      ]
    },
    {
      "cell_type": "markdown",
      "metadata": {
        "id": "yor1GpofZ7oe"
      },
      "source": [
        "## RNN"
      ]
    },
    {
      "cell_type": "code",
      "metadata": {
        "id": "tkEJltNR6pU3",
        "colab": {
          "base_uri": "https://localhost:8080/",
          "height": 0
        },
        "outputId": "b4172121-422b-42a1-fb5c-1eed84df9655"
      },
      "source": [
        "# set random seed for reproducibility\n",
        "np.random.seed(42)\n",
        "set_seed(42)\n",
        "\n",
        "# build sequentially\n",
        "rnn = keras.Sequential(name='rnn')\n",
        "\n",
        "# convolutional and max pooling layers with successively more filters\n",
        "rnn.add(layers.Conv2D(64, (3, 3), activation='elu', padding='same', input_shape=(128, 1292, 1)))\n",
        "rnn.add(layers.MaxPooling2D((2, 2)))\n",
        "rnn.add(layers.Dropout(0.1))\n",
        "\n",
        "rnn.add(layers.Conv2D(128, (3, 3), activation='elu', padding='same'))\n",
        "rnn.add(layers.MaxPooling2D((4, 2)))\n",
        "rnn.add(layers.Dropout(0.1))\n",
        "\n",
        "rnn.add(layers.Conv2D(128, (3, 3), activation='elu', padding='same'))\n",
        "rnn.add(layers.MaxPooling2D((4, 2)))\n",
        "rnn.add(layers.Dropout(0.1))\n",
        "\n",
        "rnn.add(layers.Conv2D(128, (3, 3), activation='elu', padding='same'))\n",
        "rnn.add(layers.MaxPool2D((4, 2)))\n",
        "rnn.add(layers.Dropout(0.1))\n",
        "\n",
        "rnn.add(layers.Reshape((80,128)))\n",
        "rnn.add(layers.GRU(units=32, dropout=0.3, return_sequences=True))\n",
        "rnn.add(layers.GRU(units=32, dropout=0.3))\n",
        "\n",
        "# output layer\n",
        "rnn.add(layers.Dense(1, activation='sigmoid'))\n",
        "\n",
        "# compile cnn\n",
        "rnn.compile(loss='binary_crossentropy',\n",
        "            optimizer=\"adam\", \n",
        "            metrics=['accuracy', 'Recall'])\n",
        "\n",
        "# take a look at model architecture\n",
        "rnn.summary()"
      ],
      "execution_count": 23,
      "outputs": [
        {
          "output_type": "stream",
          "name": "stdout",
          "text": [
            "Model: \"rnn\"\n",
            "_________________________________________________________________\n",
            " Layer (type)                Output Shape              Param #   \n",
            "=================================================================\n",
            " conv2d_44 (Conv2D)          (None, 128, 1292, 64)     640       \n",
            "                                                                 \n",
            " max_pooling2d_44 (MaxPoolin  (None, 64, 646, 64)      0         \n",
            " g2D)                                                            \n",
            "                                                                 \n",
            " dropout_43 (Dropout)        (None, 64, 646, 64)       0         \n",
            "                                                                 \n",
            " conv2d_45 (Conv2D)          (None, 64, 646, 128)      73856     \n",
            "                                                                 \n",
            " max_pooling2d_45 (MaxPoolin  (None, 16, 323, 128)     0         \n",
            " g2D)                                                            \n",
            "                                                                 \n",
            " dropout_44 (Dropout)        (None, 16, 323, 128)      0         \n",
            "                                                                 \n",
            " conv2d_46 (Conv2D)          (None, 16, 323, 128)      147584    \n",
            "                                                                 \n",
            " max_pooling2d_46 (MaxPoolin  (None, 4, 161, 128)      0         \n",
            " g2D)                                                            \n",
            "                                                                 \n",
            " dropout_45 (Dropout)        (None, 4, 161, 128)       0         \n",
            "                                                                 \n",
            " conv2d_47 (Conv2D)          (None, 4, 161, 128)       147584    \n",
            "                                                                 \n",
            " max_pooling2d_47 (MaxPoolin  (None, 1, 80, 128)       0         \n",
            " g2D)                                                            \n",
            "                                                                 \n",
            " dropout_46 (Dropout)        (None, 1, 80, 128)        0         \n",
            "                                                                 \n",
            " reshape (Reshape)           (None, 80, 128)           0         \n",
            "                                                                 \n",
            " gru_13 (GRU)                (None, 80, 32)            15552     \n",
            "                                                                 \n",
            " gru_14 (GRU)                (None, 32)                6336      \n",
            "                                                                 \n",
            " dense_3 (Dense)             (None, 1)                 33        \n",
            "                                                                 \n",
            "=================================================================\n",
            "Total params: 391,585\n",
            "Trainable params: 391,585\n",
            "Non-trainable params: 0\n",
            "_________________________________________________________________\n"
          ]
        }
      ]
    },
    {
      "cell_type": "code",
      "metadata": {
        "colab": {
          "base_uri": "https://localhost:8080/",
          "height": 0
        },
        "id": "tFwQrL5_eRTI",
        "outputId": "dd17b4cb-dacb-4b08-ad74-8fd5d0e57f19"
      },
      "source": [
        "rnn_history = rnn.fit(X_train, y_train, epochs=100, batch_size=100,\n",
        "                  validation_data=(X_test, y_test))"
      ],
      "execution_count": null,
      "outputs": [
        {
          "output_type": "stream",
          "name": "stdout",
          "text": [
            "Epoch 1/100\n",
            "104/104 [==============================] - 1023s 10s/step - loss: 0.6970 - accuracy: 0.5051 - recall: 0.3734 - val_loss: 0.6913 - val_accuracy: 0.5223 - val_recall: 0.2223\n",
            "Epoch 2/100\n",
            "104/104 [==============================] - 991s 10s/step - loss: 0.6932 - accuracy: 0.5156 - recall: 0.3278 - val_loss: 0.6940 - val_accuracy: 0.5161 - val_recall: 0.0000e+00\n",
            "Epoch 3/100\n",
            "104/104 [==============================] - 997s 10s/step - loss: 0.6932 - accuracy: 0.5153 - recall: 0.3233 - val_loss: 0.6908 - val_accuracy: 0.5161 - val_recall: 0.0000e+00\n",
            "Epoch 4/100\n",
            "104/104 [==============================] - 998s 10s/step - loss: 0.6906 - accuracy: 0.5260 - recall: 0.4703 - val_loss: 0.6883 - val_accuracy: 0.5289 - val_recall: 0.5945\n",
            "Epoch 5/100\n",
            "104/104 [==============================] - 1022s 10s/step - loss: 0.6881 - accuracy: 0.5328 - recall: 0.4604 - val_loss: 0.6876 - val_accuracy: 0.5317 - val_recall: 0.0792\n",
            "Epoch 6/100\n",
            "104/104 [==============================] - 983s 9s/step - loss: 0.6874 - accuracy: 0.5369 - recall: 0.4985 - val_loss: 0.6875 - val_accuracy: 0.5441 - val_recall: 0.5077\n",
            "Epoch 7/100\n",
            "104/104 [==============================] - 1045s 10s/step - loss: 0.6868 - accuracy: 0.5429 - recall: 0.5147 - val_loss: 0.6863 - val_accuracy: 0.5276 - val_recall: 0.0980\n",
            "Epoch 8/100\n",
            "104/104 [==============================] - 1135s 11s/step - loss: 0.6896 - accuracy: 0.5329 - recall: 0.4561 - val_loss: 0.6909 - val_accuracy: 0.5293 - val_recall: 0.0605\n",
            "Epoch 9/100\n",
            "104/104 [==============================] - 1031s 10s/step - loss: 0.6870 - accuracy: 0.5451 - recall: 0.5216 - val_loss: 0.6830 - val_accuracy: 0.5540 - val_recall: 0.5826\n",
            "Epoch 10/100\n",
            "104/104 [==============================] - 1120s 11s/step - loss: 0.6857 - accuracy: 0.5511 - recall: 0.5634 - val_loss: 0.6826 - val_accuracy: 0.5556 - val_recall: 0.6678\n",
            "Epoch 11/100\n",
            "104/104 [==============================] - 1052s 10s/step - loss: 0.6865 - accuracy: 0.5436 - recall: 0.5370 - val_loss: 0.6810 - val_accuracy: 0.5676 - val_recall: 0.4940\n",
            "Epoch 12/100\n",
            "104/104 [==============================] - 1025s 10s/step - loss: 0.6835 - accuracy: 0.5565 - recall: 0.5471 - val_loss: 0.6790 - val_accuracy: 0.5750 - val_recall: 0.4182\n",
            "Epoch 13/100\n",
            "104/104 [==============================] - 1010s 10s/step - loss: 0.6837 - accuracy: 0.5563 - recall: 0.5350 - val_loss: 0.6851 - val_accuracy: 0.5478 - val_recall: 0.7913\n",
            "Epoch 14/100\n",
            "104/104 [==============================] - 1082s 10s/step - loss: 0.6816 - accuracy: 0.5640 - recall: 0.5475 - val_loss: 0.6784 - val_accuracy: 0.5709 - val_recall: 0.7061\n",
            "Epoch 15/100\n",
            "104/104 [==============================] - 1018s 10s/step - loss: 0.6807 - accuracy: 0.5679 - recall: 0.5550 - val_loss: 0.6771 - val_accuracy: 0.5697 - val_recall: 0.5247\n",
            "Epoch 16/100\n",
            "104/104 [==============================] - 1055s 10s/step - loss: 0.6793 - accuracy: 0.5719 - recall: 0.5479 - val_loss: 0.6834 - val_accuracy: 0.5668 - val_recall: 0.7189\n",
            "Epoch 17/100\n",
            "104/104 [==============================] - 1053s 10s/step - loss: 0.6801 - accuracy: 0.5682 - recall: 0.5755 - val_loss: 0.6785 - val_accuracy: 0.5783 - val_recall: 0.5579\n",
            "Epoch 18/100\n",
            "104/104 [==============================] - 1079s 10s/step - loss: 0.6793 - accuracy: 0.5716 - recall: 0.5473 - val_loss: 0.6931 - val_accuracy: 0.5602 - val_recall: 0.2734\n",
            "Epoch 19/100\n",
            "104/104 [==============================] - 1016s 10s/step - loss: 0.6811 - accuracy: 0.5654 - recall: 0.5664 - val_loss: 0.6843 - val_accuracy: 0.5441 - val_recall: 0.2044\n",
            "Epoch 20/100\n",
            "104/104 [==============================] - 1121s 11s/step - loss: 0.6759 - accuracy: 0.5754 - recall: 0.5668 - val_loss: 0.6764 - val_accuracy: 0.5779 - val_recall: 0.5630\n",
            "Epoch 21/100\n",
            "104/104 [==============================] - 1037s 10s/step - loss: 0.6741 - accuracy: 0.5849 - recall: 0.5790 - val_loss: 0.6796 - val_accuracy: 0.5688 - val_recall: 0.6116\n",
            "Epoch 22/100\n",
            "104/104 [==============================] - 1086s 10s/step - loss: 0.6706 - accuracy: 0.5895 - recall: 0.5919 - val_loss: 0.6898 - val_accuracy: 0.5581 - val_recall: 0.3330\n",
            "Epoch 23/100\n",
            "104/104 [==============================] - 1057s 10s/step - loss: 0.6727 - accuracy: 0.5821 - recall: 0.5759 - val_loss: 0.6797 - val_accuracy: 0.5767 - val_recall: 0.4889\n",
            "Epoch 24/100\n",
            "104/104 [==============================] - 1059s 10s/step - loss: 0.6705 - accuracy: 0.5877 - recall: 0.5875 - val_loss: 0.6753 - val_accuracy: 0.5717 - val_recall: 0.5886\n",
            "Epoch 25/100\n",
            "104/104 [==============================] - 1030s 10s/step - loss: 0.6667 - accuracy: 0.5915 - recall: 0.5982 - val_loss: 0.6816 - val_accuracy: 0.5660 - val_recall: 0.7845\n",
            "Epoch 26/100\n",
            "104/104 [==============================] - 1195s 12s/step - loss: 0.6664 - accuracy: 0.5997 - recall: 0.6082 - val_loss: 0.6820 - val_accuracy: 0.5730 - val_recall: 0.7879\n",
            "Epoch 27/100\n",
            "104/104 [==============================] - 1148s 11s/step - loss: 0.6701 - accuracy: 0.5872 - recall: 0.5970 - val_loss: 0.6792 - val_accuracy: 0.5775 - val_recall: 0.7078\n",
            "Epoch 28/100\n",
            "104/104 [==============================] - 1251s 12s/step - loss: 0.6669 - accuracy: 0.5958 - recall: 0.6006 - val_loss: 0.6959 - val_accuracy: 0.5350 - val_recall: 0.9421\n",
            "Epoch 29/100\n",
            "104/104 [==============================] - 1114s 11s/step - loss: 0.6650 - accuracy: 0.5948 - recall: 0.6084 - val_loss: 0.6758 - val_accuracy: 0.5787 - val_recall: 0.5750\n",
            "Epoch 30/100\n",
            "104/104 [==============================] - 1033s 10s/step - loss: 0.6666 - accuracy: 0.6011 - recall: 0.5899 - val_loss: 0.6716 - val_accuracy: 0.5837 - val_recall: 0.6618\n",
            "Epoch 31/100\n",
            "104/104 [==============================] - 1078s 10s/step - loss: 0.6602 - accuracy: 0.6050 - recall: 0.6307 - val_loss: 0.6779 - val_accuracy: 0.5697 - val_recall: 0.5009\n",
            "Epoch 32/100\n",
            "104/104 [==============================] - 1062s 10s/step - loss: 0.6619 - accuracy: 0.6057 - recall: 0.6124 - val_loss: 0.6719 - val_accuracy: 0.5890 - val_recall: 0.5784\n",
            "Epoch 33/100\n",
            "104/104 [==============================] - 1059s 10s/step - loss: 0.6571 - accuracy: 0.6117 - recall: 0.6183 - val_loss: 0.6811 - val_accuracy: 0.5763 - val_recall: 0.4344\n",
            "Epoch 34/100\n",
            "104/104 [==============================] - 1002s 10s/step - loss: 0.6589 - accuracy: 0.6089 - recall: 0.6211 - val_loss: 0.6722 - val_accuracy: 0.5738 - val_recall: 0.5562\n",
            "Epoch 35/100\n",
            "104/104 [==============================] - 1040s 10s/step - loss: 0.6534 - accuracy: 0.6156 - recall: 0.6207 - val_loss: 0.6944 - val_accuracy: 0.5635 - val_recall: 0.8262\n",
            "Epoch 36/100\n",
            "104/104 [==============================] - 1042s 10s/step - loss: 0.6548 - accuracy: 0.6144 - recall: 0.6319 - val_loss: 0.6759 - val_accuracy: 0.5816 - val_recall: 0.5111\n",
            "Epoch 37/100\n",
            " 67/104 [==================>...........] - ETA: 5:59 - loss: 0.6467 - accuracy: 0.6282 - recall: 0.6118"
          ]
        }
      ]
    },
    {
      "cell_type": "code",
      "metadata": {
        "colab": {
          "base_uri": "https://localhost:8080/",
          "height": 166
        },
        "id": "5as9F8IjjEX1",
        "outputId": "f628178b-e995-4c17-fc3b-0df1b8fea42f"
      },
      "source": [
        " visualize_training_results(rnn_history)"
      ],
      "execution_count": 1,
      "outputs": [
        {
          "output_type": "error",
          "ename": "NameError",
          "evalue": "ignored",
          "traceback": [
            "\u001b[0;31m---------------------------------------------------------------------------\u001b[0m",
            "\u001b[0;31mNameError\u001b[0m                                 Traceback (most recent call last)",
            "\u001b[0;32m<ipython-input-1-f1a5f6b2da43>\u001b[0m in \u001b[0;36m<module>\u001b[0;34m()\u001b[0m\n\u001b[0;32m----> 1\u001b[0;31m \u001b[0mvisualize_training_results\u001b[0m\u001b[0;34m(\u001b[0m\u001b[0mrnn_history\u001b[0m\u001b[0;34m)\u001b[0m\u001b[0;34m\u001b[0m\u001b[0;34m\u001b[0m\u001b[0m\n\u001b[0m",
            "\u001b[0;31mNameError\u001b[0m: name 'visualize_training_results' is not defined"
          ]
        }
      ]
    },
    {
      "cell_type": "code",
      "metadata": {
        "id": "8Zeo-n7GYF8H"
      },
      "source": [
        ""
      ],
      "execution_count": null,
      "outputs": []
    }
  ]
}