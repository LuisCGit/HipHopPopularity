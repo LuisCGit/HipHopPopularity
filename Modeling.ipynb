{
 "cells": [
  {
   "cell_type": "markdown",
   "metadata": {},
   "source": [
    "# Modeling"
   ]
  },
  {
   "cell_type": "code",
   "execution_count": null,
   "metadata": {},
   "outputs": [],
   "source": []
  },
  {
   "cell_type": "code",
   "execution_count": null,
   "metadata": {},
   "outputs": [],
   "source": []
  },
  {
   "cell_type": "code",
   "execution_count": null,
   "metadata": {},
   "outputs": [],
   "source": [
    "with open('mel_spec_sc.pkl', 'rb') as up:\n",
    "    mel_spec_sc = pickle.load(up)"
   ]
  },
  {
   "cell_type": "code",
   "execution_count": null,
   "metadata": {},
   "outputs": [],
   "source": []
  },
  {
   "cell_type": "markdown",
   "metadata": {},
   "source": [
    "### First Model - Multilayer Perceptron"
   ]
  },
  {
   "cell_type": "code",
   "execution_count": null,
   "metadata": {},
   "outputs": [],
   "source": [
    "# set random seed for reproducibility\n",
    "np.random.seed(42)\n",
    "set_seed(42)\n",
    "\n",
    "# build sequentially\n",
    "mlp = keras.Sequential(name='mlp')\n",
    "\n",
    "# flatten input 3D tensor to 1D\n",
    "mlp.add(layers.Flatten(input_shape=input_shape))\n",
    "\n",
    "# two hidden layers\n",
    "mlp.add(layers.Dense(128, activation='relu'))\n",
    "mlp.add(layers.Dense(64, activation='relu'))\n",
    "\n",
    "# output layer\n",
    "mlp.add(layers.Dense(10, activation='softmax'))\n",
    "\n",
    "# compile cnn\n",
    "mlp.compile(loss='categorical_crossentropy',\n",
    "            optimizer=\"adam\",\n",
    "            metrics=['accuracy'])\n",
    "\n",
    "# take a look at model architecture\n",
    "mlp.summary()"
   ]
  },
  {
   "cell_type": "code",
   "execution_count": null,
   "metadata": {},
   "outputs": [],
   "source": [
    "# fit the model\n",
    "history = mlp.fit(mel_spec_datadict['X_train'],\n",
    "                  y_train,\n",
    "                  epochs=60,\n",
    "                  batch_size=30,\n",
    "                  validation_data=(mel_spec_datadict['X_test'], y_test))"
   ]
  },
  {
   "cell_type": "code",
   "execution_count": null,
   "metadata": {},
   "outputs": [],
   "source": [
    "### First Model - Multilayer Perceptron\n",
    "\n",
    "We'll start off with a multilayer perceptron.\n",
    "\n",
    "# set random seed for reproducibility\n",
    "np.random.seed(42)\n",
    "set_seed(42)\n",
    "\n",
    "# build sequentially\n",
    "mlp = keras.Sequential(name='mlp')\n",
    "\n",
    "# flatten input 3D tensor to 1D\n",
    "mlp.add(layers.Flatten(input_shape=input_shape))\n",
    "\n",
    "# two hidden layers\n",
    "mlp.add(layers.Dense(128, activation='relu'))\n",
    "mlp.add(layers.Dense(64, activation='relu'))\n",
    "\n",
    "# output layer\n",
    "mlp.add(layers.Dense(10, activation='softmax'))\n",
    "\n",
    "# compile cnn\n",
    "mlp.compile(loss='categorical_crossentropy',\n",
    "            optimizer=\"adam\",\n",
    "            metrics=['accuracy'])\n",
    "\n",
    "# take a look at model architecture\n",
    "mlp.summary()\n",
    "\n",
    "# fit the model\n",
    "history = mlp.fit(X_train_mel_scaled,\n",
    "                  y_train,\n",
    "                  epochs=60,\n",
    "                  batch_size=30,\n",
    "                  validation_data=(X_test_mel_scaled, y_test))"
   ]
  },
  {
   "cell_type": "code",
   "execution_count": null,
   "metadata": {},
   "outputs": [],
   "source": []
  }
 ],
 "metadata": {
  "kernelspec": {
   "display_name": "Python (learn-env)",
   "language": "python",
   "name": "learn-env"
  },
  "language_info": {
   "codemirror_mode": {
    "name": "ipython",
    "version": 3
   },
   "file_extension": ".py",
   "mimetype": "text/x-python",
   "name": "python",
   "nbconvert_exporter": "python",
   "pygments_lexer": "ipython3",
   "version": "3.8.5"
  },
  "varInspector": {
   "cols": {
    "lenName": 16,
    "lenType": 16,
    "lenVar": 40
   },
   "kernels_config": {
    "python": {
     "delete_cmd_postfix": "",
     "delete_cmd_prefix": "del ",
     "library": "var_list.py",
     "varRefreshCmd": "print(var_dic_list())"
    },
    "r": {
     "delete_cmd_postfix": ") ",
     "delete_cmd_prefix": "rm(",
     "library": "var_list.r",
     "varRefreshCmd": "cat(var_dic_list()) "
    }
   },
   "types_to_exclude": [
    "module",
    "function",
    "builtin_function_or_method",
    "instance",
    "_Feature"
   ],
   "window_display": false
  }
 },
 "nbformat": 4,
 "nbformat_minor": 4
}
