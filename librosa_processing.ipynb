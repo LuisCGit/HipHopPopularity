{
 "cells": [
  {
   "cell_type": "code",
   "execution_count": 1,
   "metadata": {
    "ExecuteTime": {
     "end_time": "2021-11-29T05:16:31.840631Z",
     "start_time": "2021-11-29T05:16:31.180864Z"
    }
   },
   "outputs": [],
   "source": [
    "import numpy as np\n",
    "import pandas as pd\n",
    "pd.set_option('display.max_columns', None)\n",
    "from ast import literal_eval\n",
    "\n",
    "from sklearn.model_selection import train_test_split\n",
    "\n",
    "import IPython.display as ipd\n",
    "\n",
    "import requests\n",
    "import os\n",
    "from varname import argname\n",
    "from pydub import AudioSegment\n",
    "import librosa"
   ]
  },
  {
   "cell_type": "code",
   "execution_count": 2,
   "metadata": {
    "ExecuteTime": {
     "end_time": "2021-11-29T05:16:31.900455Z",
     "start_time": "2021-11-29T05:16:31.841723Z"
    }
   },
   "outputs": [],
   "source": [
    "mp3s = pd.read_csv('data/collection_1_mp3s.csv', index_col=0)"
   ]
  },
  {
   "cell_type": "code",
   "execution_count": 3,
   "metadata": {
    "ExecuteTime": {
     "end_time": "2021-11-29T05:16:32.030582Z",
     "start_time": "2021-11-29T05:16:31.901985Z"
    }
   },
   "outputs": [],
   "source": [
    "mp3s['artists'] = mp3s['artists'].map(lambda x: literal_eval(x))"
   ]
  },
  {
   "cell_type": "code",
   "execution_count": 4,
   "metadata": {
    "ExecuteTime": {
     "end_time": "2021-11-29T05:16:32.046647Z",
     "start_time": "2021-11-29T05:16:32.031786Z"
    }
   },
   "outputs": [
    {
     "data": {
      "text/html": [
       "<div>\n",
       "<style scoped>\n",
       "    .dataframe tbody tr th:only-of-type {\n",
       "        vertical-align: middle;\n",
       "    }\n",
       "\n",
       "    .dataframe tbody tr th {\n",
       "        vertical-align: top;\n",
       "    }\n",
       "\n",
       "    .dataframe thead th {\n",
       "        text-align: right;\n",
       "    }\n",
       "</style>\n",
       "<table border=\"1\" class=\"dataframe\">\n",
       "  <thead>\n",
       "    <tr style=\"text-align: right;\">\n",
       "      <th></th>\n",
       "      <th>id</th>\n",
       "      <th>popularity</th>\n",
       "      <th>track</th>\n",
       "      <th>artists</th>\n",
       "      <th>album_name</th>\n",
       "      <th>album_type</th>\n",
       "      <th>release_date</th>\n",
       "      <th>image</th>\n",
       "      <th>duration_ms</th>\n",
       "      <th>preview_url</th>\n",
       "    </tr>\n",
       "  </thead>\n",
       "  <tbody>\n",
       "    <tr>\n",
       "      <th>0</th>\n",
       "      <td>6dJduZ358xg519NKuDy3gK</td>\n",
       "      <td>29</td>\n",
       "      <td>Zadnji Let</td>\n",
       "      <td>[Zembo Latifa]</td>\n",
       "      <td>Venera</td>\n",
       "      <td>album</td>\n",
       "      <td>2020-09-25</td>\n",
       "      <td>https://i.scdn.co/image/ab67616d0000b273c0a12f...</td>\n",
       "      <td>270004</td>\n",
       "      <td>https://p.scdn.co/mp3-preview/20848b32d61466f8...</td>\n",
       "    </tr>\n",
       "    <tr>\n",
       "      <th>1</th>\n",
       "      <td>06AEBHCeGb3qP9xNmOBrlW</td>\n",
       "      <td>11</td>\n",
       "      <td>Profit (feat. Zonaman &amp; Nickaveli)</td>\n",
       "      <td>[Young Scooter, Nickaveli, Zonaman]</td>\n",
       "      <td>Trap Hero</td>\n",
       "      <td>album</td>\n",
       "      <td>2019-11-08</td>\n",
       "      <td>https://i.scdn.co/image/ab67616d0000b273d3d750...</td>\n",
       "      <td>179409</td>\n",
       "      <td>https://p.scdn.co/mp3-preview/754bb0159255160b...</td>\n",
       "    </tr>\n",
       "    <tr>\n",
       "      <th>3</th>\n",
       "      <td>63jjIpEDcCwEtjYI4icdIn</td>\n",
       "      <td>20</td>\n",
       "      <td>Zer0style</td>\n",
       "      <td>[Rocks FOE]</td>\n",
       "      <td>Zer0style</td>\n",
       "      <td>single</td>\n",
       "      <td>2021-06-18</td>\n",
       "      <td>https://i.scdn.co/image/ab67616d0000b2730b12b4...</td>\n",
       "      <td>201935</td>\n",
       "      <td>https://p.scdn.co/mp3-preview/caf6d678e1ab75cb...</td>\n",
       "    </tr>\n",
       "    <tr>\n",
       "      <th>4</th>\n",
       "      <td>0IvHcHx02BpoNIn9E9dK6G</td>\n",
       "      <td>17</td>\n",
       "      <td>Zeitmaschine</td>\n",
       "      <td>[Deetox Vengeance]</td>\n",
       "      <td>Zeitmaschine</td>\n",
       "      <td>single</td>\n",
       "      <td>2020-09-25</td>\n",
       "      <td>https://i.scdn.co/image/ab67616d0000b273ba1176...</td>\n",
       "      <td>154350</td>\n",
       "      <td>https://p.scdn.co/mp3-preview/7cb5fd662d3e221b...</td>\n",
       "    </tr>\n",
       "    <tr>\n",
       "      <th>5</th>\n",
       "      <td>0rqudLpo4qtTvLykYXCZXl</td>\n",
       "      <td>37</td>\n",
       "      <td>Nie wiem czy to świat zwariował</td>\n",
       "      <td>[Polska Wersja]</td>\n",
       "      <td>Powrót do przeszłości reedycja 2019</td>\n",
       "      <td>album</td>\n",
       "      <td>2019-12-06</td>\n",
       "      <td>https://i.scdn.co/image/ab67616d0000b273861eb6...</td>\n",
       "      <td>260826</td>\n",
       "      <td>https://p.scdn.co/mp3-preview/8e5eb4353bb69521...</td>\n",
       "    </tr>\n",
       "    <tr>\n",
       "      <th>...</th>\n",
       "      <td>...</td>\n",
       "      <td>...</td>\n",
       "      <td>...</td>\n",
       "      <td>...</td>\n",
       "      <td>...</td>\n",
       "      <td>...</td>\n",
       "      <td>...</td>\n",
       "      <td>...</td>\n",
       "      <td>...</td>\n",
       "      <td>...</td>\n",
       "    </tr>\n",
       "    <tr>\n",
       "      <th>21489</th>\n",
       "      <td>5ti4BRYkzUwkU5Y9Vx7GBQ</td>\n",
       "      <td>0</td>\n",
       "      <td>Aquí Ya Se Prendió</td>\n",
       "      <td>[Los Inquietos Del Norte]</td>\n",
       "      <td>Otro Tequila Mas</td>\n",
       "      <td>album</td>\n",
       "      <td>2021-11-24</td>\n",
       "      <td>https://i.scdn.co/image/ab67616d0000b273180958...</td>\n",
       "      <td>162348</td>\n",
       "      <td>https://p.scdn.co/mp3-preview/d0c1b6b63015aa59...</td>\n",
       "    </tr>\n",
       "    <tr>\n",
       "      <th>21496</th>\n",
       "      <td>4r0p0IhfK7TEHFP6v89Vwt</td>\n",
       "      <td>0</td>\n",
       "      <td>Let's Kick His Ass!</td>\n",
       "      <td>[Father, Zack Fox, Archibald Slim]</td>\n",
       "      <td>Let's Kick His Ass!</td>\n",
       "      <td>single</td>\n",
       "      <td>2021-11-24</td>\n",
       "      <td>https://i.scdn.co/image/ab67616d0000b27386d116...</td>\n",
       "      <td>229500</td>\n",
       "      <td>https://p.scdn.co/mp3-preview/3b6d31b4afdc6e66...</td>\n",
       "    </tr>\n",
       "    <tr>\n",
       "      <th>21497</th>\n",
       "      <td>3c8tkz9E6HbGMm4dwCi7An</td>\n",
       "      <td>4</td>\n",
       "      <td>Étoile 67</td>\n",
       "      <td>[Striky, T.K]</td>\n",
       "      <td>Gravité</td>\n",
       "      <td>album</td>\n",
       "      <td>2021-07-23</td>\n",
       "      <td>https://i.scdn.co/image/ab67616d0000b273b7535e...</td>\n",
       "      <td>221538</td>\n",
       "      <td>https://p.scdn.co/mp3-preview/45f580ce158b3f1c...</td>\n",
       "    </tr>\n",
       "    <tr>\n",
       "      <th>21890</th>\n",
       "      <td>1IUhNvwC67VRb2j6Hcpeyf</td>\n",
       "      <td>13</td>\n",
       "      <td>Queen Bee</td>\n",
       "      <td>[VannDa]</td>\n",
       "      <td>Queen Bee</td>\n",
       "      <td>single</td>\n",
       "      <td>2021-04-10</td>\n",
       "      <td>https://i.scdn.co/image/ab67616d0000b273996b98...</td>\n",
       "      <td>269264</td>\n",
       "      <td>https://p.scdn.co/mp3-preview/31d6963fa6fcb1b4...</td>\n",
       "    </tr>\n",
       "    <tr>\n",
       "      <th>22675</th>\n",
       "      <td>3FLTbV0TQDcMigNguYkDa5</td>\n",
       "      <td>13</td>\n",
       "      <td>Studio 54</td>\n",
       "      <td>[FELIX!]</td>\n",
       "      <td>Infrared</td>\n",
       "      <td>single</td>\n",
       "      <td>2019-10-22</td>\n",
       "      <td>https://i.scdn.co/image/ab67616d0000b273c3b4ed...</td>\n",
       "      <td>96000</td>\n",
       "      <td>https://p.scdn.co/mp3-preview/124402c450e8b88c...</td>\n",
       "    </tr>\n",
       "  </tbody>\n",
       "</table>\n",
       "<p>16194 rows × 10 columns</p>\n",
       "</div>"
      ],
      "text/plain": [
       "                           id  popularity                               track  \\\n",
       "0      6dJduZ358xg519NKuDy3gK          29                          Zadnji Let   \n",
       "1      06AEBHCeGb3qP9xNmOBrlW          11  Profit (feat. Zonaman & Nickaveli)   \n",
       "3      63jjIpEDcCwEtjYI4icdIn          20                           Zer0style   \n",
       "4      0IvHcHx02BpoNIn9E9dK6G          17                        Zeitmaschine   \n",
       "5      0rqudLpo4qtTvLykYXCZXl          37     Nie wiem czy to świat zwariował   \n",
       "...                       ...         ...                                 ...   \n",
       "21489  5ti4BRYkzUwkU5Y9Vx7GBQ           0                  Aquí Ya Se Prendió   \n",
       "21496  4r0p0IhfK7TEHFP6v89Vwt           0                 Let's Kick His Ass!   \n",
       "21497  3c8tkz9E6HbGMm4dwCi7An           4                           Étoile 67   \n",
       "21890  1IUhNvwC67VRb2j6Hcpeyf          13                           Queen Bee   \n",
       "22675  3FLTbV0TQDcMigNguYkDa5          13                           Studio 54   \n",
       "\n",
       "                                   artists  \\\n",
       "0                           [Zembo Latifa]   \n",
       "1      [Young Scooter, Nickaveli, Zonaman]   \n",
       "3                              [Rocks FOE]   \n",
       "4                       [Deetox Vengeance]   \n",
       "5                          [Polska Wersja]   \n",
       "...                                    ...   \n",
       "21489            [Los Inquietos Del Norte]   \n",
       "21496   [Father, Zack Fox, Archibald Slim]   \n",
       "21497                        [Striky, T.K]   \n",
       "21890                             [VannDa]   \n",
       "22675                             [FELIX!]   \n",
       "\n",
       "                                album_name album_type release_date  \\\n",
       "0                                   Venera      album   2020-09-25   \n",
       "1                                Trap Hero      album   2019-11-08   \n",
       "3                                Zer0style     single   2021-06-18   \n",
       "4                             Zeitmaschine     single   2020-09-25   \n",
       "5      Powrót do przeszłości reedycja 2019      album   2019-12-06   \n",
       "...                                    ...        ...          ...   \n",
       "21489                     Otro Tequila Mas      album   2021-11-24   \n",
       "21496                  Let's Kick His Ass!     single   2021-11-24   \n",
       "21497                              Gravité      album   2021-07-23   \n",
       "21890                            Queen Bee     single   2021-04-10   \n",
       "22675                             Infrared     single   2019-10-22   \n",
       "\n",
       "                                                   image  duration_ms  \\\n",
       "0      https://i.scdn.co/image/ab67616d0000b273c0a12f...       270004   \n",
       "1      https://i.scdn.co/image/ab67616d0000b273d3d750...       179409   \n",
       "3      https://i.scdn.co/image/ab67616d0000b2730b12b4...       201935   \n",
       "4      https://i.scdn.co/image/ab67616d0000b273ba1176...       154350   \n",
       "5      https://i.scdn.co/image/ab67616d0000b273861eb6...       260826   \n",
       "...                                                  ...          ...   \n",
       "21489  https://i.scdn.co/image/ab67616d0000b273180958...       162348   \n",
       "21496  https://i.scdn.co/image/ab67616d0000b27386d116...       229500   \n",
       "21497  https://i.scdn.co/image/ab67616d0000b273b7535e...       221538   \n",
       "21890  https://i.scdn.co/image/ab67616d0000b273996b98...       269264   \n",
       "22675  https://i.scdn.co/image/ab67616d0000b273c3b4ed...        96000   \n",
       "\n",
       "                                             preview_url  \n",
       "0      https://p.scdn.co/mp3-preview/20848b32d61466f8...  \n",
       "1      https://p.scdn.co/mp3-preview/754bb0159255160b...  \n",
       "3      https://p.scdn.co/mp3-preview/caf6d678e1ab75cb...  \n",
       "4      https://p.scdn.co/mp3-preview/7cb5fd662d3e221b...  \n",
       "5      https://p.scdn.co/mp3-preview/8e5eb4353bb69521...  \n",
       "...                                                  ...  \n",
       "21489  https://p.scdn.co/mp3-preview/d0c1b6b63015aa59...  \n",
       "21496  https://p.scdn.co/mp3-preview/3b6d31b4afdc6e66...  \n",
       "21497  https://p.scdn.co/mp3-preview/45f580ce158b3f1c...  \n",
       "21890  https://p.scdn.co/mp3-preview/31d6963fa6fcb1b4...  \n",
       "22675  https://p.scdn.co/mp3-preview/124402c450e8b88c...  \n",
       "\n",
       "[16194 rows x 10 columns]"
      ]
     },
     "execution_count": 4,
     "metadata": {},
     "output_type": "execute_result"
    }
   ],
   "source": [
    "mp3s"
   ]
  },
  {
   "cell_type": "code",
   "execution_count": 5,
   "metadata": {
    "ExecuteTime": {
     "end_time": "2021-11-29T05:16:32.056084Z",
     "start_time": "2021-11-29T05:16:32.047613Z"
    }
   },
   "outputs": [
    {
     "data": {
      "text/html": [
       "<div>\n",
       "<style scoped>\n",
       "    .dataframe tbody tr th:only-of-type {\n",
       "        vertical-align: middle;\n",
       "    }\n",
       "\n",
       "    .dataframe tbody tr th {\n",
       "        vertical-align: top;\n",
       "    }\n",
       "\n",
       "    .dataframe thead th {\n",
       "        text-align: right;\n",
       "    }\n",
       "</style>\n",
       "<table border=\"1\" class=\"dataframe\">\n",
       "  <thead>\n",
       "    <tr style=\"text-align: right;\">\n",
       "      <th></th>\n",
       "      <th>id</th>\n",
       "      <th>popularity</th>\n",
       "      <th>track</th>\n",
       "      <th>artists</th>\n",
       "      <th>album_name</th>\n",
       "      <th>album_type</th>\n",
       "      <th>release_date</th>\n",
       "      <th>image</th>\n",
       "      <th>duration_ms</th>\n",
       "      <th>preview_url</th>\n",
       "    </tr>\n",
       "  </thead>\n",
       "  <tbody>\n",
       "    <tr>\n",
       "      <th>1428</th>\n",
       "      <td>14c8arYQPMtxPcF4L4FYXC</td>\n",
       "      <td>46</td>\n",
       "      <td>3 Headed Goat (feat. Lil Baby &amp; Polo G)</td>\n",
       "      <td>[Lil Durk, Lil Baby, Polo G]</td>\n",
       "      <td>Just Cause Y'all Waited 2 (Deluxe)</td>\n",
       "      <td>album</td>\n",
       "      <td>2020-06-26</td>\n",
       "      <td>https://i.scdn.co/image/ab67616d0000b273fec5f2...</td>\n",
       "      <td>169531</td>\n",
       "      <td>https://p.scdn.co/mp3-preview/c9e5678e476335fb...</td>\n",
       "    </tr>\n",
       "    <tr>\n",
       "      <th>4297</th>\n",
       "      <td>5BSUxDJ8HcOWZD2KfExs7b</td>\n",
       "      <td>40</td>\n",
       "      <td>3 Headed Goat (feat. Lil Baby &amp; Polo G)</td>\n",
       "      <td>[Lil Durk, Lil Baby, Polo G]</td>\n",
       "      <td>Just Cause Y'all Waited 2</td>\n",
       "      <td>album</td>\n",
       "      <td>2020-05-08</td>\n",
       "      <td>https://i.scdn.co/image/ab67616d0000b27390715e...</td>\n",
       "      <td>169531</td>\n",
       "      <td>https://p.scdn.co/mp3-preview/0270658a09c7cb98...</td>\n",
       "    </tr>\n",
       "    <tr>\n",
       "      <th>6133</th>\n",
       "      <td>6Tguhaf2uAe6OjRLsR2Tql</td>\n",
       "      <td>76</td>\n",
       "      <td>3 Headed Goat (feat. Lil Baby &amp; Polo G)</td>\n",
       "      <td>[Lil Durk, Lil Baby, Polo G]</td>\n",
       "      <td>Just Cause Y'all Waited 2</td>\n",
       "      <td>album</td>\n",
       "      <td>2020-05-08</td>\n",
       "      <td>https://i.scdn.co/image/ab67616d0000b273f8558e...</td>\n",
       "      <td>169531</td>\n",
       "      <td>https://p.scdn.co/mp3-preview/6fca5999192d1a63...</td>\n",
       "    </tr>\n",
       "    <tr>\n",
       "      <th>14980</th>\n",
       "      <td>7J7UEZ08wc5aDsHgYpf8zI</td>\n",
       "      <td>6</td>\n",
       "      <td>3 Headed Goat (feat. Lil Baby &amp; Polo G)</td>\n",
       "      <td>[Lil Durk, Lil Baby, Polo G]</td>\n",
       "      <td>Just Cause Y'all Waited 2 (Deluxe)</td>\n",
       "      <td>album</td>\n",
       "      <td>2020-06-26</td>\n",
       "      <td>https://i.scdn.co/image/ab67616d0000b273bdce61...</td>\n",
       "      <td>169531</td>\n",
       "      <td>https://p.scdn.co/mp3-preview/fc4d8f65308509e2...</td>\n",
       "    </tr>\n",
       "    <tr>\n",
       "      <th>20285</th>\n",
       "      <td>4YEQWYhkJHgsm3Plul2FO2</td>\n",
       "      <td>28</td>\n",
       "      <td>3 Headed Goat (feat. Lil Baby &amp; Polo G)</td>\n",
       "      <td>[Lil Durk, Lil Baby, Polo G]</td>\n",
       "      <td>3 Headed Goat (feat. Lil Baby &amp; Polo G)</td>\n",
       "      <td>single</td>\n",
       "      <td>2020-05-07</td>\n",
       "      <td>https://i.scdn.co/image/ab67616d0000b273f9e7c1...</td>\n",
       "      <td>169531</td>\n",
       "      <td>https://p.scdn.co/mp3-preview/668a0f3e8babff9a...</td>\n",
       "    </tr>\n",
       "    <tr>\n",
       "      <th>21203</th>\n",
       "      <td>77C9MDQMGrzKlgsUwWzr6I</td>\n",
       "      <td>28</td>\n",
       "      <td>3 Headed Goat (feat. Lil Baby &amp; Polo G)</td>\n",
       "      <td>[Lil Durk, Lil Baby, Polo G]</td>\n",
       "      <td>3 Headed Goat (feat. Lil Baby &amp; Polo G)</td>\n",
       "      <td>single</td>\n",
       "      <td>2020-05-07</td>\n",
       "      <td>https://i.scdn.co/image/ab67616d0000b27368df4d...</td>\n",
       "      <td>169531</td>\n",
       "      <td>https://p.scdn.co/mp3-preview/4c0c14e0309ed608...</td>\n",
       "    </tr>\n",
       "  </tbody>\n",
       "</table>\n",
       "</div>"
      ],
      "text/plain": [
       "                           id  popularity  \\\n",
       "1428   14c8arYQPMtxPcF4L4FYXC          46   \n",
       "4297   5BSUxDJ8HcOWZD2KfExs7b          40   \n",
       "6133   6Tguhaf2uAe6OjRLsR2Tql          76   \n",
       "14980  7J7UEZ08wc5aDsHgYpf8zI           6   \n",
       "20285  4YEQWYhkJHgsm3Plul2FO2          28   \n",
       "21203  77C9MDQMGrzKlgsUwWzr6I          28   \n",
       "\n",
       "                                         track                       artists  \\\n",
       "1428   3 Headed Goat (feat. Lil Baby & Polo G)  [Lil Durk, Lil Baby, Polo G]   \n",
       "4297   3 Headed Goat (feat. Lil Baby & Polo G)  [Lil Durk, Lil Baby, Polo G]   \n",
       "6133   3 Headed Goat (feat. Lil Baby & Polo G)  [Lil Durk, Lil Baby, Polo G]   \n",
       "14980  3 Headed Goat (feat. Lil Baby & Polo G)  [Lil Durk, Lil Baby, Polo G]   \n",
       "20285  3 Headed Goat (feat. Lil Baby & Polo G)  [Lil Durk, Lil Baby, Polo G]   \n",
       "21203  3 Headed Goat (feat. Lil Baby & Polo G)  [Lil Durk, Lil Baby, Polo G]   \n",
       "\n",
       "                                    album_name album_type release_date  \\\n",
       "1428        Just Cause Y'all Waited 2 (Deluxe)      album   2020-06-26   \n",
       "4297                 Just Cause Y'all Waited 2      album   2020-05-08   \n",
       "6133                 Just Cause Y'all Waited 2      album   2020-05-08   \n",
       "14980       Just Cause Y'all Waited 2 (Deluxe)      album   2020-06-26   \n",
       "20285  3 Headed Goat (feat. Lil Baby & Polo G)     single   2020-05-07   \n",
       "21203  3 Headed Goat (feat. Lil Baby & Polo G)     single   2020-05-07   \n",
       "\n",
       "                                                   image  duration_ms  \\\n",
       "1428   https://i.scdn.co/image/ab67616d0000b273fec5f2...       169531   \n",
       "4297   https://i.scdn.co/image/ab67616d0000b27390715e...       169531   \n",
       "6133   https://i.scdn.co/image/ab67616d0000b273f8558e...       169531   \n",
       "14980  https://i.scdn.co/image/ab67616d0000b273bdce61...       169531   \n",
       "20285  https://i.scdn.co/image/ab67616d0000b273f9e7c1...       169531   \n",
       "21203  https://i.scdn.co/image/ab67616d0000b27368df4d...       169531   \n",
       "\n",
       "                                             preview_url  \n",
       "1428   https://p.scdn.co/mp3-preview/c9e5678e476335fb...  \n",
       "4297   https://p.scdn.co/mp3-preview/0270658a09c7cb98...  \n",
       "6133   https://p.scdn.co/mp3-preview/6fca5999192d1a63...  \n",
       "14980  https://p.scdn.co/mp3-preview/fc4d8f65308509e2...  \n",
       "20285  https://p.scdn.co/mp3-preview/668a0f3e8babff9a...  \n",
       "21203  https://p.scdn.co/mp3-preview/4c0c14e0309ed608...  "
      ]
     },
     "execution_count": 5,
     "metadata": {},
     "output_type": "execute_result"
    }
   ],
   "source": [
    "mp3s[mp3s['track'] == \"3 Headed Goat (feat. Lil Baby & Polo G)\"]"
   ]
  },
  {
   "cell_type": "code",
   "execution_count": 6,
   "metadata": {
    "ExecuteTime": {
     "end_time": "2021-11-29T05:16:32.064251Z",
     "start_time": "2021-11-29T05:16:32.056939Z"
    }
   },
   "outputs": [
    {
     "data": {
      "text/plain": [
       "6 'N the Mornin'                           6\n",
       "9ja Hip Hop                                3\n",
       "60%                                        2\n",
       "6565                                       2\n",
       "96 Freestyle                               2\n",
       "Ring (feat. Young Thug)                    2\n",
       "Face Off                                   2\n",
       "Just Mellow - Norman Cook 7'' Remix        2\n",
       "Sex Cells                                  2\n",
       "Aries (feat. Peter Hook and Georgia)       2\n",
       "80's - Instrumental - Remastered           2\n",
       "Seven Day Hustle                           2\n",
       "One Punch Wulf                             2\n",
       "6itch remix - feat. Nitro                  2\n",
       "Jazz Hands                                 2\n",
       "Zero Survivors                             2\n",
       "3 Headed Goat (feat. Lil Baby & Polo G)    2\n",
       "8 Missed Calls                             2\n",
       "SAME THING                                 2\n",
       "Studio 54                                  2\n",
       "50/50 Love                                 2\n",
       "8 Figures                                  2\n",
       "Name: track, dtype: int64"
      ]
     },
     "execution_count": 6,
     "metadata": {},
     "output_type": "execute_result"
    }
   ],
   "source": [
    "# there are duplicate songs from different albums (single, album, etc.)\n",
    "# if they have different popularity scores, that's still valuable info, however\n",
    "mp3s[mp3s.duplicated(subset=['track','duration_ms','popularity'], \n",
    "                     keep=False)]['track'].value_counts()"
   ]
  },
  {
   "cell_type": "code",
   "execution_count": 7,
   "metadata": {
    "ExecuteTime": {
     "end_time": "2021-11-29T05:16:32.066983Z",
     "start_time": "2021-11-29T05:16:32.065081Z"
    }
   },
   "outputs": [
    {
     "data": {
      "text/plain": [
       "(16194, 10)"
      ]
     },
     "execution_count": 7,
     "metadata": {},
     "output_type": "execute_result"
    }
   ],
   "source": [
    "mp3s.shape"
   ]
  },
  {
   "cell_type": "code",
   "execution_count": 8,
   "metadata": {
    "ExecuteTime": {
     "end_time": "2021-11-29T05:16:32.077067Z",
     "start_time": "2021-11-29T05:16:32.069026Z"
    }
   },
   "outputs": [
    {
     "data": {
      "text/plain": [
       "(16168, 10)"
      ]
     },
     "execution_count": 8,
     "metadata": {},
     "output_type": "execute_result"
    }
   ],
   "source": [
    "mp3s.drop_duplicates(subset=['track','duration_ms','popularity'], inplace=True)\n",
    "mp3s.shape"
   ]
  },
  {
   "cell_type": "code",
   "execution_count": 9,
   "metadata": {
    "ExecuteTime": {
     "end_time": "2021-11-29T05:16:32.088482Z",
     "start_time": "2021-11-29T05:16:32.078655Z"
    }
   },
   "outputs": [],
   "source": [
    "# making train test holdout splits\n",
    "\n",
    "X = mp3s.drop(columns=['popularity'])\n",
    "y = mp3s['popularity']\n",
    "\n",
    "X_pretr, X_holdout, y_pretr, y_holdout = train_test_split(X, y, test_size=0.10, random_state=42)\n",
    "X_train, X_test, y_train, y_test = train_test_split(X_pretr, y_pretr, \n",
    "                                                    test_size=15/90, random_state=42)\n",
    "\n",
    "datadict = {'data/X_train':X_train, 'data/X_test':X_test, 'data/X_holdout':X_holdout}"
   ]
  },
  {
   "cell_type": "code",
   "execution_count": 10,
   "metadata": {
    "ExecuteTime": {
     "end_time": "2021-11-29T05:16:32.358006Z",
     "start_time": "2021-11-29T05:16:32.089399Z"
    }
   },
   "outputs": [
    {
     "data": {
      "text/plain": [
       "<AxesSubplot:>"
      ]
     },
     "execution_count": 10,
     "metadata": {},
     "output_type": "execute_result"
    },
    {
     "data": {
      "image/png": "[encoded data removed]",
      "text/plain": [
       "<Figure size 432x288 with 1 Axes>"
      ]
     },
     "metadata": {
      "needs_background": "light"
     },
     "output_type": "display_data"
    }
   ],
   "source": [
    "# 39 seems to be a good cutoff\n",
    "y_train.hist(bins=100)"
   ]
  },
  {
   "cell_type": "code",
   "execution_count": 11,
   "metadata": {
    "ExecuteTime": {
     "end_time": "2021-11-29T05:16:32.367012Z",
     "start_time": "2021-11-29T05:16:32.359070Z"
    }
   },
   "outputs": [
    {
     "data": {
      "text/plain": [
       "0    0.512\n",
       "1    0.488\n",
       "Name: popularity, dtype: float64"
      ]
     },
     "execution_count": 11,
     "metadata": {},
     "output_type": "execute_result"
    }
   ],
   "source": [
    "# defining popular as >= 39 and encoding (1 = popular)\n",
    "y_train = y_train.map(lambda x: 1 if x >= 39 else 0)\n",
    "y_train.value_counts(normalize=True)"
   ]
  },
  {
   "cell_type": "code",
   "execution_count": 12,
   "metadata": {
    "ExecuteTime": {
     "end_time": "2021-11-29T05:16:32.372677Z",
     "start_time": "2021-11-29T05:16:32.367929Z"
    }
   },
   "outputs": [
    {
     "data": {
      "text/plain": [
       "0    0.516076\n",
       "1    0.483924\n",
       "Name: popularity, dtype: float64"
      ]
     },
     "execution_count": 12,
     "metadata": {},
     "output_type": "execute_result"
    }
   ],
   "source": [
    "y_test = y_test.map(lambda x: 1 if x >= 39 else 0)\n",
    "y_test.value_counts(normalize=True)"
   ]
  },
  {
   "cell_type": "code",
   "execution_count": 13,
   "metadata": {
    "ExecuteTime": {
     "end_time": "2021-11-29T05:16:32.378140Z",
     "start_time": "2021-11-29T05:16:32.373793Z"
    }
   },
   "outputs": [
    {
     "data": {
      "text/plain": [
       "0    0.506494\n",
       "1    0.493506\n",
       "Name: popularity, dtype: float64"
      ]
     },
     "execution_count": 13,
     "metadata": {},
     "output_type": "execute_result"
    }
   ],
   "source": [
    "y_holdout = y_holdout.map(lambda x: 1 if x >= 39 else 0)\n",
    "y_holdout.value_counts(normalize=True)"
   ]
  },
  {
   "cell_type": "code",
   "execution_count": 14,
   "metadata": {
    "ExecuteTime": {
     "end_time": "2021-11-29T05:16:32.381386Z",
     "start_time": "2021-11-29T05:16:32.379094Z"
    }
   },
   "outputs": [],
   "source": [
    "def get_mp3(http, directory, name):\n",
    "    try:\n",
    "        r = requests.get(http, timeout=2)\n",
    "        with open(f'{directory}/{name}.mp3', 'wb') as f:\n",
    "            f.write(r.content)\n",
    "        print(f'mp3 acquision: {name}.mp3')\n",
    "    except:\n",
    "        print(f'mp3 timeout: index {name}')"
   ]
  },
  {
   "cell_type": "code",
   "execution_count": 15,
   "metadata": {
    "ExecuteTime": {
     "end_time": "2021-11-29T05:16:32.427916Z",
     "start_time": "2021-11-29T05:16:32.382604Z"
    }
   },
   "outputs": [],
   "source": [
    "class LibrosaProcessing:\n",
    "    def __init__(self, data, directory):\n",
    "        self.data_ = data.copy()\n",
    "        wd = !pwd\n",
    "        self.directory_ = f'{wd[0]}/{directory}'\n",
    "        if not os.path.exists(self.directory_):\n",
    "            os.mkdir(self.directory_)\n",
    "\n",
    "    def get_mp3(self):\n",
    "        self.mp3_directory_ = f'{self.directory_}/mp3'\n",
    "        if not os.path.exists(self.mp3_directory_):\n",
    "            os.mkdir(self.mp3_directory_)\n",
    "        self.data_['preview_url'].reset_index().apply(lambda x: get_mp3(x[1],\n",
    "                                                                         self.mp3_directory_,\n",
    "                                                                         x[0]), axis=1)\n",
    "        print('mp3s acquired')\n",
    "        \n",
    "    def get_wav(self):\n",
    "        self.mp3_directory_ = f'{self.directory_}/mp3'\n",
    "        self.wav_directory_ = f'{self.directory_}/wav'\n",
    "        if not os.path.exists(self.wav_directory_):\n",
    "            os.mkdir(self.wav_directory_)\n",
    "        for file in os.listdir(self.mp3_directory_):\n",
    "            src = f'{self.mp3_directory_}/{file}'\n",
    "            dest = f'{self.wav_directory_}/{file.split(\".\")[0]}.wav'\n",
    "            AudioSegment.from_mp3(src).export(dest, format='wav')\n",
    "            self.data_.loc[int(file.split(\".\")[0]),\n",
    "                            'file_path'] = f'{self.wav_directory_}/{file.split(\".\")[0]}.wav'\n",
    "            print(f'wav conversion: {file.split(\".\")[0]}.wav')\n",
    "        self.wav_ = self.data_['file_path'].copy()\n",
    "\n",
    "    def get_mel_spec_scaled(self):\n",
    "        specs = []\n",
    "        for count, song in enumerate(self.wav_, start=1):\n",
    "            y, sr = librosa.load(song, duration=30)\n",
    "            spec = librosa.power_to_db(librosa.feature.melspectrogram(y=y,sr=sr), ref=np.min)\n",
    "            specs.append(spec[np.newaxis, ..., np.newaxis])\n",
    "            print(f\"wavs run: {count}/{len(self.wav_)}\")\n",
    "        mel_specs = np.concatenate(specs, axis=0)\n",
    "        msmax = mel_specs.max()\n",
    "        msmin = mel_specs.min()\n",
    "        return (mel_specs - msmin)/(msmax - msmin)\n",
    "    \n",
    "    def mfcc(self):\n",
    "        pass\n",
    "#         librosa.        \n",
    "#         return "
   ]
  },
  {
   "cell_type": "code",
   "execution_count": null,
   "metadata": {
    "ExecuteTime": {
     "start_time": "2021-11-29T05:16:48.219Z"
    }
   },
   "outputs": [
    {
     "name": "stdout",
     "output_type": "stream",
     "text": [
      "mp3 acquision: 2906.mp3\n",
      "mp3 acquision: 4980.mp3\n",
      "mp3 acquision: 5789.mp3\n",
      "mp3 acquision: 17515.mp3\n",
      "mp3 acquision: 18210.mp3\n",
      "mp3 acquision: 3705.mp3\n",
      "mp3 acquision: 1405.mp3\n",
      "mp3 acquision: 777.mp3\n",
      "mp3 acquision: 3568.mp3\n",
      "mp3 acquision: 9465.mp3\n",
      "mp3 acquision: 6036.mp3\n",
      "mp3 acquision: 3873.mp3\n",
      "mp3 acquision: 8272.mp3\n",
      "mp3 acquision: 14917.mp3\n",
      "mp3 acquision: 14683.mp3\n",
      "mp3 acquision: 18493.mp3\n",
      "mp3 acquision: 7976.mp3\n",
      "mp3 acquision: 16240.mp3\n",
      "mp3 acquision: 6120.mp3\n",
      "mp3 acquision: 10892.mp3\n",
      "mp3 acquision: 1454.mp3\n",
      "mp3 acquision: 10863.mp3\n",
      "mp3 acquision: 14653.mp3\n",
      "mp3 acquision: 12767.mp3\n",
      "mp3 acquision: 12831.mp3\n",
      "mp3 acquision: 20521.mp3\n",
      "mp3 acquision: 2909.mp3\n",
      "mp3 acquision: 6078.mp3\n",
      "mp3 acquision: 17119.mp3\n",
      "mp3 acquision: 31.mp3\n",
      "mp3 acquision: 5189.mp3\n",
      "mp3 acquision: 21405.mp3\n",
      "mp3 acquision: 8503.mp3\n",
      "mp3 acquision: 11677.mp3\n",
      "mp3 acquision: 21480.mp3\n",
      "mp3 acquision: 18513.mp3\n",
      "mp3 acquision: 2580.mp3\n",
      "mp3 acquision: 5731.mp3\n",
      "mp3 acquision: 3369.mp3\n",
      "mp3 acquision: 4768.mp3\n",
      "mp3 acquision: 8719.mp3\n",
      "mp3 acquision: 20688.mp3\n",
      "mp3 acquision: 5230.mp3\n",
      "mp3 acquision: 20157.mp3\n",
      "mp3 acquision: 13454.mp3\n",
      "mp3 acquision: 21271.mp3\n",
      "mp3 acquision: 9901.mp3\n",
      "mp3 acquision: 11945.mp3\n",
      "mp3 acquision: 7542.mp3\n",
      "mp3 acquision: 17987.mp3\n",
      "mp3 acquision: 12849.mp3\n",
      "mp3 acquision: 8848.mp3\n",
      "mp3 acquision: 7285.mp3\n",
      "mp3 acquision: 19822.mp3\n",
      "mp3 acquision: 9169.mp3\n",
      "mp3 acquision: 5620.mp3\n",
      "mp3 acquision: 13541.mp3\n",
      "mp3 acquision: 14644.mp3\n",
      "mp3 acquision: 17571.mp3\n",
      "mp3 acquision: 18955.mp3\n",
      "mp3 acquision: 10487.mp3\n",
      "mp3 acquision: 11983.mp3\n",
      "mp3 acquision: 19532.mp3\n",
      "mp3 acquision: 9644.mp3\n",
      "mp3 acquision: 20384.mp3\n",
      "mp3 acquision: 7262.mp3\n",
      "mp3 acquision: 6706.mp3\n",
      "mp3 acquision: 9992.mp3\n",
      "mp3 acquision: 7834.mp3\n",
      "mp3 acquision: 8712.mp3\n",
      "mp3 acquision: 21378.mp3\n",
      "mp3 acquision: 2417.mp3\n",
      "mp3 acquision: 16664.mp3\n",
      "mp3 acquision: 1946.mp3\n",
      "mp3 acquision: 16827.mp3\n",
      "mp3 acquision: 9937.mp3\n",
      "mp3 acquision: 5067.mp3\n",
      "mp3 acquision: 3989.mp3\n",
      "mp3 acquision: 12753.mp3\n",
      "mp3 acquision: 5488.mp3\n",
      "mp3 acquision: 4126.mp3\n",
      "mp3 acquision: 16026.mp3\n",
      "mp3 acquision: 9012.mp3\n",
      "mp3 acquision: 10550.mp3\n",
      "mp3 acquision: 12573.mp3\n",
      "mp3 acquision: 10698.mp3\n",
      "mp3 acquision: 9783.mp3\n",
      "mp3 acquision: 16665.mp3\n",
      "mp3 acquision: 14423.mp3\n",
      "mp3 acquision: 10153.mp3\n"
     ]
    }
   ],
   "source": [
    "mel_spec_datadict = {}\n",
    "for directory, df in datadict.items():\n",
    "    lp = LibrosaProcessing(df, directory)\n",
    "    lp.get_mp3()\n",
    "    lp.get_wav()\n",
    "    modeldatadict[directory.split('/')[1]] = lp.get_mel_spec_scaled()"
   ]
  },
  {
   "cell_type": "markdown",
   "metadata": {},
   "source": [
    "### First Model - Multilayer Perceptron"
   ]
  },
  {
   "cell_type": "code",
   "execution_count": null,
   "metadata": {},
   "outputs": [],
   "source": [
    "# set random seed for reproducibility\n",
    "np.random.seed(42)\n",
    "set_seed(42)\n",
    "\n",
    "# build sequentially\n",
    "mlp = keras.Sequential(name='mlp')\n",
    "\n",
    "# flatten input 3D tensor to 1D\n",
    "mlp.add(layers.Flatten(input_shape=input_shape))\n",
    "\n",
    "# two hidden layers\n",
    "mlp.add(layers.Dense(128, activation='relu'))\n",
    "mlp.add(layers.Dense(64, activation='relu'))\n",
    "\n",
    "# output layer\n",
    "mlp.add(layers.Dense(10, activation='softmax'))\n",
    "\n",
    "# compile cnn\n",
    "mlp.compile(loss='categorical_crossentropy',\n",
    "            optimizer=\"adam\",\n",
    "            metrics=['accuracy'])\n",
    "\n",
    "# take a look at model architecture\n",
    "mlp.summary()"
   ]
  },
  {
   "cell_type": "code",
   "execution_count": null,
   "metadata": {},
   "outputs": [],
   "source": [
    "# fit the model\n",
    "history = mlp.fit(mel_spec_datadict['X_train'],\n",
    "                  y_train,\n",
    "                  epochs=60,\n",
    "                  batch_size=30,\n",
    "                  validation_data=(mel_spec_datadict['X_test'], y_test))"
   ]
  },
  {
   "cell_type": "code",
   "execution_count": null,
   "metadata": {},
   "outputs": [],
   "source": [
    "### First Model - Multilayer Perceptron\n",
    "\n",
    "We'll start off with a multilayer perceptron.\n",
    "\n",
    "# set random seed for reproducibility\n",
    "np.random.seed(42)\n",
    "set_seed(42)\n",
    "\n",
    "# build sequentially\n",
    "mlp = keras.Sequential(name='mlp')\n",
    "\n",
    "# flatten input 3D tensor to 1D\n",
    "mlp.add(layers.Flatten(input_shape=input_shape))\n",
    "\n",
    "# two hidden layers\n",
    "mlp.add(layers.Dense(128, activation='relu'))\n",
    "mlp.add(layers.Dense(64, activation='relu'))\n",
    "\n",
    "# output layer\n",
    "mlp.add(layers.Dense(10, activation='softmax'))\n",
    "\n",
    "# compile cnn\n",
    "mlp.compile(loss='categorical_crossentropy',\n",
    "            optimizer=\"adam\",\n",
    "            metrics=['accuracy'])\n",
    "\n",
    "# take a look at model architecture\n",
    "mlp.summary()\n",
    "\n",
    "# fit the model\n",
    "history = mlp.fit(X_train_mel_scaled,\n",
    "                  y_train,\n",
    "                  epochs=60,\n",
    "                  batch_size=30,\n",
    "                  validation_data=(X_test_mel_scaled, y_test))"
   ]
  },
  {
   "cell_type": "code",
   "execution_count": null,
   "metadata": {
    "ExecuteTime": {
     "end_time": "2021-11-29T02:14:33.058462Z",
     "start_time": "2021-11-29T02:14:30.976780Z"
    }
   },
   "outputs": [],
   "source": [
    "lp = LibrosaProcessing(X_train, 'data/X_train')\n",
    "lp.get_wav()"
   ]
  },
  {
   "cell_type": "code",
   "execution_count": null,
   "metadata": {
    "ExecuteTime": {
     "end_time": "2021-11-29T02:08:19.609322Z",
     "start_time": "2021-11-29T02:08:18.386370Z"
    }
   },
   "outputs": [],
   "source": [
    "y, sr = librosa.load(lp.wav_.iloc[0],duration=30)\n",
    "ipd.Audio(y,rate=sr)"
   ]
  },
  {
   "cell_type": "code",
   "execution_count": null,
   "metadata": {
    "ExecuteTime": {
     "end_time": "2021-11-29T03:29:00.398584Z",
     "start_time": "2021-11-29T02:14:35.782147Z"
    }
   },
   "outputs": [],
   "source": [
    "X_train_mel_spec = lp.mel_spec()"
   ]
  },
  {
   "cell_type": "code",
   "execution_count": null,
   "metadata": {
    "ExecuteTime": {
     "end_time": "2021-11-28T05:04:17.741598Z",
     "start_time": "2021-11-28T04:21:42.821773Z"
    }
   },
   "outputs": [],
   "source": [
    "# only timeout was index 9135\n",
    "# X_train['preview_url'].reset_index().apply(lambda x: get_mp3(x[1], 'data/collection_1', \n",
    "#                                                              x[0]), axis=1)"
   ]
  },
  {
   "cell_type": "code",
   "execution_count": null,
   "metadata": {},
   "outputs": [],
   "source": []
  },
  {
   "cell_type": "code",
   "execution_count": null,
   "metadata": {},
   "outputs": [],
   "source": []
  },
  {
   "cell_type": "code",
   "execution_count": null,
   "metadata": {},
   "outputs": [],
   "source": []
  }
 ],
 "metadata": {
  "kernelspec": {
   "display_name": "Python (learn-env)",
   "language": "python",
   "name": "learn-env"
  },
  "language_info": {
   "codemirror_mode": {
    "name": "ipython",
    "version": 3
   },
   "file_extension": ".py",
   "mimetype": "text/x-python",
   "name": "python",
   "nbconvert_exporter": "python",
   "pygments_lexer": "ipython3",
   "version": "3.8.5"
  },
  "varInspector": {
   "cols": {
    "lenName": 16,
    "lenType": 16,
    "lenVar": 40
   },
   "kernels_config": {
    "python": {
     "delete_cmd_postfix": "",
     "delete_cmd_prefix": "del ",
     "library": "var_list.py",
     "varRefreshCmd": "print(var_dic_list())"
    },
    "r": {
     "delete_cmd_postfix": ") ",
     "delete_cmd_prefix": "rm(",
     "library": "var_list.r",
     "varRefreshCmd": "cat(var_dic_list()) "
    }
   },
   "types_to_exclude": [
    "module",
    "function",
    "builtin_function_or_method",
    "instance",
    "_Feature"
   ],
   "window_display": false
  }
 },
 "nbformat": 4,
 "nbformat_minor": 4
}
