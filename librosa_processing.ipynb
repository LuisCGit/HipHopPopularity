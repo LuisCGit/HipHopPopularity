{
 "cells": [
  {
   "cell_type": "code",
   "execution_count": 49,
   "metadata": {
    "ExecuteTime": {
     "end_time": "2021-11-28T05:57:45.912520Z",
     "start_time": "2021-11-28T05:57:45.900960Z"
    }
   },
   "outputs": [],
   "source": [
    "import numpy as np\n",
    "import pandas as pd\n",
    "pd.set_option('display.max_columns', None)\n",
    "from ast import literal_eval\n",
    "\n",
    "from sklearn.model_selection import train_test_split\n",
    "\n",
    "import requests\n",
    "import os\n",
    "from varname import argname\n",
    "from pydub import AudioSegment\n",
    "import librosa"
   ]
  },
  {
   "cell_type": "code",
   "execution_count": 2,
   "metadata": {
    "ExecuteTime": {
     "end_time": "2021-11-28T04:21:33.237611Z",
     "start_time": "2021-11-28T04:21:33.178040Z"
    }
   },
   "outputs": [],
   "source": [
    "mp3s = pd.read_csv('data/collection_1_mp3s.csv', index_col=0)"
   ]
  },
  {
   "cell_type": "code",
   "execution_count": 3,
   "metadata": {
    "ExecuteTime": {
     "end_time": "2021-11-28T04:21:33.367732Z",
     "start_time": "2021-11-28T04:21:33.239117Z"
    }
   },
   "outputs": [],
   "source": [
    "mp3s['artists'] = mp3s['artists'].map(lambda x: literal_eval(x))"
   ]
  },
  {
   "cell_type": "code",
   "execution_count": 4,
   "metadata": {
    "ExecuteTime": {
     "end_time": "2021-11-28T04:21:33.384764Z",
     "start_time": "2021-11-28T04:21:33.368869Z"
    }
   },
   "outputs": [
    {
     "data": {
      "text/html": [
       "<div>\n",
       "<style scoped>\n",
       "    .dataframe tbody tr th:only-of-type {\n",
       "        vertical-align: middle;\n",
       "    }\n",
       "\n",
       "    .dataframe tbody tr th {\n",
       "        vertical-align: top;\n",
       "    }\n",
       "\n",
       "    .dataframe thead th {\n",
       "        text-align: right;\n",
       "    }\n",
       "</style>\n",
       "<table border=\"1\" class=\"dataframe\">\n",
       "  <thead>\n",
       "    <tr style=\"text-align: right;\">\n",
       "      <th></th>\n",
       "      <th>id</th>\n",
       "      <th>popularity</th>\n",
       "      <th>track</th>\n",
       "      <th>artists</th>\n",
       "      <th>album_name</th>\n",
       "      <th>album_type</th>\n",
       "      <th>release_date</th>\n",
       "      <th>image</th>\n",
       "      <th>duration_ms</th>\n",
       "      <th>preview_url</th>\n",
       "    </tr>\n",
       "  </thead>\n",
       "  <tbody>\n",
       "    <tr>\n",
       "      <th>0</th>\n",
       "      <td>6dJduZ358xg519NKuDy3gK</td>\n",
       "      <td>29</td>\n",
       "      <td>Zadnji Let</td>\n",
       "      <td>[Zembo Latifa]</td>\n",
       "      <td>Venera</td>\n",
       "      <td>album</td>\n",
       "      <td>2020-09-25</td>\n",
       "      <td>https://i.scdn.co/image/ab67616d0000b273c0a12f...</td>\n",
       "      <td>270004</td>\n",
       "      <td>https://p.scdn.co/mp3-preview/20848b32d61466f8...</td>\n",
       "    </tr>\n",
       "    <tr>\n",
       "      <th>1</th>\n",
       "      <td>06AEBHCeGb3qP9xNmOBrlW</td>\n",
       "      <td>11</td>\n",
       "      <td>Profit (feat. Zonaman &amp; Nickaveli)</td>\n",
       "      <td>[Young Scooter, Nickaveli, Zonaman]</td>\n",
       "      <td>Trap Hero</td>\n",
       "      <td>album</td>\n",
       "      <td>2019-11-08</td>\n",
       "      <td>https://i.scdn.co/image/ab67616d0000b273d3d750...</td>\n",
       "      <td>179409</td>\n",
       "      <td>https://p.scdn.co/mp3-preview/754bb0159255160b...</td>\n",
       "    </tr>\n",
       "    <tr>\n",
       "      <th>3</th>\n",
       "      <td>63jjIpEDcCwEtjYI4icdIn</td>\n",
       "      <td>20</td>\n",
       "      <td>Zer0style</td>\n",
       "      <td>[Rocks FOE]</td>\n",
       "      <td>Zer0style</td>\n",
       "      <td>single</td>\n",
       "      <td>2021-06-18</td>\n",
       "      <td>https://i.scdn.co/image/ab67616d0000b2730b12b4...</td>\n",
       "      <td>201935</td>\n",
       "      <td>https://p.scdn.co/mp3-preview/caf6d678e1ab75cb...</td>\n",
       "    </tr>\n",
       "    <tr>\n",
       "      <th>4</th>\n",
       "      <td>0IvHcHx02BpoNIn9E9dK6G</td>\n",
       "      <td>17</td>\n",
       "      <td>Zeitmaschine</td>\n",
       "      <td>[Deetox Vengeance]</td>\n",
       "      <td>Zeitmaschine</td>\n",
       "      <td>single</td>\n",
       "      <td>2020-09-25</td>\n",
       "      <td>https://i.scdn.co/image/ab67616d0000b273ba1176...</td>\n",
       "      <td>154350</td>\n",
       "      <td>https://p.scdn.co/mp3-preview/7cb5fd662d3e221b...</td>\n",
       "    </tr>\n",
       "    <tr>\n",
       "      <th>5</th>\n",
       "      <td>0rqudLpo4qtTvLykYXCZXl</td>\n",
       "      <td>37</td>\n",
       "      <td>Nie wiem czy to świat zwariował</td>\n",
       "      <td>[Polska Wersja]</td>\n",
       "      <td>Powrót do przeszłości reedycja 2019</td>\n",
       "      <td>album</td>\n",
       "      <td>2019-12-06</td>\n",
       "      <td>https://i.scdn.co/image/ab67616d0000b273861eb6...</td>\n",
       "      <td>260826</td>\n",
       "      <td>https://p.scdn.co/mp3-preview/8e5eb4353bb69521...</td>\n",
       "    </tr>\n",
       "    <tr>\n",
       "      <th>...</th>\n",
       "      <td>...</td>\n",
       "      <td>...</td>\n",
       "      <td>...</td>\n",
       "      <td>...</td>\n",
       "      <td>...</td>\n",
       "      <td>...</td>\n",
       "      <td>...</td>\n",
       "      <td>...</td>\n",
       "      <td>...</td>\n",
       "      <td>...</td>\n",
       "    </tr>\n",
       "    <tr>\n",
       "      <th>21489</th>\n",
       "      <td>5ti4BRYkzUwkU5Y9Vx7GBQ</td>\n",
       "      <td>0</td>\n",
       "      <td>Aquí Ya Se Prendió</td>\n",
       "      <td>[Los Inquietos Del Norte]</td>\n",
       "      <td>Otro Tequila Mas</td>\n",
       "      <td>album</td>\n",
       "      <td>2021-11-24</td>\n",
       "      <td>https://i.scdn.co/image/ab67616d0000b273180958...</td>\n",
       "      <td>162348</td>\n",
       "      <td>https://p.scdn.co/mp3-preview/d0c1b6b63015aa59...</td>\n",
       "    </tr>\n",
       "    <tr>\n",
       "      <th>21496</th>\n",
       "      <td>4r0p0IhfK7TEHFP6v89Vwt</td>\n",
       "      <td>0</td>\n",
       "      <td>Let's Kick His Ass!</td>\n",
       "      <td>[Father, Zack Fox, Archibald Slim]</td>\n",
       "      <td>Let's Kick His Ass!</td>\n",
       "      <td>single</td>\n",
       "      <td>2021-11-24</td>\n",
       "      <td>https://i.scdn.co/image/ab67616d0000b27386d116...</td>\n",
       "      <td>229500</td>\n",
       "      <td>https://p.scdn.co/mp3-preview/3b6d31b4afdc6e66...</td>\n",
       "    </tr>\n",
       "    <tr>\n",
       "      <th>21497</th>\n",
       "      <td>3c8tkz9E6HbGMm4dwCi7An</td>\n",
       "      <td>4</td>\n",
       "      <td>Étoile 67</td>\n",
       "      <td>[Striky, T.K]</td>\n",
       "      <td>Gravité</td>\n",
       "      <td>album</td>\n",
       "      <td>2021-07-23</td>\n",
       "      <td>https://i.scdn.co/image/ab67616d0000b273b7535e...</td>\n",
       "      <td>221538</td>\n",
       "      <td>https://p.scdn.co/mp3-preview/45f580ce158b3f1c...</td>\n",
       "    </tr>\n",
       "    <tr>\n",
       "      <th>21890</th>\n",
       "      <td>1IUhNvwC67VRb2j6Hcpeyf</td>\n",
       "      <td>13</td>\n",
       "      <td>Queen Bee</td>\n",
       "      <td>[VannDa]</td>\n",
       "      <td>Queen Bee</td>\n",
       "      <td>single</td>\n",
       "      <td>2021-04-10</td>\n",
       "      <td>https://i.scdn.co/image/ab67616d0000b273996b98...</td>\n",
       "      <td>269264</td>\n",
       "      <td>https://p.scdn.co/mp3-preview/31d6963fa6fcb1b4...</td>\n",
       "    </tr>\n",
       "    <tr>\n",
       "      <th>22675</th>\n",
       "      <td>3FLTbV0TQDcMigNguYkDa5</td>\n",
       "      <td>13</td>\n",
       "      <td>Studio 54</td>\n",
       "      <td>[FELIX!]</td>\n",
       "      <td>Infrared</td>\n",
       "      <td>single</td>\n",
       "      <td>2019-10-22</td>\n",
       "      <td>https://i.scdn.co/image/ab67616d0000b273c3b4ed...</td>\n",
       "      <td>96000</td>\n",
       "      <td>https://p.scdn.co/mp3-preview/124402c450e8b88c...</td>\n",
       "    </tr>\n",
       "  </tbody>\n",
       "</table>\n",
       "<p>16194 rows × 10 columns</p>\n",
       "</div>"
      ],
      "text/plain": [
       "                           id  popularity                               track  \\\n",
       "0      6dJduZ358xg519NKuDy3gK          29                          Zadnji Let   \n",
       "1      06AEBHCeGb3qP9xNmOBrlW          11  Profit (feat. Zonaman & Nickaveli)   \n",
       "3      63jjIpEDcCwEtjYI4icdIn          20                           Zer0style   \n",
       "4      0IvHcHx02BpoNIn9E9dK6G          17                        Zeitmaschine   \n",
       "5      0rqudLpo4qtTvLykYXCZXl          37     Nie wiem czy to świat zwariował   \n",
       "...                       ...         ...                                 ...   \n",
       "21489  5ti4BRYkzUwkU5Y9Vx7GBQ           0                  Aquí Ya Se Prendió   \n",
       "21496  4r0p0IhfK7TEHFP6v89Vwt           0                 Let's Kick His Ass!   \n",
       "21497  3c8tkz9E6HbGMm4dwCi7An           4                           Étoile 67   \n",
       "21890  1IUhNvwC67VRb2j6Hcpeyf          13                           Queen Bee   \n",
       "22675  3FLTbV0TQDcMigNguYkDa5          13                           Studio 54   \n",
       "\n",
       "                                   artists  \\\n",
       "0                           [Zembo Latifa]   \n",
       "1      [Young Scooter, Nickaveli, Zonaman]   \n",
       "3                              [Rocks FOE]   \n",
       "4                       [Deetox Vengeance]   \n",
       "5                          [Polska Wersja]   \n",
       "...                                    ...   \n",
       "21489            [Los Inquietos Del Norte]   \n",
       "21496   [Father, Zack Fox, Archibald Slim]   \n",
       "21497                        [Striky, T.K]   \n",
       "21890                             [VannDa]   \n",
       "22675                             [FELIX!]   \n",
       "\n",
       "                                album_name album_type release_date  \\\n",
       "0                                   Venera      album   2020-09-25   \n",
       "1                                Trap Hero      album   2019-11-08   \n",
       "3                                Zer0style     single   2021-06-18   \n",
       "4                             Zeitmaschine     single   2020-09-25   \n",
       "5      Powrót do przeszłości reedycja 2019      album   2019-12-06   \n",
       "...                                    ...        ...          ...   \n",
       "21489                     Otro Tequila Mas      album   2021-11-24   \n",
       "21496                  Let's Kick His Ass!     single   2021-11-24   \n",
       "21497                              Gravité      album   2021-07-23   \n",
       "21890                            Queen Bee     single   2021-04-10   \n",
       "22675                             Infrared     single   2019-10-22   \n",
       "\n",
       "                                                   image  duration_ms  \\\n",
       "0      https://i.scdn.co/image/ab67616d0000b273c0a12f...       270004   \n",
       "1      https://i.scdn.co/image/ab67616d0000b273d3d750...       179409   \n",
       "3      https://i.scdn.co/image/ab67616d0000b2730b12b4...       201935   \n",
       "4      https://i.scdn.co/image/ab67616d0000b273ba1176...       154350   \n",
       "5      https://i.scdn.co/image/ab67616d0000b273861eb6...       260826   \n",
       "...                                                  ...          ...   \n",
       "21489  https://i.scdn.co/image/ab67616d0000b273180958...       162348   \n",
       "21496  https://i.scdn.co/image/ab67616d0000b27386d116...       229500   \n",
       "21497  https://i.scdn.co/image/ab67616d0000b273b7535e...       221538   \n",
       "21890  https://i.scdn.co/image/ab67616d0000b273996b98...       269264   \n",
       "22675  https://i.scdn.co/image/ab67616d0000b273c3b4ed...        96000   \n",
       "\n",
       "                                             preview_url  \n",
       "0      https://p.scdn.co/mp3-preview/20848b32d61466f8...  \n",
       "1      https://p.scdn.co/mp3-preview/754bb0159255160b...  \n",
       "3      https://p.scdn.co/mp3-preview/caf6d678e1ab75cb...  \n",
       "4      https://p.scdn.co/mp3-preview/7cb5fd662d3e221b...  \n",
       "5      https://p.scdn.co/mp3-preview/8e5eb4353bb69521...  \n",
       "...                                                  ...  \n",
       "21489  https://p.scdn.co/mp3-preview/d0c1b6b63015aa59...  \n",
       "21496  https://p.scdn.co/mp3-preview/3b6d31b4afdc6e66...  \n",
       "21497  https://p.scdn.co/mp3-preview/45f580ce158b3f1c...  \n",
       "21890  https://p.scdn.co/mp3-preview/31d6963fa6fcb1b4...  \n",
       "22675  https://p.scdn.co/mp3-preview/124402c450e8b88c...  \n",
       "\n",
       "[16194 rows x 10 columns]"
      ]
     },
     "execution_count": 4,
     "metadata": {},
     "output_type": "execute_result"
    }
   ],
   "source": [
    "mp3s"
   ]
  },
  {
   "cell_type": "code",
   "execution_count": 5,
   "metadata": {
    "ExecuteTime": {
     "end_time": "2021-11-28T04:21:33.396412Z",
     "start_time": "2021-11-28T04:21:33.386163Z"
    }
   },
   "outputs": [
    {
     "data": {
      "text/plain": [
       "(1620, 9)"
      ]
     },
     "execution_count": 5,
     "metadata": {},
     "output_type": "execute_result"
    }
   ],
   "source": [
    "# making train test holdout splits\n",
    "\n",
    "X = mp3s.drop(columns=['popularity'])\n",
    "y = mp3s['popularity']\n",
    "\n",
    "X_pretr, X_holdout, y_pretr, y_holdout = train_test_split(X, y, test_size=0.10, random_state=42)\n",
    "X_train, X_test, y_train, y_test = train_test_split(X_pretr, y_pretr, \n",
    "                                                    test_size=15/90, random_state=42)\n",
    "X_holdout.shape"
   ]
  },
  {
   "cell_type": "code",
   "execution_count": 6,
   "metadata": {
    "ExecuteTime": {
     "end_time": "2021-11-28T04:21:33.685646Z",
     "start_time": "2021-11-28T04:21:33.397427Z"
    }
   },
   "outputs": [
    {
     "data": {
      "text/plain": [
       "<AxesSubplot:>"
      ]
     },
     "execution_count": 6,
     "metadata": {},
     "output_type": "execute_result"
    },
    {
     "data": {
      "image/png": "[encoded data removed]",
      "text/plain": [
       "<Figure size 432x288 with 1 Axes>"
      ]
     },
     "metadata": {
      "needs_background": "light"
     },
     "output_type": "display_data"
    }
   ],
   "source": [
    "# 40 seems to be a good cutoff\n",
    "y_train.hist(bins=100)"
   ]
  },
  {
   "cell_type": "code",
   "execution_count": 7,
   "metadata": {
    "ExecuteTime": {
     "end_time": "2021-11-28T04:21:33.692400Z",
     "start_time": "2021-11-28T04:21:33.686959Z"
    }
   },
   "outputs": [],
   "source": [
    "# defining popular as >= 40 and encoding\n",
    "y_train = y_train.map(lambda x: 1 if x >= 40 else 0)"
   ]
  },
  {
   "cell_type": "code",
   "execution_count": 8,
   "metadata": {
    "ExecuteTime": {
     "end_time": "2021-11-28T04:21:33.699829Z",
     "start_time": "2021-11-28T04:21:33.694966Z"
    }
   },
   "outputs": [
    {
     "data": {
      "text/plain": [
       "0    0.52606\n",
       "1    0.47394\n",
       "Name: popularity, dtype: float64"
      ]
     },
     "execution_count": 8,
     "metadata": {},
     "output_type": "execute_result"
    }
   ],
   "source": [
    "y_train.value_counts(normalize=True)"
   ]
  },
  {
   "cell_type": "code",
   "execution_count": 9,
   "metadata": {
    "ExecuteTime": {
     "end_time": "2021-11-28T04:21:33.713566Z",
     "start_time": "2021-11-28T04:21:33.701574Z"
    }
   },
   "outputs": [
    {
     "data": {
      "text/html": [
       "<div>\n",
       "<style scoped>\n",
       "    .dataframe tbody tr th:only-of-type {\n",
       "        vertical-align: middle;\n",
       "    }\n",
       "\n",
       "    .dataframe tbody tr th {\n",
       "        vertical-align: top;\n",
       "    }\n",
       "\n",
       "    .dataframe thead th {\n",
       "        text-align: right;\n",
       "    }\n",
       "</style>\n",
       "<table border=\"1\" class=\"dataframe\">\n",
       "  <thead>\n",
       "    <tr style=\"text-align: right;\">\n",
       "      <th></th>\n",
       "      <th>id</th>\n",
       "      <th>track</th>\n",
       "      <th>artists</th>\n",
       "      <th>album_name</th>\n",
       "      <th>album_type</th>\n",
       "      <th>release_date</th>\n",
       "      <th>image</th>\n",
       "      <th>duration_ms</th>\n",
       "      <th>preview_url</th>\n",
       "    </tr>\n",
       "  </thead>\n",
       "  <tbody>\n",
       "    <tr>\n",
       "      <th>2240</th>\n",
       "      <td>63RBz67jggREqBXd5xKs66</td>\n",
       "      <td>1000 Highways</td>\n",
       "      <td>[SonReal]</td>\n",
       "      <td>1000 Highways</td>\n",
       "      <td>single</td>\n",
       "      <td>2019-03-26</td>\n",
       "      <td>https://i.scdn.co/image/ab67616d0000b273d17d4f...</td>\n",
       "      <td>237142</td>\n",
       "      <td>https://p.scdn.co/mp3-preview/87af2089c79d084d...</td>\n",
       "    </tr>\n",
       "    <tr>\n",
       "      <th>5316</th>\n",
       "      <td>68nU3LlPvVwS4PHjyMpIas</td>\n",
       "      <td>Icebox</td>\n",
       "      <td>[Kevin Gates]</td>\n",
       "      <td>I'm Him</td>\n",
       "      <td>album</td>\n",
       "      <td>2019-09-27</td>\n",
       "      <td>https://i.scdn.co/image/ab67616d0000b2739a99ab...</td>\n",
       "      <td>159040</td>\n",
       "      <td>https://p.scdn.co/mp3-preview/9500ef8f817a74b0...</td>\n",
       "    </tr>\n",
       "    <tr>\n",
       "      <th>12513</th>\n",
       "      <td>42JyxahXnCCsguxrbm5KJW</td>\n",
       "      <td>X6</td>\n",
       "      <td>[Luchii, LUCKI]</td>\n",
       "      <td>X6</td>\n",
       "      <td>single</td>\n",
       "      <td>2020-04-10</td>\n",
       "      <td>https://i.scdn.co/image/ab67616d0000b27302622d...</td>\n",
       "      <td>184109</td>\n",
       "      <td>https://p.scdn.co/mp3-preview/f7b743a7eedd8864...</td>\n",
       "    </tr>\n",
       "    <tr>\n",
       "      <th>2892</th>\n",
       "      <td>6WZ30TjxQJjEnvVMVSUkhi</td>\n",
       "      <td>Como Quererte</td>\n",
       "      <td>[Cyclo]</td>\n",
       "      <td>Confinad@s</td>\n",
       "      <td>single</td>\n",
       "      <td>2020-05-22</td>\n",
       "      <td>https://i.scdn.co/image/ab67616d0000b2736c776e...</td>\n",
       "      <td>176000</td>\n",
       "      <td>https://p.scdn.co/mp3-preview/e1219bb0e37e87f2...</td>\n",
       "    </tr>\n",
       "    <tr>\n",
       "      <th>1979</th>\n",
       "      <td>0ib4ueBodO54DR8VBLxgxj</td>\n",
       "      <td>Island</td>\n",
       "      <td>[Soulja Boy]</td>\n",
       "      <td>Big Draco 2</td>\n",
       "      <td>album</td>\n",
       "      <td>2021-11-19</td>\n",
       "      <td>https://i.scdn.co/image/ab67616d0000b273f452e0...</td>\n",
       "      <td>134452</td>\n",
       "      <td>https://p.scdn.co/mp3-preview/8aa06b6c9d0b9994...</td>\n",
       "    </tr>\n",
       "    <tr>\n",
       "      <th>...</th>\n",
       "      <td>...</td>\n",
       "      <td>...</td>\n",
       "      <td>...</td>\n",
       "      <td>...</td>\n",
       "      <td>...</td>\n",
       "      <td>...</td>\n",
       "      <td>...</td>\n",
       "      <td>...</td>\n",
       "      <td>...</td>\n",
       "    </tr>\n",
       "    <tr>\n",
       "      <th>12714</th>\n",
       "      <td>75e4Wu67nI2BKi0A8RKTPn</td>\n",
       "      <td>50 Cents</td>\n",
       "      <td>[Nahir]</td>\n",
       "      <td>Sale môme (Edition Finale)</td>\n",
       "      <td>album</td>\n",
       "      <td>2021-07-16</td>\n",
       "      <td>https://i.scdn.co/image/ab67616d0000b273f0537a...</td>\n",
       "      <td>164573</td>\n",
       "      <td>https://p.scdn.co/mp3-preview/b8148e6e5451c2fa...</td>\n",
       "    </tr>\n",
       "    <tr>\n",
       "      <th>7546</th>\n",
       "      <td>7IZUVK7FZWazFdqpjY1CDe</td>\n",
       "      <td>Turn Up (feat. Cap 1)</td>\n",
       "      <td>[2 Chainz, Cap 1]</td>\n",
       "      <td>T.R.U. REALigion (Anniversary Edition)</td>\n",
       "      <td>album</td>\n",
       "      <td>2021-11-05</td>\n",
       "      <td>https://i.scdn.co/image/ab67616d0000b273aba0de...</td>\n",
       "      <td>246640</td>\n",
       "      <td>https://p.scdn.co/mp3-preview/1b4525a5b9c01388...</td>\n",
       "    </tr>\n",
       "    <tr>\n",
       "      <th>4087</th>\n",
       "      <td>3LbXzCehkT8acW8FsPpPKt</td>\n",
       "      <td>Make Up Your Mind (feat. Tekno)</td>\n",
       "      <td>[Ice Prince, Tekno]</td>\n",
       "      <td>Make Up Your Mind (feat. Tekno)</td>\n",
       "      <td>single</td>\n",
       "      <td>2020-09-04</td>\n",
       "      <td>https://i.scdn.co/image/ab67616d0000b273b75201...</td>\n",
       "      <td>184797</td>\n",
       "      <td>https://p.scdn.co/mp3-preview/42c8bf330072d358...</td>\n",
       "    </tr>\n",
       "    <tr>\n",
       "      <th>11818</th>\n",
       "      <td>0j1VxrPkMyFGvz0jZzxUoZ</td>\n",
       "      <td>Dembow 2020</td>\n",
       "      <td>[Yandel, Rauw Alejandro]</td>\n",
       "      <td>Quien Contra Mi 2</td>\n",
       "      <td>album</td>\n",
       "      <td>2020-07-31</td>\n",
       "      <td>https://i.scdn.co/image/ab67616d0000b273e27a84...</td>\n",
       "      <td>168051</td>\n",
       "      <td>https://p.scdn.co/mp3-preview/864273424b70da0a...</td>\n",
       "    </tr>\n",
       "    <tr>\n",
       "      <th>1185</th>\n",
       "      <td>4n358XQMHXd0xi6NazWdxr</td>\n",
       "      <td>Vex Oh (feat. Eight9FLY)</td>\n",
       "      <td>[KAYTRANADA, GoldLink, Ari PenSmith, Eight9FLY]</td>\n",
       "      <td>BUBBA</td>\n",
       "      <td>album</td>\n",
       "      <td>2019-12-13</td>\n",
       "      <td>https://i.scdn.co/image/ab67616d0000b2739b6375...</td>\n",
       "      <td>162146</td>\n",
       "      <td>https://p.scdn.co/mp3-preview/c86a1e7a7aa54e55...</td>\n",
       "    </tr>\n",
       "  </tbody>\n",
       "</table>\n",
       "<p>12145 rows × 9 columns</p>\n",
       "</div>"
      ],
      "text/plain": [
       "                           id                            track  \\\n",
       "2240   63RBz67jggREqBXd5xKs66                    1000 Highways   \n",
       "5316   68nU3LlPvVwS4PHjyMpIas                           Icebox   \n",
       "12513  42JyxahXnCCsguxrbm5KJW                               X6   \n",
       "2892   6WZ30TjxQJjEnvVMVSUkhi                    Como Quererte   \n",
       "1979   0ib4ueBodO54DR8VBLxgxj                           Island   \n",
       "...                       ...                              ...   \n",
       "12714  75e4Wu67nI2BKi0A8RKTPn                         50 Cents   \n",
       "7546   7IZUVK7FZWazFdqpjY1CDe            Turn Up (feat. Cap 1)   \n",
       "4087   3LbXzCehkT8acW8FsPpPKt  Make Up Your Mind (feat. Tekno)   \n",
       "11818  0j1VxrPkMyFGvz0jZzxUoZ                      Dembow 2020   \n",
       "1185   4n358XQMHXd0xi6NazWdxr         Vex Oh (feat. Eight9FLY)   \n",
       "\n",
       "                                               artists  \\\n",
       "2240                                         [SonReal]   \n",
       "5316                                     [Kevin Gates]   \n",
       "12513                                  [Luchii, LUCKI]   \n",
       "2892                                           [Cyclo]   \n",
       "1979                                      [Soulja Boy]   \n",
       "...                                                ...   \n",
       "12714                                          [Nahir]   \n",
       "7546                                 [2 Chainz, Cap 1]   \n",
       "4087                               [Ice Prince, Tekno]   \n",
       "11818                         [Yandel, Rauw Alejandro]   \n",
       "1185   [KAYTRANADA, GoldLink, Ari PenSmith, Eight9FLY]   \n",
       "\n",
       "                                   album_name album_type release_date  \\\n",
       "2240                            1000 Highways     single   2019-03-26   \n",
       "5316                                  I'm Him      album   2019-09-27   \n",
       "12513                                      X6     single   2020-04-10   \n",
       "2892                               Confinad@s     single   2020-05-22   \n",
       "1979                              Big Draco 2      album   2021-11-19   \n",
       "...                                       ...        ...          ...   \n",
       "12714              Sale môme (Edition Finale)      album   2021-07-16   \n",
       "7546   T.R.U. REALigion (Anniversary Edition)      album   2021-11-05   \n",
       "4087          Make Up Your Mind (feat. Tekno)     single   2020-09-04   \n",
       "11818                       Quien Contra Mi 2      album   2020-07-31   \n",
       "1185                                    BUBBA      album   2019-12-13   \n",
       "\n",
       "                                                   image  duration_ms  \\\n",
       "2240   https://i.scdn.co/image/ab67616d0000b273d17d4f...       237142   \n",
       "5316   https://i.scdn.co/image/ab67616d0000b2739a99ab...       159040   \n",
       "12513  https://i.scdn.co/image/ab67616d0000b27302622d...       184109   \n",
       "2892   https://i.scdn.co/image/ab67616d0000b2736c776e...       176000   \n",
       "1979   https://i.scdn.co/image/ab67616d0000b273f452e0...       134452   \n",
       "...                                                  ...          ...   \n",
       "12714  https://i.scdn.co/image/ab67616d0000b273f0537a...       164573   \n",
       "7546   https://i.scdn.co/image/ab67616d0000b273aba0de...       246640   \n",
       "4087   https://i.scdn.co/image/ab67616d0000b273b75201...       184797   \n",
       "11818  https://i.scdn.co/image/ab67616d0000b273e27a84...       168051   \n",
       "1185   https://i.scdn.co/image/ab67616d0000b2739b6375...       162146   \n",
       "\n",
       "                                             preview_url  \n",
       "2240   https://p.scdn.co/mp3-preview/87af2089c79d084d...  \n",
       "5316   https://p.scdn.co/mp3-preview/9500ef8f817a74b0...  \n",
       "12513  https://p.scdn.co/mp3-preview/f7b743a7eedd8864...  \n",
       "2892   https://p.scdn.co/mp3-preview/e1219bb0e37e87f2...  \n",
       "1979   https://p.scdn.co/mp3-preview/8aa06b6c9d0b9994...  \n",
       "...                                                  ...  \n",
       "12714  https://p.scdn.co/mp3-preview/b8148e6e5451c2fa...  \n",
       "7546   https://p.scdn.co/mp3-preview/1b4525a5b9c01388...  \n",
       "4087   https://p.scdn.co/mp3-preview/42c8bf330072d358...  \n",
       "11818  https://p.scdn.co/mp3-preview/864273424b70da0a...  \n",
       "1185   https://p.scdn.co/mp3-preview/c86a1e7a7aa54e55...  \n",
       "\n",
       "[12145 rows x 9 columns]"
      ]
     },
     "execution_count": 9,
     "metadata": {},
     "output_type": "execute_result"
    }
   ],
   "source": [
    "X_train"
   ]
  },
  {
   "cell_type": "code",
   "execution_count": 10,
   "metadata": {
    "ExecuteTime": {
     "end_time": "2021-11-28T04:21:33.717420Z",
     "start_time": "2021-11-28T04:21:33.714814Z"
    }
   },
   "outputs": [],
   "source": [
    "def get_mp3(http, directory, name):\n",
    "    try:\n",
    "        r = requests.get(http, timeout=0.5)\n",
    "        with open(f'{directory}_mp3/{name}.mp3', 'wb') as f:\n",
    "            f.write(r.content)\n",
    "    except:\n",
    "        print(f'mp3 timeout: index {name}')"
   ]
  },
  {
   "cell_type": "code",
   "execution_count": 66,
   "metadata": {
    "ExecuteTime": {
     "end_time": "2021-11-28T18:29:36.837310Z",
     "start_time": "2021-11-28T18:29:36.817104Z"
    }
   },
   "outputs": [],
   "source": [
    "class LibrosaProcessing:\n",
    "    def __init__(self, data, directory):\n",
    "        self.input_ = data.copy()\n",
    "        self.directory_ = directory\n",
    "\n",
    "    def get_mp3(self):\n",
    "        self.mp3_directory_ = f'{self.directory_}/mp3'\n",
    "        if not os.path.exists(self.mp3_directory_):\n",
    "            os.mkdir(self.mp3_directory_)\n",
    "        self.input_['preview_url'].reset_index().apply(lambda x: get_mp3(x[1],\n",
    "                                                                         self.mp3_directory_,\n",
    "                                                                         x[0]), axis=1)\n",
    "        print('mp3s acquired')\n",
    "        \n",
    "    def get_wav(self):\n",
    "        self.mp3_directory_ = f'{self.directory_}/mp3'\n",
    "        self.wav_directory_ = f'{self.directory_}/wav'\n",
    "        if not os.path.exists(self.wav_directory_):\n",
    "            os.mkdir(self.wav_directory_)\n",
    "        for file in os.listdir(self.mp3_directory_):\n",
    "            dest = f'{self.wav_directory_}/{file.split(\".\")[0]}.wav'\n",
    "            AudioSegment.from_mp3(file).export(dest, format='wav')\n",
    "\n",
    "    def mfcc(self):\n",
    "        pass\n",
    "#         librosa."
   ]
  },
  {
   "cell_type": "code",
   "execution_count": 69,
   "metadata": {
    "ExecuteTime": {
     "end_time": "2021-11-28T18:30:00.450387Z",
     "start_time": "2021-11-28T18:30:00.410209Z"
    }
   },
   "outputs": [
    {
     "ename": "FileNotFoundError",
     "evalue": "[Errno 2] No such file or directory: '14788.mp3'",
     "output_type": "error",
     "traceback": [
      "\u001b[0;31m---------------------------------------------------------------------------\u001b[0m",
      "\u001b[0;31mFileNotFoundError\u001b[0m                         Traceback (most recent call last)",
      "\u001b[0;32m<ipython-input-69-f9ccab2233b1>\u001b[0m in \u001b[0;36m<module>\u001b[0;34m\u001b[0m\n\u001b[1;32m      3\u001b[0m \u001b[0;31m# lp.input_\u001b[0m\u001b[0;34m\u001b[0m\u001b[0;34m\u001b[0m\u001b[0;34m\u001b[0m\u001b[0m\n\u001b[1;32m      4\u001b[0m \u001b[0;31m# lp.directory_\u001b[0m\u001b[0;34m\u001b[0m\u001b[0;34m\u001b[0m\u001b[0;34m\u001b[0m\u001b[0m\n\u001b[0;32m----> 5\u001b[0;31m \u001b[0mlp\u001b[0m\u001b[0;34m.\u001b[0m\u001b[0mget_wav\u001b[0m\u001b[0;34m(\u001b[0m\u001b[0;34m)\u001b[0m\u001b[0;34m\u001b[0m\u001b[0;34m\u001b[0m\u001b[0m\n\u001b[0m",
      "\u001b[0;32m<ipython-input-66-6c0bf9878921>\u001b[0m in \u001b[0;36mget_wav\u001b[0;34m(self)\u001b[0m\n\u001b[1;32m     20\u001b[0m         \u001b[0;32mfor\u001b[0m \u001b[0mfile\u001b[0m \u001b[0;32min\u001b[0m \u001b[0mos\u001b[0m\u001b[0;34m.\u001b[0m\u001b[0mlistdir\u001b[0m\u001b[0;34m(\u001b[0m\u001b[0mself\u001b[0m\u001b[0;34m.\u001b[0m\u001b[0mmp3_directory_\u001b[0m\u001b[0;34m)\u001b[0m\u001b[0;34m:\u001b[0m\u001b[0;34m\u001b[0m\u001b[0;34m\u001b[0m\u001b[0m\n\u001b[1;32m     21\u001b[0m             \u001b[0mdest\u001b[0m \u001b[0;34m=\u001b[0m \u001b[0;34mf'{self.wav_directory_}/{file.split(\".\")[0]}.wav'\u001b[0m\u001b[0;34m\u001b[0m\u001b[0;34m\u001b[0m\u001b[0m\n\u001b[0;32m---> 22\u001b[0;31m             \u001b[0mAudioSegment\u001b[0m\u001b[0;34m.\u001b[0m\u001b[0mfrom_mp3\u001b[0m\u001b[0;34m(\u001b[0m\u001b[0mfile\u001b[0m\u001b[0;34m)\u001b[0m\u001b[0;34m.\u001b[0m\u001b[0mexport\u001b[0m\u001b[0;34m(\u001b[0m\u001b[0mdest\u001b[0m\u001b[0;34m,\u001b[0m \u001b[0mformat\u001b[0m\u001b[0;34m=\u001b[0m\u001b[0;34m'wav'\u001b[0m\u001b[0;34m)\u001b[0m\u001b[0;34m\u001b[0m\u001b[0;34m\u001b[0m\u001b[0m\n\u001b[0m\u001b[1;32m     23\u001b[0m \u001b[0;34m\u001b[0m\u001b[0m\n\u001b[1;32m     24\u001b[0m     \u001b[0;32mdef\u001b[0m \u001b[0mmfcc\u001b[0m\u001b[0;34m(\u001b[0m\u001b[0mself\u001b[0m\u001b[0;34m)\u001b[0m\u001b[0;34m:\u001b[0m\u001b[0;34m\u001b[0m\u001b[0;34m\u001b[0m\u001b[0m\n",
      "\u001b[0;32m/opt/anaconda3/envs/learn-env/lib/python3.8/site-packages/pydub/audio_segment.py\u001b[0m in \u001b[0;36mfrom_mp3\u001b[0;34m(cls, file, parameters)\u001b[0m\n\u001b[1;32m    794\u001b[0m     \u001b[0;34m@\u001b[0m\u001b[0mclassmethod\u001b[0m\u001b[0;34m\u001b[0m\u001b[0;34m\u001b[0m\u001b[0m\n\u001b[1;32m    795\u001b[0m     \u001b[0;32mdef\u001b[0m \u001b[0mfrom_mp3\u001b[0m\u001b[0;34m(\u001b[0m\u001b[0mcls\u001b[0m\u001b[0;34m,\u001b[0m \u001b[0mfile\u001b[0m\u001b[0;34m,\u001b[0m \u001b[0mparameters\u001b[0m\u001b[0;34m=\u001b[0m\u001b[0;32mNone\u001b[0m\u001b[0;34m)\u001b[0m\u001b[0;34m:\u001b[0m\u001b[0;34m\u001b[0m\u001b[0;34m\u001b[0m\u001b[0m\n\u001b[0;32m--> 796\u001b[0;31m         \u001b[0;32mreturn\u001b[0m \u001b[0mcls\u001b[0m\u001b[0;34m.\u001b[0m\u001b[0mfrom_file\u001b[0m\u001b[0;34m(\u001b[0m\u001b[0mfile\u001b[0m\u001b[0;34m,\u001b[0m \u001b[0;34m'mp3'\u001b[0m\u001b[0;34m,\u001b[0m \u001b[0mparameters\u001b[0m\u001b[0;34m=\u001b[0m\u001b[0mparameters\u001b[0m\u001b[0;34m)\u001b[0m\u001b[0;34m\u001b[0m\u001b[0;34m\u001b[0m\u001b[0m\n\u001b[0m\u001b[1;32m    797\u001b[0m \u001b[0;34m\u001b[0m\u001b[0m\n\u001b[1;32m    798\u001b[0m     \u001b[0;34m@\u001b[0m\u001b[0mclassmethod\u001b[0m\u001b[0;34m\u001b[0m\u001b[0;34m\u001b[0m\u001b[0m\n",
      "\u001b[0;32m/opt/anaconda3/envs/learn-env/lib/python3.8/site-packages/pydub/audio_segment.py\u001b[0m in \u001b[0;36mfrom_file\u001b[0;34m(cls, file, format, codec, parameters, start_second, duration, **kwargs)\u001b[0m\n\u001b[1;32m    649\u001b[0m         \u001b[0;32mexcept\u001b[0m \u001b[0mTypeError\u001b[0m\u001b[0;34m:\u001b[0m\u001b[0;34m\u001b[0m\u001b[0;34m\u001b[0m\u001b[0m\n\u001b[1;32m    650\u001b[0m             \u001b[0mfilename\u001b[0m \u001b[0;34m=\u001b[0m \u001b[0;32mNone\u001b[0m\u001b[0;34m\u001b[0m\u001b[0;34m\u001b[0m\u001b[0m\n\u001b[0;32m--> 651\u001b[0;31m         \u001b[0mfile\u001b[0m\u001b[0;34m,\u001b[0m \u001b[0mclose_file\u001b[0m \u001b[0;34m=\u001b[0m \u001b[0m_fd_or_path_or_tempfile\u001b[0m\u001b[0;34m(\u001b[0m\u001b[0mfile\u001b[0m\u001b[0;34m,\u001b[0m \u001b[0;34m'rb'\u001b[0m\u001b[0;34m,\u001b[0m \u001b[0mtempfile\u001b[0m\u001b[0;34m=\u001b[0m\u001b[0;32mFalse\u001b[0m\u001b[0;34m)\u001b[0m\u001b[0;34m\u001b[0m\u001b[0;34m\u001b[0m\u001b[0m\n\u001b[0m\u001b[1;32m    652\u001b[0m \u001b[0;34m\u001b[0m\u001b[0m\n\u001b[1;32m    653\u001b[0m         \u001b[0;32mif\u001b[0m \u001b[0mformat\u001b[0m\u001b[0;34m:\u001b[0m\u001b[0;34m\u001b[0m\u001b[0;34m\u001b[0m\u001b[0m\n",
      "\u001b[0;32m/opt/anaconda3/envs/learn-env/lib/python3.8/site-packages/pydub/utils.py\u001b[0m in \u001b[0;36m_fd_or_path_or_tempfile\u001b[0;34m(fd, mode, tempfile)\u001b[0m\n\u001b[1;32m     58\u001b[0m \u001b[0;34m\u001b[0m\u001b[0m\n\u001b[1;32m     59\u001b[0m     \u001b[0;32mif\u001b[0m \u001b[0misinstance\u001b[0m\u001b[0;34m(\u001b[0m\u001b[0mfd\u001b[0m\u001b[0;34m,\u001b[0m \u001b[0mbasestring\u001b[0m\u001b[0;34m)\u001b[0m\u001b[0;34m:\u001b[0m\u001b[0;34m\u001b[0m\u001b[0;34m\u001b[0m\u001b[0m\n\u001b[0;32m---> 60\u001b[0;31m         \u001b[0mfd\u001b[0m \u001b[0;34m=\u001b[0m \u001b[0mopen\u001b[0m\u001b[0;34m(\u001b[0m\u001b[0mfd\u001b[0m\u001b[0;34m,\u001b[0m \u001b[0mmode\u001b[0m\u001b[0;34m=\u001b[0m\u001b[0mmode\u001b[0m\u001b[0;34m)\u001b[0m\u001b[0;34m\u001b[0m\u001b[0;34m\u001b[0m\u001b[0m\n\u001b[0m\u001b[1;32m     61\u001b[0m         \u001b[0mclose_fd\u001b[0m \u001b[0;34m=\u001b[0m \u001b[0;32mTrue\u001b[0m\u001b[0;34m\u001b[0m\u001b[0;34m\u001b[0m\u001b[0m\n\u001b[1;32m     62\u001b[0m \u001b[0;34m\u001b[0m\u001b[0m\n",
      "\u001b[0;31mFileNotFoundError\u001b[0m: [Errno 2] No such file or directory: '14788.mp3'"
     ]
    }
   ],
   "source": [
    "lp = LibrosaProcessing(X_train, 'data/X_train')\n",
    "\n",
    "# lp.input_\n",
    "# lp.directory_\n",
    "lp.get_wav()\n"
   ]
  },
  {
   "cell_type": "code",
   "execution_count": 32,
   "metadata": {
    "ExecuteTime": {
     "end_time": "2021-11-28T05:40:26.028952Z",
     "start_time": "2021-11-28T05:40:26.017563Z"
    }
   },
   "outputs": [
    {
     "data": {
      "text/plain": [
       "<generator object DataFrame.iteritems at 0x7ff31282a190>"
      ]
     },
     "execution_count": 32,
     "metadata": {},
     "output_type": "execute_result"
    }
   ],
   "source": [
    "X_train.iteritems()"
   ]
  },
  {
   "cell_type": "code",
   "execution_count": 13,
   "metadata": {
    "ExecuteTime": {
     "end_time": "2021-11-28T05:16:50.697404Z",
     "start_time": "2021-11-28T05:16:50.688573Z"
    }
   },
   "outputs": [
    {
     "data": {
      "text/plain": [
       "'data/collection_1'"
      ]
     },
     "execution_count": 13,
     "metadata": {},
     "output_type": "execute_result"
    }
   ],
   "source": [
    "'data/collection_1_mp3'[:-4]"
   ]
  },
  {
   "cell_type": "code",
   "execution_count": 12,
   "metadata": {
    "ExecuteTime": {
     "end_time": "2021-11-28T05:04:17.741598Z",
     "start_time": "2021-11-28T04:21:42.821773Z"
    }
   },
   "outputs": [
    {
     "name": "stdout",
     "output_type": "stream",
     "text": [
      "mp3 timeout: index 9135\n"
     ]
    },
    {
     "data": {
      "text/plain": [
       "0        None\n",
       "1        None\n",
       "2        None\n",
       "3        None\n",
       "4        None\n",
       "         ... \n",
       "12140    None\n",
       "12141    None\n",
       "12142    None\n",
       "12143    None\n",
       "12144    None\n",
       "Length: 12145, dtype: object"
      ]
     },
     "execution_count": 12,
     "metadata": {},
     "output_type": "execute_result"
    }
   ],
   "source": [
    "X_train['preview_url'].reset_index().apply(lambda x: get_mp3(x[1], 'data/collection_1', \n",
    "                                                             x[0]), axis=1)"
   ]
  },
  {
   "cell_type": "code",
   "execution_count": null,
   "metadata": {},
   "outputs": [],
   "source": []
  },
  {
   "cell_type": "code",
   "execution_count": null,
   "metadata": {},
   "outputs": [],
   "source": []
  },
  {
   "cell_type": "code",
   "execution_count": null,
   "metadata": {},
   "outputs": [],
   "source": []
  }
 ],
 "metadata": {
  "kernelspec": {
   "display_name": "Python (learn-env)",
   "language": "python",
   "name": "learn-env"
  },
  "language_info": {
   "codemirror_mode": {
    "name": "ipython",
    "version": 3
   },
   "file_extension": ".py",
   "mimetype": "text/x-python",
   "name": "python",
   "nbconvert_exporter": "python",
   "pygments_lexer": "ipython3",
   "version": "3.8.5"
  },
  "varInspector": {
   "cols": {
    "lenName": 16,
    "lenType": 16,
    "lenVar": 40
   },
   "kernels_config": {
    "python": {
     "delete_cmd_postfix": "",
     "delete_cmd_prefix": "del ",
     "library": "var_list.py",
     "varRefreshCmd": "print(var_dic_list())"
    },
    "r": {
     "delete_cmd_postfix": ") ",
     "delete_cmd_prefix": "rm(",
     "library": "var_list.r",
     "varRefreshCmd": "cat(var_dic_list()) "
    }
   },
   "types_to_exclude": [
    "module",
    "function",
    "builtin_function_or_method",
    "instance",
    "_Feature"
   ],
   "window_display": false
  }
 },
 "nbformat": 4,
 "nbformat_minor": 4
}
