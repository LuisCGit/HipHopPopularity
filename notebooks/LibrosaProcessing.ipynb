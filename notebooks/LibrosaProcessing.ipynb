{
  "cells": [
    {
      "cell_type": "markdown",
      "metadata": {
        "id": "view-in-github",
        "colab_type": "text"
      },
      "source": [
        "<a href=\"https://colab.research.google.com/github/LuisCGit/HipHopPopularity/blob/main/notebooks/LibrosaProcessing.ipynb\" target=\"_parent\"><img src=\"https://colab.research.google.com/assets/colab-badge.svg\" alt=\"Open In Colab\"/></a>"
      ]
    },
    {
      "cell_type": "code",
      "execution_count": 2,
      "metadata": {
        "ExecuteTime": {
          "end_time": "2021-12-01T00:57:00.726112Z",
          "start_time": "2021-12-01T00:56:59.421249Z"
        },
        "id": "EF_USS970Y4e",
        "outputId": "17524ddd-6518-4e9c-a094-a3fad0a28533",
        "colab": {
          "base_uri": "https://localhost:8080/"
        }
      },
      "outputs": [
        {
          "output_type": "stream",
          "name": "stdout",
          "text": [
            "Requirement already satisfied: varname in /usr/local/lib/python3.7/dist-packages (0.8.3)\n",
            "Requirement already satisfied: asttokens<3.0.0,>=2.0.0 in /usr/local/lib/python3.7/dist-packages (from varname) (2.0.5)\n",
            "Requirement already satisfied: pure_eval<1.0.0 in /usr/local/lib/python3.7/dist-packages (from varname) (0.2.2)\n",
            "Requirement already satisfied: executing<0.9.0,>=0.8.3 in /usr/local/lib/python3.7/dist-packages (from varname) (0.8.3)\n",
            "Requirement already satisfied: six in /usr/local/lib/python3.7/dist-packages (from asttokens<3.0.0,>=2.0.0->varname) (1.15.0)\n",
            "Requirement already satisfied: pydub in /usr/local/lib/python3.7/dist-packages (0.25.1)\n",
            "Requirement already satisfied: librosa in /usr/local/lib/python3.7/dist-packages (0.8.1)\n",
            "Requirement already satisfied: audioread>=2.0.0 in /usr/local/lib/python3.7/dist-packages (from librosa) (2.1.9)\n",
            "Requirement already satisfied: resampy>=0.2.2 in /usr/local/lib/python3.7/dist-packages (from librosa) (0.2.2)\n",
            "Requirement already satisfied: scikit-learn!=0.19.0,>=0.14.0 in /usr/local/lib/python3.7/dist-packages (from librosa) (1.0.2)\n",
            "Requirement already satisfied: numpy>=1.15.0 in /usr/local/lib/python3.7/dist-packages (from librosa) (1.21.6)\n",
            "Requirement already satisfied: numba>=0.43.0 in /usr/local/lib/python3.7/dist-packages (from librosa) (0.51.2)\n",
            "Requirement already satisfied: packaging>=20.0 in /usr/local/lib/python3.7/dist-packages (from librosa) (21.3)\n",
            "Requirement already satisfied: pooch>=1.0 in /usr/local/lib/python3.7/dist-packages (from librosa) (1.6.0)\n",
            "Requirement already satisfied: joblib>=0.14 in /usr/local/lib/python3.7/dist-packages (from librosa) (1.1.0)\n",
            "Requirement already satisfied: soundfile>=0.10.2 in /usr/local/lib/python3.7/dist-packages (from librosa) (0.10.3.post1)\n",
            "Requirement already satisfied: decorator>=3.0.0 in /usr/local/lib/python3.7/dist-packages (from librosa) (4.4.2)\n",
            "Requirement already satisfied: scipy>=1.0.0 in /usr/local/lib/python3.7/dist-packages (from librosa) (1.4.1)\n",
            "Requirement already satisfied: llvmlite<0.35,>=0.34.0.dev0 in /usr/local/lib/python3.7/dist-packages (from numba>=0.43.0->librosa) (0.34.0)\n",
            "Requirement already satisfied: setuptools in /usr/local/lib/python3.7/dist-packages (from numba>=0.43.0->librosa) (57.4.0)\n",
            "Requirement already satisfied: pyparsing!=3.0.5,>=2.0.2 in /usr/local/lib/python3.7/dist-packages (from packaging>=20.0->librosa) (3.0.8)\n",
            "Requirement already satisfied: requests>=2.19.0 in /usr/local/lib/python3.7/dist-packages (from pooch>=1.0->librosa) (2.23.0)\n",
            "Requirement already satisfied: appdirs>=1.3.0 in /usr/local/lib/python3.7/dist-packages (from pooch>=1.0->librosa) (1.4.4)\n",
            "Requirement already satisfied: idna<3,>=2.5 in /usr/local/lib/python3.7/dist-packages (from requests>=2.19.0->pooch>=1.0->librosa) (2.10)\n",
            "Requirement already satisfied: urllib3!=1.25.0,!=1.25.1,<1.26,>=1.21.1 in /usr/local/lib/python3.7/dist-packages (from requests>=2.19.0->pooch>=1.0->librosa) (1.24.3)\n",
            "Requirement already satisfied: certifi>=2017.4.17 in /usr/local/lib/python3.7/dist-packages (from requests>=2.19.0->pooch>=1.0->librosa) (2021.10.8)\n",
            "Requirement already satisfied: chardet<4,>=3.0.2 in /usr/local/lib/python3.7/dist-packages (from requests>=2.19.0->pooch>=1.0->librosa) (3.0.4)\n",
            "Requirement already satisfied: six>=1.3 in /usr/local/lib/python3.7/dist-packages (from resampy>=0.2.2->librosa) (1.15.0)\n",
            "Requirement already satisfied: threadpoolctl>=2.0.0 in /usr/local/lib/python3.7/dist-packages (from scikit-learn!=0.19.0,>=0.14.0->librosa) (3.1.0)\n",
            "Requirement already satisfied: cffi>=1.0 in /usr/local/lib/python3.7/dist-packages (from soundfile>=0.10.2->librosa) (1.15.0)\n",
            "Requirement already satisfied: pycparser in /usr/local/lib/python3.7/dist-packages (from cffi>=1.0->soundfile>=0.10.2->librosa) (2.21)\n"
          ]
        }
      ],
      "source": [
        "!pip install varname\n",
        "!pip install pydub\n",
        "!pip install librosa\n",
        "\n",
        "import numpy as np\n",
        "import pandas as pd\n",
        "pd.set_option('display.max_columns', None)\n",
        "from ast import literal_eval\n",
        "\n",
        "import matplotlib.pyplot as plt\n",
        "\n",
        "from sklearn.model_selection import train_test_split\n",
        "\n",
        "import IPython.display as ipd\n",
        "\n",
        "import requests\n",
        "import os\n",
        "from varname import argname\n",
        "from pydub import AudioSegment\n",
        "import librosa\n",
        "import librosa.display\n",
        "\n",
        "import pickle"
      ]
    },
    {
      "cell_type": "code",
      "source": [
        "#!wget -O lp.pkl_n2k https://www.dropbox.com/s/cbyr3w2mcn8afds/lp.pkl_n2k?dl=0\n",
        "# with open('lp.pkl_n2k', 'rb') as f:\n",
        "#   lp = pickle.load(f)\n",
        "\n",
        "# !wget -O lp3.pkl_n2k https://www.dropbox.com/s/my6z6u6l3b9wnce/lp3.pkl_n2k?dl=0\n",
        "# with open('lp3.pkl_n2k', 'rb') as f:\n",
        "#   lp3 = pickle.load(f)\n",
        "\n",
        "# !wget -O mel_spec_datadict https://www.dropbox.com/s/nrebpbe5g97sptu/mel_spec_datadict?dl=0\n",
        "# with open('mel_spec_datadict', 'rb') as f:\n",
        "#   mel_spec_datadict = pickle.load(f)\n",
        "\n",
        "!wget -O raw_datadict.pkl_n2k https://www.dropbox.com/s/51chsdgaro90px5/raw_datadict.pkl_n2k?dl=0\n",
        "with open('mel_spec_datadict', 'rb') as f:\n",
        "  raw_datadict = pickle.load(f)"
      ],
      "metadata": {
        "id": "Ur1JY8H0neh-",
        "outputId": "7b92c858-c127-4e25-860d-8dfc2f779666",
        "colab": {
          "base_uri": "https://localhost:8080/"
        }
      },
      "execution_count": 3,
      "outputs": [
        {
          "output_type": "stream",
          "name": "stdout",
          "text": [
            "--2022-05-01 16:29:37--  https://www.dropbox.com/s/51chsdgaro90px5/raw_datadict.pkl_n2k?dl=0\n",
            "Resolving www.dropbox.com (www.dropbox.com)... 162.125.5.18, 2620:100:601d:18::a27d:512\n",
            "Connecting to www.dropbox.com (www.dropbox.com)|162.125.5.18|:443... connected.\n",
            "HTTP request sent, awaiting response... 301 Moved Permanently\n",
            "Location: /s/raw/51chsdgaro90px5/raw_datadict.pkl_n2k [following]\n",
            "--2022-05-01 16:29:37--  https://www.dropbox.com/s/raw/51chsdgaro90px5/raw_datadict.pkl_n2k\n",
            "Reusing existing connection to www.dropbox.com:443.\n",
            "HTTP request sent, awaiting response... 302 Found\n",
            "Location: https://ucd06e6d8f46b9734a4c0c812fe8.dl.dropboxusercontent.com/cd/0/inline/Bkdn2XUIWBAh6w-CwN4OGPX1b-ZZudGycKgY8-TIANF9ALfzyQCjmrJd0Fl5nDhiBLF9zNajL4sPil6DMJfqdnusGpOTBL4ityQYEpNjWeW7pbDXyQqyZbqgNq2o3xcISb_T-fO9kwNrCf_0E0RBio596Ug0JXgbKWMZhrqzKUuqrQ/file# [following]\n",
            "--2022-05-01 16:29:37--  https://ucd06e6d8f46b9734a4c0c812fe8.dl.dropboxusercontent.com/cd/0/inline/Bkdn2XUIWBAh6w-CwN4OGPX1b-ZZudGycKgY8-TIANF9ALfzyQCjmrJd0Fl5nDhiBLF9zNajL4sPil6DMJfqdnusGpOTBL4ityQYEpNjWeW7pbDXyQqyZbqgNq2o3xcISb_T-fO9kwNrCf_0E0RBio596Ug0JXgbKWMZhrqzKUuqrQ/file\n",
            "Resolving ucd06e6d8f46b9734a4c0c812fe8.dl.dropboxusercontent.com (ucd06e6d8f46b9734a4c0c812fe8.dl.dropboxusercontent.com)... 162.125.5.15, 2620:100:601d:15::a27d:50f\n",
            "Connecting to ucd06e6d8f46b9734a4c0c812fe8.dl.dropboxusercontent.com (ucd06e6d8f46b9734a4c0c812fe8.dl.dropboxusercontent.com)|162.125.5.15|:443... connected.\n",
            "HTTP request sent, awaiting response... 302 Found\n",
            "Location: /cd/0/inline2/BkdvcL54_ksGzWPzo579rbUAnyMFW3UCIKqWgtLGlF8S78WSmDE_hVxKx5EONQiW_--mGPyxsPMvznENt8KIReLuGjh49m0uMQizliSVtEZ4WhXR7-bgoPxwEALQ56575U8fZWz7W6xqdidAMt8BzbU20fNUyOz82erhHYU2BlrPjVi2ggQR80MlG6WCQKY3Iqu5wT72qqa-Qd7MAlBYqOITs9d_vldX6aSGSYxAL4uIuabc9b2DUnFyIZs95_j9Kxj5fPdGhKpgQo74r6tb4F6gm9Z2r9kKAXXEY4V0KgYHLNuEO5dvrqPoebOnc9EHe1eE11VE7xnjsX61siYjZzorpH8NUbNr3BGILOyQqj_5leYxYIAT3Y4uMx5WJdUhoO3DpYwwb97vFGdmJ5lPLrvhpwOCKOK7cwDqiCcpR9LYtA/file [following]\n",
            "--2022-05-01 16:29:38--  https://ucd06e6d8f46b9734a4c0c812fe8.dl.dropboxusercontent.com/cd/0/inline2/BkdvcL54_ksGzWPzo579rbUAnyMFW3UCIKqWgtLGlF8S78WSmDE_hVxKx5EONQiW_--mGPyxsPMvznENt8KIReLuGjh49m0uMQizliSVtEZ4WhXR7-bgoPxwEALQ56575U8fZWz7W6xqdidAMt8BzbU20fNUyOz82erhHYU2BlrPjVi2ggQR80MlG6WCQKY3Iqu5wT72qqa-Qd7MAlBYqOITs9d_vldX6aSGSYxAL4uIuabc9b2DUnFyIZs95_j9Kxj5fPdGhKpgQo74r6tb4F6gm9Z2r9kKAXXEY4V0KgYHLNuEO5dvrqPoebOnc9EHe1eE11VE7xnjsX61siYjZzorpH8NUbNr3BGILOyQqj_5leYxYIAT3Y4uMx5WJdUhoO3DpYwwb97vFGdmJ5lPLrvhpwOCKOK7cwDqiCcpR9LYtA/file\n",
            "Reusing existing connection to ucd06e6d8f46b9734a4c0c812fe8.dl.dropboxusercontent.com:443.\n",
            "HTTP request sent, awaiting response... 200 OK\n",
            "Length: 2164449 (2.1M) [application/octet-stream]\n",
            "Saving to: ‘raw_datadict.pkl_n2k’\n",
            "\n",
            "raw_datadict.pkl_n2 100%[===================>]   2.06M  --.-KB/s    in 0.1s    \n",
            "\n",
            "2022-05-01 16:29:38 (17.2 MB/s) - ‘raw_datadict.pkl_n2k’ saved [2164449/2164449]\n",
            "\n"
          ]
        }
      ]
    },
    {
      "cell_type": "code",
      "source": [
        "raw_datadict[\"X_holdout\"][0].head()"
      ],
      "metadata": {
        "id": "wVVNm-dkjYDO",
        "outputId": "941d8873-bd49-4317-9a8e-1cd349bff14f",
        "colab": {
          "base_uri": "https://localhost:8080/",
          "height": 426
        }
      },
      "execution_count": null,
      "outputs": [
        {
          "output_type": "execute_result",
          "data": {
            "text/plain": [
              "                           id           track                       artists  \\\n",
              "19311  4Ox8WAAhq0BK02B62yP203         7 Tears                [Shark Island]   \n",
              "25053  39TAKt2hL8sdhVTFCNfm2Y    Ai Đưa Em Về          [TIA, Le Thien Hieu]   \n",
              "28082  7fBy7U8Acr69muYNFhuZtg            5911  [Miss Pooja, Gurvinder Brar]   \n",
              "3643   4LGBvq6TRWVIeZ7CFyGsEd  I Lied (Intro)                [Joyner Lucas]   \n",
              "16692  5q5VVhl2BL7Ms2tO6hdvFp  Built from War         [Upon A Burning Body]   \n",
              "\n",
              "                     album_name album_type release_date  \\\n",
              "19311           Bloodline 2.020      album   2020-11-20   \n",
              "25053              Ai Đưa Em Về     single   2019-07-22   \n",
              "28082  Best Free Styles, Vol. 2      album   2020-07-18   \n",
              "3643                       ADHD      album   2020-03-27   \n",
              "16692            Built from War     single   2020-07-31   \n",
              "\n",
              "                                                   image  duration_ms  \\\n",
              "19311  https://i.scdn.co/image/ab67616d0000b273951041...       330986   \n",
              "25053  https://i.scdn.co/image/ab67616d0000b273983b10...       233249   \n",
              "28082  https://i.scdn.co/image/ab67616d0000b27349a1c9...       242917   \n",
              "3643   https://i.scdn.co/image/ab67616d0000b273e7e2da...       251496   \n",
              "16692  https://i.scdn.co/image/ab67616d0000b273dbfc6b...       204661   \n",
              "\n",
              "                                             preview_url    genre  \n",
              "19311  https://p.scdn.co/mp3-preview/7944d46e56d1a8b2...    Metal  \n",
              "25053  https://p.scdn.co/mp3-preview/411bea81d0fa9d1a...      Pop  \n",
              "28082  https://p.scdn.co/mp3-preview/c4043d3cbb6901c3...      Pop  \n",
              "3643   https://p.scdn.co/mp3-preview/33c4f5e9f34e5564...  Hip-Hop  \n",
              "16692  https://p.scdn.co/mp3-preview/f399cb5b2f16e6f7...    Metal  "
            ],
            "text/html": [
              "\n",
              "  <div id=\"df-0affb43f-89f7-4004-a632-51d48b987b78\">\n",
              "    <div class=\"colab-df-container\">\n",
              "      <div>\n",
              "<style scoped>\n",
              "    .dataframe tbody tr th:only-of-type {\n",
              "        vertical-align: middle;\n",
              "    }\n",
              "\n",
              "    .dataframe tbody tr th {\n",
              "        vertical-align: top;\n",
              "    }\n",
              "\n",
              "    .dataframe thead th {\n",
              "        text-align: right;\n",
              "    }\n",
              "</style>\n",
              "<table border=\"1\" class=\"dataframe\">\n",
              "  <thead>\n",
              "    <tr style=\"text-align: right;\">\n",
              "      <th></th>\n",
              "      <th>id</th>\n",
              "      <th>track</th>\n",
              "      <th>artists</th>\n",
              "      <th>album_name</th>\n",
              "      <th>album_type</th>\n",
              "      <th>release_date</th>\n",
              "      <th>image</th>\n",
              "      <th>duration_ms</th>\n",
              "      <th>preview_url</th>\n",
              "      <th>genre</th>\n",
              "    </tr>\n",
              "  </thead>\n",
              "  <tbody>\n",
              "    <tr>\n",
              "      <th>19311</th>\n",
              "      <td>4Ox8WAAhq0BK02B62yP203</td>\n",
              "      <td>7 Tears</td>\n",
              "      <td>[Shark Island]</td>\n",
              "      <td>Bloodline 2.020</td>\n",
              "      <td>album</td>\n",
              "      <td>2020-11-20</td>\n",
              "      <td>https://i.scdn.co/image/ab67616d0000b273951041...</td>\n",
              "      <td>330986</td>\n",
              "      <td>https://p.scdn.co/mp3-preview/7944d46e56d1a8b2...</td>\n",
              "      <td>Metal</td>\n",
              "    </tr>\n",
              "    <tr>\n",
              "      <th>25053</th>\n",
              "      <td>39TAKt2hL8sdhVTFCNfm2Y</td>\n",
              "      <td>Ai Đưa Em Về</td>\n",
              "      <td>[TIA, Le Thien Hieu]</td>\n",
              "      <td>Ai Đưa Em Về</td>\n",
              "      <td>single</td>\n",
              "      <td>2019-07-22</td>\n",
              "      <td>https://i.scdn.co/image/ab67616d0000b273983b10...</td>\n",
              "      <td>233249</td>\n",
              "      <td>https://p.scdn.co/mp3-preview/411bea81d0fa9d1a...</td>\n",
              "      <td>Pop</td>\n",
              "    </tr>\n",
              "    <tr>\n",
              "      <th>28082</th>\n",
              "      <td>7fBy7U8Acr69muYNFhuZtg</td>\n",
              "      <td>5911</td>\n",
              "      <td>[Miss Pooja, Gurvinder Brar]</td>\n",
              "      <td>Best Free Styles, Vol. 2</td>\n",
              "      <td>album</td>\n",
              "      <td>2020-07-18</td>\n",
              "      <td>https://i.scdn.co/image/ab67616d0000b27349a1c9...</td>\n",
              "      <td>242917</td>\n",
              "      <td>https://p.scdn.co/mp3-preview/c4043d3cbb6901c3...</td>\n",
              "      <td>Pop</td>\n",
              "    </tr>\n",
              "    <tr>\n",
              "      <th>3643</th>\n",
              "      <td>4LGBvq6TRWVIeZ7CFyGsEd</td>\n",
              "      <td>I Lied (Intro)</td>\n",
              "      <td>[Joyner Lucas]</td>\n",
              "      <td>ADHD</td>\n",
              "      <td>album</td>\n",
              "      <td>2020-03-27</td>\n",
              "      <td>https://i.scdn.co/image/ab67616d0000b273e7e2da...</td>\n",
              "      <td>251496</td>\n",
              "      <td>https://p.scdn.co/mp3-preview/33c4f5e9f34e5564...</td>\n",
              "      <td>Hip-Hop</td>\n",
              "    </tr>\n",
              "    <tr>\n",
              "      <th>16692</th>\n",
              "      <td>5q5VVhl2BL7Ms2tO6hdvFp</td>\n",
              "      <td>Built from War</td>\n",
              "      <td>[Upon A Burning Body]</td>\n",
              "      <td>Built from War</td>\n",
              "      <td>single</td>\n",
              "      <td>2020-07-31</td>\n",
              "      <td>https://i.scdn.co/image/ab67616d0000b273dbfc6b...</td>\n",
              "      <td>204661</td>\n",
              "      <td>https://p.scdn.co/mp3-preview/f399cb5b2f16e6f7...</td>\n",
              "      <td>Metal</td>\n",
              "    </tr>\n",
              "  </tbody>\n",
              "</table>\n",
              "</div>\n",
              "      <button class=\"colab-df-convert\" onclick=\"convertToInteractive('df-0affb43f-89f7-4004-a632-51d48b987b78')\"\n",
              "              title=\"Convert this dataframe to an interactive table.\"\n",
              "              style=\"display:none;\">\n",
              "        \n",
              "  <svg xmlns=\"http://www.w3.org/2000/svg\" height=\"24px\"viewBox=\"0 0 24 24\"\n",
              "       width=\"24px\">\n",
              "    <path d=\"M0 0h24v24H0V0z\" fill=\"none\"/>\n",
              "    <path d=\"M18.56 5.44l.94 2.06.94-2.06 2.06-.94-2.06-.94-.94-2.06-.94 2.06-2.06.94zm-11 1L8.5 8.5l.94-2.06 2.06-.94-2.06-.94L8.5 2.5l-.94 2.06-2.06.94zm10 10l.94 2.06.94-2.06 2.06-.94-2.06-.94-.94-2.06-.94 2.06-2.06.94z\"/><path d=\"M17.41 7.96l-1.37-1.37c-.4-.4-.92-.59-1.43-.59-.52 0-1.04.2-1.43.59L10.3 9.45l-7.72 7.72c-.78.78-.78 2.05 0 2.83L4 21.41c.39.39.9.59 1.41.59.51 0 1.02-.2 1.41-.59l7.78-7.78 2.81-2.81c.8-.78.8-2.07 0-2.86zM5.41 20L4 18.59l7.72-7.72 1.47 1.35L5.41 20z\"/>\n",
              "  </svg>\n",
              "      </button>\n",
              "      \n",
              "  <style>\n",
              "    .colab-df-container {\n",
              "      display:flex;\n",
              "      flex-wrap:wrap;\n",
              "      gap: 12px;\n",
              "    }\n",
              "\n",
              "    .colab-df-convert {\n",
              "      background-color: #E8F0FE;\n",
              "      border: none;\n",
              "      border-radius: 50%;\n",
              "      cursor: pointer;\n",
              "      display: none;\n",
              "      fill: #1967D2;\n",
              "      height: 32px;\n",
              "      padding: 0 0 0 0;\n",
              "      width: 32px;\n",
              "    }\n",
              "\n",
              "    .colab-df-convert:hover {\n",
              "      background-color: #E2EBFA;\n",
              "      box-shadow: 0px 1px 2px rgba(60, 64, 67, 0.3), 0px 1px 3px 1px rgba(60, 64, 67, 0.15);\n",
              "      fill: #174EA6;\n",
              "    }\n",
              "\n",
              "    [theme=dark] .colab-df-convert {\n",
              "      background-color: #3B4455;\n",
              "      fill: #D2E3FC;\n",
              "    }\n",
              "\n",
              "    [theme=dark] .colab-df-convert:hover {\n",
              "      background-color: #434B5C;\n",
              "      box-shadow: 0px 1px 3px 1px rgba(0, 0, 0, 0.15);\n",
              "      filter: drop-shadow(0px 1px 2px rgba(0, 0, 0, 0.3));\n",
              "      fill: #FFFFFF;\n",
              "    }\n",
              "  </style>\n",
              "\n",
              "      <script>\n",
              "        const buttonEl =\n",
              "          document.querySelector('#df-0affb43f-89f7-4004-a632-51d48b987b78 button.colab-df-convert');\n",
              "        buttonEl.style.display =\n",
              "          google.colab.kernel.accessAllowed ? 'block' : 'none';\n",
              "\n",
              "        async function convertToInteractive(key) {\n",
              "          const element = document.querySelector('#df-0affb43f-89f7-4004-a632-51d48b987b78');\n",
              "          const dataTable =\n",
              "            await google.colab.kernel.invokeFunction('convertToInteractive',\n",
              "                                                     [key], {});\n",
              "          if (!dataTable) return;\n",
              "\n",
              "          const docLinkHtml = 'Like what you see? Visit the ' +\n",
              "            '<a target=\"_blank\" href=https://colab.research.google.com/notebooks/data_table.ipynb>data table notebook</a>'\n",
              "            + ' to learn more about interactive tables.';\n",
              "          element.innerHTML = '';\n",
              "          dataTable['output_type'] = 'display_data';\n",
              "          await google.colab.output.renderOutput(dataTable, element);\n",
              "          const docLink = document.createElement('div');\n",
              "          docLink.innerHTML = docLinkHtml;\n",
              "          element.appendChild(docLink);\n",
              "        }\n",
              "      </script>\n",
              "    </div>\n",
              "  </div>\n",
              "  "
            ]
          },
          "metadata": {},
          "execution_count": 22
        }
      ]
    },
    {
      "cell_type": "code",
      "execution_count": null,
      "metadata": {
        "ExecuteTime": {
          "end_time": "2021-12-01T00:57:02.163992Z",
          "start_time": "2021-12-01T00:57:02.066589Z"
        },
        "id": "Ajgj1-Ik0Y4f"
      },
      "outputs": [],
      "source": [
        "mp3s = pd.read_csv('dataset1_mp3s.csv', index_col=0)"
      ]
    },
    {
      "cell_type": "code",
      "execution_count": null,
      "metadata": {
        "ExecuteTime": {
          "end_time": "2021-12-01T00:57:02.576458Z",
          "start_time": "2021-12-01T00:57:02.438408Z"
        },
        "id": "XY_283Ov0Y4g"
      },
      "outputs": [],
      "source": [
        "mp3s['artists'] = mp3s['artists'].map(lambda x: literal_eval(x))"
      ]
    },
    {
      "cell_type": "code",
      "execution_count": null,
      "metadata": {
        "ExecuteTime": {
          "end_time": "2021-12-01T00:57:02.896458Z",
          "start_time": "2021-12-01T00:57:02.860578Z"
        },
        "id": "Se0RXrTk0Y4g",
        "outputId": "e4f733d0-8c79-41ae-f37b-ec182f123fad",
        "colab": {
          "base_uri": "https://localhost:8080/",
          "height": 384
        }
      },
      "outputs": [
        {
          "output_type": "execute_result",
          "data": {
            "text/plain": [
              "                          id  popularity  \\\n",
              "763   6Tguhaf2uAe6OjRLsR2Tql          75   \n",
              "2550  14c8arYQPMtxPcF4L4FYXC          45   \n",
              "\n",
              "                                        track                       artists  \\\n",
              "763   3 Headed Goat (feat. Lil Baby & Polo G)  [Lil Durk, Lil Baby, Polo G]   \n",
              "2550  3 Headed Goat (feat. Lil Baby & Polo G)  [Lil Durk, Lil Baby, Polo G]   \n",
              "\n",
              "                              album_name album_type release_date  \\\n",
              "763            Just Cause Y'all Waited 2      album   2020-05-08   \n",
              "2550  Just Cause Y'all Waited 2 (Deluxe)      album   2020-06-26   \n",
              "\n",
              "                                                  image  duration_ms  \\\n",
              "763   https://i.scdn.co/image/ab67616d0000b273f8558e...       169531   \n",
              "2550  https://i.scdn.co/image/ab67616d0000b273fec5f2...       169531   \n",
              "\n",
              "                                            preview_url    genre  \n",
              "763   https://p.scdn.co/mp3-preview/2d01e3ab3d48b281...  Hip-Hop  \n",
              "2550  https://p.scdn.co/mp3-preview/e2e7d8016dfba565...  Hip-Hop  "
            ],
            "text/html": [
              "\n",
              "  <div id=\"df-7db837db-beef-46db-931f-36f4eb946e6b\">\n",
              "    <div class=\"colab-df-container\">\n",
              "      <div>\n",
              "<style scoped>\n",
              "    .dataframe tbody tr th:only-of-type {\n",
              "        vertical-align: middle;\n",
              "    }\n",
              "\n",
              "    .dataframe tbody tr th {\n",
              "        vertical-align: top;\n",
              "    }\n",
              "\n",
              "    .dataframe thead th {\n",
              "        text-align: right;\n",
              "    }\n",
              "</style>\n",
              "<table border=\"1\" class=\"dataframe\">\n",
              "  <thead>\n",
              "    <tr style=\"text-align: right;\">\n",
              "      <th></th>\n",
              "      <th>id</th>\n",
              "      <th>popularity</th>\n",
              "      <th>track</th>\n",
              "      <th>artists</th>\n",
              "      <th>album_name</th>\n",
              "      <th>album_type</th>\n",
              "      <th>release_date</th>\n",
              "      <th>image</th>\n",
              "      <th>duration_ms</th>\n",
              "      <th>preview_url</th>\n",
              "      <th>genre</th>\n",
              "    </tr>\n",
              "  </thead>\n",
              "  <tbody>\n",
              "    <tr>\n",
              "      <th>763</th>\n",
              "      <td>6Tguhaf2uAe6OjRLsR2Tql</td>\n",
              "      <td>75</td>\n",
              "      <td>3 Headed Goat (feat. Lil Baby &amp; Polo G)</td>\n",
              "      <td>[Lil Durk, Lil Baby, Polo G]</td>\n",
              "      <td>Just Cause Y'all Waited 2</td>\n",
              "      <td>album</td>\n",
              "      <td>2020-05-08</td>\n",
              "      <td>https://i.scdn.co/image/ab67616d0000b273f8558e...</td>\n",
              "      <td>169531</td>\n",
              "      <td>https://p.scdn.co/mp3-preview/2d01e3ab3d48b281...</td>\n",
              "      <td>Hip-Hop</td>\n",
              "    </tr>\n",
              "    <tr>\n",
              "      <th>2550</th>\n",
              "      <td>14c8arYQPMtxPcF4L4FYXC</td>\n",
              "      <td>45</td>\n",
              "      <td>3 Headed Goat (feat. Lil Baby &amp; Polo G)</td>\n",
              "      <td>[Lil Durk, Lil Baby, Polo G]</td>\n",
              "      <td>Just Cause Y'all Waited 2 (Deluxe)</td>\n",
              "      <td>album</td>\n",
              "      <td>2020-06-26</td>\n",
              "      <td>https://i.scdn.co/image/ab67616d0000b273fec5f2...</td>\n",
              "      <td>169531</td>\n",
              "      <td>https://p.scdn.co/mp3-preview/e2e7d8016dfba565...</td>\n",
              "      <td>Hip-Hop</td>\n",
              "    </tr>\n",
              "  </tbody>\n",
              "</table>\n",
              "</div>\n",
              "      <button class=\"colab-df-convert\" onclick=\"convertToInteractive('df-7db837db-beef-46db-931f-36f4eb946e6b')\"\n",
              "              title=\"Convert this dataframe to an interactive table.\"\n",
              "              style=\"display:none;\">\n",
              "        \n",
              "  <svg xmlns=\"http://www.w3.org/2000/svg\" height=\"24px\"viewBox=\"0 0 24 24\"\n",
              "       width=\"24px\">\n",
              "    <path d=\"M0 0h24v24H0V0z\" fill=\"none\"/>\n",
              "    <path d=\"M18.56 5.44l.94 2.06.94-2.06 2.06-.94-2.06-.94-.94-2.06-.94 2.06-2.06.94zm-11 1L8.5 8.5l.94-2.06 2.06-.94-2.06-.94L8.5 2.5l-.94 2.06-2.06.94zm10 10l.94 2.06.94-2.06 2.06-.94-2.06-.94-.94-2.06-.94 2.06-2.06.94z\"/><path d=\"M17.41 7.96l-1.37-1.37c-.4-.4-.92-.59-1.43-.59-.52 0-1.04.2-1.43.59L10.3 9.45l-7.72 7.72c-.78.78-.78 2.05 0 2.83L4 21.41c.39.39.9.59 1.41.59.51 0 1.02-.2 1.41-.59l7.78-7.78 2.81-2.81c.8-.78.8-2.07 0-2.86zM5.41 20L4 18.59l7.72-7.72 1.47 1.35L5.41 20z\"/>\n",
              "  </svg>\n",
              "      </button>\n",
              "      \n",
              "  <style>\n",
              "    .colab-df-container {\n",
              "      display:flex;\n",
              "      flex-wrap:wrap;\n",
              "      gap: 12px;\n",
              "    }\n",
              "\n",
              "    .colab-df-convert {\n",
              "      background-color: #E8F0FE;\n",
              "      border: none;\n",
              "      border-radius: 50%;\n",
              "      cursor: pointer;\n",
              "      display: none;\n",
              "      fill: #1967D2;\n",
              "      height: 32px;\n",
              "      padding: 0 0 0 0;\n",
              "      width: 32px;\n",
              "    }\n",
              "\n",
              "    .colab-df-convert:hover {\n",
              "      background-color: #E2EBFA;\n",
              "      box-shadow: 0px 1px 2px rgba(60, 64, 67, 0.3), 0px 1px 3px 1px rgba(60, 64, 67, 0.15);\n",
              "      fill: #174EA6;\n",
              "    }\n",
              "\n",
              "    [theme=dark] .colab-df-convert {\n",
              "      background-color: #3B4455;\n",
              "      fill: #D2E3FC;\n",
              "    }\n",
              "\n",
              "    [theme=dark] .colab-df-convert:hover {\n",
              "      background-color: #434B5C;\n",
              "      box-shadow: 0px 1px 3px 1px rgba(0, 0, 0, 0.15);\n",
              "      filter: drop-shadow(0px 1px 2px rgba(0, 0, 0, 0.3));\n",
              "      fill: #FFFFFF;\n",
              "    }\n",
              "  </style>\n",
              "\n",
              "      <script>\n",
              "        const buttonEl =\n",
              "          document.querySelector('#df-7db837db-beef-46db-931f-36f4eb946e6b button.colab-df-convert');\n",
              "        buttonEl.style.display =\n",
              "          google.colab.kernel.accessAllowed ? 'block' : 'none';\n",
              "\n",
              "        async function convertToInteractive(key) {\n",
              "          const element = document.querySelector('#df-7db837db-beef-46db-931f-36f4eb946e6b');\n",
              "          const dataTable =\n",
              "            await google.colab.kernel.invokeFunction('convertToInteractive',\n",
              "                                                     [key], {});\n",
              "          if (!dataTable) return;\n",
              "\n",
              "          const docLinkHtml = 'Like what you see? Visit the ' +\n",
              "            '<a target=\"_blank\" href=https://colab.research.google.com/notebooks/data_table.ipynb>data table notebook</a>'\n",
              "            + ' to learn more about interactive tables.';\n",
              "          element.innerHTML = '';\n",
              "          dataTable['output_type'] = 'display_data';\n",
              "          await google.colab.output.renderOutput(dataTable, element);\n",
              "          const docLink = document.createElement('div');\n",
              "          docLink.innerHTML = docLinkHtml;\n",
              "          element.appendChild(docLink);\n",
              "        }\n",
              "      </script>\n",
              "    </div>\n",
              "  </div>\n",
              "  "
            ]
          },
          "metadata": {},
          "execution_count": 5
        }
      ],
      "source": [
        "mp3s[mp3s['track'] == \"3 Headed Goat (feat. Lil Baby & Polo G)\"]"
      ]
    },
    {
      "cell_type": "code",
      "execution_count": null,
      "metadata": {
        "ExecuteTime": {
          "end_time": "2021-12-01T00:57:05.265908Z",
          "start_time": "2021-12-01T00:57:05.240177Z"
        },
        "id": "qwz-LSKc0Y4h",
        "outputId": "d69cf5fd-cbb3-4429-ea11-18232c17ffb7",
        "colab": {
          "base_uri": "https://localhost:8080/"
        }
      },
      "outputs": [
        {
          "output_type": "execute_result",
          "data": {
            "text/plain": [
              "Distant Thinderstorm 700Hz with Thunder              9\n",
              "8 Hours of Natural Rain Sounds                       8\n",
              "Daft Punk Is Playing at My House                     7\n",
              "Barber's Adagio for Strings - Ferry Corsten Remix    5\n",
              "Let Me Know - Oscar the Punk Mix                     4\n",
              "                                                    ..\n",
              "Vanish Canvas                                        2\n",
              "I Walked with a Zombie                               2\n",
              "Fast Junkie                                          2\n",
              "Jumpdafuckup                                         2\n",
              "50/50 Love                                           2\n",
              "Name: track, Length: 93, dtype: int64"
            ]
          },
          "metadata": {},
          "execution_count": 6
        }
      ],
      "source": [
        "# there are duplicate songs from different albums (single, album, etc.)\n",
        "# if they have different popularity scores, that's still valuable info, however\n",
        "mp3s[mp3s.duplicated(subset=['track','duration_ms','popularity'], \n",
        "                     keep=False)]['track'].value_counts()"
      ]
    },
    {
      "cell_type": "code",
      "execution_count": null,
      "metadata": {
        "ExecuteTime": {
          "end_time": "2021-11-30T06:24:28.330153Z",
          "start_time": "2021-11-30T06:24:28.317767Z"
        },
        "id": "RQsJ591_0Y4h",
        "outputId": "dabf4d34-6de4-4644-9b4a-b46bebe039ab",
        "colab": {
          "base_uri": "https://localhost:8080/"
        }
      },
      "outputs": [
        {
          "output_type": "execute_result",
          "data": {
            "text/plain": [
              "(23521, 11)"
            ]
          },
          "metadata": {},
          "execution_count": 7
        }
      ],
      "source": [
        "mp3s.shape"
      ]
    },
    {
      "cell_type": "code",
      "execution_count": null,
      "metadata": {
        "ExecuteTime": {
          "end_time": "2021-11-30T06:24:29.839045Z",
          "start_time": "2021-11-30T06:24:29.814045Z"
        },
        "id": "xI2gVdPF0Y4h",
        "outputId": "1f5753e3-1d3d-46eb-d4ee-c856207d842b",
        "colab": {
          "base_uri": "https://localhost:8080/"
        }
      },
      "outputs": [
        {
          "output_type": "execute_result",
          "data": {
            "text/plain": [
              "(23383, 11)"
            ]
          },
          "metadata": {},
          "execution_count": 8
        }
      ],
      "source": [
        "mp3s.drop_duplicates(subset=['track','duration_ms','popularity'], inplace=True)\n",
        "mp3s.shape"
      ]
    },
    {
      "cell_type": "code",
      "execution_count": null,
      "metadata": {
        "ExecuteTime": {
          "end_time": "2021-11-30T06:24:32.306134Z",
          "start_time": "2021-11-30T06:24:32.279341Z"
        },
        "id": "fmGv-Iti0Y4i",
        "outputId": "224fba4d-3e8b-45db-91cb-85cd52f9f2ef",
        "colab": {
          "base_uri": "https://localhost:8080/"
        }
      },
      "outputs": [
        {
          "output_type": "stream",
          "name": "stdout",
          "text": [
            "(17536, 10) (3508, 10) (2339, 10)\n"
          ]
        }
      ],
      "source": [
        "# making train test holdout splits\n",
        "\n",
        "X = mp3s.drop(columns=['popularity'])\n",
        "y = mp3s['popularity']\n",
        "\n",
        "X_pretr, X_holdout, y_pretr, y_holdout = train_test_split(X, y, test_size=0.10, random_state=42)\n",
        "X_train, X_test, y_train, y_test = train_test_split(X_pretr, y_pretr, \n",
        "                                                    test_size=15/90, random_state=42)\n",
        "print(X_train.shape, X_test.shape, X_holdout.shape)"
      ]
    },
    {
      "cell_type": "code",
      "execution_count": null,
      "metadata": {
        "ExecuteTime": {
          "end_time": "2021-11-30T06:24:33.078566Z",
          "start_time": "2021-11-30T06:24:32.900220Z"
        },
        "id": "B6_l6Ees0Y4i",
        "outputId": "33198471-844e-466b-8e93-b9fcb4e974b8",
        "colab": {
          "base_uri": "https://localhost:8080/",
          "height": 284
        }
      },
      "outputs": [
        {
          "output_type": "execute_result",
          "data": {
            "text/plain": [
              "<matplotlib.axes._subplots.AxesSubplot at 0x7fc69da13a90>"
            ]
          },
          "metadata": {},
          "execution_count": 10
        },
        {
          "output_type": "display_data",
          "data": {
            "text/plain": [
              "<Figure size 432x288 with 1 Axes>"
            ],
            "image/png": "[encoded data removed]"
          },
          "metadata": {
            "needs_background": "light"
          }
        }
      ],
      "source": [
        "# 39 seems to be a good cutoff\n",
        "y_train.hist(bins=100)"
      ]
    },
    {
      "cell_type": "code",
      "execution_count": null,
      "metadata": {
        "ExecuteTime": {
          "end_time": "2021-11-30T06:24:34.881128Z",
          "start_time": "2021-11-30T06:24:34.855315Z"
        },
        "id": "IbDnbhlw0Y4j",
        "outputId": "92333a00-42dd-4ce7-a12b-4f7ac1f77fab",
        "colab": {
          "base_uri": "https://localhost:8080/"
        }
      },
      "outputs": [
        {
          "output_type": "execute_result",
          "data": {
            "text/plain": [
              "0    0.600023\n",
              "1    0.399977\n",
              "Name: popularity, dtype: float64"
            ]
          },
          "metadata": {},
          "execution_count": 11
        }
      ],
      "source": [
        "# defining popular as >= 39 and encoding (1 = popular)\n",
        "y_train = y_train.map(lambda x: 1 if x >= 39 else 0)\n",
        "y_train.value_counts(normalize=True)"
      ]
    },
    {
      "cell_type": "code",
      "execution_count": null,
      "metadata": {
        "ExecuteTime": {
          "end_time": "2021-11-30T06:24:35.699360Z",
          "start_time": "2021-11-30T06:24:35.681689Z"
        },
        "id": "qGobQ-OE0Y4j",
        "outputId": "4927ea7e-5dcd-4b68-94ea-4dfe65e33df9",
        "colab": {
          "base_uri": "https://localhost:8080/"
        }
      },
      "outputs": [
        {
          "output_type": "execute_result",
          "data": {
            "text/plain": [
              "0    0.61146\n",
              "1    0.38854\n",
              "Name: popularity, dtype: float64"
            ]
          },
          "metadata": {},
          "execution_count": 12
        }
      ],
      "source": [
        "y_test = y_test.map(lambda x: 1 if x >= 39 else 0)\n",
        "y_test.value_counts(normalize=True)"
      ]
    },
    {
      "cell_type": "code",
      "execution_count": null,
      "metadata": {
        "ExecuteTime": {
          "end_time": "2021-11-30T06:24:36.033774Z",
          "start_time": "2021-11-30T06:24:36.029570Z"
        },
        "id": "cE1OBOPB0Y4k",
        "outputId": "cb154de5-0b7e-44e0-d04e-38c41be88692",
        "colab": {
          "base_uri": "https://localhost:8080/"
        }
      },
      "outputs": [
        {
          "output_type": "execute_result",
          "data": {
            "text/plain": [
              "0    0.613083\n",
              "1    0.386917\n",
              "Name: popularity, dtype: float64"
            ]
          },
          "metadata": {},
          "execution_count": 13
        }
      ],
      "source": [
        "y_holdout = y_holdout.map(lambda x: 1 if x >= 39 else 0)\n",
        "y_holdout.value_counts(normalize=True)"
      ]
    },
    {
      "cell_type": "code",
      "execution_count": 7,
      "metadata": {
        "ExecuteTime": {
          "end_time": "2021-11-30T06:24:37.516017Z",
          "start_time": "2021-11-30T06:24:37.504056Z"
        },
        "id": "5q4E5pZL0Y4k"
      },
      "outputs": [],
      "source": [
        "def get_mp3(http, directory, name):\n",
        "    try:\n",
        "        r = requests.get(http, timeout=2)\n",
        "        with open(f'{directory}/{name}.mp3', 'wb') as f:\n",
        "            f.write(r.content)\n",
        "        print(f'mp3 acquision: {name}.mp3')\n",
        "    except:\n",
        "        print(f'mp3 timeout: index {name}')"
      ]
    },
    {
      "cell_type": "code",
      "execution_count": 6,
      "metadata": {
        "ExecuteTime": {
          "end_time": "2021-11-30T06:24:38.371852Z",
          "start_time": "2021-11-30T06:24:38.342721Z"
        },
        "id": "AG9sXNn30Y4k"
      },
      "outputs": [],
      "source": [
        "class LibrosaProcessing:\n",
        "    def __init__(self, split, data, target):\n",
        "        self.data_ = data.copy()\n",
        "        self.target_ = target.copy()\n",
        "        wd = !pwd\n",
        "        self.directory_ = f'{wd[0]}/data/{split}'\n",
        "        print(\"wd[0]: \", wd[0])\n",
        "        if not os.path.exists(self.directory_):\n",
        "            os.mkdir(self.directory_)\n",
        "        self.mp3_directory_ = f'{self.directory_}/mp3'\n",
        "        self.wav_directory_ = f'{self.directory_}/wav'\n",
        "\n",
        "    def get_mp3(self):\n",
        "        if not os.path.exists(self.mp3_directory_):\n",
        "            os.mkdir(self.mp3_directory_)\n",
        "        self.data_['preview_url'].reset_index().apply(lambda x: get_mp3(x[1],\n",
        "                                                                         self.mp3_directory_,\n",
        "                                                                         x[0]), axis=1)\n",
        "        print('mp3s acquired')\n",
        "        \n",
        "    def get_wav(self):\n",
        "        if not os.path.exists(self.wav_directory_):\n",
        "            os.mkdir(self.wav_directory_)\n",
        "        for file in os.listdir(self.mp3_directory_):\n",
        "            src = f'{self.mp3_directory_}/{file}'\n",
        "            dest = f'{self.wav_directory_}/{file.split(\".\")[0]}.wav'\n",
        "            AudioSegment.from_mp3(src).export(dest, format='wav')\n",
        "            self.data_.loc[int(file.split(\".\")[0]),\n",
        "                            'file_path'] = dest\n",
        "        for index in self.data_.index:\n",
        "            if pd.isnull(self.data_['file_path'].loc[index]):\n",
        "                self.target_.drop(index, inplace=True)\n",
        "                self.data_.drop(index, inplace=True)\n",
        "                print(f'NaN wav: index {index}')\n",
        "        self.wav_ = self.data_['file_path'].copy()\n",
        "    \n",
        "    def get_wav_path(self):\n",
        "        for file in os.listdir(self.wav_directory_):\n",
        "            self.data_.loc[int(file.split(\".\")[0]),\n",
        "                            'file_path'] = f'{self.wav_directory_}/{file}'\n",
        "        for index in self.data_.index:\n",
        "            if pd.isnull(self.data_['file_path'].loc[index]):\n",
        "                self.target_.drop(index, inplace=True)\n",
        "                self.data_.drop(index, inplace=True)\n",
        "                print(f'NaN wav: index {index}')\n",
        "        self.wav_ = self.data_['file_path'].copy()\n",
        "\n",
        "    def get_mel_spec(self):\n",
        "        self.specs_pre_ = []\n",
        "        self.spaxmax1_ = 128 # max size in dimension 1 for X_train\n",
        "        self.spaxmax2_ = 1292 # max size in dimension 2 for X_train\n",
        "        for count, song in enumerate(self.wav_, start=1):\n",
        "            y, sr = librosa.load(song, duration=30)\n",
        "            spec = librosa.power_to_db(librosa.feature.melspectrogram(y=y,sr=sr), ref=np.min)\n",
        "            self.specs_pre_.append(spec[np.newaxis, ..., np.newaxis])\n",
        "            print(f\"wavs run: {count}/{len(self.wav_)}\")\n",
        "        resized = []\n",
        "        for spec in self.specs_pre_:\n",
        "            resized.append(np.resize(spec, (1, self.spaxmax1_, self.spaxmax2_, 1)))\n",
        "        self.mel_specs_ = np.concatenate(resized, axis=0)\n",
        "        return (self.mel_specs_, self.target_)\n",
        "    \n",
        "    def get_mfcc(self):\n",
        "        pass\n",
        "#         librosa.        \n",
        "#         return "
      ]
    },
    {
      "cell_type": "code",
      "execution_count": null,
      "metadata": {
        "ExecuteTime": {
          "end_time": "2021-11-30T06:24:44.941421Z",
          "start_time": "2021-11-30T06:24:44.931696Z"
        },
        "id": "5xnYWVLU0Y4l"
      },
      "outputs": [],
      "source": [
        "n = 2000\n",
        "X_train_small = X_train.iloc[:n,:];  y_train_small = y_train[:n]\n",
        "X_test_small = X_test.iloc[:n,:]; y_test_small = y_test[:n]\n",
        "X_holdout_small = X_holdout.iloc[:n,:]; y_holdout_small = y_holdout[:n]\n",
        "raw_datadict = {'X_train': (X_train_small, y_train_small), \n",
        "            'X_test': (X_test_small, y_test_small),\n",
        "            'X_holdout': (X_holdout_small, y_holdout_small)}"
      ]
    },
    {
      "cell_type": "code",
      "source": [
        "X_train_small.shape"
      ],
      "metadata": {
        "id": "PfRv7Ge8eL0T",
        "outputId": "8eaffef8-f814-4091-9502-421aa9bf46d7",
        "colab": {
          "base_uri": "https://localhost:8080/"
        }
      },
      "execution_count": null,
      "outputs": [
        {
          "output_type": "execute_result",
          "data": {
            "text/plain": [
              "(2000, 10)"
            ]
          },
          "metadata": {},
          "execution_count": 44
        }
      ]
    },
    {
      "cell_type": "code",
      "execution_count": null,
      "metadata": {
        "ExecuteTime": {
          "end_time": "2021-12-01T00:57:17.894111Z",
          "start_time": "2021-12-01T00:57:15.596237Z"
        },
        "id": "5mnImQNg0Y4m",
        "outputId": "5e014590-f82b-4951-ab29-a6677a85358e",
        "colab": {
          "base_uri": "https://localhost:8080/",
          "height": 186
        }
      },
      "outputs": [
        {
          "output_type": "error",
          "ename": "FileNotFoundError",
          "evalue": "ignored",
          "traceback": [
            "\u001b[0;31m---------------------------------------------------------------------------\u001b[0m",
            "\u001b[0;31mFileNotFoundError\u001b[0m                         Traceback (most recent call last)",
            "\u001b[0;32m<ipython-input-30-3c4c5223e145>\u001b[0m in \u001b[0;36m<module>\u001b[0;34m()\u001b[0m\n\u001b[0;32m----> 1\u001b[0;31m \u001b[0;32mwith\u001b[0m \u001b[0mopen\u001b[0m\u001b[0;34m(\u001b[0m\u001b[0;34m'mel_spec_dict.pkl'\u001b[0m\u001b[0;34m,\u001b[0m \u001b[0;34m'rb'\u001b[0m\u001b[0;34m)\u001b[0m \u001b[0;32mas\u001b[0m \u001b[0mup\u001b[0m\u001b[0;34m:\u001b[0m\u001b[0;34m\u001b[0m\u001b[0;34m\u001b[0m\u001b[0m\n\u001b[0m\u001b[1;32m      2\u001b[0m     \u001b[0mmel_spec_datadict\u001b[0m \u001b[0;34m=\u001b[0m \u001b[0mpickle\u001b[0m\u001b[0;34m.\u001b[0m\u001b[0mload\u001b[0m\u001b[0;34m(\u001b[0m\u001b[0mup\u001b[0m\u001b[0;34m)\u001b[0m\u001b[0;34m\u001b[0m\u001b[0;34m\u001b[0m\u001b[0m\n",
            "\u001b[0;31mFileNotFoundError\u001b[0m: [Errno 2] No such file or directory: 'mel_spec_dict.pkl'"
          ]
        }
      ],
      "source": [
        "with open('mel_spec_dict.pkl', 'rb') as up:\n",
        "    mel_spec_datadict = pickle.load(up)"
      ]
    },
    {
      "cell_type": "code",
      "execution_count": null,
      "metadata": {
        "ExecuteTime": {
          "end_time": "2021-12-01T00:57:18.501168Z",
          "start_time": "2021-12-01T00:57:18.490011Z"
        },
        "id": "LzBAnLDg0Y4m",
        "outputId": "11b1c02a-1cb6-4c9c-99bd-3da9fc99cb68",
        "colab": {
          "base_uri": "https://localhost:8080/",
          "height": 168
        }
      },
      "outputs": [
        {
          "output_type": "error",
          "ename": "NameError",
          "evalue": "ignored",
          "traceback": [
            "\u001b[0;31m---------------------------------------------------------------------------\u001b[0m",
            "\u001b[0;31mNameError\u001b[0m                                 Traceback (most recent call last)",
            "\u001b[0;32m<ipython-input-31-64ee9f80b40d>\u001b[0m in \u001b[0;36m<module>\u001b[0;34m()\u001b[0m\n\u001b[0;32m----> 1\u001b[0;31m \u001b[0mmel_spec_datadict\u001b[0m\u001b[0;34m.\u001b[0m\u001b[0mkeys\u001b[0m\u001b[0;34m(\u001b[0m\u001b[0;34m)\u001b[0m\u001b[0;34m\u001b[0m\u001b[0;34m\u001b[0m\u001b[0m\n\u001b[0m",
            "\u001b[0;31mNameError\u001b[0m: name 'mel_spec_datadict' is not defined"
          ]
        }
      ],
      "source": [
        "mel_spec_datadict.keys()"
      ]
    },
    {
      "cell_type": "code",
      "execution_count": null,
      "metadata": {
        "ExecuteTime": {
          "end_time": "2021-11-30T08:15:29.794473Z",
          "start_time": "2021-11-30T08:15:29.781186Z"
        },
        "id": "ak-griUK0Y4m",
        "outputId": "78b06963-ec00-45a0-ce3c-5e78ac4eadb1",
        "colab": {
          "base_uri": "https://localhost:8080/",
          "height": 168
        }
      },
      "outputs": [
        {
          "output_type": "error",
          "ename": "IndexError",
          "evalue": "ignored",
          "traceback": [
            "\u001b[0;31m---------------------------------------------------------------------------\u001b[0m",
            "\u001b[0;31mIndexError\u001b[0m                                Traceback (most recent call last)",
            "\u001b[0;32m<ipython-input-82-45790e6f45a8>\u001b[0m in \u001b[0;36m<module>\u001b[0;34m()\u001b[0m\n\u001b[0;32m----> 1\u001b[0;31m \u001b[0mraw_datadict\u001b[0m\u001b[0;34m[\u001b[0m\u001b[0;34m\"X_train\"\u001b[0m\u001b[0;34m]\u001b[0m\u001b[0;34m[\u001b[0m\u001b[0;36m2\u001b[0m\u001b[0;34m]\u001b[0m\u001b[0;34m.\u001b[0m\u001b[0mshape\u001b[0m\u001b[0;34m\u001b[0m\u001b[0;34m\u001b[0m\u001b[0m\n\u001b[0m",
            "\u001b[0;31mIndexError\u001b[0m: tuple index out of range"
          ]
        }
      ],
      "source": [
        "raw_datadict[\"X_train\"][2].shape"
      ]
    },
    {
      "cell_type": "code",
      "source": [
        "np.all(np.array(list(map(lambda x: len(x), X_train_small[\"preview_url\"])))==107)"
      ],
      "metadata": {
        "id": "N60xo82ZeshK",
        "outputId": "84aacb2e-27cf-46fb-8ce8-d8f0b256678e",
        "colab": {
          "base_uri": "https://localhost:8080/"
        }
      },
      "execution_count": null,
      "outputs": [
        {
          "output_type": "execute_result",
          "data": {
            "text/plain": [
              "True"
            ]
          },
          "metadata": {},
          "execution_count": 79
        }
      ]
    },
    {
      "cell_type": "code",
      "source": [
        "with open('raw_datadict.pkl', 'wb') as f:\n",
        "  pickle.dump(raw_datadict, f)"
      ],
      "metadata": {
        "id": "vs7JelXagcut"
      },
      "execution_count": null,
      "outputs": []
    },
    {
      "cell_type": "code",
      "source": [
        "raw_datadict['X_train'][1]"
      ],
      "metadata": {
        "id": "UKoeXz8lgqnc",
        "outputId": "ff2562be-1f60-4b89-f4bf-0c3aae4dde71",
        "colab": {
          "base_uri": "https://localhost:8080/"
        }
      },
      "execution_count": null,
      "outputs": [
        {
          "output_type": "execute_result",
          "data": {
            "text/plain": [
              "8664     1\n",
              "4063     0\n",
              "27400    1\n",
              "23839    0\n",
              "9312     1\n",
              "        ..\n",
              "24021    0\n",
              "29212    1\n",
              "2499     1\n",
              "13528    0\n",
              "9765     0\n",
              "Name: popularity, Length: 2000, dtype: int64"
            ]
          },
          "metadata": {},
          "execution_count": 95
        }
      ]
    },
    {
      "cell_type": "code",
      "execution_count": 4,
      "metadata": {
        "ExecuteTime": {
          "end_time": "2021-11-30T08:14:52.441713Z",
          "start_time": "2021-11-30T07:35:35.113863Z"
        },
        "id": "IuhOwo-f0Y4n"
      },
      "outputs": [],
      "source": [
        "# mel_spec_datadict = {}\n",
        "# for i, (split, info) in enumerate(raw_datadict.items()):\n",
        "#     if split == 'X_train':\n",
        "#         lp = LibrosaProcessing(split, info[0], info[1])\n",
        "#         lp.get_mp3()\n",
        "#         lp.get_wav()\n",
        "#         mel_spec_datadict[split] = lp.get_mel_spec()\n",
        "#     if split == 'X_test':\n",
        "#         lp2 = LibrosaProcessing(split, info[0], info[1])\n",
        "#         lp2.get_mp3()\n",
        "#         lp2.get_wav()\n",
        "#         mel_spec_datadict[split] = lp2.get_mel_spec()\n",
        "#     if split == 'X_holdout':\n",
        "#         lp3 = LibrosaProcessing(split, info[0], info[1])\n",
        "#         lp3.get_mp3()\n",
        "#         lp3.get_wav()\n",
        "#         mel_spec_datadict[split] = lp3.get_mel_spec()"
      ]
    },
    {
      "cell_type": "code",
      "source": [
        "# with open(\"drive/MyDrive/MIT/mel_spec_datadict\", \"wb\") as f:\n",
        "#   pickle.dump(mel_spec_datadict, f)\n",
        "\n",
        "# with open('drive/MyDrive/MIT/lp.pkl_n2k', 'wb') as p:\n",
        "#     pickle.dump(lp, p)\n",
        "# with open('drive/MyDrive/MIT/lp2.pkl_n2k', 'wb') as p:\n",
        "#     pickle.dump(lp2, p)\n",
        "# with open('drive/MyDrive/MIT/lp3.pkl_n2k', 'wb') as p:\n",
        "#   pickle.dump(lp3, p) \n",
        "with open('drive/MyDrive/MIT/raw_datadict.pkl_n2k', 'wb') as p:\n",
        "    pickle.dump(raw_datadict, p)"
      ],
      "metadata": {
        "id": "G70gAHV7NSx4"
      },
      "execution_count": null,
      "outputs": []
    },
    {
      "cell_type": "code",
      "source": [
        "! pwd"
      ],
      "metadata": {
        "colab": {
          "base_uri": "https://localhost:8080/"
        },
        "id": "g623Ocg9W8Qg",
        "outputId": "5cc6e33d-bee1-47ab-b09b-0df6518cba08"
      },
      "execution_count": null,
      "outputs": [
        {
          "output_type": "stream",
          "name": "stdout",
          "text": [
            "/content\n"
          ]
        }
      ]
    },
    {
      "cell_type": "code",
      "execution_count": null,
      "metadata": {
        "ExecuteTime": {
          "end_time": "2021-11-30T08:16:45.047420Z",
          "start_time": "2021-11-30T08:16:40.987020Z"
        },
        "id": "3fVzt0nv0Y4n"
      },
      "outputs": [],
      "source": [
        "# with open('mel_spec_dict_n2k.pkl', 'wb') as p:\n",
        "#     pickle.dump(mel_spec_datadict, p)\n",
        "# with open('lp.pkl_n2k', 'wb') as p:\n",
        "#     pickle.dump(lp, p)\n",
        "# with open('lp2.pkl_n2k', 'wb') as p:\n",
        "#     pickle.dump(lp2, p)\n",
        "# with open('lp3.pkl_n2k', 'wb') as p:\n",
        "#   pickle.dump(lp3, p)\n",
        "# with open('raw_datadict.pkl_n2k', 'wb') as p:\n",
        "#     pickle.dump(lp, p)"
      ]
    },
    {
      "cell_type": "code",
      "source": [
        "from google.colab import drive\n",
        "drive.mount('/content/drive')"
      ],
      "metadata": {
        "colab": {
          "base_uri": "https://localhost:8080/"
        },
        "id": "iDqIhgAKUc9j",
        "outputId": "1cc6dab7-a205-4767-ad20-5cfc36f96470"
      },
      "execution_count": null,
      "outputs": [
        {
          "output_type": "stream",
          "name": "stdout",
          "text": [
            "Mounted at /content/drive\n"
          ]
        }
      ]
    },
    {
      "cell_type": "code",
      "execution_count": 9,
      "metadata": {
        "ExecuteTime": {
          "end_time": "2021-11-30T05:38:34.499109Z",
          "start_time": "2021-11-30T05:38:34.263193Z"
        },
        "id": "i9qs4oIP0Y4n",
        "outputId": "d1497d85-71f9-4332-942b-1c3bec66f81d",
        "colab": {
          "base_uri": "https://localhost:8080/",
          "height": 404
        }
      },
      "outputs": [
        {
          "output_type": "display_data",
          "data": {
            "text/plain": [
              "<Figure size 720x432 with 2 Axes>"
            ],
            "image/png": "[encoded data removed]"
          },
          "metadata": {
            "needs_background": "light"
          }
        }
      ],
      "source": [
        "fig, ax = plt.subplots(figsize=(10,6))\n",
        "idx = 90\n",
        "img = librosa.display.specshow(lp.specs_pre_[idx][0,:,:,0], x_axis='time', \n",
        "                               y_axis='mel', fmax=8000, ax=ax)\n",
        "fig.colorbar(img, ax=ax, format='%+2.0f dB')\n",
        "ax.set(title='Mel Spectrogram', xlabel='Time (sec)', ylabel='Frequency (mels)');"
      ]
    },
    {
      "cell_type": "code",
      "source": [
        "lp.specs_pre_[idx].shape"
      ],
      "metadata": {
        "id": "JNArMRZxbzoA",
        "outputId": "0d57593e-8e3b-43b9-b720-a2fc7d95ef76",
        "colab": {
          "base_uri": "https://localhost:8080/"
        }
      },
      "execution_count": 10,
      "outputs": [
        {
          "output_type": "execute_result",
          "data": {
            "text/plain": [
              "(1, 128, 1292, 1)"
            ]
          },
          "metadata": {},
          "execution_count": 10
        }
      ]
    },
    {
      "cell_type": "code",
      "execution_count": null,
      "metadata": {
        "ExecuteTime": {
          "end_time": "2021-11-29T02:08:19.609322Z",
          "start_time": "2021-11-29T02:08:18.386370Z"
        },
        "id": "aIoplb2Q0Y4o"
      },
      "outputs": [],
      "source": [
        "y, sr = librosa.load(lp.wav_.iloc[0],duration=30)\n",
        "ipd.Audio(y,rate=sr)"
      ]
    },
    {
      "cell_type": "code",
      "execution_count": null,
      "metadata": {
        "ExecuteTime": {
          "end_time": "2021-12-01T00:57:21.878071Z",
          "start_time": "2021-12-01T00:57:21.864625Z"
        },
        "id": "_eo7N56Q0Y4o"
      },
      "outputs": [],
      "source": [
        "class MinMaxScaler:\n",
        "    def fit(self, X_train):\n",
        "        self.X_train_ = X_train\n",
        "        self.max_ = self.X_train_.max()\n",
        "        self.min_ = self.X_train_.min()\n",
        "        \n",
        "    def transform(self, X):\n",
        "        return (X - self.min_) / (self.max_ - self.min_)\n",
        "        "
      ]
    },
    {
      "cell_type": "code",
      "execution_count": null,
      "metadata": {
        "ExecuteTime": {
          "end_time": "2021-12-01T00:57:43.121776Z",
          "start_time": "2021-12-01T00:57:39.364023Z"
        },
        "id": "bWdrz9qi0Y4o",
        "outputId": "c900ed20-cc8e-4e57-dec5-303c7f5c44eb",
        "colab": {
          "base_uri": "https://localhost:8080/",
          "height": 240
        }
      },
      "outputs": [
        {
          "output_type": "error",
          "ename": "NameError",
          "evalue": "ignored",
          "traceback": [
            "\u001b[0;31m---------------------------------------------------------------------------\u001b[0m",
            "\u001b[0;31mNameError\u001b[0m                                 Traceback (most recent call last)",
            "\u001b[0;32m<ipython-input-2-f35d9e3f76de>\u001b[0m in \u001b[0;36m<module>\u001b[0;34m()\u001b[0m\n\u001b[1;32m      1\u001b[0m \u001b[0;31m# Scaling\u001b[0m\u001b[0;34m\u001b[0m\u001b[0;34m\u001b[0m\u001b[0;34m\u001b[0m\u001b[0m\n\u001b[1;32m      2\u001b[0m \u001b[0mmm\u001b[0m \u001b[0;34m=\u001b[0m \u001b[0mMinMaxScaler\u001b[0m\u001b[0;34m(\u001b[0m\u001b[0;34m)\u001b[0m\u001b[0;34m\u001b[0m\u001b[0;34m\u001b[0m\u001b[0m\n\u001b[0;32m----> 3\u001b[0;31m \u001b[0mmm\u001b[0m\u001b[0;34m.\u001b[0m\u001b[0mfit\u001b[0m\u001b[0;34m(\u001b[0m\u001b[0mmel_spec_datadict\u001b[0m\u001b[0;34m[\u001b[0m\u001b[0;34m'X_train'\u001b[0m\u001b[0;34m]\u001b[0m\u001b[0;34m[\u001b[0m\u001b[0;36m0\u001b[0m\u001b[0;34m]\u001b[0m\u001b[0;34m)\u001b[0m\u001b[0;34m\u001b[0m\u001b[0;34m\u001b[0m\u001b[0m\n\u001b[0m\u001b[1;32m      4\u001b[0m \u001b[0;34m\u001b[0m\u001b[0m\n\u001b[1;32m      5\u001b[0m \u001b[0mmel_spec_sc\u001b[0m \u001b[0;34m=\u001b[0m \u001b[0;34m{\u001b[0m\u001b[0;34m}\u001b[0m\u001b[0;34m\u001b[0m\u001b[0;34m\u001b[0m\u001b[0m\n",
            "\u001b[0;31mNameError\u001b[0m: name 'mel_spec_datadict' is not defined"
          ]
        }
      ],
      "source": [
        "# Scaling\n",
        "mm = MinMaxScaler()\n",
        "mm.fit(mel_spec_datadict['X_train'][0])\n",
        "\n",
        "mel_spec_sc = {}\n",
        "for split, info in mel_spec_datadict.items():\n",
        "    scaledX = mm.transform(info[0])\n",
        "    mel_spec_sc[split] = (scaledX, info[1])\n"
      ]
    },
    {
      "cell_type": "code",
      "execution_count": null,
      "metadata": {
        "ExecuteTime": {
          "end_time": "2021-12-01T00:57:55.696721Z",
          "start_time": "2021-12-01T00:57:51.425393Z"
        },
        "id": "-u2KrXAv0Y4p"
      },
      "outputs": [],
      "source": [
        "with open('mel_spec_sc.pkl', 'wb') as p:\n",
        "    pickle.dump(mel_spec_sc, p)"
      ]
    },
    {
      "cell_type": "code",
      "execution_count": null,
      "metadata": {
        "id": "WwiMPdo90Y4p"
      },
      "outputs": [],
      "source": [
        ""
      ]
    }
  ],
  "metadata": {
    "kernelspec": {
      "display_name": "Python (learn-env)",
      "language": "python",
      "name": "learn-env"
    },
    "language_info": {
      "codemirror_mode": {
        "name": "ipython",
        "version": 3
      },
      "file_extension": ".py",
      "mimetype": "text/x-python",
      "name": "python",
      "nbconvert_exporter": "python",
      "pygments_lexer": "ipython3",
      "version": "3.8.5"
    },
    "varInspector": {
      "cols": {
        "lenName": 16,
        "lenType": 16,
        "lenVar": 40
      },
      "kernels_config": {
        "python": {
          "delete_cmd_postfix": "",
          "delete_cmd_prefix": "del ",
          "library": "var_list.py",
          "varRefreshCmd": "print(var_dic_list())"
        },
        "r": {
          "delete_cmd_postfix": ") ",
          "delete_cmd_prefix": "rm(",
          "library": "var_list.r",
          "varRefreshCmd": "cat(var_dic_list()) "
        }
      },
      "types_to_exclude": [
        "module",
        "function",
        "builtin_function_or_method",
        "instance",
        "_Feature"
      ],
      "window_display": false
    },
    "colab": {
      "name": "LibrosaProcessing.ipynb",
      "provenance": [],
      "machine_shape": "hm",
      "include_colab_link": true
    }
  },
  "nbformat": 4,
  "nbformat_minor": 0
}