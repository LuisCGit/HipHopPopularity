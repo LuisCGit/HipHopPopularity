{
  "cells": [
    {
      "cell_type": "code",
      "execution_count": 4,
      "metadata": {
        "ExecuteTime": {
          "end_time": "2021-12-01T00:57:00.726112Z",
          "start_time": "2021-12-01T00:56:59.421249Z"
        },
        "id": "EF_USS970Y4e",
        "outputId": "709d4f67-d17e-4b0f-d092-9539877f1574",
        "colab": {
          "base_uri": "https://localhost:8080/"
        }
      },
      "outputs": [
        {
          "output_type": "stream",
          "name": "stdout",
          "text": [
            "Collecting varname\n",
            "  Downloading varname-0.8.3-py3-none-any.whl (21 kB)\n",
            "Collecting pure_eval<1.0.0\n",
            "  Downloading pure_eval-0.2.2-py3-none-any.whl (11 kB)\n",
            "Collecting asttokens<3.0.0,>=2.0.0\n",
            "  Downloading asttokens-2.0.5-py2.py3-none-any.whl (20 kB)\n",
            "Collecting executing<0.9.0,>=0.8.3\n",
            "  Downloading executing-0.8.3-py2.py3-none-any.whl (16 kB)\n",
            "Requirement already satisfied: six in /usr/local/lib/python3.7/dist-packages (from asttokens<3.0.0,>=2.0.0->varname) (1.15.0)\n",
            "Installing collected packages: pure-eval, executing, asttokens, varname\n",
            "Successfully installed asttokens-2.0.5 executing-0.8.3 pure-eval-0.2.2 varname-0.8.3\n",
            "Collecting pydub\n",
            "  Downloading pydub-0.25.1-py2.py3-none-any.whl (32 kB)\n",
            "Installing collected packages: pydub\n",
            "Successfully installed pydub-0.25.1\n",
            "Requirement already satisfied: librosa in /usr/local/lib/python3.7/dist-packages (0.8.1)\n",
            "Requirement already satisfied: soundfile>=0.10.2 in /usr/local/lib/python3.7/dist-packages (from librosa) (0.10.3.post1)\n",
            "Requirement already satisfied: scikit-learn!=0.19.0,>=0.14.0 in /usr/local/lib/python3.7/dist-packages (from librosa) (1.0.2)\n",
            "Requirement already satisfied: pooch>=1.0 in /usr/local/lib/python3.7/dist-packages (from librosa) (1.6.0)\n",
            "Requirement already satisfied: audioread>=2.0.0 in /usr/local/lib/python3.7/dist-packages (from librosa) (2.1.9)\n",
            "Requirement already satisfied: packaging>=20.0 in /usr/local/lib/python3.7/dist-packages (from librosa) (21.3)\n",
            "Requirement already satisfied: numpy>=1.15.0 in /usr/local/lib/python3.7/dist-packages (from librosa) (1.21.6)\n",
            "Requirement already satisfied: resampy>=0.2.2 in /usr/local/lib/python3.7/dist-packages (from librosa) (0.2.2)\n",
            "Requirement already satisfied: decorator>=3.0.0 in /usr/local/lib/python3.7/dist-packages (from librosa) (4.4.2)\n",
            "Requirement already satisfied: joblib>=0.14 in /usr/local/lib/python3.7/dist-packages (from librosa) (1.1.0)\n",
            "Requirement already satisfied: scipy>=1.0.0 in /usr/local/lib/python3.7/dist-packages (from librosa) (1.4.1)\n",
            "Requirement already satisfied: numba>=0.43.0 in /usr/local/lib/python3.7/dist-packages (from librosa) (0.51.2)\n",
            "Requirement already satisfied: llvmlite<0.35,>=0.34.0.dev0 in /usr/local/lib/python3.7/dist-packages (from numba>=0.43.0->librosa) (0.34.0)\n",
            "Requirement already satisfied: setuptools in /usr/local/lib/python3.7/dist-packages (from numba>=0.43.0->librosa) (57.4.0)\n",
            "Requirement already satisfied: pyparsing!=3.0.5,>=2.0.2 in /usr/local/lib/python3.7/dist-packages (from packaging>=20.0->librosa) (3.0.8)\n",
            "Requirement already satisfied: appdirs>=1.3.0 in /usr/local/lib/python3.7/dist-packages (from pooch>=1.0->librosa) (1.4.4)\n",
            "Requirement already satisfied: requests>=2.19.0 in /usr/local/lib/python3.7/dist-packages (from pooch>=1.0->librosa) (2.23.0)\n",
            "Requirement already satisfied: chardet<4,>=3.0.2 in /usr/local/lib/python3.7/dist-packages (from requests>=2.19.0->pooch>=1.0->librosa) (3.0.4)\n",
            "Requirement already satisfied: certifi>=2017.4.17 in /usr/local/lib/python3.7/dist-packages (from requests>=2.19.0->pooch>=1.0->librosa) (2021.10.8)\n",
            "Requirement already satisfied: idna<3,>=2.5 in /usr/local/lib/python3.7/dist-packages (from requests>=2.19.0->pooch>=1.0->librosa) (2.10)\n",
            "Requirement already satisfied: urllib3!=1.25.0,!=1.25.1,<1.26,>=1.21.1 in /usr/local/lib/python3.7/dist-packages (from requests>=2.19.0->pooch>=1.0->librosa) (1.24.3)\n",
            "Requirement already satisfied: six>=1.3 in /usr/local/lib/python3.7/dist-packages (from resampy>=0.2.2->librosa) (1.15.0)\n",
            "Requirement already satisfied: threadpoolctl>=2.0.0 in /usr/local/lib/python3.7/dist-packages (from scikit-learn!=0.19.0,>=0.14.0->librosa) (3.1.0)\n",
            "Requirement already satisfied: cffi>=1.0 in /usr/local/lib/python3.7/dist-packages (from soundfile>=0.10.2->librosa) (1.15.0)\n",
            "Requirement already satisfied: pycparser in /usr/local/lib/python3.7/dist-packages (from cffi>=1.0->soundfile>=0.10.2->librosa) (2.21)\n"
          ]
        }
      ],
      "source": [
        "!pip install varname\n",
        "!pip install pydub\n",
        "!pip install librosa\n",
        "\n",
        "import numpy as np\n",
        "import pandas as pd\n",
        "pd.set_option('display.max_columns', None)\n",
        "from ast import literal_eval\n",
        "\n",
        "import matplotlib.pyplot as plt\n",
        "\n",
        "from sklearn.model_selection import train_test_split\n",
        "\n",
        "import IPython.display as ipd\n",
        "\n",
        "import requests\n",
        "import os\n",
        "from varname import argname\n",
        "from pydub import AudioSegment\n",
        "import librosa\n",
        "import librosa.display\n",
        "\n",
        "import pickle"
      ]
    },
    {
      "cell_type": "code",
      "execution_count": 5,
      "metadata": {
        "ExecuteTime": {
          "end_time": "2021-12-01T00:57:02.163992Z",
          "start_time": "2021-12-01T00:57:02.066589Z"
        },
        "id": "Ajgj1-Ik0Y4f"
      },
      "outputs": [],
      "source": [
        "mp3s = pd.read_csv('collection_1_mp3s.csv', index_col=0)"
      ]
    },
    {
      "cell_type": "code",
      "execution_count": 6,
      "metadata": {
        "ExecuteTime": {
          "end_time": "2021-12-01T00:57:02.576458Z",
          "start_time": "2021-12-01T00:57:02.438408Z"
        },
        "id": "XY_283Ov0Y4g"
      },
      "outputs": [],
      "source": [
        "mp3s['artists'] = mp3s['artists'].map(lambda x: literal_eval(x))"
      ]
    },
    {
      "cell_type": "code",
      "execution_count": 7,
      "metadata": {
        "ExecuteTime": {
          "end_time": "2021-12-01T00:57:02.896458Z",
          "start_time": "2021-12-01T00:57:02.860578Z"
        },
        "id": "Se0RXrTk0Y4g",
        "outputId": "13800806-1c43-43ea-c653-adb65a4bb334",
        "colab": {
          "base_uri": "https://localhost:8080/",
          "height": 655
        }
      },
      "outputs": [
        {
          "output_type": "execute_result",
          "data": {
            "text/plain": [
              "                           id  popularity  \\\n",
              "2302   5BSUxDJ8HcOWZD2KfExs7b          42   \n",
              "2343   7J7UEZ08wc5aDsHgYpf8zI          10   \n",
              "8601   14c8arYQPMtxPcF4L4FYXC          47   \n",
              "14639  6Tguhaf2uAe6OjRLsR2Tql          77   \n",
              "\n",
              "                                         track                       artists  \\\n",
              "2302   3 Headed Goat (feat. Lil Baby & Polo G)  [Lil Durk, Lil Baby, Polo G]   \n",
              "2343   3 Headed Goat (feat. Lil Baby & Polo G)  [Lil Durk, Lil Baby, Polo G]   \n",
              "8601   3 Headed Goat (feat. Lil Baby & Polo G)  [Lil Durk, Lil Baby, Polo G]   \n",
              "14639  3 Headed Goat (feat. Lil Baby & Polo G)  [Lil Durk, Lil Baby, Polo G]   \n",
              "\n",
              "                               album_name album_type release_date  \\\n",
              "2302            Just Cause Y'all Waited 2      album   2020-05-08   \n",
              "2343   Just Cause Y'all Waited 2 (Deluxe)      album   2020-06-26   \n",
              "8601   Just Cause Y'all Waited 2 (Deluxe)      album   2020-06-26   \n",
              "14639           Just Cause Y'all Waited 2      album   2020-05-08   \n",
              "\n",
              "                                                   image  duration_ms  \\\n",
              "2302   https://i.scdn.co/image/ab67616d0000b27390715e...       169531   \n",
              "2343   https://i.scdn.co/image/ab67616d0000b273bdce61...       169531   \n",
              "8601   https://i.scdn.co/image/ab67616d0000b273fec5f2...       169531   \n",
              "14639  https://i.scdn.co/image/ab67616d0000b273f8558e...       169531   \n",
              "\n",
              "                                             preview_url  \n",
              "2302   https://p.scdn.co/mp3-preview/0da58f96ee2d706e...  \n",
              "2343   https://p.scdn.co/mp3-preview/a016e90c7e1e4e32...  \n",
              "8601   https://p.scdn.co/mp3-preview/e2e7d8016dfba565...  \n",
              "14639  https://p.scdn.co/mp3-preview/2d01e3ab3d48b281...  "
            ],
            "text/html": [
              "\n",
              "  <div id=\"df-5de0c54e-195f-4486-be12-e35eae64d900\">\n",
              "    <div class=\"colab-df-container\">\n",
              "      <div>\n",
              "<style scoped>\n",
              "    .dataframe tbody tr th:only-of-type {\n",
              "        vertical-align: middle;\n",
              "    }\n",
              "\n",
              "    .dataframe tbody tr th {\n",
              "        vertical-align: top;\n",
              "    }\n",
              "\n",
              "    .dataframe thead th {\n",
              "        text-align: right;\n",
              "    }\n",
              "</style>\n",
              "<table border=\"1\" class=\"dataframe\">\n",
              "  <thead>\n",
              "    <tr style=\"text-align: right;\">\n",
              "      <th></th>\n",
              "      <th>id</th>\n",
              "      <th>popularity</th>\n",
              "      <th>track</th>\n",
              "      <th>artists</th>\n",
              "      <th>album_name</th>\n",
              "      <th>album_type</th>\n",
              "      <th>release_date</th>\n",
              "      <th>image</th>\n",
              "      <th>duration_ms</th>\n",
              "      <th>preview_url</th>\n",
              "    </tr>\n",
              "  </thead>\n",
              "  <tbody>\n",
              "    <tr>\n",
              "      <th>2302</th>\n",
              "      <td>5BSUxDJ8HcOWZD2KfExs7b</td>\n",
              "      <td>42</td>\n",
              "      <td>3 Headed Goat (feat. Lil Baby &amp; Polo G)</td>\n",
              "      <td>[Lil Durk, Lil Baby, Polo G]</td>\n",
              "      <td>Just Cause Y'all Waited 2</td>\n",
              "      <td>album</td>\n",
              "      <td>2020-05-08</td>\n",
              "      <td>https://i.scdn.co/image/ab67616d0000b27390715e...</td>\n",
              "      <td>169531</td>\n",
              "      <td>https://p.scdn.co/mp3-preview/0da58f96ee2d706e...</td>\n",
              "    </tr>\n",
              "    <tr>\n",
              "      <th>2343</th>\n",
              "      <td>7J7UEZ08wc5aDsHgYpf8zI</td>\n",
              "      <td>10</td>\n",
              "      <td>3 Headed Goat (feat. Lil Baby &amp; Polo G)</td>\n",
              "      <td>[Lil Durk, Lil Baby, Polo G]</td>\n",
              "      <td>Just Cause Y'all Waited 2 (Deluxe)</td>\n",
              "      <td>album</td>\n",
              "      <td>2020-06-26</td>\n",
              "      <td>https://i.scdn.co/image/ab67616d0000b273bdce61...</td>\n",
              "      <td>169531</td>\n",
              "      <td>https://p.scdn.co/mp3-preview/a016e90c7e1e4e32...</td>\n",
              "    </tr>\n",
              "    <tr>\n",
              "      <th>8601</th>\n",
              "      <td>14c8arYQPMtxPcF4L4FYXC</td>\n",
              "      <td>47</td>\n",
              "      <td>3 Headed Goat (feat. Lil Baby &amp; Polo G)</td>\n",
              "      <td>[Lil Durk, Lil Baby, Polo G]</td>\n",
              "      <td>Just Cause Y'all Waited 2 (Deluxe)</td>\n",
              "      <td>album</td>\n",
              "      <td>2020-06-26</td>\n",
              "      <td>https://i.scdn.co/image/ab67616d0000b273fec5f2...</td>\n",
              "      <td>169531</td>\n",
              "      <td>https://p.scdn.co/mp3-preview/e2e7d8016dfba565...</td>\n",
              "    </tr>\n",
              "    <tr>\n",
              "      <th>14639</th>\n",
              "      <td>6Tguhaf2uAe6OjRLsR2Tql</td>\n",
              "      <td>77</td>\n",
              "      <td>3 Headed Goat (feat. Lil Baby &amp; Polo G)</td>\n",
              "      <td>[Lil Durk, Lil Baby, Polo G]</td>\n",
              "      <td>Just Cause Y'all Waited 2</td>\n",
              "      <td>album</td>\n",
              "      <td>2020-05-08</td>\n",
              "      <td>https://i.scdn.co/image/ab67616d0000b273f8558e...</td>\n",
              "      <td>169531</td>\n",
              "      <td>https://p.scdn.co/mp3-preview/2d01e3ab3d48b281...</td>\n",
              "    </tr>\n",
              "  </tbody>\n",
              "</table>\n",
              "</div>\n",
              "      <button class=\"colab-df-convert\" onclick=\"convertToInteractive('df-5de0c54e-195f-4486-be12-e35eae64d900')\"\n",
              "              title=\"Convert this dataframe to an interactive table.\"\n",
              "              style=\"display:none;\">\n",
              "        \n",
              "  <svg xmlns=\"http://www.w3.org/2000/svg\" height=\"24px\"viewBox=\"0 0 24 24\"\n",
              "       width=\"24px\">\n",
              "    <path d=\"M0 0h24v24H0V0z\" fill=\"none\"/>\n",
              "    <path d=\"M18.56 5.44l.94 2.06.94-2.06 2.06-.94-2.06-.94-.94-2.06-.94 2.06-2.06.94zm-11 1L8.5 8.5l.94-2.06 2.06-.94-2.06-.94L8.5 2.5l-.94 2.06-2.06.94zm10 10l.94 2.06.94-2.06 2.06-.94-2.06-.94-.94-2.06-.94 2.06-2.06.94z\"/><path d=\"M17.41 7.96l-1.37-1.37c-.4-.4-.92-.59-1.43-.59-.52 0-1.04.2-1.43.59L10.3 9.45l-7.72 7.72c-.78.78-.78 2.05 0 2.83L4 21.41c.39.39.9.59 1.41.59.51 0 1.02-.2 1.41-.59l7.78-7.78 2.81-2.81c.8-.78.8-2.07 0-2.86zM5.41 20L4 18.59l7.72-7.72 1.47 1.35L5.41 20z\"/>\n",
              "  </svg>\n",
              "      </button>\n",
              "      \n",
              "  <style>\n",
              "    .colab-df-container {\n",
              "      display:flex;\n",
              "      flex-wrap:wrap;\n",
              "      gap: 12px;\n",
              "    }\n",
              "\n",
              "    .colab-df-convert {\n",
              "      background-color: #E8F0FE;\n",
              "      border: none;\n",
              "      border-radius: 50%;\n",
              "      cursor: pointer;\n",
              "      display: none;\n",
              "      fill: #1967D2;\n",
              "      height: 32px;\n",
              "      padding: 0 0 0 0;\n",
              "      width: 32px;\n",
              "    }\n",
              "\n",
              "    .colab-df-convert:hover {\n",
              "      background-color: #E2EBFA;\n",
              "      box-shadow: 0px 1px 2px rgba(60, 64, 67, 0.3), 0px 1px 3px 1px rgba(60, 64, 67, 0.15);\n",
              "      fill: #174EA6;\n",
              "    }\n",
              "\n",
              "    [theme=dark] .colab-df-convert {\n",
              "      background-color: #3B4455;\n",
              "      fill: #D2E3FC;\n",
              "    }\n",
              "\n",
              "    [theme=dark] .colab-df-convert:hover {\n",
              "      background-color: #434B5C;\n",
              "      box-shadow: 0px 1px 3px 1px rgba(0, 0, 0, 0.15);\n",
              "      filter: drop-shadow(0px 1px 2px rgba(0, 0, 0, 0.3));\n",
              "      fill: #FFFFFF;\n",
              "    }\n",
              "  </style>\n",
              "\n",
              "      <script>\n",
              "        const buttonEl =\n",
              "          document.querySelector('#df-5de0c54e-195f-4486-be12-e35eae64d900 button.colab-df-convert');\n",
              "        buttonEl.style.display =\n",
              "          google.colab.kernel.accessAllowed ? 'block' : 'none';\n",
              "\n",
              "        async function convertToInteractive(key) {\n",
              "          const element = document.querySelector('#df-5de0c54e-195f-4486-be12-e35eae64d900');\n",
              "          const dataTable =\n",
              "            await google.colab.kernel.invokeFunction('convertToInteractive',\n",
              "                                                     [key], {});\n",
              "          if (!dataTable) return;\n",
              "\n",
              "          const docLinkHtml = 'Like what you see? Visit the ' +\n",
              "            '<a target=\"_blank\" href=https://colab.research.google.com/notebooks/data_table.ipynb>data table notebook</a>'\n",
              "            + ' to learn more about interactive tables.';\n",
              "          element.innerHTML = '';\n",
              "          dataTable['output_type'] = 'display_data';\n",
              "          await google.colab.output.renderOutput(dataTable, element);\n",
              "          const docLink = document.createElement('div');\n",
              "          docLink.innerHTML = docLinkHtml;\n",
              "          element.appendChild(docLink);\n",
              "        }\n",
              "      </script>\n",
              "    </div>\n",
              "  </div>\n",
              "  "
            ]
          },
          "metadata": {},
          "execution_count": 7
        }
      ],
      "source": [
        "mp3s[mp3s['track'] == \"3 Headed Goat (feat. Lil Baby & Polo G)\"]"
      ]
    },
    {
      "cell_type": "code",
      "execution_count": 8,
      "metadata": {
        "ExecuteTime": {
          "end_time": "2021-12-01T00:57:05.265908Z",
          "start_time": "2021-12-01T00:57:05.240177Z"
        },
        "id": "qwz-LSKc0Y4h",
        "outputId": "9d11554a-d3d7-444d-89c9-efad36b83f33",
        "colab": {
          "base_uri": "https://localhost:8080/"
        }
      },
      "outputs": [
        {
          "output_type": "execute_result",
          "data": {
            "text/plain": [
              "Back In Blood (feat. Lil Durk)         2\n",
              "SAME THING                             2\n",
              "Quarantine Speech                      2\n",
              "Green Tea & Honey                      2\n",
              "8 Figures                              2\n",
              "80's - Instrumental - Remastered       2\n",
              "Xta6                                   2\n",
              "hooligan                               2\n",
              "Amen (feat. Kevin Gates)               2\n",
              "4N (feat. Mach-Hommy)                  2\n",
              "50/50 Love                             2\n",
              "1988 REMAKE 2_Nottz_42North.wav        2\n",
              "Seven Day Hustle                       2\n",
              "Just Mellow - Norman Cook 7'' Remix    2\n",
              "X-Ray                                  2\n",
              "6565                                   2\n",
              "Name: track, dtype: int64"
            ]
          },
          "metadata": {},
          "execution_count": 8
        }
      ],
      "source": [
        "# there are duplicate songs from different albums (single, album, etc.)\n",
        "# if they have different popularity scores, that's still valuable info, however\n",
        "mp3s[mp3s.duplicated(subset=['track','duration_ms','popularity'], \n",
        "                     keep=False)]['track'].value_counts()"
      ]
    },
    {
      "cell_type": "code",
      "execution_count": 9,
      "metadata": {
        "ExecuteTime": {
          "end_time": "2021-11-30T06:24:28.330153Z",
          "start_time": "2021-11-30T06:24:28.317767Z"
        },
        "id": "RQsJ591_0Y4h",
        "outputId": "2e0aa82b-e27b-4aa7-c526-6f5dd5376b48",
        "colab": {
          "base_uri": "https://localhost:8080/"
        }
      },
      "outputs": [
        {
          "output_type": "execute_result",
          "data": {
            "text/plain": [
              "(12938, 10)"
            ]
          },
          "metadata": {},
          "execution_count": 9
        }
      ],
      "source": [
        "mp3s.shape"
      ]
    },
    {
      "cell_type": "code",
      "execution_count": 10,
      "metadata": {
        "ExecuteTime": {
          "end_time": "2021-11-30T06:24:29.839045Z",
          "start_time": "2021-11-30T06:24:29.814045Z"
        },
        "id": "xI2gVdPF0Y4h",
        "outputId": "d758aa50-0a15-4fb0-be7c-dcb27c27a151",
        "colab": {
          "base_uri": "https://localhost:8080/"
        }
      },
      "outputs": [
        {
          "output_type": "execute_result",
          "data": {
            "text/plain": [
              "(12922, 10)"
            ]
          },
          "metadata": {},
          "execution_count": 10
        }
      ],
      "source": [
        "mp3s.drop_duplicates(subset=['track','duration_ms','popularity'], inplace=True)\n",
        "mp3s.shape"
      ]
    },
    {
      "cell_type": "code",
      "execution_count": 11,
      "metadata": {
        "ExecuteTime": {
          "end_time": "2021-11-30T06:24:32.306134Z",
          "start_time": "2021-11-30T06:24:32.279341Z"
        },
        "id": "fmGv-Iti0Y4i",
        "outputId": "0a008364-1c25-40a4-e33d-19e54157ee74",
        "colab": {
          "base_uri": "https://localhost:8080/"
        }
      },
      "outputs": [
        {
          "output_type": "stream",
          "name": "stdout",
          "text": [
            "(9690, 9) (1939, 9) (1293, 9)\n"
          ]
        }
      ],
      "source": [
        "# making train test holdout splits\n",
        "\n",
        "X = mp3s.drop(columns=['popularity'])\n",
        "y = mp3s['popularity']\n",
        "\n",
        "X_pretr, X_holdout, y_pretr, y_holdout = train_test_split(X, y, test_size=0.10, random_state=42)\n",
        "X_train, X_test, y_train, y_test = train_test_split(X_pretr, y_pretr, \n",
        "                                                    test_size=15/90, random_state=42)\n",
        "print(X_train.shape, X_test.shape, X_holdout.shape)"
      ]
    },
    {
      "cell_type": "code",
      "execution_count": 12,
      "metadata": {
        "ExecuteTime": {
          "end_time": "2021-11-30T06:24:33.078566Z",
          "start_time": "2021-11-30T06:24:32.900220Z"
        },
        "id": "B6_l6Ees0Y4i",
        "outputId": "3c8a96c5-5fcd-49e0-b6b2-ce9758452cb5",
        "colab": {
          "base_uri": "https://localhost:8080/",
          "height": 283
        }
      },
      "outputs": [
        {
          "output_type": "execute_result",
          "data": {
            "text/plain": [
              "<matplotlib.axes._subplots.AxesSubplot at 0x7f6b2d2c2e50>"
            ]
          },
          "metadata": {},
          "execution_count": 12
        },
        {
          "output_type": "display_data",
          "data": {
            "text/plain": [
              "<Figure size 432x288 with 1 Axes>"
            ],
            "image/png": "[encoded data removed]"
          },
          "metadata": {
            "needs_background": "light"
          }
        }
      ],
      "source": [
        "# 39 seems to be a good cutoff\n",
        "y_train.hist(bins=100)"
      ]
    },
    {
      "cell_type": "code",
      "execution_count": 13,
      "metadata": {
        "ExecuteTime": {
          "end_time": "2021-11-30T06:24:34.881128Z",
          "start_time": "2021-11-30T06:24:34.855315Z"
        },
        "id": "IbDnbhlw0Y4j",
        "outputId": "27e50475-fbe1-473d-834b-8674430da303",
        "colab": {
          "base_uri": "https://localhost:8080/"
        }
      },
      "outputs": [
        {
          "output_type": "execute_result",
          "data": {
            "text/plain": [
              "1    0.540557\n",
              "0    0.459443\n",
              "Name: popularity, dtype: float64"
            ]
          },
          "metadata": {},
          "execution_count": 13
        }
      ],
      "source": [
        "# defining popular as >= 39 and encoding (1 = popular)\n",
        "y_train = y_train.map(lambda x: 1 if x >= 39 else 0)\n",
        "y_train.value_counts(normalize=True)"
      ]
    },
    {
      "cell_type": "code",
      "execution_count": 14,
      "metadata": {
        "ExecuteTime": {
          "end_time": "2021-11-30T06:24:35.699360Z",
          "start_time": "2021-11-30T06:24:35.681689Z"
        },
        "id": "qGobQ-OE0Y4j",
        "outputId": "47db44d7-8de3-40ba-c9ec-bcf46401febd",
        "colab": {
          "base_uri": "https://localhost:8080/"
        }
      },
      "outputs": [
        {
          "output_type": "execute_result",
          "data": {
            "text/plain": [
              "1    0.554409\n",
              "0    0.445591\n",
              "Name: popularity, dtype: float64"
            ]
          },
          "metadata": {},
          "execution_count": 14
        }
      ],
      "source": [
        "y_test = y_test.map(lambda x: 1 if x >= 39 else 0)\n",
        "y_test.value_counts(normalize=True)"
      ]
    },
    {
      "cell_type": "code",
      "execution_count": 15,
      "metadata": {
        "ExecuteTime": {
          "end_time": "2021-11-30T06:24:36.033774Z",
          "start_time": "2021-11-30T06:24:36.029570Z"
        },
        "id": "cE1OBOPB0Y4k",
        "outputId": "8cb5cef9-56db-4ad5-8c6d-e6fbe8ee2e10",
        "colab": {
          "base_uri": "https://localhost:8080/"
        }
      },
      "outputs": [
        {
          "output_type": "execute_result",
          "data": {
            "text/plain": [
              "1    0.539056\n",
              "0    0.460944\n",
              "Name: popularity, dtype: float64"
            ]
          },
          "metadata": {},
          "execution_count": 15
        }
      ],
      "source": [
        "y_holdout = y_holdout.map(lambda x: 1 if x >= 39 else 0)\n",
        "y_holdout.value_counts(normalize=True)"
      ]
    },
    {
      "cell_type": "code",
      "execution_count": 16,
      "metadata": {
        "ExecuteTime": {
          "end_time": "2021-11-30T06:24:37.516017Z",
          "start_time": "2021-11-30T06:24:37.504056Z"
        },
        "id": "5q4E5pZL0Y4k"
      },
      "outputs": [],
      "source": [
        "def get_mp3(http, directory, name):\n",
        "    try:\n",
        "        r = requests.get(http, timeout=2)\n",
        "        with open(f'{directory}/{name}.mp3', 'wb') as f:\n",
        "            f.write(r.content)\n",
        "        print(f'mp3 acquision: {name}.mp3')\n",
        "    except:\n",
        "        print(f'mp3 timeout: index {name}')"
      ]
    },
    {
      "cell_type": "code",
      "execution_count": 17,
      "metadata": {
        "ExecuteTime": {
          "end_time": "2021-11-30T06:24:38.371852Z",
          "start_time": "2021-11-30T06:24:38.342721Z"
        },
        "id": "AG9sXNn30Y4k"
      },
      "outputs": [],
      "source": [
        "class LibrosaProcessing:\n",
        "    def __init__(self, split, data, target):\n",
        "        self.data_ = data.copy()\n",
        "        self.target_ = target.copy()\n",
        "        wd = !pwd\n",
        "        self.directory_ = f'{wd[0]}/data/{split}'\n",
        "        print(\"wd[0]: \", wd[0])\n",
        "        if not os.path.exists(self.directory_):\n",
        "            os.mkdir(self.directory_)\n",
        "        self.mp3_directory_ = f'{self.directory_}/mp3'\n",
        "        self.wav_directory_ = f'{self.directory_}/wav'\n",
        "\n",
        "    def get_mp3(self):\n",
        "        if not os.path.exists(self.mp3_directory_):\n",
        "            os.mkdir(self.mp3_directory_)\n",
        "        self.data_['preview_url'].reset_index().apply(lambda x: get_mp3(x[1],\n",
        "                                                                         self.mp3_directory_,\n",
        "                                                                         x[0]), axis=1)\n",
        "        print('mp3s acquired')\n",
        "        \n",
        "    def get_wav(self):\n",
        "        if not os.path.exists(self.wav_directory_):\n",
        "            os.mkdir(self.wav_directory_)\n",
        "        for file in os.listdir(self.mp3_directory_):\n",
        "            src = f'{self.mp3_directory_}/{file}'\n",
        "            dest = f'{self.wav_directory_}/{file.split(\".\")[0]}.wav'\n",
        "            AudioSegment.from_mp3(src).export(dest, format='wav')\n",
        "            self.data_.loc[int(file.split(\".\")[0]),\n",
        "                            'file_path'] = dest\n",
        "        for index in self.data_.index:\n",
        "            if pd.isnull(self.data_['file_path'].loc[index]):\n",
        "                self.target_.drop(index, inplace=True)\n",
        "                self.data_.drop(index, inplace=True)\n",
        "                print(f'NaN wav: index {index}')\n",
        "        self.wav_ = self.data_['file_path'].copy()\n",
        "    \n",
        "    def get_wav_path(self):\n",
        "        for file in os.listdir(self.wav_directory_):\n",
        "            self.data_.loc[int(file.split(\".\")[0]),\n",
        "                            'file_path'] = f'{self.wav_directory_}/{file}'\n",
        "        for index in self.data_.index:\n",
        "            if pd.isnull(self.data_['file_path'].loc[index]):\n",
        "                self.target_.drop(index, inplace=True)\n",
        "                self.data_.drop(index, inplace=True)\n",
        "                print(f'NaN wav: index {index}')\n",
        "        self.wav_ = self.data_['file_path'].copy()\n",
        "\n",
        "    def get_mel_spec(self):\n",
        "        self.specs_pre_ = []\n",
        "        self.spaxmax1_ = 128 # max size in dimension 1 for X_train\n",
        "        self.spaxmax2_ = 1292 # max size in dimension 2 for X_train\n",
        "        for count, song in enumerate(self.wav_, start=1):\n",
        "            y, sr = librosa.load(song, duration=30)\n",
        "            spec = librosa.power_to_db(librosa.feature.melspectrogram(y=y,sr=sr), ref=np.min)\n",
        "            self.specs_pre_.append(spec[np.newaxis, ..., np.newaxis])\n",
        "            print(f\"wavs run: {count}/{len(self.wav_)}\")\n",
        "        resized = []\n",
        "        for spec in self.specs_pre_:\n",
        "            resized.append(np.resize(spec, (1, self.spaxmax1_, self.spaxmax2_, 1)))\n",
        "        self.mel_specs_ = np.concatenate(resized, axis=0)\n",
        "        return (self.mel_specs_, self.target_)\n",
        "    \n",
        "    def get_mfcc(self):\n",
        "        pass\n",
        "#         librosa.        \n",
        "#         return "
      ]
    },
    {
      "cell_type": "code",
      "execution_count": 20,
      "metadata": {
        "ExecuteTime": {
          "end_time": "2021-11-30T06:24:44.941421Z",
          "start_time": "2021-11-30T06:24:44.931696Z"
        },
        "id": "5xnYWVLU0Y4l"
      },
      "outputs": [],
      "source": [
        "n = 100\n",
        "X_train_small = X_train.iloc[:n,:];  y_train_small = y_train[:n]\n",
        "X_test_small = X_test.iloc[:n,:]; y_test_small = y_test[:n]\n",
        "X_holdout_small = X_holdout.iloc[:n,:]; y_holdout_small = y_holdout[:n]\n",
        "raw_datadict = {'X_train': (X_train_small, y_train_small), \n",
        "            'X_test': (X_test_small, y_test_small),\n",
        "            'X_holdout': (X_holdout_small, y_holdout_small)}"
      ]
    },
    {
      "cell_type": "code",
      "execution_count": 30,
      "metadata": {
        "ExecuteTime": {
          "end_time": "2021-12-01T00:57:17.894111Z",
          "start_time": "2021-12-01T00:57:15.596237Z"
        },
        "id": "5mnImQNg0Y4m",
        "outputId": "5e014590-f82b-4951-ab29-a6677a85358e",
        "colab": {
          "base_uri": "https://localhost:8080/",
          "height": 186
        }
      },
      "outputs": [
        {
          "output_type": "error",
          "ename": "FileNotFoundError",
          "evalue": "ignored",
          "traceback": [
            "\u001b[0;31m---------------------------------------------------------------------------\u001b[0m",
            "\u001b[0;31mFileNotFoundError\u001b[0m                         Traceback (most recent call last)",
            "\u001b[0;32m<ipython-input-30-3c4c5223e145>\u001b[0m in \u001b[0;36m<module>\u001b[0;34m()\u001b[0m\n\u001b[0;32m----> 1\u001b[0;31m \u001b[0;32mwith\u001b[0m \u001b[0mopen\u001b[0m\u001b[0;34m(\u001b[0m\u001b[0;34m'mel_spec_dict.pkl'\u001b[0m\u001b[0;34m,\u001b[0m \u001b[0;34m'rb'\u001b[0m\u001b[0;34m)\u001b[0m \u001b[0;32mas\u001b[0m \u001b[0mup\u001b[0m\u001b[0;34m:\u001b[0m\u001b[0;34m\u001b[0m\u001b[0;34m\u001b[0m\u001b[0m\n\u001b[0m\u001b[1;32m      2\u001b[0m     \u001b[0mmel_spec_datadict\u001b[0m \u001b[0;34m=\u001b[0m \u001b[0mpickle\u001b[0m\u001b[0;34m.\u001b[0m\u001b[0mload\u001b[0m\u001b[0;34m(\u001b[0m\u001b[0mup\u001b[0m\u001b[0;34m)\u001b[0m\u001b[0;34m\u001b[0m\u001b[0;34m\u001b[0m\u001b[0m\n",
            "\u001b[0;31mFileNotFoundError\u001b[0m: [Errno 2] No such file or directory: 'mel_spec_dict.pkl'"
          ]
        }
      ],
      "source": [
        "with open('mel_spec_dict.pkl', 'rb') as up:\n",
        "    mel_spec_datadict = pickle.load(up)"
      ]
    },
    {
      "cell_type": "code",
      "execution_count": 31,
      "metadata": {
        "ExecuteTime": {
          "end_time": "2021-12-01T00:57:18.501168Z",
          "start_time": "2021-12-01T00:57:18.490011Z"
        },
        "id": "LzBAnLDg0Y4m",
        "outputId": "11b1c02a-1cb6-4c9c-99bd-3da9fc99cb68",
        "colab": {
          "base_uri": "https://localhost:8080/",
          "height": 168
        }
      },
      "outputs": [
        {
          "output_type": "error",
          "ename": "NameError",
          "evalue": "ignored",
          "traceback": [
            "\u001b[0;31m---------------------------------------------------------------------------\u001b[0m",
            "\u001b[0;31mNameError\u001b[0m                                 Traceback (most recent call last)",
            "\u001b[0;32m<ipython-input-31-64ee9f80b40d>\u001b[0m in \u001b[0;36m<module>\u001b[0;34m()\u001b[0m\n\u001b[0;32m----> 1\u001b[0;31m \u001b[0mmel_spec_datadict\u001b[0m\u001b[0;34m.\u001b[0m\u001b[0mkeys\u001b[0m\u001b[0;34m(\u001b[0m\u001b[0;34m)\u001b[0m\u001b[0;34m\u001b[0m\u001b[0;34m\u001b[0m\u001b[0m\n\u001b[0m",
            "\u001b[0;31mNameError\u001b[0m: name 'mel_spec_datadict' is not defined"
          ]
        }
      ],
      "source": [
        "mel_spec_datadict.keys()"
      ]
    },
    {
      "cell_type": "code",
      "execution_count": 32,
      "metadata": {
        "ExecuteTime": {
          "end_time": "2021-11-30T08:15:29.794473Z",
          "start_time": "2021-11-30T08:15:29.781186Z"
        },
        "id": "ak-griUK0Y4m",
        "outputId": "97a28fb8-521c-4e3f-cfa7-5d682831f802",
        "colab": {
          "base_uri": "https://localhost:8080/",
          "height": 168
        }
      },
      "outputs": [
        {
          "output_type": "error",
          "ename": "NameError",
          "evalue": "ignored",
          "traceback": [
            "\u001b[0;31m---------------------------------------------------------------------------\u001b[0m",
            "\u001b[0;31mNameError\u001b[0m                                 Traceback (most recent call last)",
            "\u001b[0;32m<ipython-input-32-e1b3d641ef59>\u001b[0m in \u001b[0;36m<module>\u001b[0;34m()\u001b[0m\n\u001b[0;32m----> 1\u001b[0;31m \u001b[0mmel_spec_datadict\u001b[0m\u001b[0;34m[\u001b[0m\u001b[0;34m'X_holdout'\u001b[0m\u001b[0;34m]\u001b[0m\u001b[0;34m[\u001b[0m\u001b[0;36m0\u001b[0m\u001b[0;34m]\u001b[0m\u001b[0;34m.\u001b[0m\u001b[0mshape\u001b[0m\u001b[0;34m\u001b[0m\u001b[0;34m\u001b[0m\u001b[0m\n\u001b[0m",
            "\u001b[0;31mNameError\u001b[0m: name 'mel_spec_datadict' is not defined"
          ]
        }
      ],
      "source": [
        "mel_spec_datadict['X_holdout'][0].shape"
      ]
    },
    {
      "cell_type": "code",
      "execution_count": 23,
      "metadata": {
        "ExecuteTime": {
          "end_time": "2021-11-30T08:14:52.441713Z",
          "start_time": "2021-11-30T07:35:35.113863Z"
        },
        "id": "IuhOwo-f0Y4n",
        "outputId": "4ac046db-f3b2-4166-dff3-d45001201867",
        "colab": {
          "base_uri": "https://localhost:8080/"
        }
      },
      "outputs": [
        {
          "output_type": "stream",
          "name": "stdout",
          "text": [
            "wd[0]:  /content\n",
            "mp3 acquision: 9784.mp3\n",
            "mp3 acquision: 582.mp3\n",
            "mp3 acquision: 4879.mp3\n",
            "mp3 acquision: 6576.mp3\n",
            "mp3 acquision: 4520.mp3\n",
            "mp3 acquision: 8721.mp3\n",
            "mp3 acquision: 16180.mp3\n",
            "mp3 acquision: 12549.mp3\n",
            "mp3 acquision: 8259.mp3\n",
            "mp3 acquision: 6395.mp3\n",
            "mp3 acquision: 11543.mp3\n",
            "mp3 acquision: 1017.mp3\n",
            "mp3 acquision: 9500.mp3\n",
            "mp3 acquision: 8950.mp3\n",
            "mp3 acquision: 7207.mp3\n",
            "mp3 acquision: 10464.mp3\n",
            "mp3 acquision: 16160.mp3\n",
            "mp3 acquision: 717.mp3\n",
            "mp3 acquision: 752.mp3\n",
            "mp3 acquision: 11368.mp3\n",
            "mp3 acquision: 16107.mp3\n",
            "mp3 acquision: 16694.mp3\n",
            "mp3 acquision: 3583.mp3\n",
            "mp3 acquision: 5863.mp3\n",
            "mp3 timeout: index 126\n",
            "mp3 acquision: 14015.mp3\n",
            "mp3 acquision: 9572.mp3\n",
            "mp3 acquision: 12444.mp3\n",
            "mp3 acquision: 7566.mp3\n",
            "mp3 acquision: 1974.mp3\n",
            "mp3 acquision: 3423.mp3\n",
            "mp3 acquision: 6290.mp3\n",
            "mp3 acquision: 6452.mp3\n",
            "mp3 acquision: 11803.mp3\n",
            "mp3 acquision: 15163.mp3\n",
            "mp3 acquision: 1589.mp3\n",
            "mp3 acquision: 8935.mp3\n",
            "mp3 acquision: 14150.mp3\n",
            "mp3 acquision: 1891.mp3\n",
            "mp3 acquision: 12902.mp3\n",
            "mp3 acquision: 7686.mp3\n",
            "mp3 timeout: index 9978\n",
            "mp3 acquision: 7308.mp3\n",
            "mp3 acquision: 13619.mp3\n",
            "mp3 acquision: 5946.mp3\n",
            "mp3 acquision: 10354.mp3\n",
            "mp3 acquision: 5344.mp3\n",
            "mp3 acquision: 10985.mp3\n",
            "mp3 acquision: 12336.mp3\n",
            "mp3 acquision: 7333.mp3\n",
            "mp3 acquision: 419.mp3\n",
            "mp3 acquision: 15721.mp3\n",
            "mp3 acquision: 1785.mp3\n",
            "mp3 acquision: 15781.mp3\n",
            "mp3 acquision: 14486.mp3\n",
            "mp3 acquision: 10361.mp3\n",
            "mp3 acquision: 14903.mp3\n",
            "mp3 acquision: 205.mp3\n",
            "mp3 acquision: 6092.mp3\n",
            "mp3 acquision: 4148.mp3\n",
            "mp3 acquision: 10444.mp3\n",
            "mp3 acquision: 6571.mp3\n",
            "mp3 acquision: 10329.mp3\n",
            "mp3 acquision: 9938.mp3\n",
            "mp3 timeout: index 10408\n",
            "mp3 acquision: 4681.mp3\n",
            "mp3 acquision: 13166.mp3\n",
            "mp3 acquision: 9234.mp3\n",
            "mp3 acquision: 10890.mp3\n",
            "mp3 acquision: 5174.mp3\n",
            "mp3 acquision: 954.mp3\n",
            "mp3 acquision: 6594.mp3\n",
            "mp3 timeout: index 4406\n",
            "mp3 acquision: 5365.mp3\n",
            "mp3 acquision: 13001.mp3\n",
            "mp3 acquision: 15679.mp3\n",
            "mp3 acquision: 15470.mp3\n",
            "mp3 acquision: 2847.mp3\n",
            "mp3 acquision: 12281.mp3\n",
            "mp3 acquision: 4611.mp3\n",
            "mp3 acquision: 8678.mp3\n",
            "mp3 acquision: 2363.mp3\n",
            "mp3 acquision: 15453.mp3\n",
            "mp3 acquision: 10686.mp3\n",
            "mp3 acquision: 4238.mp3\n",
            "mp3 acquision: 10065.mp3\n",
            "mp3 acquision: 11023.mp3\n",
            "mp3 acquision: 2090.mp3\n",
            "mp3 acquision: 8241.mp3\n",
            "mp3 acquision: 16115.mp3\n",
            "mp3 acquision: 10720.mp3\n",
            "mp3 acquision: 14149.mp3\n",
            "mp3 acquision: 13000.mp3\n",
            "mp3 acquision: 16240.mp3\n",
            "mp3 acquision: 14477.mp3\n",
            "mp3 acquision: 7221.mp3\n",
            "mp3 acquision: 7785.mp3\n",
            "mp3 acquision: 11994.mp3\n",
            "mp3 acquision: 4711.mp3\n",
            "mp3 acquision: 11723.mp3\n",
            "mp3s acquired\n",
            "wavs run: 1/100\n",
            "wavs run: 2/100\n",
            "wavs run: 3/100\n",
            "wavs run: 4/100\n",
            "wavs run: 5/100\n",
            "wavs run: 6/100\n",
            "wavs run: 7/100\n",
            "wavs run: 8/100\n",
            "wavs run: 9/100\n",
            "wavs run: 10/100\n",
            "wavs run: 11/100\n",
            "wavs run: 12/100\n",
            "wavs run: 13/100\n",
            "wavs run: 14/100\n",
            "wavs run: 15/100\n",
            "wavs run: 16/100\n",
            "wavs run: 17/100\n",
            "wavs run: 18/100\n",
            "wavs run: 19/100\n",
            "wavs run: 20/100\n",
            "wavs run: 21/100\n",
            "wavs run: 22/100\n",
            "wavs run: 23/100\n",
            "wavs run: 24/100\n",
            "wavs run: 25/100\n",
            "wavs run: 26/100\n",
            "wavs run: 27/100\n",
            "wavs run: 28/100\n",
            "wavs run: 29/100\n",
            "wavs run: 30/100\n",
            "wavs run: 31/100\n",
            "wavs run: 32/100\n",
            "wavs run: 33/100\n",
            "wavs run: 34/100\n",
            "wavs run: 35/100\n",
            "wavs run: 36/100\n",
            "wavs run: 37/100\n",
            "wavs run: 38/100\n",
            "wavs run: 39/100\n",
            "wavs run: 40/100\n",
            "wavs run: 41/100\n",
            "wavs run: 42/100\n",
            "wavs run: 43/100\n",
            "wavs run: 44/100\n",
            "wavs run: 45/100\n",
            "wavs run: 46/100\n",
            "wavs run: 47/100\n",
            "wavs run: 48/100\n",
            "wavs run: 49/100\n",
            "wavs run: 50/100\n",
            "wavs run: 51/100\n",
            "wavs run: 52/100\n",
            "wavs run: 53/100\n",
            "wavs run: 54/100\n",
            "wavs run: 55/100\n",
            "wavs run: 56/100\n",
            "wavs run: 57/100\n",
            "wavs run: 58/100\n",
            "wavs run: 59/100\n",
            "wavs run: 60/100\n",
            "wavs run: 61/100\n",
            "wavs run: 62/100\n",
            "wavs run: 63/100\n",
            "wavs run: 64/100\n",
            "wavs run: 65/100\n",
            "wavs run: 66/100\n",
            "wavs run: 67/100\n",
            "wavs run: 68/100\n",
            "wavs run: 69/100\n",
            "wavs run: 70/100\n",
            "wavs run: 71/100\n",
            "wavs run: 72/100\n",
            "wavs run: 73/100\n",
            "wavs run: 74/100\n",
            "wavs run: 75/100\n",
            "wavs run: 76/100\n",
            "wavs run: 77/100\n",
            "wavs run: 78/100\n",
            "wavs run: 79/100\n",
            "wavs run: 80/100\n",
            "wavs run: 81/100\n",
            "wavs run: 82/100\n",
            "wavs run: 83/100\n",
            "wavs run: 84/100\n",
            "wavs run: 85/100\n",
            "wavs run: 86/100\n",
            "wavs run: 87/100\n",
            "wavs run: 88/100\n",
            "wavs run: 89/100\n",
            "wavs run: 90/100\n",
            "wavs run: 91/100\n",
            "wavs run: 92/100\n",
            "wavs run: 93/100\n",
            "wavs run: 94/100\n",
            "wavs run: 95/100\n",
            "wavs run: 96/100\n",
            "wavs run: 97/100\n",
            "wavs run: 98/100\n",
            "wavs run: 99/100\n",
            "wavs run: 100/100\n",
            "wd[0]:  /content\n",
            "mp3 acquision: 3039.mp3\n",
            "mp3 acquision: 6734.mp3\n",
            "mp3 acquision: 2497.mp3\n",
            "mp3 acquision: 735.mp3\n",
            "mp3 acquision: 14784.mp3\n",
            "mp3 acquision: 14067.mp3\n",
            "mp3 acquision: 13978.mp3\n",
            "mp3 acquision: 6558.mp3\n",
            "mp3 acquision: 7386.mp3\n",
            "mp3 acquision: 10248.mp3\n",
            "mp3 acquision: 3452.mp3\n",
            "mp3 acquision: 3774.mp3\n",
            "mp3 acquision: 10357.mp3\n",
            "mp3 acquision: 15183.mp3\n",
            "mp3 acquision: 1541.mp3\n",
            "mp3 acquision: 16067.mp3\n",
            "mp3 acquision: 10038.mp3\n",
            "mp3 acquision: 8890.mp3\n",
            "mp3 acquision: 1730.mp3\n",
            "mp3 acquision: 7683.mp3\n",
            "mp3 acquision: 5991.mp3\n",
            "mp3 acquision: 4409.mp3\n",
            "mp3 acquision: 10625.mp3\n",
            "mp3 acquision: 12578.mp3\n",
            "mp3 acquision: 14756.mp3\n",
            "mp3 acquision: 12286.mp3\n",
            "mp3 acquision: 12875.mp3\n",
            "mp3 acquision: 15472.mp3\n",
            "mp3 acquision: 15092.mp3\n",
            "mp3 acquision: 11300.mp3\n",
            "mp3 acquision: 2798.mp3\n",
            "mp3 acquision: 3078.mp3\n",
            "mp3 acquision: 9491.mp3\n",
            "mp3 acquision: 5019.mp3\n",
            "mp3 acquision: 7081.mp3\n",
            "mp3 acquision: 4755.mp3\n",
            "mp3 acquision: 1694.mp3\n",
            "mp3 acquision: 1976.mp3\n",
            "mp3 acquision: 5915.mp3\n",
            "mp3 acquision: 8671.mp3\n",
            "mp3 acquision: 1047.mp3\n",
            "mp3 acquision: 8237.mp3\n",
            "mp3 acquision: 5093.mp3\n",
            "mp3 acquision: 12613.mp3\n",
            "mp3 acquision: 3398.mp3\n",
            "mp3 acquision: 15755.mp3\n",
            "mp3 acquision: 5029.mp3\n",
            "mp3 acquision: 8265.mp3\n",
            "mp3 acquision: 12422.mp3\n",
            "mp3 acquision: 24.mp3\n",
            "mp3 acquision: 4467.mp3\n",
            "mp3 acquision: 2302.mp3\n",
            "mp3 acquision: 12489.mp3\n",
            "mp3 acquision: 3378.mp3\n",
            "mp3 acquision: 11166.mp3\n",
            "mp3 acquision: 5416.mp3\n",
            "mp3 acquision: 13380.mp3\n",
            "mp3 acquision: 8513.mp3\n",
            "mp3 acquision: 15987.mp3\n",
            "mp3 acquision: 16674.mp3\n",
            "mp3 acquision: 14505.mp3\n",
            "mp3 acquision: 14164.mp3\n",
            "mp3 acquision: 11143.mp3\n",
            "mp3 acquision: 11003.mp3\n",
            "mp3 acquision: 4799.mp3\n",
            "mp3 acquision: 8032.mp3\n",
            "mp3 acquision: 7946.mp3\n",
            "mp3 acquision: 10087.mp3\n",
            "mp3 acquision: 15141.mp3\n",
            "mp3 acquision: 12883.mp3\n",
            "mp3 acquision: 1960.mp3\n",
            "mp3 acquision: 13245.mp3\n",
            "mp3 acquision: 7855.mp3\n",
            "mp3 acquision: 8064.mp3\n",
            "mp3 acquision: 2705.mp3\n",
            "mp3 acquision: 10937.mp3\n",
            "mp3 acquision: 1495.mp3\n",
            "mp3 acquision: 7132.mp3\n",
            "mp3 acquision: 8483.mp3\n",
            "mp3 acquision: 1271.mp3\n",
            "mp3 acquision: 7659.mp3\n",
            "mp3 acquision: 4720.mp3\n",
            "mp3 acquision: 7655.mp3\n",
            "mp3 acquision: 3383.mp3\n",
            "mp3 acquision: 1390.mp3\n",
            "mp3 acquision: 5624.mp3\n",
            "mp3 acquision: 2515.mp3\n",
            "mp3 acquision: 1757.mp3\n",
            "mp3 acquision: 1201.mp3\n",
            "mp3 acquision: 12533.mp3\n",
            "mp3 acquision: 12320.mp3\n",
            "mp3 acquision: 9848.mp3\n",
            "mp3 acquision: 15849.mp3\n",
            "mp3 acquision: 8194.mp3\n",
            "mp3 acquision: 525.mp3\n",
            "mp3 acquision: 11895.mp3\n",
            "mp3 acquision: 1754.mp3\n",
            "mp3 acquision: 15389.mp3\n",
            "mp3 acquision: 16123.mp3\n",
            "mp3 acquision: 237.mp3\n",
            "mp3s acquired\n",
            "wavs run: 1/100\n",
            "wavs run: 2/100\n",
            "wavs run: 3/100\n",
            "wavs run: 4/100\n",
            "wavs run: 5/100\n",
            "wavs run: 6/100\n",
            "wavs run: 7/100\n",
            "wavs run: 8/100\n",
            "wavs run: 9/100\n",
            "wavs run: 10/100\n",
            "wavs run: 11/100\n",
            "wavs run: 12/100\n",
            "wavs run: 13/100\n",
            "wavs run: 14/100\n",
            "wavs run: 15/100\n",
            "wavs run: 16/100\n",
            "wavs run: 17/100\n",
            "wavs run: 18/100\n",
            "wavs run: 19/100\n",
            "wavs run: 20/100\n",
            "wavs run: 21/100\n",
            "wavs run: 22/100\n",
            "wavs run: 23/100\n",
            "wavs run: 24/100\n",
            "wavs run: 25/100\n",
            "wavs run: 26/100\n",
            "wavs run: 27/100\n",
            "wavs run: 28/100\n",
            "wavs run: 29/100\n",
            "wavs run: 30/100\n",
            "wavs run: 31/100\n",
            "wavs run: 32/100\n",
            "wavs run: 33/100\n",
            "wavs run: 34/100\n",
            "wavs run: 35/100\n",
            "wavs run: 36/100\n",
            "wavs run: 37/100\n",
            "wavs run: 38/100\n",
            "wavs run: 39/100\n",
            "wavs run: 40/100\n",
            "wavs run: 41/100\n",
            "wavs run: 42/100\n",
            "wavs run: 43/100\n",
            "wavs run: 44/100\n",
            "wavs run: 45/100\n",
            "wavs run: 46/100\n",
            "wavs run: 47/100\n",
            "wavs run: 48/100\n",
            "wavs run: 49/100\n",
            "wavs run: 50/100\n",
            "wavs run: 51/100\n",
            "wavs run: 52/100\n",
            "wavs run: 53/100\n",
            "wavs run: 54/100\n",
            "wavs run: 55/100\n",
            "wavs run: 56/100\n",
            "wavs run: 57/100\n",
            "wavs run: 58/100\n",
            "wavs run: 59/100\n",
            "wavs run: 60/100\n",
            "wavs run: 61/100\n",
            "wavs run: 62/100\n",
            "wavs run: 63/100\n",
            "wavs run: 64/100\n",
            "wavs run: 65/100\n",
            "wavs run: 66/100\n",
            "wavs run: 67/100\n",
            "wavs run: 68/100\n",
            "wavs run: 69/100\n",
            "wavs run: 70/100\n",
            "wavs run: 71/100\n",
            "wavs run: 72/100\n",
            "wavs run: 73/100\n",
            "wavs run: 74/100\n",
            "wavs run: 75/100\n",
            "wavs run: 76/100\n",
            "wavs run: 77/100\n",
            "wavs run: 78/100\n",
            "wavs run: 79/100\n",
            "wavs run: 80/100\n",
            "wavs run: 81/100\n",
            "wavs run: 82/100\n",
            "wavs run: 83/100\n",
            "wavs run: 84/100\n",
            "wavs run: 85/100\n",
            "wavs run: 86/100\n",
            "wavs run: 87/100\n",
            "wavs run: 88/100\n",
            "wavs run: 89/100\n",
            "wavs run: 90/100\n",
            "wavs run: 91/100\n",
            "wavs run: 92/100\n",
            "wavs run: 93/100\n",
            "wavs run: 94/100\n",
            "wavs run: 95/100\n",
            "wavs run: 96/100\n",
            "wavs run: 97/100\n",
            "wavs run: 98/100\n",
            "wavs run: 99/100\n",
            "wavs run: 100/100\n",
            "wd[0]:  /content\n",
            "mp3 acquision: 9692.mp3\n",
            "mp3 acquision: 6371.mp3\n",
            "mp3 acquision: 12862.mp3\n",
            "mp3 acquision: 1961.mp3\n",
            "mp3 acquision: 16658.mp3\n",
            "mp3 acquision: 815.mp3\n",
            "mp3 acquision: 1187.mp3\n",
            "mp3 acquision: 5158.mp3\n",
            "mp3 acquision: 2172.mp3\n",
            "mp3 acquision: 11034.mp3\n",
            "mp3 acquision: 886.mp3\n",
            "mp3 acquision: 9.mp3\n",
            "mp3 acquision: 8854.mp3\n",
            "mp3 acquision: 7299.mp3\n",
            "mp3 acquision: 10033.mp3\n",
            "mp3 acquision: 5420.mp3\n",
            "mp3 acquision: 4448.mp3\n",
            "mp3 acquision: 14412.mp3\n",
            "mp3 acquision: 13306.mp3\n",
            "mp3 acquision: 11632.mp3\n",
            "mp3 acquision: 113.mp3\n",
            "mp3 acquision: 12037.mp3\n",
            "mp3 acquision: 14542.mp3\n",
            "mp3 acquision: 14998.mp3\n",
            "mp3 acquision: 11456.mp3\n",
            "mp3 acquision: 10165.mp3\n",
            "mp3 acquision: 6048.mp3\n",
            "mp3 acquision: 3946.mp3\n",
            "mp3 acquision: 6021.mp3\n",
            "mp3 acquision: 16597.mp3\n",
            "mp3 acquision: 14611.mp3\n",
            "mp3 acquision: 11272.mp3\n",
            "mp3 acquision: 5744.mp3\n",
            "mp3 acquision: 4304.mp3\n",
            "mp3 acquision: 15010.mp3\n",
            "mp3 acquision: 367.mp3\n",
            "mp3 acquision: 10614.mp3\n",
            "mp3 acquision: 682.mp3\n",
            "mp3 acquision: 13147.mp3\n",
            "mp3 acquision: 1424.mp3\n",
            "mp3 acquision: 5084.mp3\n",
            "mp3 acquision: 3123.mp3\n",
            "mp3 acquision: 3709.mp3\n",
            "mp3 acquision: 6342.mp3\n",
            "mp3 acquision: 6096.mp3\n",
            "mp3 acquision: 8165.mp3\n",
            "mp3 acquision: 15125.mp3\n",
            "mp3 acquision: 16617.mp3\n",
            "mp3 acquision: 5809.mp3\n",
            "mp3 acquision: 12359.mp3\n",
            "mp3 acquision: 3451.mp3\n",
            "mp3 acquision: 11959.mp3\n",
            "mp3 acquision: 16090.mp3\n",
            "mp3 acquision: 16491.mp3\n",
            "mp3 acquision: 5398.mp3\n",
            "mp3 acquision: 7495.mp3\n",
            "mp3 acquision: 7142.mp3\n",
            "mp3 acquision: 7455.mp3\n",
            "mp3 acquision: 3434.mp3\n",
            "mp3 acquision: 2572.mp3\n",
            "mp3 acquision: 6509.mp3\n",
            "mp3 acquision: 14073.mp3\n",
            "mp3 acquision: 14558.mp3\n",
            "mp3 acquision: 2201.mp3\n",
            "mp3 acquision: 13338.mp3\n",
            "mp3 acquision: 10382.mp3\n",
            "mp3 acquision: 10154.mp3\n",
            "mp3 acquision: 221.mp3\n",
            "mp3 acquision: 1807.mp3\n",
            "mp3 acquision: 9286.mp3\n",
            "mp3 acquision: 13461.mp3\n",
            "mp3 acquision: 1966.mp3\n",
            "mp3 acquision: 13269.mp3\n",
            "mp3 acquision: 7284.mp3\n",
            "mp3 acquision: 1143.mp3\n",
            "mp3 acquision: 10178.mp3\n",
            "mp3 acquision: 13757.mp3\n",
            "mp3 acquision: 4863.mp3\n",
            "mp3 acquision: 4933.mp3\n",
            "mp3 acquision: 5339.mp3\n",
            "mp3 acquision: 744.mp3\n",
            "mp3 acquision: 8418.mp3\n",
            "mp3 acquision: 2106.mp3\n",
            "mp3 acquision: 10030.mp3\n",
            "mp3 acquision: 768.mp3\n",
            "mp3 acquision: 13105.mp3\n",
            "mp3 acquision: 11529.mp3\n",
            "mp3 acquision: 10712.mp3\n",
            "mp3 acquision: 13442.mp3\n",
            "mp3 acquision: 7057.mp3\n",
            "mp3 acquision: 6766.mp3\n",
            "mp3 acquision: 12585.mp3\n",
            "mp3 acquision: 10452.mp3\n",
            "mp3 acquision: 13394.mp3\n",
            "mp3 acquision: 13017.mp3\n",
            "mp3 acquision: 3081.mp3\n",
            "mp3 acquision: 15834.mp3\n",
            "mp3 acquision: 9440.mp3\n",
            "mp3 acquision: 11537.mp3\n",
            "mp3 acquision: 1839.mp3\n",
            "mp3s acquired\n",
            "wavs run: 1/100\n",
            "wavs run: 2/100\n",
            "wavs run: 3/100\n",
            "wavs run: 4/100\n",
            "wavs run: 5/100\n",
            "wavs run: 6/100\n",
            "wavs run: 7/100\n",
            "wavs run: 8/100\n",
            "wavs run: 9/100\n",
            "wavs run: 10/100\n",
            "wavs run: 11/100\n",
            "wavs run: 12/100\n",
            "wavs run: 13/100\n",
            "wavs run: 14/100\n",
            "wavs run: 15/100\n",
            "wavs run: 16/100\n",
            "wavs run: 17/100\n",
            "wavs run: 18/100\n",
            "wavs run: 19/100\n",
            "wavs run: 20/100\n",
            "wavs run: 21/100\n",
            "wavs run: 22/100\n",
            "wavs run: 23/100\n",
            "wavs run: 24/100\n",
            "wavs run: 25/100\n",
            "wavs run: 26/100\n",
            "wavs run: 27/100\n",
            "wavs run: 28/100\n",
            "wavs run: 29/100\n",
            "wavs run: 30/100\n",
            "wavs run: 31/100\n",
            "wavs run: 32/100\n",
            "wavs run: 33/100\n",
            "wavs run: 34/100\n",
            "wavs run: 35/100\n",
            "wavs run: 36/100\n",
            "wavs run: 37/100\n",
            "wavs run: 38/100\n",
            "wavs run: 39/100\n",
            "wavs run: 40/100\n",
            "wavs run: 41/100\n",
            "wavs run: 42/100\n",
            "wavs run: 43/100\n",
            "wavs run: 44/100\n",
            "wavs run: 45/100\n",
            "wavs run: 46/100\n",
            "wavs run: 47/100\n",
            "wavs run: 48/100\n",
            "wavs run: 49/100\n",
            "wavs run: 50/100\n",
            "wavs run: 51/100\n",
            "wavs run: 52/100\n",
            "wavs run: 53/100\n",
            "wavs run: 54/100\n",
            "wavs run: 55/100\n",
            "wavs run: 56/100\n",
            "wavs run: 57/100\n",
            "wavs run: 58/100\n",
            "wavs run: 59/100\n",
            "wavs run: 60/100\n",
            "wavs run: 61/100\n",
            "wavs run: 62/100\n",
            "wavs run: 63/100\n",
            "wavs run: 64/100\n",
            "wavs run: 65/100\n",
            "wavs run: 66/100\n",
            "wavs run: 67/100\n",
            "wavs run: 68/100\n",
            "wavs run: 69/100\n",
            "wavs run: 70/100\n",
            "wavs run: 71/100\n",
            "wavs run: 72/100\n",
            "wavs run: 73/100\n",
            "wavs run: 74/100\n",
            "wavs run: 75/100\n",
            "wavs run: 76/100\n",
            "wavs run: 77/100\n",
            "wavs run: 78/100\n",
            "wavs run: 79/100\n",
            "wavs run: 80/100\n",
            "wavs run: 81/100\n",
            "wavs run: 82/100\n",
            "wavs run: 83/100\n",
            "wavs run: 84/100\n",
            "wavs run: 85/100\n",
            "wavs run: 86/100\n",
            "wavs run: 87/100\n",
            "wavs run: 88/100\n",
            "wavs run: 89/100\n",
            "wavs run: 90/100\n",
            "wavs run: 91/100\n",
            "wavs run: 92/100\n",
            "wavs run: 93/100\n",
            "wavs run: 94/100\n",
            "wavs run: 95/100\n",
            "wavs run: 96/100\n",
            "wavs run: 97/100\n",
            "wavs run: 98/100\n",
            "wavs run: 99/100\n",
            "wavs run: 100/100\n"
          ]
        }
      ],
      "source": [
        "mel_spec_datadict = {}\n",
        "for i, (split, info) in enumerate(raw_datadict.items()):\n",
        "    if split == 'X_train':\n",
        "        lp = LibrosaProcessing(split, info[0], info[1])\n",
        "        lp.get_mp3()\n",
        "        lp.get_wav()\n",
        "        mel_spec_datadict[split] = lp.get_mel_spec()\n",
        "    if split == 'X_test':\n",
        "        lp2 = LibrosaProcessing(split, info[0], info[1])\n",
        "        lp2.get_mp3()\n",
        "        lp2.get_wav()\n",
        "        mel_spec_datadict[split] = lp2.get_mel_spec()\n",
        "    if split == 'X_holdout':\n",
        "        lp3 = LibrosaProcessing(split, info[0], info[1])\n",
        "        lp3.get_mp3()\n",
        "        lp3.get_wav()\n",
        "        mel_spec_datadict[split] = lp3.get_mel_spec()"
      ]
    },
    {
      "cell_type": "code",
      "execution_count": 24,
      "metadata": {
        "ExecuteTime": {
          "end_time": "2021-11-30T08:16:45.047420Z",
          "start_time": "2021-11-30T08:16:40.987020Z"
        },
        "id": "3fVzt0nv0Y4n"
      },
      "outputs": [],
      "source": [
        "with open('mel_spec_dict.pkl', 'wb') as p:\n",
        "    pickle.dump(mel_spec_datadict, p)"
      ]
    },
    {
      "cell_type": "code",
      "execution_count": 29,
      "metadata": {
        "ExecuteTime": {
          "end_time": "2021-11-30T05:38:34.499109Z",
          "start_time": "2021-11-30T05:38:34.263193Z"
        },
        "id": "i9qs4oIP0Y4n",
        "outputId": "bff40ad3-578e-4a79-b326-cf44129f9169",
        "colab": {
          "base_uri": "https://localhost:8080/",
          "height": 404
        }
      },
      "outputs": [
        {
          "output_type": "display_data",
          "data": {
            "text/plain": [
              "<Figure size 720x432 with 2 Axes>"
            ],
            "image/png": "[encoded data removed]"
          },
          "metadata": {
            "needs_background": "light"
          }
        }
      ],
      "source": [
        "fig, ax = plt.subplots(figsize=(10,6))\n",
        "idx = 90\n",
        "img = librosa.display.specshow(lp.specs_pre_[idx][0,:,:,0], x_axis='time', \n",
        "                               y_axis='mel', fmax=8000, ax=ax)\n",
        "fig.colorbar(img, ax=ax, format='%+2.0f dB')\n",
        "ax.set(title='Mel Spectrogram', xlabel='Time (sec)', ylabel='Frequency (mels)');"
      ]
    },
    {
      "cell_type": "code",
      "execution_count": null,
      "metadata": {
        "ExecuteTime": {
          "end_time": "2021-11-29T02:08:19.609322Z",
          "start_time": "2021-11-29T02:08:18.386370Z"
        },
        "id": "aIoplb2Q0Y4o"
      },
      "outputs": [],
      "source": [
        "y, sr = librosa.load(lp.wav_.iloc[0],duration=30)\n",
        "ipd.Audio(y,rate=sr)"
      ]
    },
    {
      "cell_type": "code",
      "execution_count": 1,
      "metadata": {
        "ExecuteTime": {
          "end_time": "2021-12-01T00:57:21.878071Z",
          "start_time": "2021-12-01T00:57:21.864625Z"
        },
        "id": "_eo7N56Q0Y4o"
      },
      "outputs": [],
      "source": [
        "class MinMaxScaler:\n",
        "    def fit(self, X_train):\n",
        "        self.X_train_ = X_train\n",
        "        self.max_ = self.X_train_.max()\n",
        "        self.min_ = self.X_train_.min()\n",
        "        \n",
        "    def transform(self, X):\n",
        "        return (X - self.min_) / (self.max_ - self.min_)\n",
        "        "
      ]
    },
    {
      "cell_type": "code",
      "execution_count": 2,
      "metadata": {
        "ExecuteTime": {
          "end_time": "2021-12-01T00:57:43.121776Z",
          "start_time": "2021-12-01T00:57:39.364023Z"
        },
        "id": "bWdrz9qi0Y4o",
        "outputId": "c900ed20-cc8e-4e57-dec5-303c7f5c44eb",
        "colab": {
          "base_uri": "https://localhost:8080/",
          "height": 240
        }
      },
      "outputs": [
        {
          "output_type": "error",
          "ename": "NameError",
          "evalue": "ignored",
          "traceback": [
            "\u001b[0;31m---------------------------------------------------------------------------\u001b[0m",
            "\u001b[0;31mNameError\u001b[0m                                 Traceback (most recent call last)",
            "\u001b[0;32m<ipython-input-2-f35d9e3f76de>\u001b[0m in \u001b[0;36m<module>\u001b[0;34m()\u001b[0m\n\u001b[1;32m      1\u001b[0m \u001b[0;31m# Scaling\u001b[0m\u001b[0;34m\u001b[0m\u001b[0;34m\u001b[0m\u001b[0;34m\u001b[0m\u001b[0m\n\u001b[1;32m      2\u001b[0m \u001b[0mmm\u001b[0m \u001b[0;34m=\u001b[0m \u001b[0mMinMaxScaler\u001b[0m\u001b[0;34m(\u001b[0m\u001b[0;34m)\u001b[0m\u001b[0;34m\u001b[0m\u001b[0;34m\u001b[0m\u001b[0m\n\u001b[0;32m----> 3\u001b[0;31m \u001b[0mmm\u001b[0m\u001b[0;34m.\u001b[0m\u001b[0mfit\u001b[0m\u001b[0;34m(\u001b[0m\u001b[0mmel_spec_datadict\u001b[0m\u001b[0;34m[\u001b[0m\u001b[0;34m'X_train'\u001b[0m\u001b[0;34m]\u001b[0m\u001b[0;34m[\u001b[0m\u001b[0;36m0\u001b[0m\u001b[0;34m]\u001b[0m\u001b[0;34m)\u001b[0m\u001b[0;34m\u001b[0m\u001b[0;34m\u001b[0m\u001b[0m\n\u001b[0m\u001b[1;32m      4\u001b[0m \u001b[0;34m\u001b[0m\u001b[0m\n\u001b[1;32m      5\u001b[0m \u001b[0mmel_spec_sc\u001b[0m \u001b[0;34m=\u001b[0m \u001b[0;34m{\u001b[0m\u001b[0;34m}\u001b[0m\u001b[0;34m\u001b[0m\u001b[0;34m\u001b[0m\u001b[0m\n",
            "\u001b[0;31mNameError\u001b[0m: name 'mel_spec_datadict' is not defined"
          ]
        }
      ],
      "source": [
        "# Scaling\n",
        "mm = MinMaxScaler()\n",
        "mm.fit(mel_spec_datadict['X_train'][0])\n",
        "\n",
        "mel_spec_sc = {}\n",
        "for split, info in mel_spec_datadict.items():\n",
        "    scaledX = mm.transform(info[0])\n",
        "    mel_spec_sc[split] = (scaledX, info[1])\n"
      ]
    },
    {
      "cell_type": "code",
      "execution_count": null,
      "metadata": {
        "ExecuteTime": {
          "end_time": "2021-12-01T00:57:46.000797Z",
          "start_time": "2021-12-01T00:57:45.990737Z"
        },
        "id": "Y75I6cw80Y4p",
        "outputId": "0ad43063-ee3f-4639-daee-387d32fa09c2"
      },
      "outputs": [
        {
          "data": {
            "text/plain": [
              "(2426,)"
            ]
          },
          "execution_count": 11,
          "metadata": {},
          "output_type": "execute_result"
        }
      ],
      "source": [
        "mel_spec_sc['X_test'][1].shape"
      ]
    },
    {
      "cell_type": "code",
      "execution_count": null,
      "metadata": {
        "ExecuteTime": {
          "end_time": "2021-12-01T00:57:55.696721Z",
          "start_time": "2021-12-01T00:57:51.425393Z"
        },
        "id": "-u2KrXAv0Y4p"
      },
      "outputs": [],
      "source": [
        "with open('mel_spec_sc.pkl', 'wb') as p:\n",
        "    pickle.dump(mel_spec_sc, p)"
      ]
    },
    {
      "cell_type": "code",
      "execution_count": null,
      "metadata": {
        "id": "WwiMPdo90Y4p"
      },
      "outputs": [],
      "source": [
        ""
      ]
    }
  ],
  "metadata": {
    "kernelspec": {
      "display_name": "Python (learn-env)",
      "language": "python",
      "name": "learn-env"
    },
    "language_info": {
      "codemirror_mode": {
        "name": "ipython",
        "version": 3
      },
      "file_extension": ".py",
      "mimetype": "text/x-python",
      "name": "python",
      "nbconvert_exporter": "python",
      "pygments_lexer": "ipython3",
      "version": "3.8.5"
    },
    "varInspector": {
      "cols": {
        "lenName": 16,
        "lenType": 16,
        "lenVar": 40
      },
      "kernels_config": {
        "python": {
          "delete_cmd_postfix": "",
          "delete_cmd_prefix": "del ",
          "library": "var_list.py",
          "varRefreshCmd": "print(var_dic_list())"
        },
        "r": {
          "delete_cmd_postfix": ") ",
          "delete_cmd_prefix": "rm(",
          "library": "var_list.r",
          "varRefreshCmd": "cat(var_dic_list()) "
        }
      },
      "types_to_exclude": [
        "module",
        "function",
        "builtin_function_or_method",
        "instance",
        "_Feature"
      ],
      "window_display": false
    },
    "colab": {
      "name": "LibrosaProcessing.ipynb",
      "provenance": []
    }
  },
  "nbformat": 4,
  "nbformat_minor": 0
}