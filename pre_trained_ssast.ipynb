{
  "nbformat": 4,
  "nbformat_minor": 0,
  "metadata": {
    "colab": {
      "name": "pretrained_model (2).ipynb",
      "provenance": [],
      "collapsed_sections": [
        "4rty2iJ557CV"
      ],
      "include_colab_link": true
    },
    "kernelspec": {
      "name": "python3",
      "display_name": "Python 3"
    },
    "language_info": {
      "name": "python"
    },
    "accelerator": "GPU",
    "widgets": {
      "application/vnd.jupyter.widget-state+json": {
        "b66773c3e0ba49b9a69058000570155e": {
          "model_module": "@jupyter-widgets/controls",
          "model_name": "HBoxModel",
          "model_module_version": "1.5.0",
          "state": {
            "_dom_classes": [],
            "_model_module": "@jupyter-widgets/controls",
            "_model_module_version": "1.5.0",
            "_model_name": "HBoxModel",
            "_view_count": null,
            "_view_module": "@jupyter-widgets/controls",
            "_view_module_version": "1.5.0",
            "_view_name": "HBoxView",
            "box_style": "",
            "children": [
              "IPY_MODEL_71d04f9682bd45628bb65db83ab111af",
              "IPY_MODEL_0e6f81f54dd2452399e9ef7e9f17cdda",
              "IPY_MODEL_a5ebafe5a39f40a5beaaab9b3d087108"
            ],
            "layout": "IPY_MODEL_46a609b682314748b4d7a59af345f015"
          }
        },
        "71d04f9682bd45628bb65db83ab111af": {
          "model_module": "@jupyter-widgets/controls",
          "model_name": "HTMLModel",
          "model_module_version": "1.5.0",
          "state": {
            "_dom_classes": [],
            "_model_module": "@jupyter-widgets/controls",
            "_model_module_version": "1.5.0",
            "_model_name": "HTMLModel",
            "_view_count": null,
            "_view_module": "@jupyter-widgets/controls",
            "_view_module_version": "1.5.0",
            "_view_name": "HTMLView",
            "description": "",
            "description_tooltip": null,
            "layout": "IPY_MODEL_22fde8b772014b6eb048e845481e0666",
            "placeholder": "​",
            "style": "IPY_MODEL_921c1267265445d0af66c2c0e21502e3",
            "value": "Sanity Checking DataLoader 0: 100%"
          }
        },
        "0e6f81f54dd2452399e9ef7e9f17cdda": {
          "model_module": "@jupyter-widgets/controls",
          "model_name": "FloatProgressModel",
          "model_module_version": "1.5.0",
          "state": {
            "_dom_classes": [],
            "_model_module": "@jupyter-widgets/controls",
            "_model_module_version": "1.5.0",
            "_model_name": "FloatProgressModel",
            "_view_count": null,
            "_view_module": "@jupyter-widgets/controls",
            "_view_module_version": "1.5.0",
            "_view_name": "ProgressView",
            "bar_style": "",
            "description": "",
            "description_tooltip": null,
            "layout": "IPY_MODEL_025d8d1c763c4dcba294adb27a4131c1",
            "max": 2,
            "min": 0,
            "orientation": "horizontal",
            "style": "IPY_MODEL_21501d5453a149a7911b5159dd223078",
            "value": 2
          }
        },
        "a5ebafe5a39f40a5beaaab9b3d087108": {
          "model_module": "@jupyter-widgets/controls",
          "model_name": "HTMLModel",
          "model_module_version": "1.5.0",
          "state": {
            "_dom_classes": [],
            "_model_module": "@jupyter-widgets/controls",
            "_model_module_version": "1.5.0",
            "_model_name": "HTMLModel",
            "_view_count": null,
            "_view_module": "@jupyter-widgets/controls",
            "_view_module_version": "1.5.0",
            "_view_name": "HTMLView",
            "description": "",
            "description_tooltip": null,
            "layout": "IPY_MODEL_1eed8c65bf8349fda74affb548739387",
            "placeholder": "​",
            "style": "IPY_MODEL_37a40c98e76f4b13abb56c6a5032f1b2",
            "value": " 2/2 [00:00&lt;00:00, 10.59it/s]"
          }
        },
        "46a609b682314748b4d7a59af345f015": {
          "model_module": "@jupyter-widgets/base",
          "model_name": "LayoutModel",
          "model_module_version": "1.2.0",
          "state": {
            "_model_module": "@jupyter-widgets/base",
            "_model_module_version": "1.2.0",
            "_model_name": "LayoutModel",
            "_view_count": null,
            "_view_module": "@jupyter-widgets/base",
            "_view_module_version": "1.2.0",
            "_view_name": "LayoutView",
            "align_content": null,
            "align_items": null,
            "align_self": null,
            "border": null,
            "bottom": null,
            "display": "inline-flex",
            "flex": null,
            "flex_flow": "row wrap",
            "grid_area": null,
            "grid_auto_columns": null,
            "grid_auto_flow": null,
            "grid_auto_rows": null,
            "grid_column": null,
            "grid_gap": null,
            "grid_row": null,
            "grid_template_areas": null,
            "grid_template_columns": null,
            "grid_template_rows": null,
            "height": null,
            "justify_content": null,
            "justify_items": null,
            "left": null,
            "margin": null,
            "max_height": null,
            "max_width": null,
            "min_height": null,
            "min_width": null,
            "object_fit": null,
            "object_position": null,
            "order": null,
            "overflow": null,
            "overflow_x": null,
            "overflow_y": null,
            "padding": null,
            "right": null,
            "top": null,
            "visibility": null,
            "width": "100%"
          }
        },
        "22fde8b772014b6eb048e845481e0666": {
          "model_module": "@jupyter-widgets/base",
          "model_name": "LayoutModel",
          "model_module_version": "1.2.0",
          "state": {
            "_model_module": "@jupyter-widgets/base",
            "_model_module_version": "1.2.0",
            "_model_name": "LayoutModel",
            "_view_count": null,
            "_view_module": "@jupyter-widgets/base",
            "_view_module_version": "1.2.0",
            "_view_name": "LayoutView",
            "align_content": null,
            "align_items": null,
            "align_self": null,
            "border": null,
            "bottom": null,
            "display": null,
            "flex": null,
            "flex_flow": null,
            "grid_area": null,
            "grid_auto_columns": null,
            "grid_auto_flow": null,
            "grid_auto_rows": null,
            "grid_column": null,
            "grid_gap": null,
            "grid_row": null,
            "grid_template_areas": null,
            "grid_template_columns": null,
            "grid_template_rows": null,
            "height": null,
            "justify_content": null,
            "justify_items": null,
            "left": null,
            "margin": null,
            "max_height": null,
            "max_width": null,
            "min_height": null,
            "min_width": null,
            "object_fit": null,
            "object_position": null,
            "order": null,
            "overflow": null,
            "overflow_x": null,
            "overflow_y": null,
            "padding": null,
            "right": null,
            "top": null,
            "visibility": null,
            "width": null
          }
        },
        "921c1267265445d0af66c2c0e21502e3": {
          "model_module": "@jupyter-widgets/controls",
          "model_name": "DescriptionStyleModel",
          "model_module_version": "1.5.0",
          "state": {
            "_model_module": "@jupyter-widgets/controls",
            "_model_module_version": "1.5.0",
            "_model_name": "DescriptionStyleModel",
            "_view_count": null,
            "_view_module": "@jupyter-widgets/base",
            "_view_module_version": "1.2.0",
            "_view_name": "StyleView",
            "description_width": ""
          }
        },
        "025d8d1c763c4dcba294adb27a4131c1": {
          "model_module": "@jupyter-widgets/base",
          "model_name": "LayoutModel",
          "model_module_version": "1.2.0",
          "state": {
            "_model_module": "@jupyter-widgets/base",
            "_model_module_version": "1.2.0",
            "_model_name": "LayoutModel",
            "_view_count": null,
            "_view_module": "@jupyter-widgets/base",
            "_view_module_version": "1.2.0",
            "_view_name": "LayoutView",
            "align_content": null,
            "align_items": null,
            "align_self": null,
            "border": null,
            "bottom": null,
            "display": null,
            "flex": "2",
            "flex_flow": null,
            "grid_area": null,
            "grid_auto_columns": null,
            "grid_auto_flow": null,
            "grid_auto_rows": null,
            "grid_column": null,
            "grid_gap": null,
            "grid_row": null,
            "grid_template_areas": null,
            "grid_template_columns": null,
            "grid_template_rows": null,
            "height": null,
            "justify_content": null,
            "justify_items": null,
            "left": null,
            "margin": null,
            "max_height": null,
            "max_width": null,
            "min_height": null,
            "min_width": null,
            "object_fit": null,
            "object_position": null,
            "order": null,
            "overflow": null,
            "overflow_x": null,
            "overflow_y": null,
            "padding": null,
            "right": null,
            "top": null,
            "visibility": null,
            "width": null
          }
        },
        "21501d5453a149a7911b5159dd223078": {
          "model_module": "@jupyter-widgets/controls",
          "model_name": "ProgressStyleModel",
          "model_module_version": "1.5.0",
          "state": {
            "_model_module": "@jupyter-widgets/controls",
            "_model_module_version": "1.5.0",
            "_model_name": "ProgressStyleModel",
            "_view_count": null,
            "_view_module": "@jupyter-widgets/base",
            "_view_module_version": "1.2.0",
            "_view_name": "StyleView",
            "bar_color": null,
            "description_width": ""
          }
        },
        "1eed8c65bf8349fda74affb548739387": {
          "model_module": "@jupyter-widgets/base",
          "model_name": "LayoutModel",
          "model_module_version": "1.2.0",
          "state": {
            "_model_module": "@jupyter-widgets/base",
            "_model_module_version": "1.2.0",
            "_model_name": "LayoutModel",
            "_view_count": null,
            "_view_module": "@jupyter-widgets/base",
            "_view_module_version": "1.2.0",
            "_view_name": "LayoutView",
            "align_content": null,
            "align_items": null,
            "align_self": null,
            "border": null,
            "bottom": null,
            "display": null,
            "flex": null,
            "flex_flow": null,
            "grid_area": null,
            "grid_auto_columns": null,
            "grid_auto_flow": null,
            "grid_auto_rows": null,
            "grid_column": null,
            "grid_gap": null,
            "grid_row": null,
            "grid_template_areas": null,
            "grid_template_columns": null,
            "grid_template_rows": null,
            "height": null,
            "justify_content": null,
            "justify_items": null,
            "left": null,
            "margin": null,
            "max_height": null,
            "max_width": null,
            "min_height": null,
            "min_width": null,
            "object_fit": null,
            "object_position": null,
            "order": null,
            "overflow": null,
            "overflow_x": null,
            "overflow_y": null,
            "padding": null,
            "right": null,
            "top": null,
            "visibility": null,
            "width": null
          }
        },
        "37a40c98e76f4b13abb56c6a5032f1b2": {
          "model_module": "@jupyter-widgets/controls",
          "model_name": "DescriptionStyleModel",
          "model_module_version": "1.5.0",
          "state": {
            "_model_module": "@jupyter-widgets/controls",
            "_model_module_version": "1.5.0",
            "_model_name": "DescriptionStyleModel",
            "_view_count": null,
            "_view_module": "@jupyter-widgets/base",
            "_view_module_version": "1.2.0",
            "_view_name": "StyleView",
            "description_width": ""
          }
        },
        "ce87ba2b04de4329a183e1039d7a3a40": {
          "model_module": "@jupyter-widgets/controls",
          "model_name": "HBoxModel",
          "model_module_version": "1.5.0",
          "state": {
            "_dom_classes": [],
            "_model_module": "@jupyter-widgets/controls",
            "_model_module_version": "1.5.0",
            "_model_name": "HBoxModel",
            "_view_count": null,
            "_view_module": "@jupyter-widgets/controls",
            "_view_module_version": "1.5.0",
            "_view_name": "HBoxView",
            "box_style": "",
            "children": [
              "IPY_MODEL_d778522d38384c30af252ad82a99b273",
              "IPY_MODEL_13dda4f96c11438bbbddb3e64d7e6ab9",
              "IPY_MODEL_c13991e2f0af4765b18782d35d1ae102"
            ],
            "layout": "IPY_MODEL_525f0a136e374422be1ed7bae2ab214e"
          }
        },
        "d778522d38384c30af252ad82a99b273": {
          "model_module": "@jupyter-widgets/controls",
          "model_name": "HTMLModel",
          "model_module_version": "1.5.0",
          "state": {
            "_dom_classes": [],
            "_model_module": "@jupyter-widgets/controls",
            "_model_module_version": "1.5.0",
            "_model_name": "HTMLModel",
            "_view_count": null,
            "_view_module": "@jupyter-widgets/controls",
            "_view_module_version": "1.5.0",
            "_view_name": "HTMLView",
            "description": "",
            "description_tooltip": null,
            "layout": "IPY_MODEL_f4a2fc284b484f738283b09ceb28f591",
            "placeholder": "​",
            "style": "IPY_MODEL_fba48dae5b2d495aacb5cbfb7ea79007",
            "value": "Epoch 0:  21%"
          }
        },
        "13dda4f96c11438bbbddb3e64d7e6ab9": {
          "model_module": "@jupyter-widgets/controls",
          "model_name": "FloatProgressModel",
          "model_module_version": "1.5.0",
          "state": {
            "_dom_classes": [],
            "_model_module": "@jupyter-widgets/controls",
            "_model_module_version": "1.5.0",
            "_model_name": "FloatProgressModel",
            "_view_count": null,
            "_view_module": "@jupyter-widgets/controls",
            "_view_module_version": "1.5.0",
            "_view_name": "ProgressView",
            "bar_style": "",
            "description": "",
            "description_tooltip": null,
            "layout": "IPY_MODEL_11466d9db91944bd9d5c0b6a61fe318e",
            "max": 95,
            "min": 0,
            "orientation": "horizontal",
            "style": "IPY_MODEL_0698d6a971d642c0ab4c0451a01bf363",
            "value": 20
          }
        },
        "c13991e2f0af4765b18782d35d1ae102": {
          "model_module": "@jupyter-widgets/controls",
          "model_name": "HTMLModel",
          "model_module_version": "1.5.0",
          "state": {
            "_dom_classes": [],
            "_model_module": "@jupyter-widgets/controls",
            "_model_module_version": "1.5.0",
            "_model_name": "HTMLModel",
            "_view_count": null,
            "_view_module": "@jupyter-widgets/controls",
            "_view_module_version": "1.5.0",
            "_view_name": "HTMLView",
            "description": "",
            "description_tooltip": null,
            "layout": "IPY_MODEL_670b1b921b814b6184022aa7281bd54b",
            "placeholder": "​",
            "style": "IPY_MODEL_f030a657bc82444fa897fa57a243584a",
            "value": " 20/95 [00:11&lt;00:44,  1.68it/s, loss=1.57, v_num=13]"
          }
        },
        "525f0a136e374422be1ed7bae2ab214e": {
          "model_module": "@jupyter-widgets/base",
          "model_name": "LayoutModel",
          "model_module_version": "1.2.0",
          "state": {
            "_model_module": "@jupyter-widgets/base",
            "_model_module_version": "1.2.0",
            "_model_name": "LayoutModel",
            "_view_count": null,
            "_view_module": "@jupyter-widgets/base",
            "_view_module_version": "1.2.0",
            "_view_name": "LayoutView",
            "align_content": null,
            "align_items": null,
            "align_self": null,
            "border": null,
            "bottom": null,
            "display": "inline-flex",
            "flex": null,
            "flex_flow": "row wrap",
            "grid_area": null,
            "grid_auto_columns": null,
            "grid_auto_flow": null,
            "grid_auto_rows": null,
            "grid_column": null,
            "grid_gap": null,
            "grid_row": null,
            "grid_template_areas": null,
            "grid_template_columns": null,
            "grid_template_rows": null,
            "height": null,
            "justify_content": null,
            "justify_items": null,
            "left": null,
            "margin": null,
            "max_height": null,
            "max_width": null,
            "min_height": null,
            "min_width": null,
            "object_fit": null,
            "object_position": null,
            "order": null,
            "overflow": null,
            "overflow_x": null,
            "overflow_y": null,
            "padding": null,
            "right": null,
            "top": null,
            "visibility": null,
            "width": "100%"
          }
        },
        "f4a2fc284b484f738283b09ceb28f591": {
          "model_module": "@jupyter-widgets/base",
          "model_name": "LayoutModel",
          "model_module_version": "1.2.0",
          "state": {
            "_model_module": "@jupyter-widgets/base",
            "_model_module_version": "1.2.0",
            "_model_name": "LayoutModel",
            "_view_count": null,
            "_view_module": "@jupyter-widgets/base",
            "_view_module_version": "1.2.0",
            "_view_name": "LayoutView",
            "align_content": null,
            "align_items": null,
            "align_self": null,
            "border": null,
            "bottom": null,
            "display": null,
            "flex": null,
            "flex_flow": null,
            "grid_area": null,
            "grid_auto_columns": null,
            "grid_auto_flow": null,
            "grid_auto_rows": null,
            "grid_column": null,
            "grid_gap": null,
            "grid_row": null,
            "grid_template_areas": null,
            "grid_template_columns": null,
            "grid_template_rows": null,
            "height": null,
            "justify_content": null,
            "justify_items": null,
            "left": null,
            "margin": null,
            "max_height": null,
            "max_width": null,
            "min_height": null,
            "min_width": null,
            "object_fit": null,
            "object_position": null,
            "order": null,
            "overflow": null,
            "overflow_x": null,
            "overflow_y": null,
            "padding": null,
            "right": null,
            "top": null,
            "visibility": null,
            "width": null
          }
        },
        "fba48dae5b2d495aacb5cbfb7ea79007": {
          "model_module": "@jupyter-widgets/controls",
          "model_name": "DescriptionStyleModel",
          "model_module_version": "1.5.0",
          "state": {
            "_model_module": "@jupyter-widgets/controls",
            "_model_module_version": "1.5.0",
            "_model_name": "DescriptionStyleModel",
            "_view_count": null,
            "_view_module": "@jupyter-widgets/base",
            "_view_module_version": "1.2.0",
            "_view_name": "StyleView",
            "description_width": ""
          }
        },
        "11466d9db91944bd9d5c0b6a61fe318e": {
          "model_module": "@jupyter-widgets/base",
          "model_name": "LayoutModel",
          "model_module_version": "1.2.0",
          "state": {
            "_model_module": "@jupyter-widgets/base",
            "_model_module_version": "1.2.0",
            "_model_name": "LayoutModel",
            "_view_count": null,
            "_view_module": "@jupyter-widgets/base",
            "_view_module_version": "1.2.0",
            "_view_name": "LayoutView",
            "align_content": null,
            "align_items": null,
            "align_self": null,
            "border": null,
            "bottom": null,
            "display": null,
            "flex": "2",
            "flex_flow": null,
            "grid_area": null,
            "grid_auto_columns": null,
            "grid_auto_flow": null,
            "grid_auto_rows": null,
            "grid_column": null,
            "grid_gap": null,
            "grid_row": null,
            "grid_template_areas": null,
            "grid_template_columns": null,
            "grid_template_rows": null,
            "height": null,
            "justify_content": null,
            "justify_items": null,
            "left": null,
            "margin": null,
            "max_height": null,
            "max_width": null,
            "min_height": null,
            "min_width": null,
            "object_fit": null,
            "object_position": null,
            "order": null,
            "overflow": null,
            "overflow_x": null,
            "overflow_y": null,
            "padding": null,
            "right": null,
            "top": null,
            "visibility": null,
            "width": null
          }
        },
        "0698d6a971d642c0ab4c0451a01bf363": {
          "model_module": "@jupyter-widgets/controls",
          "model_name": "ProgressStyleModel",
          "model_module_version": "1.5.0",
          "state": {
            "_model_module": "@jupyter-widgets/controls",
            "_model_module_version": "1.5.0",
            "_model_name": "ProgressStyleModel",
            "_view_count": null,
            "_view_module": "@jupyter-widgets/base",
            "_view_module_version": "1.2.0",
            "_view_name": "StyleView",
            "bar_color": null,
            "description_width": ""
          }
        },
        "670b1b921b814b6184022aa7281bd54b": {
          "model_module": "@jupyter-widgets/base",
          "model_name": "LayoutModel",
          "model_module_version": "1.2.0",
          "state": {
            "_model_module": "@jupyter-widgets/base",
            "_model_module_version": "1.2.0",
            "_model_name": "LayoutModel",
            "_view_count": null,
            "_view_module": "@jupyter-widgets/base",
            "_view_module_version": "1.2.0",
            "_view_name": "LayoutView",
            "align_content": null,
            "align_items": null,
            "align_self": null,
            "border": null,
            "bottom": null,
            "display": null,
            "flex": null,
            "flex_flow": null,
            "grid_area": null,
            "grid_auto_columns": null,
            "grid_auto_flow": null,
            "grid_auto_rows": null,
            "grid_column": null,
            "grid_gap": null,
            "grid_row": null,
            "grid_template_areas": null,
            "grid_template_columns": null,
            "grid_template_rows": null,
            "height": null,
            "justify_content": null,
            "justify_items": null,
            "left": null,
            "margin": null,
            "max_height": null,
            "max_width": null,
            "min_height": null,
            "min_width": null,
            "object_fit": null,
            "object_position": null,
            "order": null,
            "overflow": null,
            "overflow_x": null,
            "overflow_y": null,
            "padding": null,
            "right": null,
            "top": null,
            "visibility": null,
            "width": null
          }
        },
        "f030a657bc82444fa897fa57a243584a": {
          "model_module": "@jupyter-widgets/controls",
          "model_name": "DescriptionStyleModel",
          "model_module_version": "1.5.0",
          "state": {
            "_model_module": "@jupyter-widgets/controls",
            "_model_module_version": "1.5.0",
            "_model_name": "DescriptionStyleModel",
            "_view_count": null,
            "_view_module": "@jupyter-widgets/base",
            "_view_module_version": "1.2.0",
            "_view_name": "StyleView",
            "description_width": ""
          }
        }
      }
    }
  },
  "cells": [
    {
      "cell_type": "markdown",
      "metadata": {
        "id": "view-in-github",
        "colab_type": "text"
      },
      "source": [
        "<a href=\"https://colab.research.google.com/github/LuisCGit/HipHopPopularity/blob/main/pre_trained_ssast.ipynb\" target=\"_parent\"><img src=\"https://colab.research.google.com/assets/colab-badge.svg\" alt=\"Open In Colab\"/></a>"
      ]
    },
    {
      "cell_type": "code",
      "source": [
        "from google.colab import drive\n",
        "\n",
        "drive.mount('/content/drive')"
      ],
      "metadata": {
        "colab": {
          "base_uri": "https://localhost:8080/"
        },
        "id": "bhLL8E9Neq1b",
        "outputId": "68de42b5-08e1-486b-edad-4763291d2a32"
      },
      "execution_count": 1,
      "outputs": [
        {
          "output_type": "stream",
          "name": "stdout",
          "text": [
            "Mounted at /content/drive\n"
          ]
        }
      ]
    },
    {
      "cell_type": "code",
      "source": [
        "!pip install timm==0.4.5 pytorch-lightning optuna"
      ],
      "metadata": {
        "colab": {
          "base_uri": "https://localhost:8080/"
        },
        "id": "B4GfnuU8ifkM",
        "outputId": "c4c02184-f650-45da-8212-69aaa3abbdc0"
      },
      "execution_count": 2,
      "outputs": [
        {
          "output_type": "stream",
          "name": "stdout",
          "text": [
            "Collecting timm==0.4.5\n",
            "  Downloading timm-0.4.5-py3-none-any.whl (287 kB)\n",
            "\u001b[?25l\r\u001b[K     |█▏                              | 10 kB 29.8 MB/s eta 0:00:01\r\u001b[K     |██▎                             | 20 kB 20.7 MB/s eta 0:00:01\r\u001b[K     |███▍                            | 30 kB 15.8 MB/s eta 0:00:01\r\u001b[K     |████▋                           | 40 kB 14.0 MB/s eta 0:00:01\r\u001b[K     |█████▊                          | 51 kB 6.4 MB/s eta 0:00:01\r\u001b[K     |██████▉                         | 61 kB 7.6 MB/s eta 0:00:01\r\u001b[K     |████████                        | 71 kB 7.0 MB/s eta 0:00:01\r\u001b[K     |█████████▏                      | 81 kB 7.8 MB/s eta 0:00:01\r\u001b[K     |██████████▎                     | 92 kB 8.7 MB/s eta 0:00:01\r\u001b[K     |███████████▍                    | 102 kB 7.1 MB/s eta 0:00:01\r\u001b[K     |████████████▌                   | 112 kB 7.1 MB/s eta 0:00:01\r\u001b[K     |█████████████▊                  | 122 kB 7.1 MB/s eta 0:00:01\r\u001b[K     |██████████████▉                 | 133 kB 7.1 MB/s eta 0:00:01\r\u001b[K     |████████████████                | 143 kB 7.1 MB/s eta 0:00:01\r\u001b[K     |█████████████████               | 153 kB 7.1 MB/s eta 0:00:01\r\u001b[K     |██████████████████▎             | 163 kB 7.1 MB/s eta 0:00:01\r\u001b[K     |███████████████████▍            | 174 kB 7.1 MB/s eta 0:00:01\r\u001b[K     |████████████████████▌           | 184 kB 7.1 MB/s eta 0:00:01\r\u001b[K     |█████████████████████▋          | 194 kB 7.1 MB/s eta 0:00:01\r\u001b[K     |██████████████████████▉         | 204 kB 7.1 MB/s eta 0:00:01\r\u001b[K     |████████████████████████        | 215 kB 7.1 MB/s eta 0:00:01\r\u001b[K     |█████████████████████████       | 225 kB 7.1 MB/s eta 0:00:01\r\u001b[K     |██████████████████████████▏     | 235 kB 7.1 MB/s eta 0:00:01\r\u001b[K     |███████████████████████████▍    | 245 kB 7.1 MB/s eta 0:00:01\r\u001b[K     |████████████████████████████▌   | 256 kB 7.1 MB/s eta 0:00:01\r\u001b[K     |█████████████████████████████▋  | 266 kB 7.1 MB/s eta 0:00:01\r\u001b[K     |██████████████████████████████▉ | 276 kB 7.1 MB/s eta 0:00:01\r\u001b[K     |████████████████████████████████| 286 kB 7.1 MB/s eta 0:00:01\r\u001b[K     |████████████████████████████████| 287 kB 7.1 MB/s \n",
            "\u001b[?25hCollecting pytorch-lightning\n",
            "  Downloading pytorch_lightning-1.6.3-py3-none-any.whl (584 kB)\n",
            "\u001b[K     |████████████████████████████████| 584 kB 59.3 MB/s \n",
            "\u001b[?25hCollecting optuna\n",
            "  Downloading optuna-2.10.0-py3-none-any.whl (308 kB)\n",
            "\u001b[K     |████████████████████████████████| 308 kB 69.1 MB/s \n",
            "\u001b[?25hRequirement already satisfied: torch>=1.4 in /usr/local/lib/python3.7/dist-packages (from timm==0.4.5) (1.11.0+cu113)\n",
            "Requirement already satisfied: torchvision in /usr/local/lib/python3.7/dist-packages (from timm==0.4.5) (0.12.0+cu113)\n",
            "Requirement already satisfied: typing-extensions in /usr/local/lib/python3.7/dist-packages (from torch>=1.4->timm==0.4.5) (4.2.0)\n",
            "Collecting PyYAML>=5.4\n",
            "  Downloading PyYAML-6.0-cp37-cp37m-manylinux_2_5_x86_64.manylinux1_x86_64.manylinux_2_12_x86_64.manylinux2010_x86_64.whl (596 kB)\n",
            "\u001b[K     |████████████████████████████████| 596 kB 57.0 MB/s \n",
            "\u001b[?25hRequirement already satisfied: tensorboard>=2.2.0 in /usr/local/lib/python3.7/dist-packages (from pytorch-lightning) (2.8.0)\n",
            "Requirement already satisfied: tqdm>=4.57.0 in /usr/local/lib/python3.7/dist-packages (from pytorch-lightning) (4.64.0)\n",
            "Requirement already satisfied: numpy>=1.17.2 in /usr/local/lib/python3.7/dist-packages (from pytorch-lightning) (1.21.6)\n",
            "Requirement already satisfied: packaging>=17.0 in /usr/local/lib/python3.7/dist-packages (from pytorch-lightning) (21.3)\n",
            "Collecting fsspec[http]!=2021.06.0,>=2021.05.0\n",
            "  Downloading fsspec-2022.3.0-py3-none-any.whl (136 kB)\n",
            "\u001b[K     |████████████████████████████████| 136 kB 74.8 MB/s \n",
            "\u001b[?25hCollecting torchmetrics>=0.4.1\n",
            "  Downloading torchmetrics-0.8.1-py3-none-any.whl (408 kB)\n",
            "\u001b[K     |████████████████████████████████| 408 kB 72.3 MB/s \n",
            "\u001b[?25hCollecting pyDeprecate<0.4.0,>=0.3.1\n",
            "  Downloading pyDeprecate-0.3.2-py3-none-any.whl (10 kB)\n",
            "Collecting aiohttp\n",
            "  Downloading aiohttp-3.8.1-cp37-cp37m-manylinux_2_5_x86_64.manylinux1_x86_64.manylinux_2_12_x86_64.manylinux2010_x86_64.whl (1.1 MB)\n",
            "\u001b[K     |████████████████████████████████| 1.1 MB 50.5 MB/s \n",
            "\u001b[?25hRequirement already satisfied: requests in /usr/local/lib/python3.7/dist-packages (from fsspec[http]!=2021.06.0,>=2021.05.0->pytorch-lightning) (2.23.0)\n",
            "Requirement already satisfied: pyparsing!=3.0.5,>=2.0.2 in /usr/local/lib/python3.7/dist-packages (from packaging>=17.0->pytorch-lightning) (3.0.8)\n",
            "Requirement already satisfied: werkzeug>=0.11.15 in /usr/local/lib/python3.7/dist-packages (from tensorboard>=2.2.0->pytorch-lightning) (1.0.1)\n",
            "Requirement already satisfied: google-auth<3,>=1.6.3 in /usr/local/lib/python3.7/dist-packages (from tensorboard>=2.2.0->pytorch-lightning) (1.35.0)\n",
            "Requirement already satisfied: google-auth-oauthlib<0.5,>=0.4.1 in /usr/local/lib/python3.7/dist-packages (from tensorboard>=2.2.0->pytorch-lightning) (0.4.6)\n",
            "Requirement already satisfied: setuptools>=41.0.0 in /usr/local/lib/python3.7/dist-packages (from tensorboard>=2.2.0->pytorch-lightning) (57.4.0)\n",
            "Requirement already satisfied: tensorboard-data-server<0.7.0,>=0.6.0 in /usr/local/lib/python3.7/dist-packages (from tensorboard>=2.2.0->pytorch-lightning) (0.6.1)\n",
            "Requirement already satisfied: absl-py>=0.4 in /usr/local/lib/python3.7/dist-packages (from tensorboard>=2.2.0->pytorch-lightning) (1.0.0)\n",
            "Requirement already satisfied: protobuf>=3.6.0 in /usr/local/lib/python3.7/dist-packages (from tensorboard>=2.2.0->pytorch-lightning) (3.17.3)\n",
            "Requirement already satisfied: grpcio>=1.24.3 in /usr/local/lib/python3.7/dist-packages (from tensorboard>=2.2.0->pytorch-lightning) (1.44.0)\n",
            "Requirement already satisfied: tensorboard-plugin-wit>=1.6.0 in /usr/local/lib/python3.7/dist-packages (from tensorboard>=2.2.0->pytorch-lightning) (1.8.1)\n",
            "Requirement already satisfied: markdown>=2.6.8 in /usr/local/lib/python3.7/dist-packages (from tensorboard>=2.2.0->pytorch-lightning) (3.3.6)\n",
            "Requirement already satisfied: wheel>=0.26 in /usr/local/lib/python3.7/dist-packages (from tensorboard>=2.2.0->pytorch-lightning) (0.37.1)\n",
            "Requirement already satisfied: six in /usr/local/lib/python3.7/dist-packages (from absl-py>=0.4->tensorboard>=2.2.0->pytorch-lightning) (1.15.0)\n",
            "Requirement already satisfied: pyasn1-modules>=0.2.1 in /usr/local/lib/python3.7/dist-packages (from google-auth<3,>=1.6.3->tensorboard>=2.2.0->pytorch-lightning) (0.2.8)\n",
            "Requirement already satisfied: rsa<5,>=3.1.4 in /usr/local/lib/python3.7/dist-packages (from google-auth<3,>=1.6.3->tensorboard>=2.2.0->pytorch-lightning) (4.8)\n",
            "Requirement already satisfied: cachetools<5.0,>=2.0.0 in /usr/local/lib/python3.7/dist-packages (from google-auth<3,>=1.6.3->tensorboard>=2.2.0->pytorch-lightning) (4.2.4)\n",
            "Requirement already satisfied: requests-oauthlib>=0.7.0 in /usr/local/lib/python3.7/dist-packages (from google-auth-oauthlib<0.5,>=0.4.1->tensorboard>=2.2.0->pytorch-lightning) (1.3.1)\n",
            "Requirement already satisfied: importlib-metadata>=4.4 in /usr/local/lib/python3.7/dist-packages (from markdown>=2.6.8->tensorboard>=2.2.0->pytorch-lightning) (4.11.3)\n",
            "Requirement already satisfied: zipp>=0.5 in /usr/local/lib/python3.7/dist-packages (from importlib-metadata>=4.4->markdown>=2.6.8->tensorboard>=2.2.0->pytorch-lightning) (3.8.0)\n",
            "Requirement already satisfied: pyasn1<0.5.0,>=0.4.6 in /usr/local/lib/python3.7/dist-packages (from pyasn1-modules>=0.2.1->google-auth<3,>=1.6.3->tensorboard>=2.2.0->pytorch-lightning) (0.4.8)\n",
            "Requirement already satisfied: chardet<4,>=3.0.2 in /usr/local/lib/python3.7/dist-packages (from requests->fsspec[http]!=2021.06.0,>=2021.05.0->pytorch-lightning) (3.0.4)\n",
            "Requirement already satisfied: idna<3,>=2.5 in /usr/local/lib/python3.7/dist-packages (from requests->fsspec[http]!=2021.06.0,>=2021.05.0->pytorch-lightning) (2.10)\n",
            "Requirement already satisfied: urllib3!=1.25.0,!=1.25.1,<1.26,>=1.21.1 in /usr/local/lib/python3.7/dist-packages (from requests->fsspec[http]!=2021.06.0,>=2021.05.0->pytorch-lightning) (1.24.3)\n",
            "Requirement already satisfied: certifi>=2017.4.17 in /usr/local/lib/python3.7/dist-packages (from requests->fsspec[http]!=2021.06.0,>=2021.05.0->pytorch-lightning) (2021.10.8)\n",
            "Requirement already satisfied: oauthlib>=3.0.0 in /usr/local/lib/python3.7/dist-packages (from requests-oauthlib>=0.7.0->google-auth-oauthlib<0.5,>=0.4.1->tensorboard>=2.2.0->pytorch-lightning) (3.2.0)\n",
            "Collecting cliff\n",
            "  Downloading cliff-3.10.1-py3-none-any.whl (81 kB)\n",
            "\u001b[K     |████████████████████████████████| 81 kB 11.8 MB/s \n",
            "\u001b[?25hRequirement already satisfied: sqlalchemy>=1.1.0 in /usr/local/lib/python3.7/dist-packages (from optuna) (1.4.36)\n",
            "Requirement already satisfied: scipy!=1.4.0 in /usr/local/lib/python3.7/dist-packages (from optuna) (1.4.1)\n",
            "Collecting cmaes>=0.8.2\n",
            "  Downloading cmaes-0.8.2-py3-none-any.whl (15 kB)\n",
            "Collecting colorlog\n",
            "  Downloading colorlog-6.6.0-py2.py3-none-any.whl (11 kB)\n",
            "Collecting alembic\n",
            "  Downloading alembic-1.7.7-py3-none-any.whl (210 kB)\n",
            "\u001b[K     |████████████████████████████████| 210 kB 75.3 MB/s \n",
            "\u001b[?25hRequirement already satisfied: greenlet!=0.4.17 in /usr/local/lib/python3.7/dist-packages (from sqlalchemy>=1.1.0->optuna) (1.1.2)\n",
            "Collecting async-timeout<5.0,>=4.0.0a3\n",
            "  Downloading async_timeout-4.0.2-py3-none-any.whl (5.8 kB)\n",
            "Requirement already satisfied: charset-normalizer<3.0,>=2.0 in /usr/local/lib/python3.7/dist-packages (from aiohttp->fsspec[http]!=2021.06.0,>=2021.05.0->pytorch-lightning) (2.0.12)\n",
            "Requirement already satisfied: attrs>=17.3.0 in /usr/local/lib/python3.7/dist-packages (from aiohttp->fsspec[http]!=2021.06.0,>=2021.05.0->pytorch-lightning) (21.4.0)\n",
            "Collecting aiosignal>=1.1.2\n",
            "  Downloading aiosignal-1.2.0-py3-none-any.whl (8.2 kB)\n",
            "Collecting asynctest==0.13.0\n",
            "  Downloading asynctest-0.13.0-py3-none-any.whl (26 kB)\n",
            "Collecting yarl<2.0,>=1.0\n",
            "  Downloading yarl-1.7.2-cp37-cp37m-manylinux_2_5_x86_64.manylinux1_x86_64.manylinux_2_12_x86_64.manylinux2010_x86_64.whl (271 kB)\n",
            "\u001b[K     |████████████████████████████████| 271 kB 72.5 MB/s \n",
            "\u001b[?25hCollecting multidict<7.0,>=4.5\n",
            "  Downloading multidict-6.0.2-cp37-cp37m-manylinux_2_17_x86_64.manylinux2014_x86_64.whl (94 kB)\n",
            "\u001b[K     |████████████████████████████████| 94 kB 1.4 MB/s \n",
            "\u001b[?25hCollecting frozenlist>=1.1.1\n",
            "  Downloading frozenlist-1.3.0-cp37-cp37m-manylinux_2_5_x86_64.manylinux1_x86_64.manylinux_2_17_x86_64.manylinux2014_x86_64.whl (144 kB)\n",
            "\u001b[K     |████████████████████████████████| 144 kB 12.3 MB/s \n",
            "\u001b[?25hCollecting Mako\n",
            "  Downloading Mako-1.2.0-py3-none-any.whl (78 kB)\n",
            "\u001b[K     |████████████████████████████████| 78 kB 9.0 MB/s \n",
            "\u001b[?25hRequirement already satisfied: importlib-resources in /usr/local/lib/python3.7/dist-packages (from alembic->optuna) (5.7.1)\n",
            "Collecting stevedore>=2.0.1\n",
            "  Downloading stevedore-3.5.0-py3-none-any.whl (49 kB)\n",
            "\u001b[K     |████████████████████████████████| 49 kB 7.8 MB/s \n",
            "\u001b[?25hRequirement already satisfied: PrettyTable>=0.7.2 in /usr/local/lib/python3.7/dist-packages (from cliff->optuna) (3.2.0)\n",
            "Collecting autopage>=0.4.0\n",
            "  Downloading autopage-0.5.0-py3-none-any.whl (29 kB)\n",
            "Collecting pbr!=2.1.0,>=2.0.0\n",
            "  Downloading pbr-5.8.1-py2.py3-none-any.whl (113 kB)\n",
            "\u001b[K     |████████████████████████████████| 113 kB 76.5 MB/s \n",
            "\u001b[?25hCollecting cmd2>=1.0.0\n",
            "  Downloading cmd2-2.4.1-py3-none-any.whl (146 kB)\n",
            "\u001b[K     |████████████████████████████████| 146 kB 75.7 MB/s \n",
            "\u001b[?25hCollecting pyperclip>=1.6\n",
            "  Downloading pyperclip-1.8.2.tar.gz (20 kB)\n",
            "Requirement already satisfied: wcwidth>=0.1.7 in /usr/local/lib/python3.7/dist-packages (from cmd2>=1.0.0->cliff->optuna) (0.2.5)\n",
            "Requirement already satisfied: MarkupSafe>=0.9.2 in /usr/local/lib/python3.7/dist-packages (from Mako->alembic->optuna) (2.0.1)\n",
            "Requirement already satisfied: pillow!=8.3.*,>=5.3.0 in /usr/local/lib/python3.7/dist-packages (from torchvision->timm==0.4.5) (7.1.2)\n",
            "Building wheels for collected packages: pyperclip\n",
            "  Building wheel for pyperclip (setup.py) ... \u001b[?25l\u001b[?25hdone\n",
            "  Created wheel for pyperclip: filename=pyperclip-1.8.2-py3-none-any.whl size=11137 sha256=5ceb78b08288e486c7da6dd256925d85d0acf822a1a6c9d7541b6c591fd7ee79\n",
            "  Stored in directory: /root/.cache/pip/wheels/9f/18/84/8f69f8b08169c7bae2dde6bd7daf0c19fca8c8e500ee620a28\n",
            "Successfully built pyperclip\n",
            "Installing collected packages: multidict, frozenlist, yarl, pyperclip, pbr, asynctest, async-timeout, aiosignal, stevedore, PyYAML, pyDeprecate, Mako, fsspec, cmd2, autopage, aiohttp, torchmetrics, colorlog, cmaes, cliff, alembic, timm, pytorch-lightning, optuna\n",
            "  Attempting uninstall: PyYAML\n",
            "    Found existing installation: PyYAML 3.13\n",
            "    Uninstalling PyYAML-3.13:\n",
            "      Successfully uninstalled PyYAML-3.13\n",
            "Successfully installed Mako-1.2.0 PyYAML-6.0 aiohttp-3.8.1 aiosignal-1.2.0 alembic-1.7.7 async-timeout-4.0.2 asynctest-0.13.0 autopage-0.5.0 cliff-3.10.1 cmaes-0.8.2 cmd2-2.4.1 colorlog-6.6.0 frozenlist-1.3.0 fsspec-2022.3.0 multidict-6.0.2 optuna-2.10.0 pbr-5.8.1 pyDeprecate-0.3.2 pyperclip-1.8.2 pytorch-lightning-1.6.3 stevedore-3.5.0 timm-0.4.5 torchmetrics-0.8.1 yarl-1.7.2\n"
          ]
        }
      ]
    },
    {
      "cell_type": "code",
      "execution_count": 4,
      "metadata": {
        "id": "mqGv6sLOdi0m"
      },
      "outputs": [],
      "source": [
        "import pickle\n",
        "import numpy as np\n",
        "import pandas as pd\n",
        "from sklearn.metrics import roc_auc_score, accuracy_score, f1_score, r2_score, mean_absolute_error, mean_squared_error\n",
        "import torch\n",
        "import torch.nn as nn\n",
        "from torch.nn import functional as F\n",
        "import pytorch_lightning as pl\n",
        "from pytorch_lightning.callbacks.early_stopping import EarlyStopping\n",
        "from pytorch_lightning.callbacks.model_checkpoint import ModelCheckpoint\n",
        "import optuna\n",
        "from drive.MyDrive.MIT.HODL.ssast.src.models.ast_models import ASTModel"
      ]
    },
    {
      "cell_type": "code",
      "source": [
        "from torch.utils.data import Dataset, DataLoader\n",
        "from torchvision import transforms, utils\n",
        "from torchaudio import transforms"
      ],
      "metadata": {
        "id": "cSZAb0uvmQPB"
      },
      "execution_count": 56,
      "outputs": []
    },
    {
      "cell_type": "code",
      "source": [
        "!wget -O mel_spec_datadict https://www.dropbox.com/s/nrebpbe5g97sptu/mel_spec_datadict?dl=0\n",
        "# !wget -O mel_spec_datadict_all https://www.dropbox.com/s/e9l6xid06080g6z/mel_spec_datadict_all?dl=0"
      ],
      "metadata": {
        "colab": {
          "base_uri": "https://localhost:8080/"
        },
        "id": "VTbNGC1x7G_8",
        "outputId": "fab015b3-bd29-447c-c31d-4ed2e439e509"
      },
      "execution_count": 5,
      "outputs": [
        {
          "output_type": "stream",
          "name": "stdout",
          "text": [
            "--2022-05-04 05:33:10--  https://www.dropbox.com/s/nrebpbe5g97sptu/mel_spec_datadict?dl=0\n",
            "Resolving www.dropbox.com (www.dropbox.com)... 162.125.7.18, 2620:100:6016:18::a27d:112\n",
            "Connecting to www.dropbox.com (www.dropbox.com)|162.125.7.18|:443... connected.\n",
            "HTTP request sent, awaiting response... 301 Moved Permanently\n",
            "Location: /s/raw/nrebpbe5g97sptu/mel_spec_datadict [following]\n",
            "--2022-05-04 05:33:11--  https://www.dropbox.com/s/raw/nrebpbe5g97sptu/mel_spec_datadict\n",
            "Reusing existing connection to www.dropbox.com:443.\n",
            "HTTP request sent, awaiting response... 302 Found\n",
            "Location: https://uce6258da8f6ff8f96f72a5f2ed4.dl.dropboxusercontent.com/cd/0/inline/BkmtCbDUahqFkdk-YW9RPlrrwANNy2yLJKCo6nw2BihwiLVwVdts_-GrmbtCE3GEpVgjWX1KZjXhtB7oXG057-_ZjL0EGnTb6fjGvlpV8XrDPVcM0YbSViVaM9EHjhYzSWMHVIxbVb7AH-eAemJnZRH_1hxDRDVN8kyFBwiSb9bsTw/file# [following]\n",
            "--2022-05-04 05:33:11--  https://uce6258da8f6ff8f96f72a5f2ed4.dl.dropboxusercontent.com/cd/0/inline/BkmtCbDUahqFkdk-YW9RPlrrwANNy2yLJKCo6nw2BihwiLVwVdts_-GrmbtCE3GEpVgjWX1KZjXhtB7oXG057-_ZjL0EGnTb6fjGvlpV8XrDPVcM0YbSViVaM9EHjhYzSWMHVIxbVb7AH-eAemJnZRH_1hxDRDVN8kyFBwiSb9bsTw/file\n",
            "Resolving uce6258da8f6ff8f96f72a5f2ed4.dl.dropboxusercontent.com (uce6258da8f6ff8f96f72a5f2ed4.dl.dropboxusercontent.com)... 162.125.1.15, 2620:100:6016:15::a27d:10f\n",
            "Connecting to uce6258da8f6ff8f96f72a5f2ed4.dl.dropboxusercontent.com (uce6258da8f6ff8f96f72a5f2ed4.dl.dropboxusercontent.com)|162.125.1.15|:443... connected.\n",
            "HTTP request sent, awaiting response... 302 Found\n",
            "Location: /cd/0/inline2/Bkn3eEY-S6S3TNokNS7w37uZa9pIE7sSfZjlunyCG-7d1C5DvBQvHIf3zF8j2tNInAh46bLmR1jidgYb-1xifOGuttyzCAqffDlnpXoaNbu80tKSF7obfBUgkfNWCV0lhHBIF7KZCcS_YxRoxMdZ3qP4oQmn62_tdD1iWmGd6TUbbnl2WSdfyoKjgJ-YRGIUeHLqfrvHmMAIPmcMCiOIcPsk-dv4JrveDg_W5cN9BIEDqAvAxU-WBKcaKusIkqvbQQXa4OxAqZ2Pv1RUgA35rlheYCBOqjdPLAZb4G1iaevhIbHAlRqzgINkWAQTGyZWZfnQFtPqVU1tWpcmtOKCjhZyznY-YE2_1QbgbXyqa9cTXDDXMnxRmIvJsY7eZ6EU-G0ZjpWRW-DbGdspv5ZsY4sbp9DTjcfVXCZQhmD3z1ZWKg/file [following]\n",
            "--2022-05-04 05:33:12--  https://uce6258da8f6ff8f96f72a5f2ed4.dl.dropboxusercontent.com/cd/0/inline2/Bkn3eEY-S6S3TNokNS7w37uZa9pIE7sSfZjlunyCG-7d1C5DvBQvHIf3zF8j2tNInAh46bLmR1jidgYb-1xifOGuttyzCAqffDlnpXoaNbu80tKSF7obfBUgkfNWCV0lhHBIF7KZCcS_YxRoxMdZ3qP4oQmn62_tdD1iWmGd6TUbbnl2WSdfyoKjgJ-YRGIUeHLqfrvHmMAIPmcMCiOIcPsk-dv4JrveDg_W5cN9BIEDqAvAxU-WBKcaKusIkqvbQQXa4OxAqZ2Pv1RUgA35rlheYCBOqjdPLAZb4G1iaevhIbHAlRqzgINkWAQTGyZWZfnQFtPqVU1tWpcmtOKCjhZyznY-YE2_1QbgbXyqa9cTXDDXMnxRmIvJsY7eZ6EU-G0ZjpWRW-DbGdspv5ZsY4sbp9DTjcfVXCZQhmD3z1ZWKg/file\n",
            "Reusing existing connection to uce6258da8f6ff8f96f72a5f2ed4.dl.dropboxusercontent.com:443.\n",
            "HTTP request sent, awaiting response... 200 OK\n",
            "Length: 3966523412 (3.7G) [application/octet-stream]\n",
            "Saving to: ‘mel_spec_datadict’\n",
            "\n",
            "mel_spec_datadict   100%[===================>]   3.69G  29.5MB/s    in 1m 51s  \n",
            "\n",
            "2022-05-04 05:35:03 (34.1 MB/s) - ‘mel_spec_datadict’ saved [3966523412/3966523412]\n",
            "\n"
          ]
        }
      ]
    },
    {
      "cell_type": "code",
      "source": [
        "with open('mel_spec_datadict', 'rb') as f:\n",
        "# with open('mel_spec_datadict_all', 'rb') as f:\n",
        "  mel_spec_datadict = pickle.load(f)"
      ],
      "metadata": {
        "id": "EtWoPzJl8DPV"
      },
      "execution_count": 6,
      "outputs": []
    },
    {
      "cell_type": "code",
      "source": [
        "!wget -O raw_datadict https://www.dropbox.com/s/uzrtwo4rihx75bg/raw_datadict.pkl_n2k?dl=0\n",
        "# !wget -O raw_datadict_all https://www.dropbox.com/s/yfi64jhyk9wzv6l/raw_datadict_all?dl=0"
      ],
      "metadata": {
        "colab": {
          "base_uri": "https://localhost:8080/"
        },
        "id": "KduqyNybjVZv",
        "outputId": "e4c86b36-0920-49aa-a9e7-7d428f391de5"
      },
      "execution_count": 7,
      "outputs": [
        {
          "output_type": "stream",
          "name": "stdout",
          "text": [
            "--2022-05-04 05:35:08--  https://www.dropbox.com/s/uzrtwo4rihx75bg/raw_datadict.pkl_n2k?dl=0\n",
            "Resolving www.dropbox.com (www.dropbox.com)... 162.125.7.18, 2620:100:6016:18::a27d:112\n",
            "Connecting to www.dropbox.com (www.dropbox.com)|162.125.7.18|:443... connected.\n",
            "HTTP request sent, awaiting response... 301 Moved Permanently\n",
            "Location: /s/raw/uzrtwo4rihx75bg/raw_datadict.pkl_n2k [following]\n",
            "--2022-05-04 05:35:09--  https://www.dropbox.com/s/raw/uzrtwo4rihx75bg/raw_datadict.pkl_n2k\n",
            "Reusing existing connection to www.dropbox.com:443.\n",
            "HTTP request sent, awaiting response... 302 Found\n",
            "Location: https://ucec34835896b37686184d6ba974.dl.dropboxusercontent.com/cd/0/inline/BklyCmMrHlPc204UhoWqXF0uaowH_crXGox4pKsuPoCEnb1lgOe6ppRk1tbptat-e04sKQx7KNgo3D6mGnInqZxNft3Si2KlX9ZwlY2jO6CUrQgJU7Sl6bbFvHHQC3ma0ctYbMD0kbgiGIgS9zEKmfQHDxG8g0Hz-zseLiTyXoJvsw/file# [following]\n",
            "--2022-05-04 05:35:09--  https://ucec34835896b37686184d6ba974.dl.dropboxusercontent.com/cd/0/inline/BklyCmMrHlPc204UhoWqXF0uaowH_crXGox4pKsuPoCEnb1lgOe6ppRk1tbptat-e04sKQx7KNgo3D6mGnInqZxNft3Si2KlX9ZwlY2jO6CUrQgJU7Sl6bbFvHHQC3ma0ctYbMD0kbgiGIgS9zEKmfQHDxG8g0Hz-zseLiTyXoJvsw/file\n",
            "Resolving ucec34835896b37686184d6ba974.dl.dropboxusercontent.com (ucec34835896b37686184d6ba974.dl.dropboxusercontent.com)... 162.125.1.15, 2620:100:6016:15::a27d:10f\n",
            "Connecting to ucec34835896b37686184d6ba974.dl.dropboxusercontent.com (ucec34835896b37686184d6ba974.dl.dropboxusercontent.com)|162.125.1.15|:443... connected.\n",
            "HTTP request sent, awaiting response... 302 Found\n",
            "Location: /cd/0/inline2/BkmUGPL_yB4PXqAquDaZUkOK2K5ca23m_79hSq5T5iJjgmjwmAFqu4vnch7Uy8dpnKsMC-rCTtWx2PppW0uOryzyeNPk2vkqreSpmBoRV7PWsDM33UB266cZkK8tjRUUikS9917XGaBprfhJpPDeW_2UYwtaIyEfh3L4bGifong9V3TKxFQAjlREFHnavglwV60v_e7nUDpR4O1KJFe7cB3QoyLlLFtsFMJDUddOb6NMBfvcDeCoe7U1IRvVvRaGqThRLMF2VjtEY4cUw8bBsNsG01lKmKqhzhEt5aS2ZInChqTAGAgqwyUWy9ShSIdDV0e0bn17DmCePVMzTyeNMCaffMP8jts8byvxLJOBWJENtTko-sCs3Srg4H-u_k_Bv-1K5w7zWlipW54ACHVAG4DXSQoqswK7vafndc1fr3k-3A/file [following]\n",
            "--2022-05-04 05:35:09--  https://ucec34835896b37686184d6ba974.dl.dropboxusercontent.com/cd/0/inline2/BkmUGPL_yB4PXqAquDaZUkOK2K5ca23m_79hSq5T5iJjgmjwmAFqu4vnch7Uy8dpnKsMC-rCTtWx2PppW0uOryzyeNPk2vkqreSpmBoRV7PWsDM33UB266cZkK8tjRUUikS9917XGaBprfhJpPDeW_2UYwtaIyEfh3L4bGifong9V3TKxFQAjlREFHnavglwV60v_e7nUDpR4O1KJFe7cB3QoyLlLFtsFMJDUddOb6NMBfvcDeCoe7U1IRvVvRaGqThRLMF2VjtEY4cUw8bBsNsG01lKmKqhzhEt5aS2ZInChqTAGAgqwyUWy9ShSIdDV0e0bn17DmCePVMzTyeNMCaffMP8jts8byvxLJOBWJENtTko-sCs3Srg4H-u_k_Bv-1K5w7zWlipW54ACHVAG4DXSQoqswK7vafndc1fr3k-3A/file\n",
            "Reusing existing connection to ucec34835896b37686184d6ba974.dl.dropboxusercontent.com:443.\n",
            "HTTP request sent, awaiting response... 200 OK\n",
            "Length: 2164449 (2.1M) [application/octet-stream]\n",
            "Saving to: ‘raw_datadict’\n",
            "\n",
            "raw_datadict        100%[===================>]   2.06M  --.-KB/s    in 0.06s   \n",
            "\n",
            "2022-05-04 05:35:09 (32.6 MB/s) - ‘raw_datadict’ saved [2164449/2164449]\n",
            "\n"
          ]
        }
      ]
    },
    {
      "cell_type": "code",
      "source": [
        "# with open('raw_datadict_all', 'rb') as f:\n",
        "with open('raw_datadict', 'rb') as f:\n",
        "  raw_datadict = pickle.load(f)"
      ],
      "metadata": {
        "id": "4PEAnHK9jc--"
      },
      "execution_count": 8,
      "outputs": []
    },
    {
      "cell_type": "code",
      "source": [
        "# dataset 1: 0-1 popularity classification\n",
        "# X_train, y_train = mel_spec_datadict['X_train']\n",
        "# X_val, y_val = mel_spec_datadict['X_holdout']\n",
        "# X_test, y_test = mel_spec_datadict['X_test']\n",
        "\n",
        "\n",
        "# dataset 1: 0-1 popularity classification\n",
        "X_train = mel_spec_datadict['X_train'][0]\n",
        "X_val = mel_spec_datadict['X_holdout'][0]\n",
        "X_test = mel_spec_datadict['X_test'][0]\n",
        "\n",
        "y_train_dummies = pd.get_dummies(raw_datadict['X_train'][0][\"genre\"])\n",
        "y_train_dummies = y_train_dummies.reindex(sorted(y_train_dummies.columns), axis=1)\n",
        "idx_train = list(set(raw_datadict['X_train'][0][\"genre\"].index) - set(mel_spec_datadict['X_train'][1].index))\n",
        "y_train = y_train_dummies[~raw_datadict['X_train'][0].index.isin(idx_train)]\n",
        "\n",
        "y_val_dummies = pd.get_dummies(raw_datadict['X_holdout'][0][\"genre\"])\n",
        "y_val_dummies = y_val_dummies.reindex(sorted(y_val_dummies.columns), axis=1)\n",
        "y_val = y_val_dummies\n",
        "\n",
        "y_test_dummies = pd.get_dummies(raw_datadict['X_test'][0][\"genre\"])\n",
        "y_test_dummies = y_test_dummies.reindex(sorted(y_test_dummies.columns), axis=1)\n",
        "idx_test = list(set(raw_datadict['X_test'][0][\"genre\"].index) - set(mel_spec_datadict['X_test'][1].index))\n",
        "y_test = y_test_dummies[~raw_datadict['X_test'][0].index.isin(idx_test)]\n",
        "\n",
        "\n",
        "# dataset 2: 0-1 popularity classification\n",
        "# X_train = mel_spec_datadict['X_train'][0]\n",
        "# X_val = mel_spec_datadict['X_holdout'][0]\n",
        "# X_test = mel_spec_datadict['X_test'][0]\n",
        "# y_train = raw_datadict['X_train'][0]['popGreaterThan50']\n",
        "# y_val = raw_datadict['X_holdout'][0]['popGreaterThan50']\n",
        "# y_test = raw_datadict['X_test'][0]['popGreaterThan50']\n",
        "\n",
        "\n",
        "# dataset 2: 0-1 popularity regression\n",
        "# X_train = mel_spec_datadict['X_train'][0]\n",
        "# X_val = mel_spec_datadict['X_holdout'][0]\n",
        "# X_test = mel_spec_datadict['X_test'][0]\n",
        "# y_train = np.round(raw_datadict['X_train'][0]['popularity'] / 20.0) / 5.0\n",
        "# y_val = np.round(raw_datadict['X_holdout'][0]['popularity'] / 20.0) / 5.0\n",
        "# y_test = np.round(raw_datadict['X_test'][0]['popularity'] / 20.0) / 5.0"
      ],
      "metadata": {
        "id": "yAl0bXqf8yuQ"
      },
      "execution_count": 32,
      "outputs": []
    },
    {
      "cell_type": "code",
      "source": [
        "pl.seed_everything(0, workers=True)"
      ],
      "metadata": {
        "colab": {
          "base_uri": "https://localhost:8080/"
        },
        "id": "rJHM80mM6k2g",
        "outputId": "44830ae5-12d9-4368-ff6c-40feb3b4bbcf"
      },
      "execution_count": 33,
      "outputs": [
        {
          "output_type": "stream",
          "name": "stderr",
          "text": [
            "Global seed set to 0\n"
          ]
        },
        {
          "output_type": "execute_result",
          "data": {
            "text/plain": [
              "0"
            ]
          },
          "metadata": {},
          "execution_count": 33
        }
      ]
    },
    {
      "cell_type": "code",
      "source": [
        "# hyperparameters\n",
        "NB_EPOCHS = 30\n",
        "PATIENCE = 6\n",
        "DOWNSAMPLING_FACTOR = 10\n",
        "INPUT_TDIM = int(X_train.shape[2] / DOWNSAMPLING_FACTOR)\n",
        "INPUT_FDIM = X_train.shape[1]\n",
        "\n",
        "TASK = 'multiclass' # 'classification', 'regression'\n",
        "MONITOR = 'val_loss'\n",
        "MONITOR_HYPERPARAM = 'val_acc' #'val_auc'\n",
        "BATCH_SIZE = 32\n",
        "LEARNING_RATE = 4e-5\n",
        "DROPOUT_PROB = 0.5\n",
        "USE_CLS_POOLING = True\n",
        "NB_LAYERS_TO_FREEZE = 6\n",
        "GRAD_ACC = 1\n",
        "USE_SIGMOID = True\n",
        "\n",
        "# TASK = 'classification' # 'multiclass', 'regression'\n",
        "# MONITOR = 'val_loss'\n",
        "# MONITOR_HYPERPARAM = 'val_auc' #'val_auc'\n",
        "# BATCH_SIZE = 32\n",
        "# LEARNING_RATE = 7.83833546396864e-05\n",
        "# DROPOUT_PROB = 0.40324782505879203\n",
        "# USE_CLS_POOLING = True\n",
        "# NB_LAYERS_TO_FREEZE = 8\n",
        "# GRAD_ACC = 1\n",
        "# USE_SIGMOID = True"
      ],
      "metadata": {
        "id": "es5ljfc_5Pd3"
      },
      "execution_count": 45,
      "outputs": []
    },
    {
      "cell_type": "code",
      "source": [
        "# downsampling\n",
        "indices_to_isolate = [k * DOWNSAMPLING_FACTOR for k in range(INPUT_TDIM)]\n",
        "len(indices_to_isolate)"
      ],
      "metadata": {
        "colab": {
          "base_uri": "https://localhost:8080/"
        },
        "id": "sr2Hn_R6Azdf",
        "outputId": "f1fc2199-fe5a-4bbf-ccfa-0d3198a0a340"
      },
      "execution_count": 35,
      "outputs": [
        {
          "output_type": "execute_result",
          "data": {
            "text/plain": [
              "129"
            ]
          },
          "metadata": {},
          "execution_count": 35
        }
      ]
    },
    {
      "cell_type": "code",
      "source": [
        "X_train.shape"
      ],
      "metadata": {
        "colab": {
          "base_uri": "https://localhost:8080/"
        },
        "id": "CyfM1sRRAWHg",
        "outputId": "349dcda5-dfb4-422c-95c7-5b0d0f6de90b"
      },
      "execution_count": 36,
      "outputs": [
        {
          "output_type": "execute_result",
          "data": {
            "text/plain": [
              "(1999, 128, 1292, 1)"
            ]
          },
          "metadata": {},
          "execution_count": 36
        }
      ]
    },
    {
      "cell_type": "code",
      "source": [
        "y_train.shape"
      ],
      "metadata": {
        "colab": {
          "base_uri": "https://localhost:8080/"
        },
        "id": "B-neuHERAYdW",
        "outputId": "6215685d-c4cb-4470-c406-c09390b3c377"
      },
      "execution_count": 37,
      "outputs": [
        {
          "output_type": "execute_result",
          "data": {
            "text/plain": [
              "(1999, 5)"
            ]
          },
          "metadata": {},
          "execution_count": 37
        }
      ]
    },
    {
      "cell_type": "code",
      "source": [
        "X_test.shape"
      ],
      "metadata": {
        "colab": {
          "base_uri": "https://localhost:8080/"
        },
        "id": "KEjLEjT4JULq",
        "outputId": "5b95d278-81e4-4ad5-969d-c12656684239"
      },
      "execution_count": 38,
      "outputs": [
        {
          "output_type": "execute_result",
          "data": {
            "text/plain": [
              "(1997, 128, 1292, 1)"
            ]
          },
          "metadata": {},
          "execution_count": 38
        }
      ]
    },
    {
      "cell_type": "code",
      "source": [
        "y_test.shape"
      ],
      "metadata": {
        "colab": {
          "base_uri": "https://localhost:8080/"
        },
        "id": "jUm3DyaYJXA4",
        "outputId": "e573778c-88d3-484a-bf57-3d30c306a56c"
      },
      "execution_count": 39,
      "outputs": [
        {
          "output_type": "execute_result",
          "data": {
            "text/plain": [
              "(1997, 5)"
            ]
          },
          "metadata": {},
          "execution_count": 39
        }
      ]
    },
    {
      "cell_type": "code",
      "source": [
        "# data\n",
        "X_train_downsampled = X_train[:,:,indices_to_isolate,:]\n",
        "X_train_normalized = (X_train_downsampled - X_train_downsampled.mean(0)) / X_train_downsampled.std(0)\n",
        "X_val_downsampled = X_val[:,:,indices_to_isolate,:]\n",
        "X_val_normalized = (X_val_downsampled - X_train_downsampled.mean(0)) / X_train_downsampled.std(0)\n",
        "X_test_downsampled = X_test[:,:,indices_to_isolate,:]\n",
        "X_test_normalized = (X_test_downsampled - X_train_downsampled.mean(0)) / X_train_downsampled.std(0)\n",
        "\n",
        "X_train_ = torch.from_numpy(X_train_normalized).to(torch.float16).squeeze(-1)\n",
        "X_val_ = torch.from_numpy(X_val_normalized).to(torch.float16).squeeze(-1)\n",
        "X_test_ = torch.from_numpy(X_test_normalized).to(torch.float16).squeeze(-1)\n",
        "y_train_ = torch.from_numpy(y_train.values).to(torch.float16)\n",
        "y_val_ = torch.from_numpy(y_val.values).to(torch.float16)\n",
        "y_test_ = torch.from_numpy(y_test.values).to(torch.float16)\n",
        "\n",
        "#data augmentation\n",
        "def transform_spec(spec):\n",
        "  if np.random.random() <= 0.6:\n",
        "    p = np.random.random()\n",
        "    if p  <= 0.6:\n",
        "      mask_param = 40\n",
        "      transform = nn.Sequential(transforms.FrequencyMasking(freq_mask_param=mask_param), \n",
        "                                transforms.TimeMasking(time_mask_param=mask_param)).to(device)\n",
        "      return transform(spec.to(device))\n",
        "    elif 0.6 <= p <= 1:\n",
        "      transform = transforms.Fade(fade_in_len = 50, fade_out_len = 50)\n",
        "      return transform(spec.to(device))\n",
        "    else:\n",
        "      transform = transforms.PitchShift(sample_rate = 10, n_steps = 10, n_fft=128).to(device)\n",
        "      return transform(spec.to(device))\n",
        "  else:\n",
        "    return spec\n",
        "\n",
        "class SpectDataset(torch.utils.data.TensorDataset):\n",
        "  # def __getitem__(self, index):\n",
        "  #       return tuple(tensor[index] for tensor in self.tensors)\n",
        "  def __getitem__(self, index):\n",
        "    return tuple(transform_spec(tensor.to(device))[index] if len(tensor.shape) == 3 else tensor.to(device)[index]\n",
        "                 for tensor in self.tensors)\n",
        "    \n",
        "train = SpectDataset(X_train_, y_train_)\n",
        "val = torch.utils.data.TensorDataset(X_val_, y_val_)\n",
        "test = torch.utils.data.TensorDataset(X_test_, y_test_)\n",
        "\n",
        "train_loader = torch.utils.data.DataLoader(train, sampler=torch.utils.data.RandomSampler(train), batch_size=BATCH_SIZE)\n",
        "val_loader = torch.utils.data.DataLoader(val, sampler=torch.utils.data.SequentialSampler(val), batch_size=BATCH_SIZE*2)\n",
        "test_loader = torch.utils.data.DataLoader(test, sampler=torch.utils.data.SequentialSampler(test), batch_size=BATCH_SIZE*2)"
      ],
      "metadata": {
        "id": "HvaPUOLX5Hfv"
      },
      "execution_count": 51,
      "outputs": []
    },
    {
      "cell_type": "code",
      "source": [
        "#class to wrap pretrained model\n",
        "class CustomASTModel(pl.LightningModule):\n",
        "\n",
        "  def __init__(\n",
        "      self,\n",
        "      input_fdim=INPUT_FDIM,\n",
        "      input_tdim=INPUT_TDIM,\n",
        "      use_small=True,\n",
        "      use_cls_pooling=USE_CLS_POOLING,\n",
        "      dropout_prob=DROPOUT_PROB,\n",
        "      task=TASK,\n",
        "      regression_threshold=100.0,\n",
        "      multiclass_nb_classes=len(y_train.columns) if TASK == 'multiclass' else None,\n",
        "      nb_layers_to_freeze=NB_LAYERS_TO_FREEZE,\n",
        "      lr=LEARNING_RATE,\n",
        "      use_sigmoid=USE_SIGMOID\n",
        "  ):\n",
        "    super().__init__()\n",
        "    self.lr = lr\n",
        "    self.dropout_prob = dropout_prob\n",
        "    self.regression_threshold = regression_threshold\n",
        "    self.use_sigmoid = use_sigmoid\n",
        "    self.multiclass_nb_classes = multiclass_nb_classes\n",
        "\n",
        "    if use_cls_pooling:\n",
        "      self.pooling_type = 'ft_cls'\n",
        "    else:\n",
        "      self.pooling_type = 'ft_avgtok'\n",
        "\n",
        "    assert(task in ['classification','regression','multiclass'])\n",
        "    self.task = task\n",
        "\n",
        "    if use_small:\n",
        "      self.model = ASTModel(\n",
        "          label_dim=1,    # no impact\n",
        "          fshape=16, \n",
        "          tshape=16, \n",
        "          fstride=10, \n",
        "          tstride=10,\n",
        "          input_fdim=input_fdim, \n",
        "          input_tdim=input_tdim, \n",
        "          model_size='small',\n",
        "          pretrain_stage=False, \n",
        "          load_pretrained_mdl_path=(\n",
        "              '/content/drive/MyDrive/MIT/HODL/ssast/pretrained_model/SSAST-Small-Patch-400.pth'\n",
        "          )\n",
        "      )\n",
        "    else:\n",
        "       self.model = ASTModel(\n",
        "          label_dim=1,\n",
        "          fshape=16, \n",
        "          tshape=16, \n",
        "          fstride=10, \n",
        "          tstride=10,\n",
        "          input_fdim=input_fdim, \n",
        "          input_tdim=input_tdim, \n",
        "          model_size='base',\n",
        "          pretrain_stage=False, \n",
        "          load_pretrained_mdl_path=(\n",
        "              '/content/drive/MyDrive/MIT/HODL/ssast/pretrained_model/SSAST-Base-Patch-400.pth'\n",
        "          )\n",
        "       ) \n",
        "    self.cls_shape = self.model.v.blocks[-1].mlp.fc2.out_features\n",
        "    mlp_head = nn.Sequential(\n",
        "        nn.LayerNorm(self.cls_shape),\n",
        "        nn.Linear(in_features=self.cls_shape, out_features=int(self.cls_shape / 2), bias=True),\n",
        "        nn.Dropout(self.dropout_prob),\n",
        "        nn.Linear(\n",
        "            in_features=int(self.cls_shape / 2), \n",
        "            out_features=(1 if self.task != 'multiclass' else self.multiclass_nb_classes), \n",
        "            bias=True\n",
        "        ),\n",
        "    )\n",
        "    self.model.mlp_head = mlp_head\n",
        "\n",
        "    if nb_layers_to_freeze > 0:\n",
        "      assert(nb_layers_to_freeze-1 in range(len(self.model.v.blocks)))\n",
        "      for i,block in enumerate(self.model.v.blocks):\n",
        "        if i < nb_layers_to_freeze:\n",
        "          for param in block.parameters():\n",
        "            param.requires_grad = False\n",
        "        else:\n",
        "          break\n",
        "\n",
        "\n",
        "  def forward(self, x):\n",
        "    h = self.model(x, task=self.pooling_type)\n",
        "    return x\n",
        "\n",
        "\n",
        "  def configure_optimizers(self):\n",
        "    optimizer = torch.optim.Adam(self.parameters(), lr=self.lr)\n",
        "    return optimizer\n",
        "\n",
        "\n",
        "  def training_step(self, train_batch, batch_idx):\n",
        "    x, y = train_batch\n",
        "    x = x.cuda(0)\n",
        "    y = y.cuda(0).unsqueeze(1)\n",
        "    y_hat = self.model(x, task=self.pooling_type)\n",
        "\n",
        "    if self.task == 'classification':\n",
        "      loss = F.binary_cross_entropy_with_logits(y_hat, y)\n",
        "      sigmoid = torch.sigmoid(y_hat)\n",
        "      auc = roc_auc_score(y.cpu().detach().numpy(), sigmoid.cpu().detach().numpy())\n",
        "      threshold = torch.tensor([0.5]).to(torch.float16).cuda(0)\n",
        "      results = (sigmoid > threshold).to(torch.float16)\n",
        "      acc = accuracy_score(y.cpu().detach().numpy(), results.cpu().detach().numpy())\n",
        "      f1 = f1_score(y.cpu().detach().numpy(), results.cpu().detach().numpy())\n",
        "      self.log('train_auc', auc)\n",
        "      self.log('train_acc', acc)\n",
        "      self.log('train_f1', acc)\n",
        "\n",
        "    elif self.task == 'regression':\n",
        "      # y_hat = torch.relu(y_hat)   # we are trying to predict something positive so using relu makes sense\n",
        "      if self.use_sigmoid:\n",
        "        y_hat = torch.sigmoid(y_hat) * 100.0\n",
        "      else:\n",
        "        y_hat = torch.clip(y_hat, min=np.float16(0.0), max=np.float16(self.regression_threshold))\n",
        "\n",
        "      y_hat = (torch.round(y_hat / 20.0) / 5.0).to(torch.float16)\n",
        "      loss = F.mse_loss(y_hat, y)\n",
        "      rmse = np.sqrt(mean_squared_error(y.cpu().detach().numpy(), y_hat.cpu().detach().numpy()))\n",
        "      mae = mean_absolute_error(y.cpu().detach().numpy(), y_hat.cpu().detach().numpy())\n",
        "      r2 = r2_score(y.cpu().detach().numpy(), y_hat.cpu().detach().numpy())\n",
        "      self.log('train_rmse', rmse)\n",
        "      self.log('train_mae', mae)\n",
        "      self.log('train_r2', r2)\n",
        "\n",
        "    elif self.task == 'multiclass':\n",
        "      # criterion = nn.CrossEntropyLoss()\n",
        "      y = y.squeeze()\n",
        "      # loss = criterion(y_hat, y)\n",
        "      loss = F.cross_entropy(y_hat, y)\n",
        "      y_hat_class = torch.argmax(y_hat, axis = 1)\n",
        "      y_class = torch.argmax(y, axis = 1)\n",
        "      acc = accuracy_score(y_class.cpu().detach().numpy(), y_hat_class.cpu().detach().numpy())\n",
        "      self.log('train_acc', acc)\n",
        "\n",
        "    self.log('train_loss', loss)\n",
        "    return loss\n",
        "\n",
        "\n",
        "  def validation_step(self, val_batch, batch_idx):\n",
        "    x, y = val_batch\n",
        "    x = x.cuda(0)\n",
        "    y = y.cuda(0).unsqueeze(1)\n",
        "    y_hat = self.model(x, task=self.pooling_type)\n",
        "\n",
        "    if self.task == 'classification':\n",
        "      loss = F.binary_cross_entropy_with_logits(y_hat, y)\n",
        "      sigmoid = torch.sigmoid(y_hat)\n",
        "      auc = roc_auc_score(y.cpu().detach().numpy(), sigmoid.cpu().detach().numpy())\n",
        "      threshold = torch.tensor([0.5]).to(torch.float16).cuda(0)\n",
        "      results = (sigmoid > threshold).to(torch.float16)\n",
        "      acc = accuracy_score(y.cpu().detach().numpy(), results.cpu().detach().numpy())\n",
        "      f1 = f1_score(y.cpu().detach().numpy(), results.cpu().detach().numpy())\n",
        "      self.log('val_auc', auc)\n",
        "      self.log('val_acc', acc)\n",
        "      self.log('val_f1', acc)\n",
        "\n",
        "    elif self.task == 'regression':\n",
        "      # y_hat = torch.relu(y_hat)   # we are trying to predict something positive so using relu makes sense\n",
        "      if self.use_sigmoid:\n",
        "        y_hat = torch.sigmoid(y_hat) * 100.0\n",
        "      else:\n",
        "        y_hat = torch.clip(y_hat, min=np.float16(0.0), max=np.float16(self.regression_threshold))\n",
        "        \n",
        "      y_hat = (torch.round(y_hat / 20.0) / 5.0).to(torch.float16)\n",
        "      loss = F.mse_loss(y_hat, y)\n",
        "      rmse = np.sqrt(mean_squared_error(y.cpu().detach().numpy(), y_hat.cpu().detach().numpy()))\n",
        "      mae = mean_absolute_error(y.cpu().detach().numpy(), y_hat.cpu().detach().numpy())\n",
        "      r2 = r2_score(y.cpu().detach().numpy(), y_hat.cpu().detach().numpy())\n",
        "      self.log('val_rmse', rmse)\n",
        "      self.log('val_mae', mae)\n",
        "      self.log('val_r2', r2)\n",
        "\n",
        "    elif self.task == 'multiclass':\n",
        "      criterion = nn.CrossEntropyLoss()\n",
        "      y = y.squeeze()\n",
        "      loss = criterion(y_hat, y)\n",
        "      # loss = F.cross_entropy(y_hat, y)\n",
        "      y_hat_class = torch.argmax(y_hat, axis = 1)\n",
        "      y_class = torch.argmax(y, axis = 1)\n",
        "      acc = accuracy_score(y_class.cpu().detach().numpy(), y_hat_class.cpu().detach().numpy())\n",
        "      self.log('val_acc', acc)\n",
        "\n",
        "    self.log('val_loss', loss)"
      ],
      "metadata": {
        "id": "DnCR0_7eyYf1"
      },
      "execution_count": 64,
      "outputs": []
    },
    {
      "cell_type": "markdown",
      "source": [
        "# some simple tests"
      ],
      "metadata": {
        "id": "H7RPwscWB2M9"
      }
    },
    {
      "cell_type": "code",
      "source": [
        "# loaders\n",
        "# train_loader = torch.utils.data.DataLoader(train, sampler=torch.utils.data.RandomSampler(train), batch_size=BATCH_SIZE)\n",
        "# val_loader = torch.utils.data.DataLoader(val, sampler=torch.utils.data.SequentialSampler(val), batch_size=BATCH_SIZE*2)\n",
        "# test_loader = torch.utils.data.DataLoader(test, sampler=torch.utils.data.SequentialSampler(test), batch_size=BATCH_SIZE*2)"
      ],
      "metadata": {
        "id": "-04AvI11CqJw"
      },
      "execution_count": 42,
      "outputs": []
    },
    {
      "cell_type": "code",
      "source": [
        "model = CustomASTModel(\n",
        "    use_cls_pooling=USE_CLS_POOLING,\n",
        "    dropout_prob=DROPOUT_PROB,\n",
        "    nb_layers_to_freeze=NB_LAYERS_TO_FREEZE,\n",
        "    lr=LEARNING_RATE,\n",
        "    task=TASK,\n",
        "    use_sigmoid=USE_SIGMOID   \n",
        ")\n",
        "\n",
        "early_stop_callback = EarlyStopping(\n",
        "    monitor=MONITOR, \n",
        "    min_delta=0.00, \n",
        "    patience=PATIENCE, \n",
        "    verbose=True, \n",
        "    mode=(\n",
        "        \"max\" if MONITOR in ['val_auc', 'val_acc', 'val_f1', 'val_r2'] else \"min\"\n",
        "    )\n",
        ")\n",
        "\n",
        "checkpoint_callback = ModelCheckpoint(\n",
        "    save_top_k=1, \n",
        "    monitor=MONITOR_HYPERPARAM, \n",
        "    mode=(\n",
        "        \"max\" if MONITOR_HYPERPARAM in ['val_auc', 'val_acc', 'val_f1', 'val_r2'] else \"min\"\n",
        "    )\n",
        ")\n",
        "\n",
        "trainer = pl.Trainer(\n",
        "    gpus=1,\n",
        "    limit_train_batches=1.0, \n",
        "    accumulate_grad_batches=GRAD_ACC,\n",
        "    precision=16, \n",
        "    max_epochs=NB_EPOCHS, \n",
        "    callbacks=[early_stop_callback, checkpoint_callback],\n",
        "    enable_checkpointing=True,\n",
        "    log_every_n_steps=16,\n",
        "    # enable_progress_bar=False\n",
        ")"
      ],
      "metadata": {
        "colab": {
          "base_uri": "https://localhost:8080/"
        },
        "id": "TVbaHYSWWynq",
        "outputId": "af338df2-76f1-4f4f-ddf4-5dc4088eed25"
      },
      "execution_count": 59,
      "outputs": [
        {
          "output_type": "stream",
          "name": "stdout",
          "text": [
            "now load a SSL pretrained models from /content/drive/MyDrive/MIT/HODL/ssast/pretrained_model/SSAST-Small-Patch-400.pth\n"
          ]
        },
        {
          "output_type": "stream",
          "name": "stderr",
          "text": [
            "Using 16bit native Automatic Mixed Precision (AMP)\n",
            "GPU available: True, used: True\n",
            "TPU available: False, using: 0 TPU cores\n",
            "IPU available: False, using: 0 IPUs\n",
            "HPU available: False, using: 0 HPUs\n",
            "`Trainer(limit_train_batches=1.0)` was configured so 100% of the batches per epoch will be used..\n"
          ]
        },
        {
          "output_type": "stream",
          "name": "stdout",
          "text": [
            "pretraining patch split stride: frequency=16, time=16\n",
            "pretraining patch shape: frequency=16, time=16\n",
            "pretraining patch array dimension: frequency=8, time=64\n",
            "pretraining number of patches=512\n",
            "fine-tuning patch split stride: frequncey=10, time=10\n",
            "fine-tuning number of patches=144\n"
          ]
        }
      ]
    },
    {
      "cell_type": "code",
      "source": [
        "device = torch.device(\"cuda\" if torch.cuda.is_available() else \"cpu\")\n",
        "trainer.fit(model, train_loader, val_loader)"
      ],
      "metadata": {
        "colab": {
          "base_uri": "https://localhost:8080/",
          "height": 355,
          "referenced_widgets": [
            "b66773c3e0ba49b9a69058000570155e",
            "71d04f9682bd45628bb65db83ab111af",
            "0e6f81f54dd2452399e9ef7e9f17cdda",
            "a5ebafe5a39f40a5beaaab9b3d087108",
            "46a609b682314748b4d7a59af345f015",
            "22fde8b772014b6eb048e845481e0666",
            "921c1267265445d0af66c2c0e21502e3",
            "025d8d1c763c4dcba294adb27a4131c1",
            "21501d5453a149a7911b5159dd223078",
            "1eed8c65bf8349fda74affb548739387",
            "37a40c98e76f4b13abb56c6a5032f1b2",
            "ce87ba2b04de4329a183e1039d7a3a40",
            "d778522d38384c30af252ad82a99b273",
            "13dda4f96c11438bbbddb3e64d7e6ab9",
            "c13991e2f0af4765b18782d35d1ae102",
            "525f0a136e374422be1ed7bae2ab214e",
            "f4a2fc284b484f738283b09ceb28f591",
            "fba48dae5b2d495aacb5cbfb7ea79007",
            "11466d9db91944bd9d5c0b6a61fe318e",
            "0698d6a971d642c0ab4c0451a01bf363",
            "670b1b921b814b6184022aa7281bd54b",
            "f030a657bc82444fa897fa57a243584a"
          ]
        },
        "id": "FT8pK3XiW6XH",
        "outputId": "321195db-1ab4-475c-93a5-8d7a3cd52688"
      },
      "execution_count": 60,
      "outputs": [
        {
          "output_type": "stream",
          "name": "stderr",
          "text": [
            "LOCAL_RANK: 0 - CUDA_VISIBLE_DEVICES: [0]\n",
            "\n",
            "  | Name  | Type     | Params\n",
            "-----------------------------------\n",
            "0 | model | ASTModel | 22.3 M\n",
            "-----------------------------------\n",
            "11.6 M    Trainable params\n",
            "10.6 M    Non-trainable params\n",
            "22.3 M    Total params\n",
            "44.591    Total estimated model params size (MB)\n"
          ]
        },
        {
          "output_type": "display_data",
          "data": {
            "text/plain": [
              "Sanity Checking: 0it [00:00, ?it/s]"
            ],
            "application/vnd.jupyter.widget-view+json": {
              "version_major": 2,
              "version_minor": 0,
              "model_id": "b66773c3e0ba49b9a69058000570155e"
            }
          },
          "metadata": {}
        },
        {
          "output_type": "stream",
          "name": "stdout",
          "text": [
            "x shape:  torch.Size([64, 128, 129])\n",
            "y shape:  torch.Size([64, 1, 5])\n",
            "x shape:  torch.Size([64, 128, 129])\n",
            "y shape:  torch.Size([64, 1, 5])\n"
          ]
        },
        {
          "output_type": "display_data",
          "data": {
            "text/plain": [
              "Training: 0it [00:00, ?it/s]"
            ],
            "application/vnd.jupyter.widget-view+json": {
              "version_major": 2,
              "version_minor": 0,
              "model_id": "ce87ba2b04de4329a183e1039d7a3a40"
            }
          },
          "metadata": {}
        },
        {
          "output_type": "stream",
          "name": "stderr",
          "text": [
            "/usr/local/lib/python3.7/dist-packages/pytorch_lightning/trainer/trainer.py:724: UserWarning: Detected KeyboardInterrupt, attempting graceful shutdown...\n",
            "  rank_zero_warn(\"Detected KeyboardInterrupt, attempting graceful shutdown...\")\n"
          ]
        }
      ]
    },
    {
      "cell_type": "code",
      "source": [
        "val_results = trainer.validate(model, val_loader)\n",
        "# 0.6365%"
      ],
      "metadata": {
        "id": "GHVDpNOmGzyA"
      },
      "execution_count": 66,
      "outputs": []
    },
    {
      "cell_type": "code",
      "source": [
        "%reload_ext tensorboard\n",
        "%tensorboard --logdir=lightning_logs/"
      ],
      "metadata": {
        "id": "zy1CXcv87DAe"
      },
      "execution_count": 1,
      "outputs": []
    },
    {
      "cell_type": "markdown",
      "source": [
        "# hyperparameter tuning"
      ],
      "metadata": {
        "id": "_-FfDODKBTHj"
      }
    },
    {
      "cell_type": "code",
      "source": [
        "def objective(trial): \n",
        "\n",
        "  BATCH_SIZE = trial.suggest_int(\"batch_size\", 1, 4)\n",
        "  BATCH_SIZE *= 16\n",
        "  LEARNING_RATE = trial.suggest_float(\"learning_rate\", 1e-5, 1e-2, log=True)\n",
        "  DROPOUT_PROB = trial.suggest_float(\"dropout_prob\", 0.0, 0.5)\n",
        "  USE_CLS_POOLING = trial.suggest_categorical(\"use_cls_pooling\", [True, False])\n",
        "  NB_LAYERS_TO_FREEZE = trial.suggest_int(\"nb_layers_to_freeze\", 0, 12)\n",
        "  GRAD_ACC = trial.suggest_int(\"grad_acc\", 1, 2)\n",
        "  # USE_SIGMOID = trial.suggest_categorical(\"use_sigmoid\", [True, False])\n",
        "  USE_SIGMOID = True\n",
        "\n",
        "  train_loader = torch.utils.data.DataLoader(train, sampler=torch.utils.data.RandomSampler(train), batch_size=BATCH_SIZE)\n",
        "  val_loader = torch.utils.data.DataLoader(val, sampler=torch.utils.data.SequentialSampler(val), batch_size=BATCH_SIZE)\n",
        "  test_loader = torch.utils.data.DataLoader(test, sampler=torch.utils.data.SequentialSampler(test), batch_size=BATCH_SIZE)\n",
        "\n",
        "  model = CustomASTModel(\n",
        "      use_cls_pooling=USE_CLS_POOLING,\n",
        "      dropout_prob=DROPOUT_PROB,\n",
        "      nb_layers_to_freeze=NB_LAYERS_TO_FREEZE,\n",
        "      lr=LEARNING_RATE,\n",
        "      task=TASK,\n",
        "      use_sigmoid=USE_SIGMOID   \n",
        "  )\n",
        "\n",
        "  early_stop_callback = EarlyStopping(\n",
        "      monitor=MONITOR, \n",
        "      min_delta=0.00, \n",
        "      patience=PATIENCE, \n",
        "      verbose=True, \n",
        "      mode=(\n",
        "          \"max\" if MONITOR in ['val_auc', 'val_acc', 'val_f1', 'val_r2'] else \"min\"\n",
        "      )\n",
        "  )\n",
        "\n",
        "  checkpoint_callback = ModelCheckpoint(\n",
        "      save_top_k=1, \n",
        "      monitor=MONITOR_HYPERPARAM, \n",
        "      mode=(\n",
        "          \"max\" if MONITOR_HYPERPARAM in ['val_auc', 'val_acc', 'val_f1', 'val_r2'] else \"min\"\n",
        "      )\n",
        "  )\n",
        "\n",
        "  trainer = pl.Trainer(\n",
        "      gpus=1,\n",
        "      limit_train_batches=1.0, \n",
        "      accumulate_grad_batches=GRAD_ACC,\n",
        "      precision=16, \n",
        "      max_epochs=NB_EPOCHS, \n",
        "      callbacks=[early_stop_callback, checkpoint_callback],\n",
        "      enable_checkpointing=True,\n",
        "      log_every_n_steps=16,\n",
        "      # enable_progress_bar=False\n",
        "  )\n",
        "\n",
        "  trainer.fit(model, train_loader, val_loader)\n",
        "\n",
        "  # val_results = trainer.validate(model, val_loader)\n",
        "\n",
        "  # return val_results[0][MONITOR_HYPERPARAM]\n",
        "  return checkpoint_callback.best_model_score"
      ],
      "metadata": {
        "id": "bGVm7ECnBRxx"
      },
      "execution_count": 61,
      "outputs": []
    },
    {
      "cell_type": "code",
      "source": [
        "study = optuna.create_study(\n",
        "    direction=\"maximize\" if MONITOR_HYPERPARAM in ['val_auc', 'val_acc', 'val_f1', 'val_r2'] else \"minimize\"\n",
        ")\n",
        "study.optimize(objective, n_trials=15, gc_after_trial=True)"
      ],
      "metadata": {
        "id": "34J3slaC7C-L"
      },
      "execution_count": 2,
      "outputs": []
    },
    {
      "cell_type": "code",
      "source": [
        "study.best_trial"
      ],
      "metadata": {
        "id": "I-h1o1D77C79"
      },
      "execution_count": 3,
      "outputs": []
    },
    {
      "cell_type": "code",
      "source": [
        "# first dataset\n",
        "'''\n",
        "AUC: 0.7211533030146442\n",
        "{\n",
        "  'batch_size': 2, \n",
        "  'learning_rate': 7.83833546396864e-05, \n",
        "  'dropout_prob': 0.40324782505879203, \n",
        "  'use_cls_pooling': True, \n",
        "  'nb_layers_to_freeze': 8, \n",
        "  'grad_acc': 1\n",
        "}\n",
        "'''"
      ],
      "metadata": {
        "id": "9uDxWuum7C5y"
      },
      "execution_count": null,
      "outputs": []
    }
  ]
}